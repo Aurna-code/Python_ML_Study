{
 "cells": [
  {
   "cell_type": "code",
   "execution_count": 1,
   "id": "710786d6-0698-41a5-b152-01cf131dbcf4",
   "metadata": {},
   "outputs": [],
   "source": [
    "import numpy as np\n",
    "import pandas as pd\n",
    "import sklearn\n",
    "import matplotlib.pyplot as plt"
   ]
  },
  {
   "cell_type": "code",
   "execution_count": 155,
   "id": "920c5eaf-583a-45ae-99a3-abc7850d0577",
   "metadata": {},
   "outputs": [],
   "source": [
    "from sklearn.linear_model import LogisticRegression\n",
    "from sklearn.tree import DecisionTreeClassifier\n",
    "from sklearn.metrics import accuracy_score\n",
    "from sklearn.ensemble import RandomForestClassifier\n",
    "from sklearn.neighbors import KNeighborsClassifier\n",
    "from sklearn.model_selection import train_test_split\n",
    "from sklearn.model_selection import cross_val_score"
   ]
  },
  {
   "cell_type": "markdown",
   "id": "ae7cb14f-a21d-4e03-9e32-067718a593bd",
   "metadata": {},
   "source": [
    "### 머신러닝 모델 평가\n",
    "* 일반적으로 머신러닝은\n",
    "    + 데이터가공/변환(전처리), 모델 학습/예측 평가과정을 거침\n",
    "* 03titanic 분석에서 모델의 평가는 정확도만 사용함\n",
    "* 한편, 머신러닝의 예측성능 평가방법은\n",
    "     + 회귀 : R^2, MSE평균제곱오차\n",
    "     + 분류 : 오차행렬, 정밀도/재현율, ROC, AUC, F1스코어, 크로스엔트로피, 최대우도"
   ]
  },
  {
   "cell_type": "markdown",
   "id": "53de1909-8765-467b-9876-30b1d0c3b984",
   "metadata": {},
   "source": [
    "### 정확도의 함정\n",
    "* 탐색적 분석 시행시 성별 기준 생존비율은 여성이 더 높음\n",
    "* 따라서, 굳이 ML알고리즘을 적용하지 않아도 성별에 따른 생존여부 예측에 큰 무리가 없음\n",
    "* 성별 조건만으로 이루어진 단순한 알고리즘으로 높은 정확도 기록 가능"
   ]
  },
  {
   "cell_type": "markdown",
   "id": "59713862-53f0-4ad6-a676-65ccecccc371",
   "metadata": {},
   "source": [
    "### BaseEstimator 클래스를 상속받아 가짜분류기 생성\n"
   ]
  },
  {
   "cell_type": "code",
   "execution_count": 21,
   "id": "10027d6d-30e8-4dde-ab8a-987aa322359f",
   "metadata": {},
   "outputs": [],
   "source": [
    "from sklearn.base import BaseEstimator"
   ]
  },
  {
   "cell_type": "code",
   "execution_count": 37,
   "id": "2b9a4809-e4c7-438d-9b3a-ad4d21c4f2c4",
   "metadata": {},
   "outputs": [],
   "source": [
    "class DummyClassifier(BaseEstimator):\n",
    "    # 아무것도 학습하지 않는 fit 메서드 정의\n",
    "    def fit(self, X, y=None):\n",
    "        pass\n",
    "    def predict(self, X):\n",
    "    # 입력데이터 크기만큼 0으로 채워진 1차원 행렬 생성\n",
    "        pred = np.zeros((X.shape[0], 1))\n",
    "        for i in range(X.shape[0]):\n",
    "        # 성별이 여성이면 무조건 생존이라 예측\n",
    "            if X['sex'].iloc[i] != 1:\n",
    "                pred[i] = 1\n",
    "        return pred"
   ]
  },
  {
   "cell_type": "markdown",
   "id": "c5f5806d-2a77-4bbe-aa82-b045da65c3f1",
   "metadata": {},
   "source": [
    "#### 성별이 1(남자)이면 사망(0), 2(여자)이면 생존(1)로 예측하는 predict 메서드 정의"
   ]
  },
  {
   "cell_type": "code",
   "execution_count": 32,
   "id": "bddaa46a-ccc8-4611-9724-ad9e5a6f1be6",
   "metadata": {},
   "outputs": [],
   "source": [
    "titanic = pd.read_csv('data/titanic.csv')"
   ]
  },
  {
   "cell_type": "code",
   "execution_count": 33,
   "id": "9c6ad993-bf6b-41b7-826b-d4bdd78b6433",
   "metadata": {},
   "outputs": [],
   "source": [
    "titanic['sex'] = titanic['sex'].apply(lambda x: 0 if x == 'female' else 1)"
   ]
  },
  {
   "cell_type": "code",
   "execution_count": 34,
   "id": "91c1c477-dc06-4f8d-b008-65a69c9c1f4f",
   "metadata": {},
   "outputs": [],
   "source": [
    "data = titanic.iloc[:, [0, 3, 4, 5, 6, 8]]\n",
    "target = titanic.survived"
   ]
  },
  {
   "cell_type": "code",
   "execution_count": 35,
   "id": "4107d3e3-1012-4321-b26e-20546696e671",
   "metadata": {},
   "outputs": [],
   "source": [
    "Xtrain, Xtest, ytrain, ytest = train_test_split(data, target, train_size=0.7, random_state=2111041205)"
   ]
  },
  {
   "cell_type": "code",
   "execution_count": 36,
   "id": "24b0b843-0ebc-446b-aae0-d6fc23e6e228",
   "metadata": {},
   "outputs": [
    {
     "data": {
      "text/plain": [
       "0.798469387755102"
      ]
     },
     "execution_count": 36,
     "metadata": {},
     "output_type": "execute_result"
    }
   ],
   "source": [
    "myclf = DummyClassifier()\n",
    "myclf.fit(Xtrain, ytrain)\n",
    "pred = myclf.predict(Xtest)\n",
    "accuracy_score(pred,ytest)"
   ]
  },
  {
   "cell_type": "markdown",
   "id": "e5b3b482-b431-49f4-9726-ef6917431944",
   "metadata": {},
   "source": [
    "### 불균형한 레이블 데이터세트의 성능수치로 정확도를 평가지표로 사용해선 안 됨\n",
    "+ 이러한 한계 극복을 위해 오차행렬 사용\n",
    "+ 특히 분류모델에서는 정확도보다 정밀도/재현율을 더 선호"
   ]
  },
  {
   "cell_type": "code",
   "execution_count": 39,
   "id": "3e755615-3190-4c91-af95-72bd4076de76",
   "metadata": {},
   "outputs": [],
   "source": [
    "from sklearn.metrics import confusion_matrix\n",
    "from sklearn.metrics import classification_report"
   ]
  },
  {
   "cell_type": "code",
   "execution_count": 40,
   "id": "01d99af2-ad8e-4abd-93e4-959b43257a41",
   "metadata": {},
   "outputs": [
    {
     "data": {
      "text/plain": [
       "array([[202,  36],\n",
       "       [ 43, 111]])"
      ]
     },
     "execution_count": 40,
     "metadata": {},
     "output_type": "execute_result"
    }
   ],
   "source": [
    "confusion_matrix(pred, ytest)"
   ]
  },
  {
   "cell_type": "code",
   "execution_count": 42,
   "id": "9dcaee9e-d6d1-49b4-a899-2096b1042481",
   "metadata": {},
   "outputs": [
    {
     "name": "stdout",
     "output_type": "stream",
     "text": [
      "              precision    recall  f1-score   support\n",
      "\n",
      "         0.0       0.82      0.85      0.84       238\n",
      "         1.0       0.76      0.72      0.74       154\n",
      "\n",
      "    accuracy                           0.80       392\n",
      "   macro avg       0.79      0.78      0.79       392\n",
      "weighted avg       0.80      0.80      0.80       392\n",
      "\n"
     ]
    }
   ],
   "source": [
    "print(classification_report(pred, ytest))"
   ]
  },
  {
   "cell_type": "code",
   "execution_count": 44,
   "id": "b383c402-846d-4fd3-8c90-076a1795217d",
   "metadata": {},
   "outputs": [],
   "source": [
    "from sklearn.datasets import load_iris"
   ]
  },
  {
   "cell_type": "code",
   "execution_count": 67,
   "id": "70acf90a-853c-46fb-9e56-c43db78c3f44",
   "metadata": {},
   "outputs": [],
   "source": [
    "iris = load_iris()\n",
    "data = iris.data  # 특성/독립변수\n",
    "label = iris.target"
   ]
  },
  {
   "cell_type": "code",
   "execution_count": 68,
   "id": "d6cceed6-2d37-4b81-9658-327512429c03",
   "metadata": {},
   "outputs": [
    {
     "name": "stdout",
     "output_type": "stream",
     "text": [
      "['sepal length (cm)', 'sepal width (cm)', 'petal length (cm)', 'petal width (cm)']\n"
     ]
    }
   ],
   "source": [
    "print(iris.feature_names)"
   ]
  },
  {
   "cell_type": "code",
   "execution_count": 69,
   "id": "5f7cdb8d-7f93-4f9a-a4d2-a8f38cd46f1f",
   "metadata": {},
   "outputs": [
    {
     "name": "stdout",
     "output_type": "stream",
     "text": [
      "['setosa' 'versicolor' 'virginica']\n"
     ]
    }
   ],
   "source": [
    "print(iris.target_names)"
   ]
  },
  {
   "cell_type": "code",
   "execution_count": 112,
   "id": "8865a4fb-7373-45e0-8865-9d1bb6b977a4",
   "metadata": {},
   "outputs": [],
   "source": [
    "Xtrain, Xtest, ytrain, ytest = train_test_split(data, label, train_size=0.7, stratify=label, random_state=2111041255)"
   ]
  },
  {
   "cell_type": "code",
   "execution_count": 113,
   "id": "8eb2082f-0700-44da-a04a-a98a0a7a6703",
   "metadata": {},
   "outputs": [
    {
     "data": {
      "text/plain": [
       "0.9777777777777777"
      ]
     },
     "execution_count": 113,
     "metadata": {},
     "output_type": "execute_result"
    }
   ],
   "source": [
    "lrclf = LogisticRegression()\n",
    "lrclf.fit(Xtrain, ytrain)\n",
    "pred = lrclf.predict(Xtest)\n",
    "accuracy_score(pred,ytest)"
   ]
  },
  {
   "cell_type": "code",
   "execution_count": 114,
   "id": "07de3e66-497b-4fae-a6e9-cbd0e264dcf9",
   "metadata": {},
   "outputs": [
    {
     "data": {
      "text/plain": [
       "array([[15,  0,  0],\n",
       "       [ 0, 14,  0],\n",
       "       [ 0,  1, 15]])"
      ]
     },
     "execution_count": 114,
     "metadata": {},
     "output_type": "execute_result"
    }
   ],
   "source": [
    "confusion_matrix(pred, ytest)"
   ]
  },
  {
   "cell_type": "code",
   "execution_count": 84,
   "id": "3235bc2d-ba16-4ddc-a1e3-e941fd6dd1a8",
   "metadata": {},
   "outputs": [
    {
     "name": "stdout",
     "output_type": "stream",
     "text": [
      "              precision    recall  f1-score   support\n",
      "\n",
      "           0       1.00      1.00      1.00        15\n",
      "           1       0.93      1.00      0.97        14\n",
      "           2       1.00      0.94      0.97        16\n",
      "\n",
      "    accuracy                           0.98        45\n",
      "   macro avg       0.98      0.98      0.98        45\n",
      "weighted avg       0.98      0.98      0.98        45\n",
      "\n"
     ]
    }
   ],
   "source": [
    "print(classification_report(pred, ytest))"
   ]
  },
  {
   "cell_type": "markdown",
   "id": "ce312324-59e5-498d-a677-312fa10dd55f",
   "metadata": {},
   "source": [
    "### 정확도\n",
    "+ 맞는 것을 맞다고, 틀린것을 틀리다고 올바르게 예측한 것\n",
    "+ $ accuracy = \\frac {TP + TN} {TP + TN + FP + FN} $\n",
    "+ 오차행렬에서 대각선 방향"
   ]
  },
  {
   "cell_type": "markdown",
   "id": "8cd6d5f0-ccac-46fd-bbd6-1f7b0a2dfcca",
   "metadata": {},
   "source": [
    "### 타이타닉 분석결과의 오차행렬에서 정확도 계산"
   ]
  },
  {
   "cell_type": "code",
   "execution_count": 85,
   "id": "7d794daf-bd16-4d2c-9462-b724855ce6e4",
   "metadata": {},
   "outputs": [
    {
     "data": {
      "text/plain": [
       "0.798469387755102"
      ]
     },
     "execution_count": 85,
     "metadata": {},
     "output_type": "execute_result"
    }
   ],
   "source": [
    "(202 +111) / (202 + 36 + 43 + 111)"
   ]
  },
  {
   "cell_type": "markdown",
   "id": "29f94bcd-ac70-4813-a48b-517e89367053",
   "metadata": {},
   "source": [
    "### 정밀도 \n",
    "+ 모델의 예측값이 얼마나 올바른지 알아보는 지표\n",
    "+ 양성으로 예측한 것 중에서 실제로 양성인 것은 얼마나 존재하는가\n",
    "+ $ precision = \\frac {TP} {TP + FP} $"
   ]
  },
  {
   "cell_type": "markdown",
   "id": "36d465ff-708a-412e-9899-a1c695cf455f",
   "metadata": {},
   "source": [
    "### 타이타닉 분석결과의 오차행렬에서 정밀도 계산"
   ]
  },
  {
   "cell_type": "code",
   "execution_count": 87,
   "id": "85aa2857-4f81-470d-99e7-ab008f7bd926",
   "metadata": {},
   "outputs": [
    {
     "data": {
      "text/plain": [
       "0.8244897959183674"
      ]
     },
     "execution_count": 87,
     "metadata": {},
     "output_type": "execute_result"
    }
   ],
   "source": [
    "202 / (202 + 43)"
   ]
  },
  {
   "cell_type": "code",
   "execution_count": null,
   "id": "e80cf670-d11a-4eb7-9bf2-03a288a0b22f",
   "metadata": {},
   "outputs": [],
   "source": [
    "# 6마리의 동물형상 중 개p/고양이n를 맞추는 게임을 진행\n",
    "# 정답 = [개     개     개 고양이 개     고양이]\n",
    "# 예측 = [개     고양이 개 고양이 개     개    ]"
   ]
  },
  {
   "cell_type": "code",
   "execution_count": 89,
   "id": "8dbbec2e-0222-41c8-99cb-102374ccc26c",
   "metadata": {},
   "outputs": [],
   "source": [
    "ans = ['p', 'p', 'p', 'n', 'p', 'n']\n",
    "pre = ['p', 'n', 'p', 'n', 'p', 'p']"
   ]
  },
  {
   "cell_type": "code",
   "execution_count": 92,
   "id": "c80971f2-ec9f-45bf-8260-45f17b9190eb",
   "metadata": {},
   "outputs": [
    {
     "data": {
      "text/plain": [
       "array([[1, 1],\n",
       "       [1, 3]])"
      ]
     },
     "execution_count": 92,
     "metadata": {},
     "output_type": "execute_result"
    }
   ],
   "source": [
    "confusion_matrix(ans, pre)"
   ]
  },
  {
   "cell_type": "markdown",
   "id": "f7fa06b1-7240-40a7-9dd2-fae29b78e9de",
   "metadata": {},
   "source": [
    "### 재현율\n",
    "+ 양성 중 양성 예측 비율\n",
    "+ 실제 양성 예측율\n",
    "+ 민감도 또는 적중률 hit rate\n",
    "+ $ recall = \\frac {TP} {TP + FN} $"
   ]
  },
  {
   "cell_type": "code",
   "execution_count": null,
   "id": "97321182-02a8-4aa9-a420-2d660601a34c",
   "metadata": {},
   "outputs": [],
   "source": []
  },
  {
   "cell_type": "markdown",
   "id": "986cfe02-2cb2-4512-bb20-8b1025187ea7",
   "metadata": {},
   "source": [
    "### 정밀도/재현율의 trade-off\n",
    "+ 분류 대상 업무의 특성상 정밀도 또는 재현율이 특별히 강조되어야 하는 경우(특히 임상의료) 결정 임계값을 조정하면 정밀도 또는 재현율을 높일 수 있음\n",
    "    - 이진분류에서 0 또는 1로 판정할 기준값을 의미\n",
    "    - 임계값을 0.5로 정하는 경우 기준값보다 확률이 크면 positive, 작으면 negative로 결정\n",
    "+ 한편, 정밀도와 재현율은 상호보완적인 지표이기때문에 어느 한쪽을 올리면 다른 한쪽은 떨어지는 관계를 뜀"
   ]
  },
  {
   "cell_type": "code",
   "execution_count": null,
   "id": "adbccea1-d3f1-4369-937b-1cb012f33730",
   "metadata": {},
   "outputs": [],
   "source": []
  },
  {
   "cell_type": "markdown",
   "id": "9346f40c-978b-4a62-97ce-ecb6bdceaa93",
   "metadata": {},
   "source": [
    "### F1 스코어\n",
    "+ 데이터의 레이블이 불균형 구조일때 모델의 성능을 정확하게 평가하기 위한 지표\n",
    "+ 정밀도와 재현율은 분류모델의 성능을 평가하는 데 중요한 지표\n",
    "+ F1은 둘을 하나의 수치로 정리해서 나타낸 지표 - 정밀도와 재현율의 조화평균\n",
    "### $ F1score = 2*\\frac {Precision * recall} {precision + recall} $\n",
    "\n",
    "+ 어느 한쪽으로 치우치지 않는 수치를 나타낼때 상대적으로 높은 값을 가짐\n",
    "\n",
    "+ 예를 들어, 예측모델 A의 정밀도와 재현율이 0.9/0.1이고, 예측모델 B의 정밀도와 재현율이 0.55/0.45일때 각각의 F1스코어는 0.18/0.495이다\n",
    "\n",
    "+ 따라서, 모델 B가 모델 A보다 우수하다"
   ]
  },
  {
   "cell_type": "markdown",
   "id": "89ba1a8b-2bfe-4a0f-aa2e-9545adb3cf60",
   "metadata": {},
   "source": [
    "### wine 데이터셋 : 178개의 와인샘플을 13개의 화학성분에 근거해 3가지 등급으로 분류\n",
    "+ wine을 logistic regression으로 분석하고 오차행렬, 정밀도/재현율, f1스코어 확인하기"
   ]
  },
  {
   "cell_type": "code",
   "execution_count": 94,
   "id": "526590e7-a4b0-4ec9-bb70-405aa9c235a5",
   "metadata": {},
   "outputs": [],
   "source": [
    "from sklearn.datasets import load_wine"
   ]
  },
  {
   "cell_type": "code",
   "execution_count": 97,
   "id": "9ab2e4ee-9d7a-4fa6-84aa-d6f66e5fd192",
   "metadata": {},
   "outputs": [
    {
     "name": "stdout",
     "output_type": "stream",
     "text": [
      ".. _wine_dataset:\n",
      "\n",
      "Wine recognition dataset\n",
      "------------------------\n",
      "\n",
      "**Data Set Characteristics:**\n",
      "\n",
      "    :Number of Instances: 178 (50 in each of three classes)\n",
      "    :Number of Attributes: 13 numeric, predictive attributes and the class\n",
      "    :Attribute Information:\n",
      " \t\t- Alcohol\n",
      " \t\t- Malic acid\n",
      " \t\t- Ash\n",
      "\t\t- Alcalinity of ash  \n",
      " \t\t- Magnesium\n",
      "\t\t- Total phenols\n",
      " \t\t- Flavanoids\n",
      " \t\t- Nonflavanoid phenols\n",
      " \t\t- Proanthocyanins\n",
      "\t\t- Color intensity\n",
      " \t\t- Hue\n",
      " \t\t- OD280/OD315 of diluted wines\n",
      " \t\t- Proline\n",
      "\n",
      "    - class:\n",
      "            - class_0\n",
      "            - class_1\n",
      "            - class_2\n",
      "\t\t\n",
      "    :Summary Statistics:\n",
      "    \n",
      "    ============================= ==== ===== ======= =====\n",
      "                                   Min   Max   Mean     SD\n",
      "    ============================= ==== ===== ======= =====\n",
      "    Alcohol:                      11.0  14.8    13.0   0.8\n",
      "    Malic Acid:                   0.74  5.80    2.34  1.12\n",
      "    Ash:                          1.36  3.23    2.36  0.27\n",
      "    Alcalinity of Ash:            10.6  30.0    19.5   3.3\n",
      "    Magnesium:                    70.0 162.0    99.7  14.3\n",
      "    Total Phenols:                0.98  3.88    2.29  0.63\n",
      "    Flavanoids:                   0.34  5.08    2.03  1.00\n",
      "    Nonflavanoid Phenols:         0.13  0.66    0.36  0.12\n",
      "    Proanthocyanins:              0.41  3.58    1.59  0.57\n",
      "    Colour Intensity:              1.3  13.0     5.1   2.3\n",
      "    Hue:                          0.48  1.71    0.96  0.23\n",
      "    OD280/OD315 of diluted wines: 1.27  4.00    2.61  0.71\n",
      "    Proline:                       278  1680     746   315\n",
      "    ============================= ==== ===== ======= =====\n",
      "\n",
      "    :Missing Attribute Values: None\n",
      "    :Class Distribution: class_0 (59), class_1 (71), class_2 (48)\n",
      "    :Creator: R.A. Fisher\n",
      "    :Donor: Michael Marshall (MARSHALL%PLU@io.arc.nasa.gov)\n",
      "    :Date: July, 1988\n",
      "\n",
      "This is a copy of UCI ML Wine recognition datasets.\n",
      "https://archive.ics.uci.edu/ml/machine-learning-databases/wine/wine.data\n",
      "\n",
      "The data is the results of a chemical analysis of wines grown in the same\n",
      "region in Italy by three different cultivators. There are thirteen different\n",
      "measurements taken for different constituents found in the three types of\n",
      "wine.\n",
      "\n",
      "Original Owners: \n",
      "\n",
      "Forina, M. et al, PARVUS - \n",
      "An Extendible Package for Data Exploration, Classification and Correlation. \n",
      "Institute of Pharmaceutical and Food Analysis and Technologies,\n",
      "Via Brigata Salerno, 16147 Genoa, Italy.\n",
      "\n",
      "Citation:\n",
      "\n",
      "Lichman, M. (2013). UCI Machine Learning Repository\n",
      "[https://archive.ics.uci.edu/ml]. Irvine, CA: University of California,\n",
      "School of Information and Computer Science. \n",
      "\n",
      ".. topic:: References\n",
      "\n",
      "  (1) S. Aeberhard, D. Coomans and O. de Vel, \n",
      "  Comparison of Classifiers in High Dimensional Settings, \n",
      "  Tech. Rep. no. 92-02, (1992), Dept. of Computer Science and Dept. of  \n",
      "  Mathematics and Statistics, James Cook University of North Queensland. \n",
      "  (Also submitted to Technometrics). \n",
      "\n",
      "  The data was used with many others for comparing various \n",
      "  classifiers. The classes are separable, though only RDA \n",
      "  has achieved 100% correct classification. \n",
      "  (RDA : 100%, QDA 99.4%, LDA 98.9%, 1NN 96.1% (z-transformed data)) \n",
      "  (All results using the leave-one-out technique) \n",
      "\n",
      "  (2) S. Aeberhard, D. Coomans and O. de Vel, \n",
      "  \"THE CLASSIFICATION PERFORMANCE OF RDA\" \n",
      "  Tech. Rep. no. 92-01, (1992), Dept. of Computer Science and Dept. of \n",
      "  Mathematics and Statistics, James Cook University of North Queensland. \n",
      "  (Also submitted to Journal of Chemometrics).\n",
      "\n"
     ]
    }
   ],
   "source": [
    "wine = load_wine()\n",
    "print(wine.DESCR)"
   ]
  },
  {
   "cell_type": "code",
   "execution_count": 100,
   "id": "117865a2-8ed0-41f5-978e-486aa3cd41a2",
   "metadata": {},
   "outputs": [
    {
     "data": {
      "text/plain": [
       "array(['class_0', 'class_1', 'class_2'], dtype='<U7')"
      ]
     },
     "execution_count": 100,
     "metadata": {},
     "output_type": "execute_result"
    }
   ],
   "source": [
    "wine.target_names"
   ]
  },
  {
   "cell_type": "code",
   "execution_count": 102,
   "id": "bbbc8ead-888c-4bb7-86c8-8255134c75e3",
   "metadata": {},
   "outputs": [
    {
     "data": {
      "text/plain": [
       "['alcohol',\n",
       " 'malic_acid',\n",
       " 'ash',\n",
       " 'alcalinity_of_ash',\n",
       " 'magnesium',\n",
       " 'total_phenols',\n",
       " 'flavanoids',\n",
       " 'nonflavanoid_phenols',\n",
       " 'proanthocyanins',\n",
       " 'color_intensity',\n",
       " 'hue',\n",
       " 'od280/od315_of_diluted_wines',\n",
       " 'proline']"
      ]
     },
     "execution_count": 102,
     "metadata": {},
     "output_type": "execute_result"
    }
   ],
   "source": [
    "wine.feature_names"
   ]
  },
  {
   "cell_type": "code",
   "execution_count": 122,
   "id": "e80ac19c-bb64-46aa-b300-709201fdba87",
   "metadata": {},
   "outputs": [
    {
     "data": {
      "text/plain": [
       "array([[1.423e+01, 1.710e+00, 2.430e+00, 1.560e+01, 1.270e+02, 2.800e+00,\n",
       "        3.060e+00, 2.800e-01, 2.290e+00, 5.640e+00, 1.040e+00, 3.920e+00,\n",
       "        1.065e+03],\n",
       "       [1.320e+01, 1.780e+00, 2.140e+00, 1.120e+01, 1.000e+02, 2.650e+00,\n",
       "        2.760e+00, 2.600e-01, 1.280e+00, 4.380e+00, 1.050e+00, 3.400e+00,\n",
       "        1.050e+03],\n",
       "       [1.316e+01, 2.360e+00, 2.670e+00, 1.860e+01, 1.010e+02, 2.800e+00,\n",
       "        3.240e+00, 3.000e-01, 2.810e+00, 5.680e+00, 1.030e+00, 3.170e+00,\n",
       "        1.185e+03],\n",
       "       [1.437e+01, 1.950e+00, 2.500e+00, 1.680e+01, 1.130e+02, 3.850e+00,\n",
       "        3.490e+00, 2.400e-01, 2.180e+00, 7.800e+00, 8.600e-01, 3.450e+00,\n",
       "        1.480e+03],\n",
       "       [1.324e+01, 2.590e+00, 2.870e+00, 2.100e+01, 1.180e+02, 2.800e+00,\n",
       "        2.690e+00, 3.900e-01, 1.820e+00, 4.320e+00, 1.040e+00, 2.930e+00,\n",
       "        7.350e+02]])"
      ]
     },
     "execution_count": 122,
     "metadata": {},
     "output_type": "execute_result"
    }
   ],
   "source": [
    "wine.data[:5]"
   ]
  },
  {
   "cell_type": "code",
   "execution_count": 125,
   "id": "b4e7f857-c1f0-4468-b09b-6255f0ad77c3",
   "metadata": {},
   "outputs": [
    {
     "data": {
      "text/plain": [
       "1    71\n",
       "0    59\n",
       "2    48\n",
       "dtype: int64"
      ]
     },
     "execution_count": 125,
     "metadata": {},
     "output_type": "execute_result"
    }
   ],
   "source": [
    "pd.Series(wine.target).value_counts() # 종속 변수값 분포"
   ]
  },
  {
   "cell_type": "code",
   "execution_count": 140,
   "id": "6b7928ff-d6ae-4705-9c82-dadc37f377fb",
   "metadata": {},
   "outputs": [],
   "source": [
    "Xtrain, Xtest, ytrain, ytest = train_test_split(wine.data, wine.target, train_size=0.7, stratify=wine.target, random_state=2111040402)"
   ]
  },
  {
   "cell_type": "code",
   "execution_count": 141,
   "id": "9e3bfb05-8e19-4a55-81e4-099388fe5ee2",
   "metadata": {},
   "outputs": [
    {
     "data": {
      "text/plain": [
       "0.9074074074074074"
      ]
     },
     "execution_count": 141,
     "metadata": {},
     "output_type": "execute_result"
    }
   ],
   "source": [
    "lrclfw = LogisticRegression(max_iter =2500)\n",
    "lrclfw.fit(Xtrain, ytrain)\n",
    "pred = lrclfw.predict(Xtest)\n",
    "accuracy_score(pred,ytest)"
   ]
  },
  {
   "cell_type": "code",
   "execution_count": 142,
   "id": "1e5e47f1-89ac-4649-b01b-81a6ca3d8339",
   "metadata": {},
   "outputs": [
    {
     "data": {
      "text/plain": [
       "array([[16,  1,  0],\n",
       "       [ 2, 19,  1],\n",
       "       [ 0,  1, 14]])"
      ]
     },
     "execution_count": 142,
     "metadata": {},
     "output_type": "execute_result"
    }
   ],
   "source": [
    "confusion_matrix(pred, ytest)"
   ]
  },
  {
   "cell_type": "markdown",
   "id": "0c00e6ec-b210-45a0-a564-85f485c483fd",
   "metadata": {},
   "source": [
    "### wine 데이터셋을 dataframe으로 생성"
   ]
  },
  {
   "cell_type": "code",
   "execution_count": 128,
   "id": "6f39f57f-194f-465c-a892-7afb1b472236",
   "metadata": {},
   "outputs": [
    {
     "data": {
      "text/html": [
       "<div>\n",
       "<style scoped>\n",
       "    .dataframe tbody tr th:only-of-type {\n",
       "        vertical-align: middle;\n",
       "    }\n",
       "\n",
       "    .dataframe tbody tr th {\n",
       "        vertical-align: top;\n",
       "    }\n",
       "\n",
       "    .dataframe thead th {\n",
       "        text-align: right;\n",
       "    }\n",
       "</style>\n",
       "<table border=\"1\" class=\"dataframe\">\n",
       "  <thead>\n",
       "    <tr style=\"text-align: right;\">\n",
       "      <th></th>\n",
       "      <th>alcohol</th>\n",
       "      <th>malic_acid</th>\n",
       "      <th>ash</th>\n",
       "      <th>alcalinity_of_ash</th>\n",
       "      <th>magnesium</th>\n",
       "      <th>total_phenols</th>\n",
       "      <th>flavanoids</th>\n",
       "      <th>nonflavanoid_phenols</th>\n",
       "      <th>proanthocyanins</th>\n",
       "      <th>color_intensity</th>\n",
       "      <th>hue</th>\n",
       "      <th>od280/od315_of_diluted_wines</th>\n",
       "      <th>proline</th>\n",
       "    </tr>\n",
       "  </thead>\n",
       "  <tbody>\n",
       "    <tr>\n",
       "      <th>0</th>\n",
       "      <td>14.23</td>\n",
       "      <td>1.71</td>\n",
       "      <td>2.43</td>\n",
       "      <td>15.6</td>\n",
       "      <td>127.0</td>\n",
       "      <td>2.80</td>\n",
       "      <td>3.06</td>\n",
       "      <td>0.28</td>\n",
       "      <td>2.29</td>\n",
       "      <td>5.64</td>\n",
       "      <td>1.04</td>\n",
       "      <td>3.92</td>\n",
       "      <td>1065.0</td>\n",
       "    </tr>\n",
       "    <tr>\n",
       "      <th>1</th>\n",
       "      <td>13.20</td>\n",
       "      <td>1.78</td>\n",
       "      <td>2.14</td>\n",
       "      <td>11.2</td>\n",
       "      <td>100.0</td>\n",
       "      <td>2.65</td>\n",
       "      <td>2.76</td>\n",
       "      <td>0.26</td>\n",
       "      <td>1.28</td>\n",
       "      <td>4.38</td>\n",
       "      <td>1.05</td>\n",
       "      <td>3.40</td>\n",
       "      <td>1050.0</td>\n",
       "    </tr>\n",
       "    <tr>\n",
       "      <th>2</th>\n",
       "      <td>13.16</td>\n",
       "      <td>2.36</td>\n",
       "      <td>2.67</td>\n",
       "      <td>18.6</td>\n",
       "      <td>101.0</td>\n",
       "      <td>2.80</td>\n",
       "      <td>3.24</td>\n",
       "      <td>0.30</td>\n",
       "      <td>2.81</td>\n",
       "      <td>5.68</td>\n",
       "      <td>1.03</td>\n",
       "      <td>3.17</td>\n",
       "      <td>1185.0</td>\n",
       "    </tr>\n",
       "    <tr>\n",
       "      <th>3</th>\n",
       "      <td>14.37</td>\n",
       "      <td>1.95</td>\n",
       "      <td>2.50</td>\n",
       "      <td>16.8</td>\n",
       "      <td>113.0</td>\n",
       "      <td>3.85</td>\n",
       "      <td>3.49</td>\n",
       "      <td>0.24</td>\n",
       "      <td>2.18</td>\n",
       "      <td>7.80</td>\n",
       "      <td>0.86</td>\n",
       "      <td>3.45</td>\n",
       "      <td>1480.0</td>\n",
       "    </tr>\n",
       "    <tr>\n",
       "      <th>4</th>\n",
       "      <td>13.24</td>\n",
       "      <td>2.59</td>\n",
       "      <td>2.87</td>\n",
       "      <td>21.0</td>\n",
       "      <td>118.0</td>\n",
       "      <td>2.80</td>\n",
       "      <td>2.69</td>\n",
       "      <td>0.39</td>\n",
       "      <td>1.82</td>\n",
       "      <td>4.32</td>\n",
       "      <td>1.04</td>\n",
       "      <td>2.93</td>\n",
       "      <td>735.0</td>\n",
       "    </tr>\n",
       "  </tbody>\n",
       "</table>\n",
       "</div>"
      ],
      "text/plain": [
       "   alcohol  malic_acid   ash  alcalinity_of_ash  magnesium  total_phenols  \\\n",
       "0    14.23        1.71  2.43               15.6      127.0           2.80   \n",
       "1    13.20        1.78  2.14               11.2      100.0           2.65   \n",
       "2    13.16        2.36  2.67               18.6      101.0           2.80   \n",
       "3    14.37        1.95  2.50               16.8      113.0           3.85   \n",
       "4    13.24        2.59  2.87               21.0      118.0           2.80   \n",
       "\n",
       "   flavanoids  nonflavanoid_phenols  proanthocyanins  color_intensity   hue  \\\n",
       "0        3.06                  0.28             2.29             5.64  1.04   \n",
       "1        2.76                  0.26             1.28             4.38  1.05   \n",
       "2        3.24                  0.30             2.81             5.68  1.03   \n",
       "3        3.49                  0.24             2.18             7.80  0.86   \n",
       "4        2.69                  0.39             1.82             4.32  1.04   \n",
       "\n",
       "   od280/od315_of_diluted_wines  proline  \n",
       "0                          3.92   1065.0  \n",
       "1                          3.40   1050.0  \n",
       "2                          3.17   1185.0  \n",
       "3                          3.45   1480.0  \n",
       "4                          2.93    735.0  "
      ]
     },
     "execution_count": 128,
     "metadata": {},
     "output_type": "execute_result"
    }
   ],
   "source": [
    "wines = pd.DataFrame(wine.data)\n",
    "wines.columns = wine.feature_names\n",
    "wines.head()"
   ]
  },
  {
   "cell_type": "code",
   "execution_count": 129,
   "id": "df5736cb-97fd-45fb-add6-4da6f8c48f44",
   "metadata": {},
   "outputs": [],
   "source": [
    "wines['class'] = wine.target"
   ]
  },
  {
   "cell_type": "code",
   "execution_count": 135,
   "id": "a9f21552-c087-4104-b428-c5cff6427d9d",
   "metadata": {},
   "outputs": [
    {
     "data": {
      "text/html": [
       "<div>\n",
       "<style scoped>\n",
       "    .dataframe tbody tr th:only-of-type {\n",
       "        vertical-align: middle;\n",
       "    }\n",
       "\n",
       "    .dataframe tbody tr th {\n",
       "        vertical-align: top;\n",
       "    }\n",
       "\n",
       "    .dataframe thead th {\n",
       "        text-align: right;\n",
       "    }\n",
       "</style>\n",
       "<table border=\"1\" class=\"dataframe\">\n",
       "  <thead>\n",
       "    <tr style=\"text-align: right;\">\n",
       "      <th></th>\n",
       "      <th>alcohol</th>\n",
       "      <th>malic_acid</th>\n",
       "      <th>ash</th>\n",
       "      <th>alcalinity_of_ash</th>\n",
       "      <th>magnesium</th>\n",
       "      <th>total_phenols</th>\n",
       "      <th>flavanoids</th>\n",
       "      <th>nonflavanoid_phenols</th>\n",
       "      <th>proanthocyanins</th>\n",
       "      <th>color_intensity</th>\n",
       "      <th>hue</th>\n",
       "      <th>od280/od315_of_diluted_wines</th>\n",
       "      <th>proline</th>\n",
       "      <th>class</th>\n",
       "    </tr>\n",
       "  </thead>\n",
       "  <tbody>\n",
       "    <tr>\n",
       "      <th>168</th>\n",
       "      <td>13.58</td>\n",
       "      <td>2.58</td>\n",
       "      <td>2.69</td>\n",
       "      <td>24.5</td>\n",
       "      <td>105.0</td>\n",
       "      <td>1.55</td>\n",
       "      <td>0.84</td>\n",
       "      <td>0.39</td>\n",
       "      <td>1.54</td>\n",
       "      <td>8.660000</td>\n",
       "      <td>0.74</td>\n",
       "      <td>1.80</td>\n",
       "      <td>750.0</td>\n",
       "      <td>2</td>\n",
       "    </tr>\n",
       "    <tr>\n",
       "      <th>169</th>\n",
       "      <td>13.40</td>\n",
       "      <td>4.60</td>\n",
       "      <td>2.86</td>\n",
       "      <td>25.0</td>\n",
       "      <td>112.0</td>\n",
       "      <td>1.98</td>\n",
       "      <td>0.96</td>\n",
       "      <td>0.27</td>\n",
       "      <td>1.11</td>\n",
       "      <td>8.500000</td>\n",
       "      <td>0.67</td>\n",
       "      <td>1.92</td>\n",
       "      <td>630.0</td>\n",
       "      <td>2</td>\n",
       "    </tr>\n",
       "    <tr>\n",
       "      <th>170</th>\n",
       "      <td>12.20</td>\n",
       "      <td>3.03</td>\n",
       "      <td>2.32</td>\n",
       "      <td>19.0</td>\n",
       "      <td>96.0</td>\n",
       "      <td>1.25</td>\n",
       "      <td>0.49</td>\n",
       "      <td>0.40</td>\n",
       "      <td>0.73</td>\n",
       "      <td>5.500000</td>\n",
       "      <td>0.66</td>\n",
       "      <td>1.83</td>\n",
       "      <td>510.0</td>\n",
       "      <td>2</td>\n",
       "    </tr>\n",
       "    <tr>\n",
       "      <th>171</th>\n",
       "      <td>12.77</td>\n",
       "      <td>2.39</td>\n",
       "      <td>2.28</td>\n",
       "      <td>19.5</td>\n",
       "      <td>86.0</td>\n",
       "      <td>1.39</td>\n",
       "      <td>0.51</td>\n",
       "      <td>0.48</td>\n",
       "      <td>0.64</td>\n",
       "      <td>9.899999</td>\n",
       "      <td>0.57</td>\n",
       "      <td>1.63</td>\n",
       "      <td>470.0</td>\n",
       "      <td>2</td>\n",
       "    </tr>\n",
       "    <tr>\n",
       "      <th>172</th>\n",
       "      <td>14.16</td>\n",
       "      <td>2.51</td>\n",
       "      <td>2.48</td>\n",
       "      <td>20.0</td>\n",
       "      <td>91.0</td>\n",
       "      <td>1.68</td>\n",
       "      <td>0.70</td>\n",
       "      <td>0.44</td>\n",
       "      <td>1.24</td>\n",
       "      <td>9.700000</td>\n",
       "      <td>0.62</td>\n",
       "      <td>1.71</td>\n",
       "      <td>660.0</td>\n",
       "      <td>2</td>\n",
       "    </tr>\n",
       "    <tr>\n",
       "      <th>173</th>\n",
       "      <td>13.71</td>\n",
       "      <td>5.65</td>\n",
       "      <td>2.45</td>\n",
       "      <td>20.5</td>\n",
       "      <td>95.0</td>\n",
       "      <td>1.68</td>\n",
       "      <td>0.61</td>\n",
       "      <td>0.52</td>\n",
       "      <td>1.06</td>\n",
       "      <td>7.700000</td>\n",
       "      <td>0.64</td>\n",
       "      <td>1.74</td>\n",
       "      <td>740.0</td>\n",
       "      <td>2</td>\n",
       "    </tr>\n",
       "    <tr>\n",
       "      <th>174</th>\n",
       "      <td>13.40</td>\n",
       "      <td>3.91</td>\n",
       "      <td>2.48</td>\n",
       "      <td>23.0</td>\n",
       "      <td>102.0</td>\n",
       "      <td>1.80</td>\n",
       "      <td>0.75</td>\n",
       "      <td>0.43</td>\n",
       "      <td>1.41</td>\n",
       "      <td>7.300000</td>\n",
       "      <td>0.70</td>\n",
       "      <td>1.56</td>\n",
       "      <td>750.0</td>\n",
       "      <td>2</td>\n",
       "    </tr>\n",
       "    <tr>\n",
       "      <th>175</th>\n",
       "      <td>13.27</td>\n",
       "      <td>4.28</td>\n",
       "      <td>2.26</td>\n",
       "      <td>20.0</td>\n",
       "      <td>120.0</td>\n",
       "      <td>1.59</td>\n",
       "      <td>0.69</td>\n",
       "      <td>0.43</td>\n",
       "      <td>1.35</td>\n",
       "      <td>10.200000</td>\n",
       "      <td>0.59</td>\n",
       "      <td>1.56</td>\n",
       "      <td>835.0</td>\n",
       "      <td>2</td>\n",
       "    </tr>\n",
       "    <tr>\n",
       "      <th>176</th>\n",
       "      <td>13.17</td>\n",
       "      <td>2.59</td>\n",
       "      <td>2.37</td>\n",
       "      <td>20.0</td>\n",
       "      <td>120.0</td>\n",
       "      <td>1.65</td>\n",
       "      <td>0.68</td>\n",
       "      <td>0.53</td>\n",
       "      <td>1.46</td>\n",
       "      <td>9.300000</td>\n",
       "      <td>0.60</td>\n",
       "      <td>1.62</td>\n",
       "      <td>840.0</td>\n",
       "      <td>2</td>\n",
       "    </tr>\n",
       "    <tr>\n",
       "      <th>177</th>\n",
       "      <td>14.13</td>\n",
       "      <td>4.10</td>\n",
       "      <td>2.74</td>\n",
       "      <td>24.5</td>\n",
       "      <td>96.0</td>\n",
       "      <td>2.05</td>\n",
       "      <td>0.76</td>\n",
       "      <td>0.56</td>\n",
       "      <td>1.35</td>\n",
       "      <td>9.200000</td>\n",
       "      <td>0.61</td>\n",
       "      <td>1.60</td>\n",
       "      <td>560.0</td>\n",
       "      <td>2</td>\n",
       "    </tr>\n",
       "  </tbody>\n",
       "</table>\n",
       "</div>"
      ],
      "text/plain": [
       "     alcohol  malic_acid   ash  alcalinity_of_ash  magnesium  total_phenols  \\\n",
       "168    13.58        2.58  2.69               24.5      105.0           1.55   \n",
       "169    13.40        4.60  2.86               25.0      112.0           1.98   \n",
       "170    12.20        3.03  2.32               19.0       96.0           1.25   \n",
       "171    12.77        2.39  2.28               19.5       86.0           1.39   \n",
       "172    14.16        2.51  2.48               20.0       91.0           1.68   \n",
       "173    13.71        5.65  2.45               20.5       95.0           1.68   \n",
       "174    13.40        3.91  2.48               23.0      102.0           1.80   \n",
       "175    13.27        4.28  2.26               20.0      120.0           1.59   \n",
       "176    13.17        2.59  2.37               20.0      120.0           1.65   \n",
       "177    14.13        4.10  2.74               24.5       96.0           2.05   \n",
       "\n",
       "     flavanoids  nonflavanoid_phenols  proanthocyanins  color_intensity   hue  \\\n",
       "168        0.84                  0.39             1.54         8.660000  0.74   \n",
       "169        0.96                  0.27             1.11         8.500000  0.67   \n",
       "170        0.49                  0.40             0.73         5.500000  0.66   \n",
       "171        0.51                  0.48             0.64         9.899999  0.57   \n",
       "172        0.70                  0.44             1.24         9.700000  0.62   \n",
       "173        0.61                  0.52             1.06         7.700000  0.64   \n",
       "174        0.75                  0.43             1.41         7.300000  0.70   \n",
       "175        0.69                  0.43             1.35        10.200000  0.59   \n",
       "176        0.68                  0.53             1.46         9.300000  0.60   \n",
       "177        0.76                  0.56             1.35         9.200000  0.61   \n",
       "\n",
       "     od280/od315_of_diluted_wines  proline  class  \n",
       "168                          1.80    750.0      2  \n",
       "169                          1.92    630.0      2  \n",
       "170                          1.83    510.0      2  \n",
       "171                          1.63    470.0      2  \n",
       "172                          1.71    660.0      2  \n",
       "173                          1.74    740.0      2  \n",
       "174                          1.56    750.0      2  \n",
       "175                          1.56    835.0      2  \n",
       "176                          1.62    840.0      2  \n",
       "177                          1.60    560.0      2  "
      ]
     },
     "execution_count": 135,
     "metadata": {},
     "output_type": "execute_result"
    }
   ],
   "source": [
    "wines.tail(10)"
   ]
  },
  {
   "cell_type": "code",
   "execution_count": 131,
   "id": "07754507-852c-4982-b84c-1afb7c7bb765",
   "metadata": {},
   "outputs": [
    {
     "name": "stdout",
     "output_type": "stream",
     "text": [
      "<class 'pandas.core.frame.DataFrame'>\n",
      "RangeIndex: 178 entries, 0 to 177\n",
      "Data columns (total 14 columns):\n",
      " #   Column                        Non-Null Count  Dtype  \n",
      "---  ------                        --------------  -----  \n",
      " 0   alcohol                       178 non-null    float64\n",
      " 1   malic_acid                    178 non-null    float64\n",
      " 2   ash                           178 non-null    float64\n",
      " 3   alcalinity_of_ash             178 non-null    float64\n",
      " 4   magnesium                     178 non-null    float64\n",
      " 5   total_phenols                 178 non-null    float64\n",
      " 6   flavanoids                    178 non-null    float64\n",
      " 7   nonflavanoid_phenols          178 non-null    float64\n",
      " 8   proanthocyanins               178 non-null    float64\n",
      " 9   color_intensity               178 non-null    float64\n",
      " 10  hue                           178 non-null    float64\n",
      " 11  od280/od315_of_diluted_wines  178 non-null    float64\n",
      " 12  proline                       178 non-null    float64\n",
      " 13  class                         178 non-null    int64  \n",
      "dtypes: float64(13), int64(1)\n",
      "memory usage: 19.6 KB\n"
     ]
    }
   ],
   "source": [
    "wines.info()"
   ]
  },
  {
   "cell_type": "markdown",
   "id": "4d9643f2-e571-4ce9-b770-645ac5c5661b",
   "metadata": {},
   "source": [
    "### 데이터를 train/test로 나눔"
   ]
  },
  {
   "cell_type": "code",
   "execution_count": 143,
   "id": "735c7165-528a-4943-a01c-4fa623546358",
   "metadata": {},
   "outputs": [],
   "source": [
    "Xtrain, Xtest, ytrain, ytest = train_test_split(wine.data, wine.target, train_size=0.7,  stratify=wine.target, random_state=2111041645)"
   ]
  },
  {
   "cell_type": "markdown",
   "id": "8edac2c8-b2a3-4a23-ba0c-c22269c922e8",
   "metadata": {},
   "source": [
    "#### max_iter : 적절한 해를 찾기 위한 탐색횟수 지정"
   ]
  },
  {
   "cell_type": "code",
   "execution_count": 161,
   "id": "37284c5f-8dbc-40c2-a4be-5e6f1ef92a71",
   "metadata": {},
   "outputs": [
    {
     "data": {
      "text/plain": [
       "0.9444444444444444"
      ]
     },
     "execution_count": 161,
     "metadata": {},
     "output_type": "execute_result"
    }
   ],
   "source": [
    "lrclfww = LogisticRegression(max_iter=2500)\n",
    "lrclfww.fit(Xtrain, ytrain)\n",
    "pred = lrclfww.predict(Xtest)\n",
    "accuracy_score(pred,ytest)"
   ]
  },
  {
   "cell_type": "code",
   "execution_count": 162,
   "id": "35feee0e-ce0b-4f5f-87a7-727a9a4275de",
   "metadata": {},
   "outputs": [
    {
     "data": {
      "text/plain": [
       "array([[17,  0,  0],\n",
       "       [ 1, 20,  1],\n",
       "       [ 0,  1, 14]])"
      ]
     },
     "execution_count": 162,
     "metadata": {},
     "output_type": "execute_result"
    }
   ],
   "source": [
    "confusion_matrix(pred, ytest)"
   ]
  },
  {
   "cell_type": "code",
   "execution_count": 163,
   "id": "3f0f68c6-0ed6-4075-a54e-08ad7e3da6bc",
   "metadata": {},
   "outputs": [
    {
     "name": "stdout",
     "output_type": "stream",
     "text": [
      "              precision    recall  f1-score   support\n",
      "\n",
      "           0       0.94      1.00      0.97        17\n",
      "           1       0.95      0.91      0.93        22\n",
      "           2       0.93      0.93      0.93        15\n",
      "\n",
      "    accuracy                           0.94        54\n",
      "   macro avg       0.94      0.95      0.94        54\n",
      "weighted avg       0.94      0.94      0.94        54\n",
      "\n"
     ]
    }
   ],
   "source": [
    "\n",
    "print(classification_report(pred, ytest))"
   ]
  },
  {
   "cell_type": "code",
   "execution_count": 164,
   "id": "186b4053-f15c-4c86-9da3-5985dc1ac642",
   "metadata": {},
   "outputs": [
    {
     "data": {
      "text/plain": [
       "0.9444444444444444"
      ]
     },
     "execution_count": 164,
     "metadata": {},
     "output_type": "execute_result"
    }
   ],
   "source": [
    "rfclfww = LogisticRegression(max_iter=2500)\n",
    "rfclfww.fit(Xtrain, ytrain)\n",
    "pred = rfclfww.predict(Xtest)\n",
    "accuracy_score(pred,ytest)"
   ]
  },
  {
   "cell_type": "code",
   "execution_count": 165,
   "id": "412d0247-ea22-4b5a-a933-dadd23ea66b3",
   "metadata": {},
   "outputs": [
    {
     "data": {
      "text/plain": [
       "array([[17,  0,  0],\n",
       "       [ 1, 20,  1],\n",
       "       [ 0,  1, 14]])"
      ]
     },
     "execution_count": 165,
     "metadata": {},
     "output_type": "execute_result"
    }
   ],
   "source": [
    "confusion_matrix(pred, ytest)"
   ]
  },
  {
   "cell_type": "code",
   "execution_count": 166,
   "id": "7dc9b53a-d01e-4ca4-b19a-4994ff35adcb",
   "metadata": {},
   "outputs": [
    {
     "name": "stdout",
     "output_type": "stream",
     "text": [
      "              precision    recall  f1-score   support\n",
      "\n",
      "           0       0.94      1.00      0.97        17\n",
      "           1       0.95      0.91      0.93        22\n",
      "           2       0.93      0.93      0.93        15\n",
      "\n",
      "    accuracy                           0.94        54\n",
      "   macro avg       0.94      0.95      0.94        54\n",
      "weighted avg       0.94      0.94      0.94        54\n",
      "\n"
     ]
    }
   ],
   "source": [
    "print(classification_report(pred, ytest))"
   ]
  },
  {
   "cell_type": "markdown",
   "id": "40568da4-8c7b-42e9-847c-9cecc3aaa578",
   "metadata": {},
   "source": [
    "### 적절한 변수선택을 통한 분석 방법\n",
    "+ SequentialFeatureSelector 를 이용해서 적절한 변수의 숫자와 그 정확도 알아보기\n"
   ]
  },
  {
   "cell_type": "code",
   "execution_count": 167,
   "id": "cfc709c1-ca3c-4570-af96-910f35f61e7e",
   "metadata": {},
   "outputs": [],
   "source": [
    "from sklearn.feature_selection import SequentialFeatureSelector"
   ]
  },
  {
   "cell_type": "code",
   "execution_count": null,
   "id": "ed8168ee-7480-4f0c-be92-15c25383bb8d",
   "metadata": {},
   "outputs": [],
   "source": [
    "\n",
    "lrclfwww.fit(Xtrain, ytrain)\n",
    "pred = lrclfwww.predict(Xtest)\n",
    "accuracy_score(pred,ytest)"
   ]
  },
  {
   "cell_type": "code",
   "execution_count": null,
   "id": "72d5b5ca-0a75-452c-9abf-63137c4d04bb",
   "metadata": {},
   "outputs": [],
   "source": []
  },
  {
   "cell_type": "code",
   "execution_count": null,
   "id": "47aa4690-7f6e-4056-b104-c61bfed3492f",
   "metadata": {},
   "outputs": [],
   "source": []
  },
  {
   "cell_type": "code",
   "execution_count": 174,
   "id": "dc066197-6b18-42d5-814a-95fbc34533c9",
   "metadata": {},
   "outputs": [],
   "source": [
    "scores = []\n",
    "# lrclfwww = LogisticRegression(max_iter=2500)\n",
    "knn = KNeighborsClassifier()\n",
    "for n in range(1, 13):\n",
    "    sfs = SequentialFeatureSelector(knn, n_features_to_select=n, n_jobs=-1)\n",
    "    sfs.fit(Xtrain, ytrain)\n",
    "    mask = sfs.support_\n",
    "    knn.fit(Xtrain[:, mask], ytrain)\n",
    "    scores.append(knn.score(Xtrain[:, mask], ytrain))"
   ]
  },
  {
   "cell_type": "code",
   "execution_count": 176,
   "id": "7128e85c-cd73-4ba1-8a09-802aa94582ca",
   "metadata": {},
   "outputs": [
    {
     "data": {
      "image/png": "[encoded data removed]",
      "text/plain": [
       "<Figure size 432x288 with 1 Axes>"
      ]
     },
     "metadata": {
      "needs_background": "light"
     },
     "output_type": "display_data"
    }
   ],
   "source": [
    "plt.plot(scores)\n",
    "plt.grid()"
   ]
  },
  {
   "cell_type": "markdown",
   "id": "3507a5ac-5de6-48dd-b9ca-c568e3389214",
   "metadata": {},
   "source": [
    "### 종속변수가 6~7일때 정확도가 좋음"
   ]
  },
  {
   "cell_type": "code",
   "execution_count": 182,
   "id": "91512124-8043-4918-9d09-29571eed8a08",
   "metadata": {},
   "outputs": [
    {
     "data": {
      "text/plain": [
       "0.967741935483871"
      ]
     },
     "execution_count": 182,
     "metadata": {},
     "output_type": "execute_result"
    }
   ],
   "source": [
    "sfs = SequentialFeatureSelector(knn, n_features_to_select=7, n_jobs=-1)\n",
    "sfs.fit(Xtrain, ytrain)\n",
    "mask = sfs.support_\n",
    "knn.fit(Xtrain[:, mask], ytrain)\n",
    "knn.score(Xtrain[:, mask], ytrain)"
   ]
  },
  {
   "cell_type": "markdown",
   "id": "3227c343-0333-4a2f-a750-c2663b2b79b7",
   "metadata": {},
   "source": [
    "### 최적의 정확도 출력시 사용한 컬럼들"
   ]
  },
  {
   "cell_type": "code",
   "execution_count": 183,
   "id": "1f5779f2-43b9-4c19-ae05-ca82f7a5a0b7",
   "metadata": {},
   "outputs": [
    {
     "data": {
      "text/plain": [
       "Index(['ash', 'alcalinity_of_ash', 'flavanoids', 'nonflavanoid_phenols',\n",
       "       'proanthocyanins', 'color_intensity', 'hue'],\n",
       "      dtype='object')"
      ]
     },
     "execution_count": 183,
     "metadata": {},
     "output_type": "execute_result"
    }
   ],
   "source": [
    "wines.columns[1:][mask] "
   ]
  },
  {
   "cell_type": "code",
   "execution_count": null,
   "id": "a57ed5eb-d626-4ceb-906e-7023409c6191",
   "metadata": {},
   "outputs": [],
   "source": []
  },
  {
   "cell_type": "code",
   "execution_count": null,
   "id": "846c63a0-23b8-4ef2-b231-3def5c94894c",
   "metadata": {},
   "outputs": [],
   "source": []
  },
  {
   "cell_type": "code",
   "execution_count": null,
   "id": "70355d56-7768-4b12-8cb5-fd6699a893e6",
   "metadata": {},
   "outputs": [],
   "source": []
  },
  {
   "cell_type": "code",
   "execution_count": null,
   "id": "faad239f-cefc-4736-bc8f-4905180549e9",
   "metadata": {},
   "outputs": [],
   "source": []
  },
  {
   "cell_type": "code",
   "execution_count": null,
   "id": "8eae6f8b-9a73-4c10-8cbd-71360e96de12",
   "metadata": {},
   "outputs": [],
   "source": []
  },
  {
   "cell_type": "code",
   "execution_count": null,
   "id": "5adfe541-7756-4163-a463-520cfc53fe35",
   "metadata": {},
   "outputs": [],
   "source": []
  },
  {
   "cell_type": "code",
   "execution_count": null,
   "id": "28059507-508a-49e8-9c01-a05738334122",
   "metadata": {},
   "outputs": [],
   "source": []
  }
 ],
 "metadata": {
  "kernelspec": {
   "display_name": "Python 3 (ipykernel)",
   "language": "python",
   "name": "python3"
  },
  "language_info": {
   "codemirror_mode": {
    "name": "ipython",
    "version": 3
   },
   "file_extension": ".py",
   "mimetype": "text/x-python",
   "name": "python",
   "nbconvert_exporter": "python",
   "pygments_lexer": "ipython3",
   "version": "3.7.10"
  }
 },
 "nbformat": 4,
 "nbformat_minor": 5
}
