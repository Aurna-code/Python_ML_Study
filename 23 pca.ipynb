{
 "cells": [
  {
   "cell_type": "markdown",
   "id": "58f4c7fb-4cef-426c-8d52-f6a349869fa6",
   "metadata": {},
   "source": [
    "\n",
    "## 주성분분석 Principal Component Analysis\n",
    "\n",
    "+ 자료의 요약이나 '선형관계식'을 통해 '차원수'를 감소시켜 데이터해석을 용이하게 하는데 주안점\n",
    "\n",
    "+ 서로 상관이 없거나 독립적인 새로운 변수들을 이용해서 정보손실을 최소화하도록 함\n",
    "\n",
    "\n",
    "#### 둘 이상의 양적변수 사이에서 분산/공분산 관계를 이용하여 변수들의 선형결합으로 나타나는 주성분을 찾고, 이 중 중요한 n개의 주성분으로 전체변동의 대부분을 설명하고자 하는 다변량 분석법\n",
    "+ 예를 들어, 8x8크기의 손글씨 데이터의 경우 총 64개의 특성으로 구성되어 있는데, 글씨가 쓰여진 영역만 따로 골라서 분석에 활용한다면 64개의 특성이 모두 다 필요한 것은 아님"
   ]
  },
  {
   "cell_type": "markdown",
   "id": "212f86a0-40a3-432e-8043-34631973e8a9",
   "metadata": {},
   "source": [
    "<img src='img/pca.gif'>"
   ]
  },
  {
   "cell_type": "markdown",
   "id": "99ad9d91-56ab-4e54-9a41-36da8e6aa347",
   "metadata": {},
   "source": [
    "### 차원축소 방법 - 투영/사영projection\n",
    "+ #### 먼저, 데이터에 임의의 초평면을 정의한 다음 데이터들을 이 평면에 투영함\n",
    "+ #### 그런 다음, 데이터의 분산이 최대로 보존되는지 확인\n",
    "\n",
    "\n",
    "#### PCA를 이용해 고차원의 데이터를 정보손실없이 변환함으로써 시각화가 편리해지고 데이터의 크기가 감소함으로써 빠른 학습이 가능해짐\n",
    "#### PCA 분석을 위해 공분산/고유벡터/고유값에 대한 개념 필요 - 선형대수"
   ]
  },
  {
   "cell_type": "markdown",
   "id": "7f7212ef-a39b-4854-8cfb-bffdd481459f",
   "metadata": {},
   "source": [
    "### 주성분 분석 순서\n",
    "+ 데이터를 표준화/정규화한 후 각 변수간 공분산을 구함\n",
    "+ 이를 이용해 고유값/고유벡터를 구함\n",
    "+ 분산이 큰 고유벡터를 찾아 데이터를 이것에 투영해서 그 결과값들을 분석이나 시각화에 사용"
   ]
  },
  {
   "cell_type": "markdown",
   "id": "ddbac474-269f-4b97-9203-00f2d02d354a",
   "metadata": {},
   "source": [
    "#### iris 데이터셋을 이용하여 주성분 분석 실시"
   ]
  },
  {
   "cell_type": "code",
   "execution_count": 1,
   "id": "175420b4-a5af-4c14-8651-0520e70d7ee4",
   "metadata": {},
   "outputs": [],
   "source": [
    "import numpy as np\n",
    "import pandas as pd\n",
    "import matplotlib.pyplot as plt"
   ]
  },
  {
   "cell_type": "code",
   "execution_count": 2,
   "id": "58dd4620-0660-4bc2-af5e-637c6e018bf2",
   "metadata": {},
   "outputs": [],
   "source": [
    "from sklearn.preprocessing import StandardScaler\n",
    "from sklearn.decomposition import PCA"
   ]
  },
  {
   "cell_type": "code",
   "execution_count": 3,
   "id": "039467a2-b8aa-4308-93a4-44d0b21cf989",
   "metadata": {},
   "outputs": [],
   "source": [
    "from sklearn.datasets import load_iris"
   ]
  },
  {
   "cell_type": "markdown",
   "id": "08ab38d5-13c5-456b-98b3-c2ccedc328f7",
   "metadata": {},
   "source": [
    "#### 데이터 적재"
   ]
  },
  {
   "cell_type": "code",
   "execution_count": 5,
   "id": "99028f86-8eee-441c-aca1-4d1d3a601db9",
   "metadata": {},
   "outputs": [],
   "source": [
    "iris = load_iris()\n",
    "data = iris.data\n",
    "target = iris.target"
   ]
  },
  {
   "cell_type": "markdown",
   "id": "f721eb15-07dc-4a49-ad80-7df16e2c5317",
   "metadata": {},
   "source": [
    "#### 전처리"
   ]
  },
  {
   "cell_type": "code",
   "execution_count": 7,
   "id": "eb73a89b-8b2e-4a35-ac1c-69c91446d1db",
   "metadata": {},
   "outputs": [],
   "source": [
    "data = StandardScaler().fit_transform(data)"
   ]
  },
  {
   "cell_type": "markdown",
   "id": "8bde55ec-2af5-49d5-a381-056179d39929",
   "metadata": {},
   "source": [
    "#### 공분산 계산\n",
    "+ 각 독립변수(특성) 별 상관관계 파악\n",
    "+ 그러기 위해서는 특성들을 전치행렬로 변환해야 함\n",
    "+ 전치행렬은 객체명.T로 간단히 만들 수 있음"
   ]
  },
  {
   "cell_type": "code",
   "execution_count": 10,
   "id": "825e1469-8bfd-475c-8f7c-a80a7bb9bcf2",
   "metadata": {},
   "outputs": [
    {
     "data": {
      "text/plain": [
       "array([[ 1.00671141, -0.11835884,  0.87760447,  0.82343066],\n",
       "       [-0.11835884,  1.00671141, -0.43131554, -0.36858315],\n",
       "       [ 0.87760447, -0.43131554,  1.00671141,  0.96932762],\n",
       "       [ 0.82343066, -0.36858315,  0.96932762,  1.00671141]])"
      ]
     },
     "execution_count": 10,
     "metadata": {},
     "output_type": "execute_result"
    }
   ],
   "source": [
    "cov_matrix = np.cov(data.T)\n",
    "cov_matrix"
   ]
  },
  {
   "cell_type": "markdown",
   "id": "a2810782-74a2-4f8c-b6b6-7aa863cb37ae",
   "metadata": {},
   "source": [
    "#### 공분산의 고유값/고유벡터 계산\n",
    "+ numpy에서 linalg.eig 함수 제공"
   ]
  },
  {
   "cell_type": "code",
   "execution_count": 12,
   "id": "c2b15390-1a5b-4cfc-bb2b-55a3a669b7c3",
   "metadata": {},
   "outputs": [
    {
     "data": {
      "text/plain": [
       "(array([2.93808505, 0.9201649 , 0.14774182, 0.02085386]),\n",
       " array([[ 0.52106591, -0.37741762, -0.71956635,  0.26128628],\n",
       "        [-0.26934744, -0.92329566,  0.24438178, -0.12350962],\n",
       "        [ 0.5804131 , -0.02449161,  0.14212637, -0.80144925],\n",
       "        [ 0.56485654, -0.06694199,  0.63427274,  0.52359713]]))"
      ]
     },
     "execution_count": 12,
     "metadata": {},
     "output_type": "execute_result"
    }
   ],
   "source": [
    "eigval, eigvec = np.linalg.eig(cov_matrix)\n",
    "eigval, eigvec"
   ]
  },
  {
   "cell_type": "markdown",
   "id": "f7a717cc-f1b6-439f-a61e-a678ac360259",
   "metadata": {},
   "source": [
    "#### 데이터의 차원을 1차원으로 변환했을 때 73%"
   ]
  },
  {
   "cell_type": "code",
   "execution_count": 13,
   "id": "f5ab1452-43d1-4474-b2ed-3eb9e5911ef8",
   "metadata": {},
   "outputs": [
    {
     "data": {
      "text/plain": [
       "array([0.72962445, 0.22850762, 0.03668922, 0.00517871])"
      ]
     },
     "execution_count": 13,
     "metadata": {},
     "output_type": "execute_result"
    }
   ],
   "source": [
    "eigval/sum(eigval)"
   ]
  },
  {
   "cell_type": "markdown",
   "id": "724af31e-7e29-43ce-b27a-d0f1720b5581",
   "metadata": {},
   "source": [
    "#### 2차원으로 변환하는 경우 73+23% 정도로 고유데이터의 분산을 유지할 수 있음"
   ]
  },
  {
   "cell_type": "markdown",
   "id": "2e948340-4a75-442e-98b5-ae8a44a0d061",
   "metadata": {},
   "source": [
    "#### 고유값을 이용해서 적절한 주성분 개수 선택\n",
    "+ 스크리scree 그래프 이용"
   ]
  },
  {
   "cell_type": "code",
   "execution_count": 14,
   "id": "cf60cc67-8cfd-4693-a40a-eea652e3bf0d",
   "metadata": {},
   "outputs": [
    {
     "data": {
      "text/plain": [
       "[<matplotlib.lines.Line2D at 0x7f1d154f0d10>]"
      ]
     },
     "execution_count": 14,
     "metadata": {},
     "output_type": "execute_result"
    },
    {
     "data": {
      "image/png": "[encoded data removed]",
      "text/plain": [
       "<Figure size 432x288 with 1 Axes>"
      ]
     },
     "metadata": {
      "needs_background": "light"
     },
     "output_type": "display_data"
    }
   ],
   "source": [
    "plt.plot(eigval, 'ro-')"
   ]
  },
  {
   "cell_type": "markdown",
   "id": "bd08d777-9c30-469b-b7fb-d52d47db149f",
   "metadata": {},
   "source": [
    "#### 투영한 결과를 데이터프레임에 생성\n",
    "+ 즉, 4차원 데이터를 고유벡터로 투영함\n",
    "+ A벡터를 B벡터에 투영했을 때 투영된 벡터의 길이를 구하는 공식\n",
    "+ -> x.y / || y ||\n",
    "+ x.y -> np.dot(x,y)\n",
    "+ || y || -> np.linalg.norm(y)"
   ]
  },
  {
   "cell_type": "code",
   "execution_count": 19,
   "id": "72fcd43f-cc4b-4548-a683-3b5a577a54ab",
   "metadata": {},
   "outputs": [],
   "source": [
    "projX1 = data.dot(eigvec.T[0]) / np.linalg.norm(eigvec.T[0])\n",
    "result = pd.DataFrame(projX1, columns=['PC1'])"
   ]
  },
  {
   "cell_type": "code",
   "execution_count": 21,
   "id": "704b0565-58d1-49a8-8b78-8b716f3f38e7",
   "metadata": {},
   "outputs": [],
   "source": [
    "projX2 = data.dot(eigvec.T[1]) / np.linalg.norm(eigvec.T[1])\n",
    "result['PC2'] = projX2"
   ]
  },
  {
   "cell_type": "code",
   "execution_count": 22,
   "id": "d9a1c8a9-d78a-4f62-81b3-cebf3806caae",
   "metadata": {},
   "outputs": [],
   "source": [
    "result['target'] = target"
   ]
  },
  {
   "cell_type": "markdown",
   "id": "dc5cfe86-46e0-4328-97bb-b74048f89b4f",
   "metadata": {},
   "source": [
    "#### 기존 변수로 시각화"
   ]
  },
  {
   "cell_type": "code",
   "execution_count": 24,
   "id": "07af2a9f-b0b0-475a-8bad-d088edac5532",
   "metadata": {},
   "outputs": [
    {
     "data": {
      "text/plain": [
       "<matplotlib.collections.PathCollection at 0x7f1d153780d0>"
      ]
     },
     "execution_count": 24,
     "metadata": {},
     "output_type": "execute_result"
    },
    {
     "data": {
      "image/png": "[encoded data removed]",
      "text/plain": [
       "<Figure size 432x288 with 1 Axes>"
      ]
     },
     "metadata": {
      "needs_background": "light"
     },
     "output_type": "display_data"
    }
   ],
   "source": [
    "plt.scatter(data[:, 0], data[:, 1], c=target)  # sepal"
   ]
  },
  {
   "cell_type": "code",
   "execution_count": 25,
   "id": "eac8e18c-1eab-46ff-a2bd-18a2bc50a26c",
   "metadata": {},
   "outputs": [
    {
     "data": {
      "text/plain": [
       "<matplotlib.collections.PathCollection at 0x7f1d153ee490>"
      ]
     },
     "execution_count": 25,
     "metadata": {},
     "output_type": "execute_result"
    },
    {
     "data": {
      "image/png": "[encoded data removed]",
      "text/plain": [
       "<Figure size 432x288 with 1 Axes>"
      ]
     },
     "metadata": {
      "needs_background": "light"
     },
     "output_type": "display_data"
    }
   ],
   "source": [
    "plt.scatter(data[:, 2], data[:, 3], c=target) # petal"
   ]
  },
  {
   "cell_type": "markdown",
   "id": "16d6d31b-5f9d-4582-a21b-6e10169da948",
   "metadata": {},
   "source": [
    "#### 주성분 분석 후 시각화"
   ]
  },
  {
   "cell_type": "code",
   "execution_count": 23,
   "id": "56b60408-284d-4514-bc20-90cbec8f74f0",
   "metadata": {},
   "outputs": [
    {
     "data": {
      "text/plain": [
       "<matplotlib.collections.PathCollection at 0x7f1d154b5390>"
      ]
     },
     "execution_count": 23,
     "metadata": {},
     "output_type": "execute_result"
    },
    {
     "data": {
      "image/png": "[encoded data removed]",
      "text/plain": [
       "<Figure size 432x288 with 1 Axes>"
      ]
     },
     "metadata": {
      "needs_background": "light"
     },
     "output_type": "display_data"
    }
   ],
   "source": [
    "plt.scatter(result.PC1, result.PC2, c=target)"
   ]
  },
  {
   "cell_type": "markdown",
   "id": "f723281e-9ef6-4640-ad26-6990004aac14",
   "metadata": {},
   "source": [
    "#### sklearn으로 PCA 분석\n",
    "+ n_components : 주성분 개수 지정"
   ]
  },
  {
   "cell_type": "code",
   "execution_count": 26,
   "id": "45d85cdb-3e1f-4196-8000-bdcbdb20387a",
   "metadata": {},
   "outputs": [],
   "source": [
    "pca = PCA(n_components=2)\n",
    "pcaXY = pca.fit_transform(data)"
   ]
  },
  {
   "cell_type": "code",
   "execution_count": 28,
   "id": "854a3b45-0453-4a24-9909-873063db891b",
   "metadata": {},
   "outputs": [],
   "source": [
    "result = pd.DataFrame(pcaXY, columns=['PC1', 'PC2'])\n",
    "result['target'] = target"
   ]
  },
  {
   "cell_type": "code",
   "execution_count": 30,
   "id": "68aa75bd-e1a6-441f-b4a3-474cbda56027",
   "metadata": {},
   "outputs": [
    {
     "data": {
      "text/plain": [
       "<matplotlib.collections.PathCollection at 0x7f1d152c4610>"
      ]
     },
     "execution_count": 30,
     "metadata": {},
     "output_type": "execute_result"
    },
    {
     "data": {
      "image/png": "[encoded data removed]",
      "text/plain": [
       "<Figure size 432x288 with 1 Axes>"
      ]
     },
     "metadata": {
      "needs_background": "light"
     },
     "output_type": "display_data"
    }
   ],
   "source": [
    "plt.scatter(result.PC1, result.PC2, c=result.target)"
   ]
  },
  {
   "cell_type": "markdown",
   "id": "e1e24b9d-22fd-4e43-bb98-71519f7b2aff",
   "metadata": {},
   "source": [
    "#### 89구역 54개의 공원 잔디식물종 분석\n",
    "+ 1 ~ 54 컬럼만 추출해서 주성분분석 실시\n",
    "+ plot : 실험조건\n",
    "+ species : 식물종\n",
    "+ hay : 건초\n",
    "+ pH : 토양산성도"
   ]
  },
  {
   "cell_type": "code",
   "execution_count": 67,
   "id": "563da48c-1583-46cc-a207-b0e4cab3c1dd",
   "metadata": {},
   "outputs": [],
   "source": [
    "pg = pd.read_csv('data/pgfull.txt', sep='\\t')"
   ]
  },
  {
   "cell_type": "code",
   "execution_count": 68,
   "id": "8342e8cc-0b84-4002-b5e8-2ad0ac56bf73",
   "metadata": {},
   "outputs": [
    {
     "data": {
      "text/html": [
       "<div>\n",
       "<style scoped>\n",
       "    .dataframe tbody tr th:only-of-type {\n",
       "        vertical-align: middle;\n",
       "    }\n",
       "\n",
       "    .dataframe tbody tr th {\n",
       "        vertical-align: top;\n",
       "    }\n",
       "\n",
       "    .dataframe thead th {\n",
       "        text-align: right;\n",
       "    }\n",
       "</style>\n",
       "<table border=\"1\" class=\"dataframe\">\n",
       "  <thead>\n",
       "    <tr style=\"text-align: right;\">\n",
       "      <th></th>\n",
       "      <th>AC</th>\n",
       "      <th>AE</th>\n",
       "      <th>AM</th>\n",
       "      <th>AO</th>\n",
       "      <th>AP</th>\n",
       "      <th>AR</th>\n",
       "      <th>AS</th>\n",
       "      <th>AU</th>\n",
       "      <th>BH</th>\n",
       "      <th>BM</th>\n",
       "      <th>...</th>\n",
       "      <th>TO</th>\n",
       "      <th>TP</th>\n",
       "      <th>TR</th>\n",
       "      <th>VC</th>\n",
       "      <th>VK</th>\n",
       "      <th>plot</th>\n",
       "      <th>lime</th>\n",
       "      <th>species</th>\n",
       "      <th>hay</th>\n",
       "      <th>pH</th>\n",
       "    </tr>\n",
       "  </thead>\n",
       "  <tbody>\n",
       "    <tr>\n",
       "      <th>0</th>\n",
       "      <td>2.51</td>\n",
       "      <td>1.18</td>\n",
       "      <td>0.45</td>\n",
       "      <td>0.91</td>\n",
       "      <td>0.47</td>\n",
       "      <td>0.00</td>\n",
       "      <td>0.0</td>\n",
       "      <td>0.00</td>\n",
       "      <td>0.0</td>\n",
       "      <td>0.06</td>\n",
       "      <td>...</td>\n",
       "      <td>0.10</td>\n",
       "      <td>0.04</td>\n",
       "      <td>0.00</td>\n",
       "      <td>0.00</td>\n",
       "      <td>0.0</td>\n",
       "      <td>1.0</td>\n",
       "      <td>1</td>\n",
       "      <td>33</td>\n",
       "      <td>5.105</td>\n",
       "      <td>7.0</td>\n",
       "    </tr>\n",
       "    <tr>\n",
       "      <th>1</th>\n",
       "      <td>6.85</td>\n",
       "      <td>0.10</td>\n",
       "      <td>0.58</td>\n",
       "      <td>1.02</td>\n",
       "      <td>0.35</td>\n",
       "      <td>0.00</td>\n",
       "      <td>0.0</td>\n",
       "      <td>0.00</td>\n",
       "      <td>0.0</td>\n",
       "      <td>0.36</td>\n",
       "      <td>...</td>\n",
       "      <td>0.14</td>\n",
       "      <td>0.00</td>\n",
       "      <td>0.00</td>\n",
       "      <td>0.00</td>\n",
       "      <td>0.0</td>\n",
       "      <td>1.0</td>\n",
       "      <td>2</td>\n",
       "      <td>31</td>\n",
       "      <td>6.455</td>\n",
       "      <td>6.2</td>\n",
       "    </tr>\n",
       "    <tr>\n",
       "      <th>2</th>\n",
       "      <td>10.58</td>\n",
       "      <td>0.11</td>\n",
       "      <td>0.21</td>\n",
       "      <td>1.85</td>\n",
       "      <td>0.00</td>\n",
       "      <td>0.00</td>\n",
       "      <td>0.0</td>\n",
       "      <td>0.00</td>\n",
       "      <td>0.0</td>\n",
       "      <td>0.00</td>\n",
       "      <td>...</td>\n",
       "      <td>0.02</td>\n",
       "      <td>0.06</td>\n",
       "      <td>0.00</td>\n",
       "      <td>0.00</td>\n",
       "      <td>0.0</td>\n",
       "      <td>1.0</td>\n",
       "      <td>3</td>\n",
       "      <td>33</td>\n",
       "      <td>4.870</td>\n",
       "      <td>5.3</td>\n",
       "    </tr>\n",
       "    <tr>\n",
       "      <th>3</th>\n",
       "      <td>13.65</td>\n",
       "      <td>0.00</td>\n",
       "      <td>0.00</td>\n",
       "      <td>6.46</td>\n",
       "      <td>0.00</td>\n",
       "      <td>0.00</td>\n",
       "      <td>0.0</td>\n",
       "      <td>0.00</td>\n",
       "      <td>0.0</td>\n",
       "      <td>0.00</td>\n",
       "      <td>...</td>\n",
       "      <td>0.00</td>\n",
       "      <td>0.00</td>\n",
       "      <td>0.00</td>\n",
       "      <td>0.00</td>\n",
       "      <td>0.0</td>\n",
       "      <td>1.0</td>\n",
       "      <td>4</td>\n",
       "      <td>10</td>\n",
       "      <td>2.160</td>\n",
       "      <td>4.0</td>\n",
       "    </tr>\n",
       "    <tr>\n",
       "      <th>4</th>\n",
       "      <td>4.84</td>\n",
       "      <td>0.00</td>\n",
       "      <td>1.49</td>\n",
       "      <td>0.36</td>\n",
       "      <td>0.10</td>\n",
       "      <td>0.06</td>\n",
       "      <td>0.0</td>\n",
       "      <td>0.02</td>\n",
       "      <td>0.0</td>\n",
       "      <td>0.90</td>\n",
       "      <td>...</td>\n",
       "      <td>0.08</td>\n",
       "      <td>0.68</td>\n",
       "      <td>0.48</td>\n",
       "      <td>0.01</td>\n",
       "      <td>0.0</td>\n",
       "      <td>2.1</td>\n",
       "      <td>1</td>\n",
       "      <td>42</td>\n",
       "      <td>4.620</td>\n",
       "      <td>7.0</td>\n",
       "    </tr>\n",
       "  </tbody>\n",
       "</table>\n",
       "<p>5 rows × 59 columns</p>\n",
       "</div>"
      ],
      "text/plain": [
       "      AC    AE    AM    AO    AP    AR   AS    AU   BH    BM  ...    TO    TP  \\\n",
       "0   2.51  1.18  0.45  0.91  0.47  0.00  0.0  0.00  0.0  0.06  ...  0.10  0.04   \n",
       "1   6.85  0.10  0.58  1.02  0.35  0.00  0.0  0.00  0.0  0.36  ...  0.14  0.00   \n",
       "2  10.58  0.11  0.21  1.85  0.00  0.00  0.0  0.00  0.0  0.00  ...  0.02  0.06   \n",
       "3  13.65  0.00  0.00  6.46  0.00  0.00  0.0  0.00  0.0  0.00  ...  0.00  0.00   \n",
       "4   4.84  0.00  1.49  0.36  0.10  0.06  0.0  0.02  0.0  0.90  ...  0.08  0.68   \n",
       "\n",
       "     TR    VC   VK  plot  lime  species    hay   pH  \n",
       "0  0.00  0.00  0.0   1.0     1       33  5.105  7.0  \n",
       "1  0.00  0.00  0.0   1.0     2       31  6.455  6.2  \n",
       "2  0.00  0.00  0.0   1.0     3       33  4.870  5.3  \n",
       "3  0.00  0.00  0.0   1.0     4       10  2.160  4.0  \n",
       "4  0.48  0.01  0.0   2.1     1       42  4.620  7.0  \n",
       "\n",
       "[5 rows x 59 columns]"
      ]
     },
     "execution_count": 68,
     "metadata": {},
     "output_type": "execute_result"
    }
   ],
   "source": [
    "pg.head()"
   ]
  },
  {
   "cell_type": "code",
   "execution_count": 105,
   "id": "cbc34e94-fe56-49c1-adbe-9ef60632c3f3",
   "metadata": {},
   "outputs": [
    {
     "data": {
      "text/plain": [
       "27    7\n",
       "34    7\n",
       "28    6\n",
       "29    5\n",
       "30    4\n",
       "22    4\n",
       "32    4\n",
       "33    4\n",
       "37    4\n",
       "36    3\n",
       "26    3\n",
       "23    3\n",
       "4     3\n",
       "10    3\n",
       "42    3\n",
       "14    3\n",
       "31    2\n",
       "19    2\n",
       "25    2\n",
       "21    2\n",
       "18    2\n",
       "15    2\n",
       "24    2\n",
       "13    2\n",
       "44    1\n",
       "17    1\n",
       "3     1\n",
       "16    1\n",
       "39    1\n",
       "5     1\n",
       "6     1\n",
       "Name: species, dtype: int64"
      ]
     },
     "execution_count": 105,
     "metadata": {},
     "output_type": "execute_result"
    }
   ],
   "source": [
    "pg.species.value_counts()"
   ]
  },
  {
   "cell_type": "code",
   "execution_count": 122,
   "id": "004b3a78-03c6-4d05-a9ae-bfc2cb467157",
   "metadata": {},
   "outputs": [],
   "source": [
    "data = pg.iloc[:,0:54]"
   ]
  },
  {
   "cell_type": "code",
   "execution_count": 72,
   "id": "3c6f34ea-3dc5-41ab-a011-52b1965a9535",
   "metadata": {},
   "outputs": [],
   "source": [
    "target = pg.iloc[:, 56]"
   ]
  },
  {
   "cell_type": "code",
   "execution_count": 73,
   "id": "252111eb-5b07-451a-a528-4d421bdf6cd6",
   "metadata": {},
   "outputs": [],
   "source": [
    "data = StandardScaler().fit_transform(data)"
   ]
  },
  {
   "cell_type": "code",
   "execution_count": 74,
   "id": "85f6566a-4a55-4a38-acf6-0172762029a2",
   "metadata": {},
   "outputs": [
    {
     "data": {
      "text/plain": [
       "array([[ 1.01136364, -0.44250256,  0.30363168, ..., -0.0900217 ,\n",
       "        -0.16988853,  0.06115835],\n",
       "       [-0.44250256,  1.01136364, -0.26457035, ..., -0.09738512,\n",
       "        -0.08087617,  0.04703134],\n",
       "       [ 0.30363168, -0.26457035,  1.01136364, ...,  0.16084868,\n",
       "         0.299318  ,  0.14000338],\n",
       "       ...,\n",
       "       [-0.0900217 , -0.09738512,  0.16084868, ...,  1.01136364,\n",
       "         0.22715864, -0.02876682],\n",
       "       [-0.16988853, -0.08087617,  0.299318  , ...,  0.22715864,\n",
       "         1.01136364, -0.05144238],\n",
       "       [ 0.06115835,  0.04703134,  0.14000338, ..., -0.02876682,\n",
       "        -0.05144238,  1.01136364]])"
      ]
     },
     "execution_count": 74,
     "metadata": {},
     "output_type": "execute_result"
    }
   ],
   "source": [
    "cov_matrix = np.cov(data.T)\n",
    "cov_matrix"
   ]
  },
  {
   "cell_type": "code",
   "execution_count": 75,
   "id": "480fe791-786e-4379-b579-dd9152c4f1df",
   "metadata": {},
   "outputs": [
    {
     "data": {
      "text/plain": [
       "(array([9.13165399e+00, 5.51807125e+00, 3.77385556e+00, 3.22465515e+00,\n",
       "        3.03751535e+00, 2.31172009e+00, 2.30229238e+00, 1.91449904e+00,\n",
       "        1.77399445e+00, 1.63940383e+00, 1.50407045e+00, 1.45132311e+00,\n",
       "        1.38984454e+00, 1.30402414e+00, 1.20839512e+00, 1.15322854e+00,\n",
       "        1.02296515e+00, 9.22470340e-01, 8.53285700e-01, 8.09514826e-01,\n",
       "        7.55620560e-01, 7.30191848e-01, 5.98056053e-01, 5.70941868e-01,\n",
       "        5.56679840e-01, 4.88156294e-01, 5.04859078e-01, 4.58414785e-01,\n",
       "        3.95890536e-01, 3.26285767e-01, 3.20215353e-01, 2.93351652e-01,\n",
       "        2.80566038e-01, 2.48051465e-01, 2.39920468e-01, 2.19983752e-01,\n",
       "        2.00011109e-01, 1.63830664e-01, 1.43447309e-01, 1.29573930e-01,\n",
       "        1.19551438e-01, 2.99530521e-04, 1.28112035e-02, 1.00044745e-01,\n",
       "        8.88448638e-02, 2.45520660e-02, 2.84029637e-02, 3.18838138e-02,\n",
       "        7.29049841e-02, 6.74492455e-02, 4.01378375e-02, 4.78691591e-02,\n",
       "        5.23590116e-02, 5.56941215e-02]),\n",
       " array([[-0.09484702, -0.18974816,  0.17538536, ..., -0.12544588,\n",
       "         -0.1570271 ,  0.03268143],\n",
       "        [ 0.24819936,  0.09730241, -0.21190206, ..., -0.20099216,\n",
       "          0.11488914,  0.05411894],\n",
       "        [-0.12823135,  0.1687882 ,  0.18726702, ...,  0.00437848,\n",
       "         -0.01580973, -0.25679045],\n",
       "        ...,\n",
       "        [-0.07570349,  0.16301259,  0.01261532, ...,  0.00635338,\n",
       "         -0.07334226, -0.02654742],\n",
       "        [-0.06537178,  0.22412003,  0.00335121, ..., -0.08808602,\n",
       "          0.00063947, -0.07312322],\n",
       "        [ 0.02750445,  0.11576215,  0.08819781, ...,  0.09373621,\n",
       "         -0.0162874 , -0.00302864]]))"
      ]
     },
     "execution_count": 75,
     "metadata": {},
     "output_type": "execute_result"
    }
   ],
   "source": [
    "eigval, eigvec = np.linalg.eig(cov_matrix)\n",
    "eigval, eigvec"
   ]
  },
  {
   "cell_type": "code",
   "execution_count": 76,
   "id": "5e57fb7e-cc21-4658-b833-89a3c36ceb37",
   "metadata": {},
   "outputs": [
    {
     "data": {
      "text/plain": [
       "array([1.67204651e-01, 1.01038342e-01, 6.91009757e-02, 5.90448717e-02,\n",
       "       5.56182587e-02, 4.23286242e-02, 4.21559987e-02, 3.50553300e-02,\n",
       "       3.24826282e-02, 3.00182141e-02, 2.75401996e-02, 2.65743725e-02,\n",
       "       2.54486725e-02, 2.38772626e-02, 2.21262528e-02, 2.11161280e-02,\n",
       "       1.87309474e-02, 1.68908427e-02, 1.56240411e-02, 1.48225769e-02,\n",
       "       1.38357489e-02, 1.33701379e-02, 1.09506726e-02, 1.04541998e-02,\n",
       "       1.01930557e-02, 8.93835910e-03, 9.24419452e-03, 8.39377883e-03,\n",
       "       7.24893200e-03, 5.97443767e-03, 5.86328570e-03, 5.37139938e-03,\n",
       "       5.13728909e-03, 4.54193277e-03, 4.39305060e-03, 4.02800044e-03,\n",
       "       3.66229246e-03, 2.99981241e-03, 2.62658410e-03, 2.37255636e-03,\n",
       "       2.18904005e-03, 5.48453722e-06, 2.34578841e-04, 1.83186383e-03,\n",
       "       1.62678902e-03, 4.49559261e-04, 5.20070912e-04, 5.83806828e-04,\n",
       "       1.33492272e-03, 1.23502572e-03, 7.34941677e-04, 8.76505618e-04,\n",
       "       9.58716816e-04, 1.01978416e-03])"
      ]
     },
     "execution_count": 76,
     "metadata": {},
     "output_type": "execute_result"
    }
   ],
   "source": [
    "eigval/sum(eigval)"
   ]
  },
  {
   "cell_type": "code",
   "execution_count": 77,
   "id": "6516f6f9-030f-4b01-807f-6fd95b3a9718",
   "metadata": {},
   "outputs": [
    {
     "data": {
      "text/plain": [
       "[<matplotlib.lines.Line2D at 0x7f1d17590090>]"
      ]
     },
     "execution_count": 77,
     "metadata": {},
     "output_type": "execute_result"
    },
    {
     "data": {
      "image/png": "[encoded data removed]",
      "text/plain": [
       "<Figure size 432x288 with 1 Axes>"
      ]
     },
     "metadata": {
      "needs_background": "light"
     },
     "output_type": "display_data"
    }
   ],
   "source": [
    "plt.plot(eigval, 'ro-')"
   ]
  },
  {
   "cell_type": "code",
   "execution_count": 78,
   "id": "dcaaed63-4989-4cc6-ad47-29b034ad304a",
   "metadata": {},
   "outputs": [],
   "source": [
    "projX1 = data.dot(eigvec.T[0]) / np.linalg.norm(eigvec.T[0])\n",
    "result = pd.DataFrame(projX1, columns=['PC1'])"
   ]
  },
  {
   "cell_type": "code",
   "execution_count": 79,
   "id": "ae0e99d1-bbdd-4fe2-aee8-828576661c09",
   "metadata": {},
   "outputs": [],
   "source": [
    "projX2 = data.dot(eigvec.T[1]) / np.linalg.norm(eigvec.T[1])\n",
    "result['PC2'] = projX2"
   ]
  },
  {
   "cell_type": "code",
   "execution_count": 80,
   "id": "8059280b-5e28-4096-81ce-075943ba46bb",
   "metadata": {},
   "outputs": [],
   "source": [
    "result['target'] = target"
   ]
  },
  {
   "cell_type": "code",
   "execution_count": 81,
   "id": "e216b079-1dd0-44cc-af87-2164b204b228",
   "metadata": {},
   "outputs": [
    {
     "data": {
      "text/plain": [
       "<matplotlib.collections.PathCollection at 0x7f1d1310a6d0>"
      ]
     },
     "execution_count": 81,
     "metadata": {},
     "output_type": "execute_result"
    },
    {
     "data": {
      "image/png": "[encoded data removed]",
      "text/plain": [
       "<Figure size 432x288 with 1 Axes>"
      ]
     },
     "metadata": {
      "needs_background": "light"
     },
     "output_type": "display_data"
    }
   ],
   "source": [
    "plt.scatter(data[:, 0], data[:, 1], c=target)"
   ]
  },
  {
   "cell_type": "code",
   "execution_count": 82,
   "id": "6a1d9088-478b-4bea-b6ca-6678da33887b",
   "metadata": {},
   "outputs": [
    {
     "data": {
      "text/plain": [
       "<matplotlib.collections.PathCollection at 0x7f1d12fd81d0>"
      ]
     },
     "execution_count": 82,
     "metadata": {},
     "output_type": "execute_result"
    },
    {
     "data": {
      "image/png": "[encoded data removed]",
      "text/plain": [
       "<Figure size 432x288 with 1 Axes>"
      ]
     },
     "metadata": {
      "needs_background": "light"
     },
     "output_type": "display_data"
    }
   ],
   "source": [
    "plt.scatter(result.PC1, result.PC2, c=target)"
   ]
  },
  {
   "cell_type": "code",
   "execution_count": null,
   "id": "91c5fa62-8396-4c65-b621-1386533eaf5c",
   "metadata": {},
   "outputs": [],
   "source": []
  },
  {
   "cell_type": "code",
   "execution_count": null,
   "id": "1af0283d-1b3e-48a1-8723-637479f5e6a9",
   "metadata": {},
   "outputs": [],
   "source": []
  },
  {
   "cell_type": "code",
   "execution_count": null,
   "id": "34e304f6-928d-46f1-90c5-7edc7644467b",
   "metadata": {},
   "outputs": [],
   "source": []
  },
  {
   "cell_type": "markdown",
   "id": "2433ced4-2bb0-40aa-a8f7-7f4f2d4af525",
   "metadata": {},
   "source": [
    "#### 주성분분석 2"
   ]
  },
  {
   "cell_type": "code",
   "execution_count": 117,
   "id": "e2600d51-91df-4eb3-9d8f-e6545fe4e5ad",
   "metadata": {},
   "outputs": [],
   "source": [
    "# data1 = StandardScaler().fit_transform(data)\n",
    "# 표준화시킨 후 주성분 분석시 설명력이 떨어지기 때문에 표준화 과정을 생략 "
   ]
  },
  {
   "cell_type": "code",
   "execution_count": 123,
   "id": "7f336994-02f1-488f-9d6f-62c5ced1e104",
   "metadata": {},
   "outputs": [],
   "source": [
    "pca = PCA()\n",
    "pcaXY = pca.fit_transform(data)"
   ]
  },
  {
   "cell_type": "code",
   "execution_count": 124,
   "id": "6acb7258-d0d9-42c2-83d9-d038ddb6adec",
   "metadata": {},
   "outputs": [],
   "source": [
    "np.set_printoptions(formatter={'float_kind':'{:.3f}'.format}, suppress = True)"
   ]
  },
  {
   "cell_type": "code",
   "execution_count": 125,
   "id": "2cb6204b-57fb-42eb-8df7-184c194c0f63",
   "metadata": {},
   "outputs": [
    {
     "data": {
      "text/plain": [
       "array([0.394, 0.242, 0.109, 0.081, 0.071, 0.035, 0.014, 0.011, 0.009,\n",
       "       0.008, 0.005, 0.004, 0.004, 0.002, 0.002, 0.001, 0.001, 0.001,\n",
       "       0.001, 0.001, 0.001, 0.000, 0.000, 0.000, 0.000, 0.000, 0.000,\n",
       "       0.000, 0.000, 0.000, 0.000, 0.000, 0.000, 0.000, 0.000, 0.000,\n",
       "       0.000, 0.000, 0.000, 0.000, 0.000, 0.000, 0.000, 0.000, 0.000,\n",
       "       0.000, 0.000, 0.000, 0.000, 0.000, 0.000, 0.000, 0.000, 0.000])"
      ]
     },
     "execution_count": 125,
     "metadata": {},
     "output_type": "execute_result"
    }
   ],
   "source": [
    "pca.explained_variance_ratio_"
   ]
  },
  {
   "cell_type": "code",
   "execution_count": 127,
   "id": "f99461ba-556d-4cf6-8638-325882765dac",
   "metadata": {},
   "outputs": [
    {
     "data": {
      "text/plain": [
       "0.7448981110837313"
      ]
     },
     "execution_count": 127,
     "metadata": {},
     "output_type": "execute_result"
    }
   ],
   "source": [
    "np.sum(pca.explained_variance_ratio_[:3]) # 74%의 설명력 가짐"
   ]
  },
  {
   "cell_type": "code",
   "execution_count": null,
   "id": "1c55bc41-0f5a-402e-8a87-858a20ab00d7",
   "metadata": {},
   "outputs": [],
   "source": []
  },
  {
   "cell_type": "code",
   "execution_count": null,
   "id": "fe28027c-c325-4036-843d-480da4835074",
   "metadata": {},
   "outputs": [],
   "source": []
  },
  {
   "cell_type": "markdown",
   "id": "0425a760-db72-4cde-a5a8-9da535062ee6",
   "metadata": {},
   "source": [
    "#### 고유값/ 고유벡터 찾아보기\n",
    "+ Ax = λx (ㅎ키 누른 후 한자 키)\n",
    "+ 선형변환 A = [[3,1], [1,3]]을 만족하는 고유벡터 x와 고유값 λ은?"
   ]
  },
  {
   "cell_type": "code",
   "execution_count": 83,
   "id": "50bae56c-3813-4aae-8cd6-ff7d6a24fd89",
   "metadata": {},
   "outputs": [],
   "source": [
    "A = [[3,1], [1,3]]  # 선형변환\n",
    "x1 = [-1, 1]\n",
    "x2 = [1, 1]\n",
    "x3 = np.dot(A, x1) # 행렬 곱연산, 선형변환 적용\n",
    "x4 = np.dot(A, x2)\n",
    "origin = [0], [0]  # 벡터공간 원점 정의"
   ]
  },
  {
   "cell_type": "markdown",
   "id": "34691756-5bc9-46f1-aacc-0b9f311b7d2b",
   "metadata": {},
   "source": [
    "#### 변환전 벡터\n",
    "+ quiver 함수 : 그래프에 화살표 벡터를 표시\n",
    "+ quiver(원점, x좌표, y좌표, 색상, 각도, 단위)"
   ]
  },
  {
   "cell_type": "code",
   "execution_count": 95,
   "id": "19acba0c-be35-43a1-8e83-441e07ba85de",
   "metadata": {},
   "outputs": [
    {
     "data": {
      "image/png": "[encoded data removed]",
      "text/plain": [
       "<Figure size 432x288 with 1 Axes>"
      ]
     },
     "metadata": {
      "needs_background": "light"
     },
     "output_type": "display_data"
    }
   ],
   "source": [
    "plt.quiver(*origin, x1[0], x1[1], color = 'r', angles='xy', scale_units='xy', scale=1)\n",
    "plt.quiver(*origin, x2[0], x2[1], color = 'b', angles='xy', scale_units='xy', scale=1)\n",
    "# 변환후 벡터\n",
    "plt.quiver(*origin, x3[0], x3[1], color = 'k', angles='xy', scale_units='xy', scale=1)\n",
    "plt.quiver(*origin, x4[0], x4[1], color = 'k', alpha=0.5, angles='xy', scale_units='xy', scale=1)\n",
    "plt.xlim(-5, 5)\n",
    "plt.ylim(-5, 5)\n",
    "plt.grid(True)"
   ]
  },
  {
   "cell_type": "markdown",
   "id": "2d22cc3a-faba-4754-a7f9-1c7af6533472",
   "metadata": {},
   "source": [
    "#### numpy 함수로 고유값/고유벡터 알아내기"
   ]
  },
  {
   "cell_type": "code",
   "execution_count": 100,
   "id": "cbaf2225-b11f-4ea3-9409-d8b50f0ed439",
   "metadata": {},
   "outputs": [],
   "source": [
    "np.set_printoptions(formatter={'float_kind':'{:.0f}'.format}, suppress = True)"
   ]
  },
  {
   "cell_type": "code",
   "execution_count": 101,
   "id": "0fc4f779-fa55-4ec9-b00c-752112b83ad3",
   "metadata": {},
   "outputs": [
    {
     "data": {
      "text/plain": [
       "(array([4, 2]),\n",
       " array([[1, -1],\n",
       "        [1, 1]]))"
      ]
     },
     "execution_count": 101,
     "metadata": {},
     "output_type": "execute_result"
    }
   ],
   "source": [
    "A = np.array([[3,1],[1,3]])\n",
    "np.linalg.eig(A)"
   ]
  },
  {
   "cell_type": "code",
   "execution_count": 102,
   "id": "8ddd4e04-ed87-4587-967d-4883da9cd5f2",
   "metadata": {},
   "outputs": [
    {
     "data": {
      "text/plain": [
       "(array([4, 2]),\n",
       " array([[1, -1],\n",
       "        [1, 1]]))"
      ]
     },
     "execution_count": 102,
     "metadata": {},
     "output_type": "execute_result"
    }
   ],
   "source": [
    "A = np.array([[3,1],[1,3]])\n",
    "eigval, eigvec = np.linalg.eig(A)\n",
    "eigval, eigvec"
   ]
  },
  {
   "cell_type": "code",
   "execution_count": null,
   "id": "14a2d8f3-a362-497a-b18e-87935ed44652",
   "metadata": {},
   "outputs": [],
   "source": []
  },
  {
   "cell_type": "markdown",
   "id": "daabdc91-adf7-4a65-9a39-006acaee11f7",
   "metadata": {},
   "source": [
    "### 지도학습 데이터를 대상으로 차원축소하고 싶은 경우\n",
    "+ 선형판별분석 LDA"
   ]
  },
  {
   "cell_type": "code",
   "execution_count": null,
   "id": "b7c17b67-4af0-4c68-991f-60a7f0d4ed72",
   "metadata": {},
   "outputs": [],
   "source": []
  },
  {
   "cell_type": "code",
   "execution_count": null,
   "id": "0c339b4c-4750-456c-b646-3038af8612f9",
   "metadata": {},
   "outputs": [],
   "source": []
  }
 ],
 "metadata": {
  "kernelspec": {
   "display_name": "Python 3 (ipykernel)",
   "language": "python",
   "name": "python3"
  },
  "language_info": {
   "codemirror_mode": {
    "name": "ipython",
    "version": 3
   },
   "file_extension": ".py",
   "mimetype": "text/x-python",
   "name": "python",
   "nbconvert_exporter": "python",
   "pygments_lexer": "ipython3",
   "version": "3.7.10"
  }
 },
 "nbformat": 4,
 "nbformat_minor": 5
}
