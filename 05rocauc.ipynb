{
 "cells": [
  {
   "cell_type": "markdown",
   "id": "ae204a9d-b6c8-4dad-a889-e624750fa1e9",
   "metadata": {},
   "source": [
    "## ROC\n",
    "* 수신자 판단 곡선(receiver operation characteristc)\n",
    "* 세계 2차대전 통신장비 성능평가를 위해 고안된 수치\n",
    "    + 레이더데이터를 분석해서 적 항공기와 신호소음을 구분\n",
    "    + 수신기의 감도가 증가함에 따라 거짓긍정(특이성)의 수가 감소\n",
    "* 의학분야에 많이 사용되지만 머신러닝의 이진분류 모델 성능 평가에도 사용\n",
    "* ROC 곡선의 y축은 민감도, x축은 1-재현율로 그림\n",
    "* 모델이 양성/긍정으로 예측했을 때 얼마나 잘 맞추고 있는지 설명"
   ]
  },
  {
   "cell_type": "markdown",
   "id": "df7d9481-788b-4bd2-9700-e726907b5f1c",
   "metadata": {},
   "source": [
    "### 타이타닉 데이터셋을 로지스틱 회귀로 분석한 후 특이도/재현율을 구한 다음 ROC그래프 그리기"
   ]
  },
  {
   "cell_type": "code",
   "execution_count": 18,
   "id": "1868635f-29bc-4516-9369-6c1c458a7d79",
   "metadata": {},
   "outputs": [],
   "source": [
    "import numpy as np\n",
    "import pandas as pd\n",
    "import matplotlib.pyplot as plt\n",
    "import seaborn as sns\n",
    "import sklearn"
   ]
  },
  {
   "cell_type": "code",
   "execution_count": 19,
   "id": "8c5d13b2-e32e-4c46-9dc9-497a5561992c",
   "metadata": {},
   "outputs": [],
   "source": [
    "from sklearn.linear_model import LogisticRegression\n",
    "from sklearn.tree import DecisionTreeClassifier\n",
    "from sklearn.metrics import accuracy_score\n",
    "from sklearn.ensemble import RandomForestClassifier\n",
    "from sklearn.neighbors import KNeighborsClassifier\n",
    "from sklearn.model_selection import train_test_split\n",
    "from sklearn.model_selection import cross_val_score"
   ]
  },
  {
   "cell_type": "code",
   "execution_count": 12,
   "id": "7e6e1976-4f64-47d4-a581-c326cc0655f3",
   "metadata": {},
   "outputs": [
    {
     "data": {
      "text/html": [
       "<div>\n",
       "<style scoped>\n",
       "    .dataframe tbody tr th:only-of-type {\n",
       "        vertical-align: middle;\n",
       "    }\n",
       "\n",
       "    .dataframe tbody tr th {\n",
       "        vertical-align: top;\n",
       "    }\n",
       "\n",
       "    .dataframe thead th {\n",
       "        text-align: right;\n",
       "    }\n",
       "</style>\n",
       "<table border=\"1\" class=\"dataframe\">\n",
       "  <thead>\n",
       "    <tr style=\"text-align: right;\">\n",
       "      <th></th>\n",
       "      <th>pclass</th>\n",
       "      <th>survived</th>\n",
       "      <th>name</th>\n",
       "      <th>sex</th>\n",
       "      <th>age</th>\n",
       "      <th>sibsp</th>\n",
       "      <th>parch</th>\n",
       "      <th>ticket</th>\n",
       "      <th>fare</th>\n",
       "      <th>embarked</th>\n",
       "      <th>life</th>\n",
       "      <th>seat</th>\n",
       "      <th>port</th>\n",
       "    </tr>\n",
       "  </thead>\n",
       "  <tbody>\n",
       "    <tr>\n",
       "      <th>0</th>\n",
       "      <td>1</td>\n",
       "      <td>1</td>\n",
       "      <td>Allen, Miss. Elisabeth Walton</td>\n",
       "      <td>female</td>\n",
       "      <td>29.0000</td>\n",
       "      <td>0</td>\n",
       "      <td>0</td>\n",
       "      <td>24160</td>\n",
       "      <td>211.3375</td>\n",
       "      <td>S</td>\n",
       "      <td>live</td>\n",
       "      <td>1st</td>\n",
       "      <td>southampthon</td>\n",
       "    </tr>\n",
       "    <tr>\n",
       "      <th>1</th>\n",
       "      <td>1</td>\n",
       "      <td>1</td>\n",
       "      <td>Allison, Master. Hudson Trevor</td>\n",
       "      <td>male</td>\n",
       "      <td>0.9167</td>\n",
       "      <td>1</td>\n",
       "      <td>2</td>\n",
       "      <td>113781</td>\n",
       "      <td>151.5500</td>\n",
       "      <td>S</td>\n",
       "      <td>live</td>\n",
       "      <td>1st</td>\n",
       "      <td>southampthon</td>\n",
       "    </tr>\n",
       "    <tr>\n",
       "      <th>2</th>\n",
       "      <td>1</td>\n",
       "      <td>0</td>\n",
       "      <td>Allison, Miss. Helen Loraine</td>\n",
       "      <td>female</td>\n",
       "      <td>2.0000</td>\n",
       "      <td>1</td>\n",
       "      <td>2</td>\n",
       "      <td>113781</td>\n",
       "      <td>151.5500</td>\n",
       "      <td>S</td>\n",
       "      <td>dead</td>\n",
       "      <td>1st</td>\n",
       "      <td>southampthon</td>\n",
       "    </tr>\n",
       "    <tr>\n",
       "      <th>3</th>\n",
       "      <td>1</td>\n",
       "      <td>0</td>\n",
       "      <td>Allison, Mr. Hudson Joshua Creighton</td>\n",
       "      <td>male</td>\n",
       "      <td>30.0000</td>\n",
       "      <td>1</td>\n",
       "      <td>2</td>\n",
       "      <td>113781</td>\n",
       "      <td>151.5500</td>\n",
       "      <td>S</td>\n",
       "      <td>dead</td>\n",
       "      <td>1st</td>\n",
       "      <td>southampthon</td>\n",
       "    </tr>\n",
       "    <tr>\n",
       "      <th>4</th>\n",
       "      <td>1</td>\n",
       "      <td>0</td>\n",
       "      <td>Allison, Mrs. Hudson J C (Bessie Waldo Daniels)</td>\n",
       "      <td>female</td>\n",
       "      <td>25.0000</td>\n",
       "      <td>1</td>\n",
       "      <td>2</td>\n",
       "      <td>113781</td>\n",
       "      <td>151.5500</td>\n",
       "      <td>S</td>\n",
       "      <td>dead</td>\n",
       "      <td>1st</td>\n",
       "      <td>southampthon</td>\n",
       "    </tr>\n",
       "  </tbody>\n",
       "</table>\n",
       "</div>"
      ],
      "text/plain": [
       "   pclass  survived                                             name     sex  \\\n",
       "0       1         1                    Allen, Miss. Elisabeth Walton  female   \n",
       "1       1         1                   Allison, Master. Hudson Trevor    male   \n",
       "2       1         0                     Allison, Miss. Helen Loraine  female   \n",
       "3       1         0             Allison, Mr. Hudson Joshua Creighton    male   \n",
       "4       1         0  Allison, Mrs. Hudson J C (Bessie Waldo Daniels)  female   \n",
       "\n",
       "       age  sibsp  parch  ticket      fare embarked  life seat          port  \n",
       "0  29.0000      0      0   24160  211.3375        S  live  1st  southampthon  \n",
       "1   0.9167      1      2  113781  151.5500        S  live  1st  southampthon  \n",
       "2   2.0000      1      2  113781  151.5500        S  dead  1st  southampthon  \n",
       "3  30.0000      1      2  113781  151.5500        S  dead  1st  southampthon  \n",
       "4  25.0000      1      2  113781  151.5500        S  dead  1st  southampthon  "
      ]
     },
     "execution_count": 12,
     "metadata": {},
     "output_type": "execute_result"
    }
   ],
   "source": [
    "titanic = pd.read_csv('data/titanic.csv')\n",
    "titanic.head()"
   ]
  },
  {
   "cell_type": "code",
   "execution_count": 13,
   "id": "59c7687c-38d4-4fbd-a28c-3d77cbc959a5",
   "metadata": {},
   "outputs": [],
   "source": [
    "titanic['gender'] = titanic['sex'].apply(lambda x: 0 if x == 'female' else 1)"
   ]
  },
  {
   "cell_type": "code",
   "execution_count": 14,
   "id": "f0868004-86db-4829-8b0b-04c81b016aee",
   "metadata": {},
   "outputs": [],
   "source": [
    "titanic['harbor'] = titanic['embarked'].apply(lambda x: 0 if x == 'C' else (1 if x == 'S' else 2))"
   ]
  },
  {
   "cell_type": "code",
   "execution_count": 15,
   "id": "cb591389-b13a-4fca-829b-02081a310f30",
   "metadata": {},
   "outputs": [],
   "source": [
    "data = titanic.iloc[:,[0, 4, 5, 6, 8, 13, 14]]\n",
    "target = titanic.survived"
   ]
  },
  {
   "cell_type": "code",
   "execution_count": 17,
   "id": "8a890c40-81e1-48d6-9343-c65c553ea704",
   "metadata": {},
   "outputs": [],
   "source": [
    "titanic.to_csv('data/titanic3.csv', index=False)"
   ]
  },
  {
   "cell_type": "code",
   "execution_count": 20,
   "id": "8aebf32e-acad-4ee4-b2eb-ca72eb6230db",
   "metadata": {},
   "outputs": [],
   "source": [
    "Xtrain, Xtest, ytrain, ytest = train_test_split(data, target, train_size=0.7, random_state=2111050955)"
   ]
  },
  {
   "cell_type": "code",
   "execution_count": 21,
   "id": "f691a33e-fd9d-4424-9386-0c031381d8f3",
   "metadata": {},
   "outputs": [
    {
     "name": "stderr",
     "output_type": "stream",
     "text": [
      "/opt/miniconda3/lib/python3.7/site-packages/sklearn/linear_model/_logistic.py:818: ConvergenceWarning: lbfgs failed to converge (status=1):\n",
      "STOP: TOTAL NO. of ITERATIONS REACHED LIMIT.\n",
      "\n",
      "Increase the number of iterations (max_iter) or scale the data as shown in:\n",
      "    https://scikit-learn.org/stable/modules/preprocessing.html\n",
      "Please also refer to the documentation for alternative solver options:\n",
      "    https://scikit-learn.org/stable/modules/linear_model.html#logistic-regression\n",
      "  extra_warning_msg=_LOGISTIC_SOLVER_CONVERGENCE_MSG,\n"
     ]
    },
    {
     "data": {
      "text/plain": [
       "LogisticRegression()"
      ]
     },
     "execution_count": 21,
     "metadata": {},
     "output_type": "execute_result"
    }
   ],
   "source": [
    "lrclf = LogisticRegression()\n",
    "lrclf.fit(Xtrain, ytrain)"
   ]
  },
  {
   "cell_type": "code",
   "execution_count": 22,
   "id": "287f13c5-d5db-4b9a-916b-428f9a0ab28b",
   "metadata": {},
   "outputs": [],
   "source": [
    "pred = lrclf.predict(Xtest)"
   ]
  },
  {
   "cell_type": "code",
   "execution_count": 24,
   "id": "9bc8b14c-8456-4034-9459-0e2cd53907a6",
   "metadata": {},
   "outputs": [
    {
     "data": {
      "text/plain": [
       "0.7780612244897959"
      ]
     },
     "execution_count": 24,
     "metadata": {},
     "output_type": "execute_result"
    }
   ],
   "source": [
    "accuracy_score(ytest, pred)"
   ]
  },
  {
   "cell_type": "markdown",
   "id": "25abc434-3134-4f62-85c0-c93d5c0e08cd",
   "metadata": {},
   "source": [
    "### 분류 알고리즘 종류\n",
    "* 판별함수 모령\n",
    "    + 주어진 데이터를 범주에 따라 서로 다른 영역으로 나누는 경계면을 찾아낸 후 이 경계면을 기준으로 데이터가 어디에 속하는지 계산하는 함수 이용\n",
    "* 확률적 판별/생성 모형\n",
    "    + 주어진 데이터의 각 범주/레이블이 정답일 조건부확률 계산법에 따라 조건부함수를 추정하거나 베이즈 정리를 사용해서 분류하는 모형\n",
    "* 분류기의 예측 불확실성을 추정하려면 scikit-learn에서 제공하는 2가지 함수 사용\n",
    "#### predict / predict_proba"
   ]
  },
  {
   "cell_type": "markdown",
   "id": "3aef80ca-3ea7-4d40-a6ab-829853b4e4ba",
   "metadata": {},
   "source": [
    "### 타이타닉 생존 예측확률 알아보기 1"
   ]
  },
  {
   "cell_type": "code",
   "execution_count": 26,
   "id": "a4747c25-ec1c-496f-9f6d-e36b69409990",
   "metadata": {},
   "outputs": [
    {
     "data": {
      "text/html": [
       "<div>\n",
       "<style scoped>\n",
       "    .dataframe tbody tr th:only-of-type {\n",
       "        vertical-align: middle;\n",
       "    }\n",
       "\n",
       "    .dataframe tbody tr th {\n",
       "        vertical-align: top;\n",
       "    }\n",
       "\n",
       "    .dataframe thead th {\n",
       "        text-align: right;\n",
       "    }\n",
       "</style>\n",
       "<table border=\"1\" class=\"dataframe\">\n",
       "  <thead>\n",
       "    <tr style=\"text-align: right;\">\n",
       "      <th></th>\n",
       "      <th>pclass</th>\n",
       "      <th>age</th>\n",
       "      <th>sibsp</th>\n",
       "      <th>parch</th>\n",
       "      <th>fare</th>\n",
       "      <th>gender</th>\n",
       "      <th>harbor</th>\n",
       "    </tr>\n",
       "  </thead>\n",
       "  <tbody>\n",
       "    <tr>\n",
       "      <th>332</th>\n",
       "      <td>2</td>\n",
       "      <td>28.000000</td>\n",
       "      <td>0</td>\n",
       "      <td>0</td>\n",
       "      <td>10.50</td>\n",
       "      <td>1</td>\n",
       "      <td>1</td>\n",
       "    </tr>\n",
       "    <tr>\n",
       "      <th>164</th>\n",
       "      <td>1</td>\n",
       "      <td>35.000000</td>\n",
       "      <td>0</td>\n",
       "      <td>0</td>\n",
       "      <td>26.55</td>\n",
       "      <td>1</td>\n",
       "      <td>0</td>\n",
       "    </tr>\n",
       "    <tr>\n",
       "      <th>1289</th>\n",
       "      <td>3</td>\n",
       "      <td>29.881135</td>\n",
       "      <td>0</td>\n",
       "      <td>0</td>\n",
       "      <td>7.55</td>\n",
       "      <td>1</td>\n",
       "      <td>1</td>\n",
       "    </tr>\n",
       "    <tr>\n",
       "      <th>1279</th>\n",
       "      <td>3</td>\n",
       "      <td>29.881135</td>\n",
       "      <td>0</td>\n",
       "      <td>0</td>\n",
       "      <td>8.05</td>\n",
       "      <td>1</td>\n",
       "      <td>1</td>\n",
       "    </tr>\n",
       "    <tr>\n",
       "      <th>1001</th>\n",
       "      <td>3</td>\n",
       "      <td>29.881135</td>\n",
       "      <td>2</td>\n",
       "      <td>0</td>\n",
       "      <td>23.25</td>\n",
       "      <td>1</td>\n",
       "      <td>2</td>\n",
       "    </tr>\n",
       "  </tbody>\n",
       "</table>\n",
       "</div>"
      ],
      "text/plain": [
       "      pclass        age  sibsp  parch   fare  gender  harbor\n",
       "332        2  28.000000      0      0  10.50       1       1\n",
       "164        1  35.000000      0      0  26.55       1       0\n",
       "1289       3  29.881135      0      0   7.55       1       1\n",
       "1279       3  29.881135      0      0   8.05       1       1\n",
       "1001       3  29.881135      2      0  23.25       1       2"
      ]
     },
     "execution_count": 26,
     "metadata": {},
     "output_type": "execute_result"
    }
   ],
   "source": [
    "Xtest[:5]"
   ]
  },
  {
   "cell_type": "code",
   "execution_count": 27,
   "id": "166d5fa4-cb5e-4a1d-ad66-f01f7f0e7309",
   "metadata": {},
   "outputs": [
    {
     "data": {
      "text/plain": [
       "array([0, 0, 0, 0, 0])"
      ]
     },
     "execution_count": 27,
     "metadata": {},
     "output_type": "execute_result"
    }
   ],
   "source": [
    "lrclf.predict(Xtest[:5])  # 예측결과는 이산형 값으로 출력"
   ]
  },
  {
   "cell_type": "markdown",
   "id": "7e69cc80-1cc2-4bc7-bb7b-1f2839322134",
   "metadata": {},
   "source": [
    "### 타이타닉 생존 예측확률 알아보기 2"
   ]
  },
  {
   "cell_type": "code",
   "execution_count": 31,
   "id": "c7c85372-2a58-43bc-aa40-4d259f3c2248",
   "metadata": {},
   "outputs": [
    {
     "data": {
      "text/plain": [
       "array([[0.75907372, 0.24092628],\n",
       "       [0.53317206, 0.46682794],\n",
       "       [0.90039215, 0.09960785],\n",
       "       [0.90023582, 0.09976418],\n",
       "       [0.95356543, 0.04643457]])"
      ]
     },
     "execution_count": 31,
     "metadata": {},
     "output_type": "execute_result"
    }
   ],
   "source": [
    "lrclf.predict_proba(Xtest[:5]) # 예측결과는 확률수치로 출력"
   ]
  },
  {
   "cell_type": "markdown",
   "id": "56eb97eb-937f-4449-9be4-791e8cdc3d22",
   "metadata": {},
   "source": [
    "### 확률적 판별/생성 모형을 통해 특이도에 따른 재현율의 변화를 살펴봄 "
   ]
  },
  {
   "cell_type": "code",
   "execution_count": 34,
   "id": "f3233952-4ac4-471e-bf3d-81f4f6ac2461",
   "metadata": {},
   "outputs": [
    {
     "data": {
      "text/plain": [
       "array([[0.75907372, 0.24092628],\n",
       "       [0.53317206, 0.46682794],\n",
       "       [0.90039215, 0.09960785],\n",
       "       [0.90023582, 0.09976418],\n",
       "       [0.95356543, 0.04643457]])"
      ]
     },
     "execution_count": 34,
     "metadata": {},
     "output_type": "execute_result"
    }
   ],
   "source": [
    "lrclf.predict_proba(Xtest)[:5]\n"
   ]
  },
  {
   "cell_type": "markdown",
   "id": "3eecaa0e-2c88-4f3e-a39c-2205a70cbeef",
   "metadata": {},
   "source": [
    "### 결과에서 negative한 열을 추출함 : 특이도를 알아보기 위함"
   ]
  },
  {
   "cell_type": "code",
   "execution_count": 36,
   "id": "ef4e903a-a798-4457-9d45-37baf36876a4",
   "metadata": {},
   "outputs": [
    {
     "data": {
      "text/plain": [
       "(392,)"
      ]
     },
     "execution_count": 36,
     "metadata": {},
     "output_type": "execute_result"
    }
   ],
   "source": [
    "pred_proba = lrclf.predict_proba(Xtest)[:,1]\n",
    "pred_proba.shape # 예측확률 건수 -> 392"
   ]
  },
  {
   "cell_type": "markdown",
   "id": "81ab662b-60c1-4244-a88d-95a07e589234",
   "metadata": {},
   "source": [
    "### 실제값, 확률값, 예측값을 하나의 데이터프레임에 작성"
   ]
  },
  {
   "cell_type": "code",
   "execution_count": 40,
   "id": "3d706ceb-b056-4e62-bcf7-fbbac2d59e74",
   "metadata": {},
   "outputs": [
    {
     "data": {
      "text/html": [
       "<div>\n",
       "<style scoped>\n",
       "    .dataframe tbody tr th:only-of-type {\n",
       "        vertical-align: middle;\n",
       "    }\n",
       "\n",
       "    .dataframe tbody tr th {\n",
       "        vertical-align: top;\n",
       "    }\n",
       "\n",
       "    .dataframe thead th {\n",
       "        text-align: right;\n",
       "    }\n",
       "</style>\n",
       "<table border=\"1\" class=\"dataframe\">\n",
       "  <thead>\n",
       "    <tr style=\"text-align: right;\">\n",
       "      <th></th>\n",
       "      <th>ytest</th>\n",
       "      <th>FP proba</th>\n",
       "      <th>pred</th>\n",
       "    </tr>\n",
       "  </thead>\n",
       "  <tbody>\n",
       "    <tr>\n",
       "      <th>332</th>\n",
       "      <td>0</td>\n",
       "      <td>0.240926</td>\n",
       "      <td>0</td>\n",
       "    </tr>\n",
       "    <tr>\n",
       "      <th>164</th>\n",
       "      <td>1</td>\n",
       "      <td>0.466828</td>\n",
       "      <td>0</td>\n",
       "    </tr>\n",
       "    <tr>\n",
       "      <th>1289</th>\n",
       "      <td>0</td>\n",
       "      <td>0.099608</td>\n",
       "      <td>0</td>\n",
       "    </tr>\n",
       "    <tr>\n",
       "      <th>1279</th>\n",
       "      <td>0</td>\n",
       "      <td>0.099764</td>\n",
       "      <td>0</td>\n",
       "    </tr>\n",
       "    <tr>\n",
       "      <th>1001</th>\n",
       "      <td>1</td>\n",
       "      <td>0.046435</td>\n",
       "      <td>0</td>\n",
       "    </tr>\n",
       "  </tbody>\n",
       "</table>\n",
       "</div>"
      ],
      "text/plain": [
       "      ytest  FP proba  pred\n",
       "332       0  0.240926     0\n",
       "164       1  0.466828     0\n",
       "1289      0  0.099608     0\n",
       "1279      0  0.099764     0\n",
       "1001      1  0.046435     0"
      ]
     },
     "execution_count": 40,
     "metadata": {},
     "output_type": "execute_result"
    }
   ],
   "source": [
    "df = pd.DataFrame()\n",
    "df['ytest'] = ytest  # 실제값\n",
    "df['FP proba'] = pred_proba  # 특이도FP 확률\n",
    "df['pred'] = pred  # 예측값\n",
    "df.head()"
   ]
  },
  {
   "cell_type": "markdown",
   "id": "6284d52d-8eee-437a-a519-82bbd8b9d59c",
   "metadata": {},
   "source": [
    "### 각 예측확률별 특이도(1-FPR)와 민감도(TPR), 임계값을 구함\n",
    "+ 즉, 생존했는데 사망햇다고 예측한 비율과\n",
    "+ 사망했는데 사망했다고 예측한 비율을 판단할 때의 경계값을 살펴봄"
   ]
  },
  {
   "cell_type": "code",
   "execution_count": 41,
   "id": "e4f8dac5-2b7d-40f8-bbb1-0b4f1d19f308",
   "metadata": {},
   "outputs": [],
   "source": [
    "from sklearn.metrics import roc_curve"
   ]
  },
  {
   "cell_type": "code",
   "execution_count": 42,
   "id": "275775a2-54af-468e-8256-1f8ef6d2aad2",
   "metadata": {},
   "outputs": [],
   "source": [
    "fprs,tprs, thresholds = roc_curve(ytest, pred_proba)"
   ]
  },
  {
   "cell_type": "code",
   "execution_count": 46,
   "id": "ba72c6b8-447b-4a8b-80f9-323c666ef296",
   "metadata": {},
   "outputs": [
    {
     "name": "stdout",
     "output_type": "stream",
     "text": [
      "음성판단 [0.         0.00396825 0.00396825 0.00396825 0.00396825 0.00793651\n",
      " 0.00793651 0.01587302 0.01587302 0.01587302] (147,)\n",
      "양성판단 [0.         0.         0.24285714 0.25714286 0.27857143 0.28571429\n",
      " 0.33571429 0.33571429 0.35714286 0.36428571] (147,)\n"
     ]
    }
   ],
   "source": [
    "print('음성판단', fprs[:10], fprs.shape)\n",
    "print('양성판단', tprs[:10], fprs.shape)"
   ]
  },
  {
   "cell_type": "code",
   "execution_count": 53,
   "id": "8a320bf8-b159-41ce-9681-dc9bdda17734",
   "metadata": {},
   "outputs": [
    {
     "data": {
      "text/html": [
       "<div>\n",
       "<style scoped>\n",
       "    .dataframe tbody tr th:only-of-type {\n",
       "        vertical-align: middle;\n",
       "    }\n",
       "\n",
       "    .dataframe tbody tr th {\n",
       "        vertical-align: top;\n",
       "    }\n",
       "\n",
       "    .dataframe thead th {\n",
       "        text-align: right;\n",
       "    }\n",
       "</style>\n",
       "<table border=\"1\" class=\"dataframe\">\n",
       "  <thead>\n",
       "    <tr style=\"text-align: right;\">\n",
       "      <th></th>\n",
       "      <th>1-FPR</th>\n",
       "      <th>TPR</th>\n",
       "      <th>Threshold</th>\n",
       "    </tr>\n",
       "  </thead>\n",
       "  <tbody>\n",
       "    <tr>\n",
       "      <th>0</th>\n",
       "      <td>0.000000</td>\n",
       "      <td>0.000000</td>\n",
       "      <td>1.966147</td>\n",
       "    </tr>\n",
       "    <tr>\n",
       "      <th>1</th>\n",
       "      <td>0.003968</td>\n",
       "      <td>0.000000</td>\n",
       "      <td>0.966147</td>\n",
       "    </tr>\n",
       "    <tr>\n",
       "      <th>2</th>\n",
       "      <td>0.003968</td>\n",
       "      <td>0.242857</td>\n",
       "      <td>0.815685</td>\n",
       "    </tr>\n",
       "    <tr>\n",
       "      <th>3</th>\n",
       "      <td>0.003968</td>\n",
       "      <td>0.257143</td>\n",
       "      <td>0.811800</td>\n",
       "    </tr>\n",
       "    <tr>\n",
       "      <th>4</th>\n",
       "      <td>0.003968</td>\n",
       "      <td>0.278571</td>\n",
       "      <td>0.805134</td>\n",
       "    </tr>\n",
       "  </tbody>\n",
       "</table>\n",
       "</div>"
      ],
      "text/plain": [
       "      1-FPR       TPR  Threshold\n",
       "0  0.000000  0.000000   1.966147\n",
       "1  0.003968  0.000000   0.966147\n",
       "2  0.003968  0.242857   0.815685\n",
       "3  0.003968  0.257143   0.811800\n",
       "4  0.003968  0.278571   0.805134"
      ]
     },
     "execution_count": 53,
     "metadata": {},
     "output_type": "execute_result"
    }
   ],
   "source": [
    "roc = pd.DataFrame({'1-FPR':fprs, 'TPR':tprs, 'Threshold':thresholds})\n",
    "roc.head()"
   ]
  },
  {
   "cell_type": "markdown",
   "id": "09491c5f-1851-485a-9f3d-498d57391191",
   "metadata": {},
   "source": [
    "### fpr과 tpr의 수치 시각화"
   ]
  },
  {
   "cell_type": "code",
   "execution_count": 54,
   "id": "3fbef14e-806a-4a2b-acb1-db0f01c2cce0",
   "metadata": {},
   "outputs": [
    {
     "data": {
      "text/plain": [
       "<seaborn.axisgrid.FacetGrid at 0x7f43c60a5d90>"
      ]
     },
     "execution_count": 54,
     "metadata": {},
     "output_type": "execute_result"
    },
    {
     "data": {
      "image/png": "[encoded data removed]",
      "text/plain": [
       "<Figure size 424.625x360 with 1 Axes>"
      ]
     },
     "metadata": {
      "needs_background": "light"
     },
     "output_type": "display_data"
    }
   ],
   "source": [
    "sns.displot(roc.iloc[:, [0,1]], kind='kde')"
   ]
  },
  {
   "cell_type": "markdown",
   "id": "5056e9d3-f0f6-40d0-9fba-587eb6d5073e",
   "metadata": {},
   "source": [
    "#### 1-fpr 과 tpr의 수치 시각화\n",
    "#### TPR 곡선과 1-FPR 곡선이 서로 겹칠수록 분류기의 성능은 떨어짐"
   ]
  },
  {
   "cell_type": "code",
   "execution_count": 55,
   "id": "a8f191ab-9e20-44b6-be74-f68b7397c069",
   "metadata": {},
   "outputs": [
    {
     "data": {
      "text/plain": [
       "<seaborn.axisgrid.FacetGrid at 0x7f43c6013190>"
      ]
     },
     "execution_count": 55,
     "metadata": {},
     "output_type": "execute_result"
    },
    {
     "data": {
      "image/png": "[encoded data removed]",
      "text/plain": [
       "<Figure size 424.625x360 with 1 Axes>"
      ]
     },
     "metadata": {
      "needs_background": "light"
     },
     "output_type": "display_data"
    }
   ],
   "source": [
    "sns.displot(roc.iloc[:, [0,1]], kind='kde')"
   ]
  },
  {
   "cell_type": "markdown",
   "id": "65a2001a-df77-40e0-b66b-e23d25bb7a3b",
   "metadata": {},
   "source": [
    "### 최적의 임계값 살펴보기"
   ]
  },
  {
   "cell_type": "code",
   "execution_count": 56,
   "id": "0f2a4ee0-1161-423e-a022-1e0fdc565dc5",
   "metadata": {},
   "outputs": [
    {
     "data": {
      "text/plain": [
       "36"
      ]
     },
     "execution_count": 56,
     "metadata": {},
     "output_type": "execute_result"
    }
   ],
   "source": [
    "optidx = np.argmax(tprs-fprs)\n",
    "optths = thresholds[optidx]\n",
    "optths "
   ]
  },
  {
   "cell_type": "markdown",
   "id": "5989f4f2-f7ce-417a-a37d-14a42d9d5a32",
   "metadata": {},
   "source": [
    "### ROC 그래프 그림\n",
    "* 커브가 왼쪽 최상단에 붙을수록 좋은 분류기"
   ]
  },
  {
   "cell_type": "code",
   "execution_count": 58,
   "id": "54ad812f-b35d-4830-93fd-eccbf75b1d2b",
   "metadata": {},
   "outputs": [
    {
     "data": {
      "text/plain": [
       "<matplotlib.legend.Legend at 0x7f43c5eab690>"
      ]
     },
     "execution_count": 58,
     "metadata": {},
     "output_type": "execute_result"
    },
    {
     "data": {
      "image/png": "[encoded data removed]",
      "text/plain": [
       "<Figure size 432x288 with 1 Axes>"
      ]
     },
     "metadata": {
      "needs_background": "light"
     },
     "output_type": "display_data"
    }
   ],
   "source": [
    "plt.plot(fprs, tprs, 'r', label='ROC')\n",
    "plt.plot([0,1],[0,1], 'k--')\n",
    "plt.legend()\n",
    "# x축이 fpr"
   ]
  },
  {
   "cell_type": "markdown",
   "id": "3b1a3e64-1cf2-416e-a572-17a1612427f7",
   "metadata": {},
   "source": [
    "### AUC\n",
    "* 0.7 ~ 0.8 : normal\n",
    "* 0.8 ~ 0.9 : good\n",
    "* 0.9 ~ 1 : excellent"
   ]
  },
  {
   "cell_type": "code",
   "execution_count": 59,
   "id": "a9989c1e-28dd-457d-8bef-2b69939a1d55",
   "metadata": {},
   "outputs": [],
   "source": [
    "from sklearn.metrics import roc_auc_score"
   ]
  },
  {
   "cell_type": "code",
   "execution_count": 60,
   "id": "df722c71-8f5e-4d58-8ebb-e517c9791c5c",
   "metadata": {},
   "outputs": [
    {
     "data": {
      "text/plain": [
       "0.7416666666666667"
      ]
     },
     "execution_count": 60,
     "metadata": {},
     "output_type": "execute_result"
    }
   ],
   "source": [
    "roc_auc_score(ytest, pred)"
   ]
  },
  {
   "cell_type": "markdown",
   "id": "5c2b0022-67c0-4491-8d53-3a88dddaeb0c",
   "metadata": {},
   "source": [
    "### 사망 건수가 생존에 비해 높기 때문에 모델의 설명력이 높지 않음"
   ]
  },
  {
   "cell_type": "markdown",
   "id": "da58048b-d46f-4e51-901c-c1ad444563d2",
   "metadata": {},
   "source": [
    "<img src='img/thredhold2low.gif'>"
   ]
  },
  {
   "cell_type": "markdown",
   "id": "a042d843-60ef-448a-b579-2837dd52be2b",
   "metadata": {},
   "source": [
    "<img src='img/thredhold2high.gif'>"
   ]
  },
  {
   "cell_type": "markdown",
   "id": "a9d692f1-b0df-49b0-b76d-cc5188f66eb5",
   "metadata": {},
   "source": [
    "<img src='img/thredhold2curve.gif'>"
   ]
  },
  {
   "cell_type": "markdown",
   "id": "18ba29b1-caf1-42eb-939d-d095102dfd73",
   "metadata": {},
   "source": [
    "<img src='img/roc2good.gif'>"
   ]
  },
  {
   "cell_type": "code",
   "execution_count": null,
   "id": "5a5aac01-c7a9-44fa-bfd3-964d7cfa7fd7",
   "metadata": {},
   "outputs": [],
   "source": []
  },
  {
   "cell_type": "code",
   "execution_count": null,
   "id": "20e98958-23c6-41ce-b9be-478d199e5ff5",
   "metadata": {},
   "outputs": [],
   "source": []
  },
  {
   "cell_type": "code",
   "execution_count": null,
   "id": "7803d3fa-bf77-4ef2-ac24-a23d53ed38f3",
   "metadata": {},
   "outputs": [],
   "source": []
  },
  {
   "cell_type": "code",
   "execution_count": null,
   "id": "dca2e58c-fced-44ed-bc64-8e92cb08c0c6",
   "metadata": {},
   "outputs": [],
   "source": []
  },
  {
   "cell_type": "code",
   "execution_count": null,
   "id": "55a179e5-5f15-4f5c-a565-9eabaae31a0d",
   "metadata": {},
   "outputs": [],
   "source": []
  },
  {
   "cell_type": "code",
   "execution_count": null,
   "id": "fcd5392b-bff1-4202-a13c-c7e95d3f5fac",
   "metadata": {},
   "outputs": [],
   "source": []
  },
  {
   "cell_type": "code",
   "execution_count": null,
   "id": "0e55d4a5-edc5-4136-860d-5559b62de21e",
   "metadata": {},
   "outputs": [],
   "source": []
  },
  {
   "cell_type": "code",
   "execution_count": null,
   "id": "b6239e5e-863e-44c1-8686-cfc2f7ded415",
   "metadata": {},
   "outputs": [],
   "source": []
  },
  {
   "cell_type": "code",
   "execution_count": null,
   "id": "76bc0910-717f-483f-ae99-c62c3476fa54",
   "metadata": {},
   "outputs": [],
   "source": []
  },
  {
   "cell_type": "code",
   "execution_count": null,
   "id": "8d16a1cf-837b-4fbf-8b36-c751be16beaf",
   "metadata": {},
   "outputs": [],
   "source": []
  },
  {
   "cell_type": "code",
   "execution_count": null,
   "id": "dc422e06-0165-4de7-a8ef-f591bbb38dd7",
   "metadata": {},
   "outputs": [],
   "source": []
  },
  {
   "cell_type": "code",
   "execution_count": null,
   "id": "38f12cd0-1c3e-4b50-93a1-f25785fca439",
   "metadata": {},
   "outputs": [],
   "source": []
  },
  {
   "cell_type": "code",
   "execution_count": null,
   "id": "2276c32f-b446-4ed8-8455-671e75f2aaf5",
   "metadata": {},
   "outputs": [],
   "source": []
  }
 ],
 "metadata": {
  "kernelspec": {
   "display_name": "Python 3 (ipykernel)",
   "language": "python",
   "name": "python3"
  },
  "language_info": {
   "codemirror_mode": {
    "name": "ipython",
    "version": 3
   },
   "file_extension": ".py",
   "mimetype": "text/x-python",
   "name": "python",
   "nbconvert_exporter": "python",
   "pygments_lexer": "ipython3",
   "version": "3.7.10"
  }
 },
 "nbformat": 4,
 "nbformat_minor": 5
}
