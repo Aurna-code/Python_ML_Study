{
 "cells": [
  {
   "cell_type": "code",
   "execution_count": 1,
   "id": "cd6d7a55-26fb-471d-a602-f81f5c23b4a2",
   "metadata": {},
   "outputs": [],
   "source": [
    "import numpy as np\n",
    "import pandas as pd\n",
    "import matplotlib.pyplot as plt\n",
    "import sklearn"
   ]
  },
  {
   "cell_type": "markdown",
   "id": "38c2ae9f-63b2-44ae-bfc5-2f6519c1c8ee",
   "metadata": {},
   "source": [
    "## 훈련과 테스트 데이터\n",
    "+ 머신러닝 모델을 만들기 위해서는 훈련(학습)에 필요한 데이터집합이 있어야 함\n",
    "+ 그러나 전체 데이터 모두를 학습에 사용하면 과적합 문제 발생"
   ]
  },
  {
   "cell_type": "markdown",
   "id": "eae00704-5ca3-45f0-b9fb-6c4df786a783",
   "metadata": {},
   "source": [
    "### train/test 데이터 분할의 필요성 알아보기"
   ]
  },
  {
   "cell_type": "code",
   "execution_count": 3,
   "id": "abf30fbf-55de-486b-abc1-54ee356d56b0",
   "metadata": {},
   "outputs": [],
   "source": [
    "from sklearn.datasets import load_iris\n",
    "from sklearn.tree import DecisionTreeClassifier\n",
    "from sklearn.metrics import accuracy_score"
   ]
  },
  {
   "cell_type": "markdown",
   "id": "d417152c-6792-43ad-be5c-d2c2eb07568c",
   "metadata": {},
   "source": [
    "#### 데이터 적재"
   ]
  },
  {
   "cell_type": "code",
   "execution_count": 6,
   "id": "f12fc056-589e-49c9-8b9b-8cf763a36d80",
   "metadata": {},
   "outputs": [],
   "source": [
    "iris = load_iris()\n",
    "data = iris.data  # 특성/독립변수\n",
    "label = iris.target  # 레이블/종속변수"
   ]
  },
  {
   "cell_type": "markdown",
   "id": "f6efad51-9d5d-4943-988c-bf57f3d1c707",
   "metadata": {},
   "source": [
    "#### 주어진 변수들로 의사결정나무 모델 생성을 위한 학습(fit)"
   ]
  },
  {
   "cell_type": "code",
   "execution_count": 7,
   "id": "2fa51152-9bb4-480c-8f9a-8fd9cb98b11a",
   "metadata": {},
   "outputs": [
    {
     "data": {
      "text/plain": [
       "DecisionTreeClassifier()"
      ]
     },
     "execution_count": 7,
     "metadata": {},
     "output_type": "execute_result"
    }
   ],
   "source": [
    "dtclf = DecisionTreeClassifier()\n",
    "dtclf.fit(data, label)"
   ]
  },
  {
   "cell_type": "markdown",
   "id": "ea0ed602-97a7-4857-920f-fb38cbabb4b0",
   "metadata": {},
   "source": [
    "#### 생성된 모델에 기존 변수를 이용해서 예측(predict)"
   ]
  },
  {
   "cell_type": "code",
   "execution_count": 8,
   "id": "98e29795-e0ea-483e-89b7-c5ccd194db7e",
   "metadata": {},
   "outputs": [],
   "source": [
    "pred = dtclf.predict(data)"
   ]
  },
  {
   "cell_type": "markdown",
   "id": "f8f282bf-e74a-4206-a9e0-92494b059430",
   "metadata": {},
   "source": [
    "#### 예측값과 실제를 비교하여 정확도 측정"
   ]
  },
  {
   "cell_type": "code",
   "execution_count": 9,
   "id": "c4a39d39-3ddb-42f4-8b60-f1b6e4b34c34",
   "metadata": {},
   "outputs": [
    {
     "data": {
      "text/plain": [
       "1.0"
      ]
     },
     "execution_count": 9,
     "metadata": {},
     "output_type": "execute_result"
    }
   ],
   "source": [
    "accuracy_score(label, pred)"
   ]
  },
  {
   "cell_type": "markdown",
   "id": "266e1b8b-f62c-4c89-82b0-2394a79f1efc",
   "metadata": {},
   "source": [
    "### 모델을 학습할 때 사용한 데이터를 모델을 평가할 때도 사용함 -> 정확도 : 1 -> 과적합"
   ]
  },
  {
   "cell_type": "markdown",
   "id": "56540543-2f4c-41e6-a387-e667ea659261",
   "metadata": {},
   "source": [
    "### 데이터를 학습용/평가용 데이터로 분할 1\n",
    "+ 분할 비율 = 7 : 3\n",
    "+ iris 데이터 건수 : 150 -> 105 : 45"
   ]
  },
  {
   "cell_type": "code",
   "execution_count": 11,
   "id": "bdff9930-3c98-493d-a2f8-b4680938316e",
   "metadata": {},
   "outputs": [],
   "source": [
    "train_data = iris.data[:105, ]\n",
    "test_data = iris.data[105:, ]\n",
    "train_target = iris.target[:105, ]\n",
    "test_target = iris.target[105:, ]"
   ]
  },
  {
   "cell_type": "code",
   "execution_count": 12,
   "id": "160cc838-209f-4347-bcfb-5c90256b3d1f",
   "metadata": {},
   "outputs": [
    {
     "data": {
      "text/plain": [
       "DecisionTreeClassifier()"
      ]
     },
     "execution_count": 12,
     "metadata": {},
     "output_type": "execute_result"
    }
   ],
   "source": [
    "dtclf = DecisionTreeClassifier()\n",
    "dtclf.fit(train_data, train_target)"
   ]
  },
  {
   "cell_type": "code",
   "execution_count": 13,
   "id": "e97e4f95-5287-4e41-a2c3-c01c5cbaef12",
   "metadata": {},
   "outputs": [],
   "source": [
    "pred = dtclf.predict(test_data)"
   ]
  },
  {
   "cell_type": "code",
   "execution_count": 14,
   "id": "419fb52c-d91f-40b3-80f9-765e6a94cff4",
   "metadata": {},
   "outputs": [
    {
     "data": {
      "text/plain": [
       "0.7333333333333333"
      ]
     },
     "execution_count": 14,
     "metadata": {},
     "output_type": "execute_result"
    }
   ],
   "source": [
    "accuracy_score(test_target, pred)"
   ]
  },
  {
   "cell_type": "markdown",
   "id": "27cd3bd2-8cd3-49c3-8c4e-6a2a9a614054",
   "metadata": {},
   "source": [
    "### 데이터분할이 잘 되었는지 확인"
   ]
  },
  {
   "cell_type": "code",
   "execution_count": 17,
   "id": "8274f3a9-bc95-4e5e-a600-56f9d8785e65",
   "metadata": {},
   "outputs": [
    {
     "data": {
      "text/plain": [
       "0    50\n",
       "1    50\n",
       "2     5\n",
       "dtype: int64"
      ]
     },
     "execution_count": 17,
     "metadata": {},
     "output_type": "execute_result"
    }
   ],
   "source": [
    "pd.Series(train_target).value_counts()"
   ]
  },
  {
   "cell_type": "code",
   "execution_count": 18,
   "id": "35e21241-d801-4d55-8171-1185541d8129",
   "metadata": {},
   "outputs": [
    {
     "data": {
      "text/plain": [
       "2    45\n",
       "dtype: int64"
      ]
     },
     "execution_count": 18,
     "metadata": {},
     "output_type": "execute_result"
    }
   ],
   "source": [
    "pd.Series(test_target).value_counts()"
   ]
  },
  {
   "cell_type": "code",
   "execution_count": 19,
   "id": "07c14852-421e-4629-804b-d266e67c1712",
   "metadata": {},
   "outputs": [
    {
     "data": {
      "text/plain": [
       "array([0, 0, 0, 0, 0, 0, 0, 0, 0, 0, 0, 0, 0, 0, 0, 0, 0, 0, 0, 0, 0, 0,\n",
       "       0, 0, 0, 0, 0, 0, 0, 0, 0, 0, 0, 0, 0, 0, 0, 0, 0, 0, 0, 0, 0, 0,\n",
       "       0, 0, 0, 0, 0, 0, 1, 1, 1, 1, 1, 1, 1, 1, 1, 1, 1, 1, 1, 1, 1, 1,\n",
       "       1, 1, 1, 1, 1, 1, 1, 1, 1, 1, 1, 1, 1, 1, 1, 1, 1, 1, 1, 1, 1, 1,\n",
       "       1, 1, 1, 1, 1, 1, 1, 1, 1, 1, 1, 1, 2, 2, 2, 2, 2])"
      ]
     },
     "execution_count": 19,
     "metadata": {},
     "output_type": "execute_result"
    }
   ],
   "source": [
    "train_target"
   ]
  },
  {
   "cell_type": "code",
   "execution_count": 20,
   "id": "335fc402-103d-45c1-8e40-dab6755b740f",
   "metadata": {},
   "outputs": [
    {
     "data": {
      "text/plain": [
       "array([2, 2, 2, 2, 2, 2, 2, 2, 2, 2, 2, 2, 2, 2, 2, 2, 2, 2, 2, 2, 2, 2,\n",
       "       2, 2, 2, 2, 2, 2, 2, 2, 2, 2, 2, 2, 2, 2, 2, 2, 2, 2, 2, 2, 2, 2,\n",
       "       2])"
      ]
     },
     "execution_count": 20,
     "metadata": {},
     "output_type": "execute_result"
    }
   ],
   "source": [
    "test_target"
   ]
  },
  {
   "cell_type": "markdown",
   "id": "3519baf8-4543-4c06-a199-d44763688226",
   "metadata": {},
   "source": [
    "### 데이터를 앞에서부터 순서대로 나눴기 때문에 종속변수의 비율이 일정하지 않음"
   ]
  },
  {
   "cell_type": "markdown",
   "id": "26ce288d-5f3c-4409-ba25-c3f5aac6f021",
   "metadata": {},
   "source": [
    "#### setosa, versicolor, verginica의 비율이 모두 같아야 하나 train에는 setosa, versicolor 위주로 test에는 verginica 위주로 데이터가 분할됨"
   ]
  },
  {
   "cell_type": "markdown",
   "id": "ccbca5bf-e779-4515-b8d2-af4da9d1bfc0",
   "metadata": {},
   "source": [
    "### 데이터를 학습용/평가용 데이터로 분할 2\n",
    "+ 독립변수의 속성들의 분포를 고려한 표본추출 필요\n",
    "    - sklearn의 train_test_split 함수 사용\n",
    "+ train_test_split(독립변수, 종속변수, 훈련데이터크기, 평가데이터크기, 계층추출여부(분류용), 시드값)"
   ]
  },
  {
   "cell_type": "code",
   "execution_count": 21,
   "id": "930943b8-6e0d-44c4-8f9d-aa72a348d69a",
   "metadata": {},
   "outputs": [],
   "source": [
    "from sklearn.model_selection import train_test_split"
   ]
  },
  {
   "cell_type": "code",
   "execution_count": 30,
   "id": "64d27d1c-af8a-4523-9ad2-50c21bf287dd",
   "metadata": {},
   "outputs": [],
   "source": [
    "Xtrain, Xtest, ytrain, ytest = train_test_split(iris.data, iris.target, train_size=0.7, test_size=0.3, random_state=2111040945)"
   ]
  },
  {
   "cell_type": "code",
   "execution_count": 28,
   "id": "12c016d1-ec38-4a5f-8af2-5d219dffc35c",
   "metadata": {},
   "outputs": [
    {
     "data": {
      "text/plain": [
       "2    35\n",
       "1    35\n",
       "0    35\n",
       "dtype: int64"
      ]
     },
     "execution_count": 28,
     "metadata": {},
     "output_type": "execute_result"
    }
   ],
   "source": [
    "pd.Series(ytrain).value_counts()"
   ]
  },
  {
   "cell_type": "code",
   "execution_count": 31,
   "id": "f3c1920c-f373-4753-a142-18b393fab806",
   "metadata": {},
   "outputs": [
    {
     "data": {
      "text/plain": [
       "2    19\n",
       "1    15\n",
       "0    11\n",
       "dtype: int64"
      ]
     },
     "execution_count": 31,
     "metadata": {},
     "output_type": "execute_result"
    }
   ],
   "source": [
    "pd.Series(ytest).value_counts()"
   ]
  },
  {
   "cell_type": "code",
   "execution_count": 34,
   "id": "614d8fd7-ddc5-4ab0-8857-4ba766d8c352",
   "metadata": {},
   "outputs": [
    {
     "data": {
      "text/plain": [
       "DecisionTreeClassifier()"
      ]
     },
     "execution_count": 34,
     "metadata": {},
     "output_type": "execute_result"
    }
   ],
   "source": [
    "dtclf2 = DecisionTreeClassifier()\n",
    "dtclf2.fit(Xtrain, ytrain)"
   ]
  },
  {
   "cell_type": "code",
   "execution_count": 35,
   "id": "887d5474-be45-4683-bf8f-196003bf0b9d",
   "metadata": {},
   "outputs": [],
   "source": [
    "pred2 = dtclf2.predict(Xtest)"
   ]
  },
  {
   "cell_type": "code",
   "execution_count": 36,
   "id": "4d236c94-a057-4581-8fc0-643b742cd6d3",
   "metadata": {},
   "outputs": [
    {
     "data": {
      "text/plain": [
       "0.9333333333333333"
      ]
     },
     "execution_count": 36,
     "metadata": {},
     "output_type": "execute_result"
    }
   ],
   "source": [
    "accuracy_score(ytest, pred2)"
   ]
  },
  {
   "cell_type": "markdown",
   "id": "135d6b22-0d9b-442f-988a-c0da9b294244",
   "metadata": {},
   "source": [
    "#### 계층추출 - 과적합 완화"
   ]
  },
  {
   "cell_type": "code",
   "execution_count": 37,
   "id": "81aa6563-8694-498e-ba57-5490f6bfcc72",
   "metadata": {},
   "outputs": [],
   "source": [
    "Xtrain, Xtest, ytrain, ytest = train_test_split(iris.data, iris.target, train_size=0.7, test_size=0.3, stratify=iris.target, random_state=2111040945)"
   ]
  },
  {
   "cell_type": "code",
   "execution_count": 38,
   "id": "2760156e-065f-4421-8cbe-fb01fb0aadbd",
   "metadata": {},
   "outputs": [
    {
     "data": {
      "text/plain": [
       "DecisionTreeClassifier()"
      ]
     },
     "execution_count": 38,
     "metadata": {},
     "output_type": "execute_result"
    }
   ],
   "source": [
    "dtclf3 = DecisionTreeClassifier()\n",
    "dtclf3.fit(Xtrain, ytrain)"
   ]
  },
  {
   "cell_type": "code",
   "execution_count": 39,
   "id": "d0f7d8e4-311e-4598-acc3-f7de3a01b59f",
   "metadata": {},
   "outputs": [],
   "source": [
    "pred3 = dtclf3.predict(Xtest)"
   ]
  },
  {
   "cell_type": "code",
   "execution_count": 40,
   "id": "e2b50bb8-63f7-4524-847c-a8e565a24a10",
   "metadata": {},
   "outputs": [
    {
     "data": {
      "text/plain": [
       "0.9111111111111111"
      ]
     },
     "execution_count": 40,
     "metadata": {},
     "output_type": "execute_result"
    }
   ],
   "source": [
    "accuracy_score(ytest, pred3)"
   ]
  },
  {
   "cell_type": "markdown",
   "id": "f5fe6e2f-b25c-40c5-9af1-635c1e2f117b",
   "metadata": {},
   "source": [
    "### 데이터를 학습용/평가용 데이터로 분할 3\n",
    "+ 데이터수가 작은 경우 데이터의 일부인 평가 데이터도 작음\n",
    "    - 성능평가의 신뢰도 의심\n",
    "+ 데이터를 동일한 크기의 k개로 나누고 훈련/평가데이터로 구분지어 순환적인 훈련 및 평가를 k번 실시\n",
    "    - K fold 교차검증\n",
    "+ cross_val_score(모델객체, 독립변수, 종속변수, 평가방법, k값)"
   ]
  },
  {
   "cell_type": "code",
   "execution_count": 41,
   "id": "81480d4b-68ad-46fb-9c5e-68f217c27a4b",
   "metadata": {},
   "outputs": [],
   "source": [
    "from sklearn.model_selection import cross_val_score"
   ]
  },
  {
   "cell_type": "code",
   "execution_count": 43,
   "id": "058f5b10-1f65-4343-8c8d-59bafc36a664",
   "metadata": {},
   "outputs": [],
   "source": [
    "dtclf4 = DecisionTreeClassifier()\n",
    "scores = cross_val_score(dtclf4, iris.data, iris.target, scoring='accuracy', cv=5)"
   ]
  },
  {
   "cell_type": "code",
   "execution_count": 44,
   "id": "e6270a2f-e077-4893-908e-d2dbb9144a73",
   "metadata": {},
   "outputs": [
    {
     "data": {
      "text/plain": [
       "array([0.96666667, 0.96666667, 0.9       , 0.96666667, 1.        ])"
      ]
     },
     "execution_count": 44,
     "metadata": {},
     "output_type": "execute_result"
    }
   ],
   "source": [
    "scores"
   ]
  },
  {
   "cell_type": "code",
   "execution_count": 46,
   "id": "e4b08dda-45cb-4614-a156-d432d55e510c",
   "metadata": {},
   "outputs": [
    {
     "data": {
      "text/plain": [
       "0.9600000000000002"
      ]
     },
     "execution_count": 46,
     "metadata": {},
     "output_type": "execute_result"
    }
   ],
   "source": [
    "np.mean(scores)"
   ]
  },
  {
   "cell_type": "code",
   "execution_count": null,
   "id": "4477530e-fa2d-4844-9d2f-d8d47cad3fbe",
   "metadata": {},
   "outputs": [],
   "source": []
  },
  {
   "cell_type": "code",
   "execution_count": null,
   "id": "99de6b23-9e9a-4eb0-b0e0-4dda4c702e51",
   "metadata": {},
   "outputs": [],
   "source": []
  },
  {
   "cell_type": "code",
   "execution_count": null,
   "id": "1f9c8987-c514-4fe2-9dff-5c5b30aae06d",
   "metadata": {},
   "outputs": [],
   "source": []
  },
  {
   "cell_type": "code",
   "execution_count": null,
   "id": "ba8ff749-2e26-4bd6-8465-28c299d9d6d1",
   "metadata": {},
   "outputs": [],
   "source": []
  },
  {
   "cell_type": "code",
   "execution_count": null,
   "id": "4be00da8-4e59-4df8-b9c7-5e412425d7bc",
   "metadata": {},
   "outputs": [],
   "source": []
  },
  {
   "cell_type": "code",
   "execution_count": null,
   "id": "7643db96-4dec-419b-b00e-a9b2b989b312",
   "metadata": {},
   "outputs": [],
   "source": []
  },
  {
   "cell_type": "code",
   "execution_count": null,
   "id": "9ae04252-242d-4816-a9c2-adb8fedefad2",
   "metadata": {},
   "outputs": [],
   "source": []
  },
  {
   "cell_type": "code",
   "execution_count": null,
   "id": "9453b05a-2310-48bf-8f97-97ea63d3516a",
   "metadata": {},
   "outputs": [],
   "source": []
  },
  {
   "cell_type": "code",
   "execution_count": null,
   "id": "611cfd7e-570d-4f6b-a39a-db01d16089d5",
   "metadata": {},
   "outputs": [],
   "source": []
  },
  {
   "cell_type": "code",
   "execution_count": null,
   "id": "1fb05ad2-e60e-4138-bd43-22349a01756d",
   "metadata": {},
   "outputs": [],
   "source": []
  },
  {
   "cell_type": "code",
   "execution_count": null,
   "id": "59ac47ec-4aac-456b-9764-1bef3189ada5",
   "metadata": {},
   "outputs": [],
   "source": []
  }
 ],
 "metadata": {
  "kernelspec": {
   "display_name": "Python 3 (ipykernel)",
   "language": "python",
   "name": "python3"
  },
  "language_info": {
   "codemirror_mode": {
    "name": "ipython",
    "version": 3
   },
   "file_extension": ".py",
   "mimetype": "text/x-python",
   "name": "python",
   "nbconvert_exporter": "python",
   "pygments_lexer": "ipython3",
   "version": "3.7.10"
  }
 },
 "nbformat": 4,
 "nbformat_minor": 5
}
