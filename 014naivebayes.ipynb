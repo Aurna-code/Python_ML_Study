{
 "cells": [
  {
   "cell_type": "markdown",
   "id": "86583e7d-c307-4dfc-af15-cdec5ccae496",
   "metadata": {},
   "source": [
    "## 나이브 베이즈 navie bayes\n",
    "+ 조건부확률을 이용한 확률 기반 머신러닝 분류 알고리즘\n",
    "+ 주사위를 굴려 짝수 눈이 나올 확률 P는?\n",
    "+ 어떤 사건의 확률 P = 원하는 결과 수 / 가능한 결과 수\n",
    "+ 이를 고전적확률이라 함\n",
    "+ 상호배타적, 덧셈법칙, 여의법칙, 덧셈의 일반법칙, 곱셈법칙(독립사건), 조건부확률"
   ]
  },
  {
   "cell_type": "markdown",
   "id": "48dcf692-b809-45d2-9310-6714bb66f89c",
   "metadata": {},
   "source": [
    "### 동전을 100회 던졌을때 앞면이 나오는 횟수는?\n",
    "+ 전통적 확률에서는 일어난횟수/전체시도횟수로 계산\n",
    "+ 이를 경험적확률이라 함 - 일정한 확률로 반복시행\n",
    "+ 시행횟수가 충분히 했을때 어떤 사건이 일어나는 상대적 횟수는 일정한 패턴을 보인다는 의미 - 대수의 법칙"
   ]
  },
  {
   "cell_type": "markdown",
   "id": "d0878037-3295-49b7-a4e4-3034da2be379",
   "metadata": {},
   "source": [
    "### 만일, A 라는 도시에 수지가 태어난 경우, 이 아이가 노벨상을 받을 확률은 얼마나 될까?\n",
    "\n",
    "+ 이것을 경험적 확률로 계산하려면 이 아이를 여러 명 살게하고 그 중 몇명이 노벨상을 받는지 평가해보면 됨\n",
    "+ 문제는 동일한 유전자, 환경에 자란 아이를 만들수 있는가\n",
    "+ 이러한 상황에서는 **베이즈 확률론**을 이용\n",
    "\n",
    "#### 활용 가능한 정보에 기초해서 어떤 개인이 결정한 특정 사건이 발생할 가능성(확률)\n",
    "+ 일어나지 않은일에 대한 확률을 불확실성이라는 개념으로 이야기 함\n",
    "+ 즉, 이 사건과 관련된 여러가지 확률을 이용해서 새롭게 일어날 수 있는 사건에 대해 추정하는 것\n",
    "+ 이를 **주관적 확률**이라 함\n",
    "\n",
    "#### 베이즈 정리, 사전확률, 사후확률 - 나이브 베이즈"
   ]
  },
  {
   "cell_type": "markdown",
   "id": "bb6c34f7-a70c-400d-964b-c061045aaa54",
   "metadata": {},
   "source": [
    "### 중요 확률 개념\n",
    "\n",
    "+ 조건부 확률\n",
    "    + 어떤 사건 B가 일어났을 때 사건 A가 일어날 확률을 의미\n",
    "    + #### $ P(A|B) = \\frac {P(A \\cap B)} {P(B)} $\n",
    "+ 확률의 곱셈법칙\n",
    "    + 두 가지 이상의 사건이 동시에 발생하는 확률\n",
    "    + 사건 A,B가 동시에 일어날 확률은 사건 A 발생 확률과 사건 B 발생 확률을 곱한 것과 같음\n",
    "+ 전체 확률의 법칙\n",
    "    + #### $ P(A ∩ B) = P(A|B)P(B) = P(B|A)P(A) $\n",
    "    + 나중에 주어지는 사건 X의 확률은 그 사건의 원인을 여러가지로 나누어서, 각 원인에 대한 조건부 확률 P(X|Y)과 그 원인이 되는 확률 P(Y)의 곱에 의한 가중합으로 구할 수 있음을 말함\n",
    "    + #### $ P(A) = P(A ∩ B_1) + P(A ∩ B_2) + ... $"
   ]
  },
  {
   "cell_type": "markdown",
   "id": "9118ad41-87aa-4f74-97de-e9bb7c9fe2a2",
   "metadata": {},
   "source": [
    "## 베이즈 이론\n",
    "+ 18세기 영국 장로교 목사였던 토마스 베이즈의 업적을 정리해서 나온 결과물\n",
    "+ 이전의 경험과 현재의 증거를 토대로 어떤 사건의 확률을 추론\n",
    "\n",
    "+ 확률 $ P(A|B)$ 를 알고 있을 때, 관계가 정반대인 확률 P(B|A)를 계산\n",
    "\n",
    "+ ### $ P(A|B)=P(A) \\cdot \\frac{P(B|A)} {P(B)} $\n",
    "\n",
    "+ $P(A) : A$ 의 사전확률 - 현재의 증거\n",
    "\n",
    "+ $P(B) : B$ 의 사전확률 - 과거의 경험\n",
    "\n",
    "+ $P(A|B)$ : 사건 B가 주어졌을때 A의 조건부 확률\n",
    "\n",
    "#### 알려진 결과에 기초한 어떤 가설에 대한 가능성\n",
    "\n",
    "+ $P(B|A)$ : 사건 A라는 증거에 대한 사후 확률\n",
    "\n",
    "+ 사건 A가 일어났다는 것을 알고 그것이 사건 B로 부터 일어난 것이라고 생각되는 조건부 확률"
   ]
  },
  {
   "cell_type": "markdown",
   "id": "d9fc22a7-af78-4cd1-9980-fb4a02645b58",
   "metadata": {},
   "source": [
    "### $ P(A|B) = \\frac {P(B \\cap A)} {P(B)} = \\frac {P(B|A)P(A)} {P(B)} = \\frac {P(B|A)P(A)} {P(A ∩ B) + P(\\sim A ∩ B)}  $"
   ]
  },
  {
   "cell_type": "markdown",
   "id": "d993bdcf-0f4e-472e-8532-cb998432c584",
   "metadata": {},
   "source": [
    "#### 몬티홀 문제 - 미국 티비쇼에서 유래한 퍼즐\n",
    "+ 3개의 문 중 하나를 선택하여 문 뒤에 있는 상품을 주는 쇼\n",
    "+ 출현자가 한 문을 선택했을 때, 사회자가 다른 문을 열어 염소가 있음을 보여주고는 현재의 선택을 바꾸겠냐고 물음\n",
    "+ 이때 출현자는 처음 선택을 고수하는 것이 나을까?\n",
    "+ 출현자가 스포츠카를 가지려면 현재의 선택을 바꾸는게 나을까?"
   ]
  },
  {
   "cell_type": "markdown",
   "id": "9165ff68-ed0c-4836-ae13-856f50b186e0",
   "metadata": {},
   "source": [
    "#### 풀이 : 내가 처음에 옳은 문을 골랐을 확률은 $1/3$\n",
    "#### 내가 고른 문을 제외한 나머지 두 문이 옳을 가능성은 $2/3$ \n",
    "#### 두 문 중 하나를 사회자가 열어도 확률은 사라지지 않고 남은 하나의 문이 여전히 $2/3$"
   ]
  },
  {
   "cell_type": "markdown",
   "id": "cad1b3fd-de22-4782-994a-6723e046334f",
   "metadata": {},
   "source": [
    "#### 아들 딸 패러독스\n",
    "+ 두 아이가 있는 어떤 집에서 [첫 아이가] 남자일때 두 아이 모두가 남자일 확률은?\n",
    "+ 두 아이가 있는 어떤 집에서 [한 명이] 남자일때 두 아이 모두가 남자일 확률은?"
   ]
  },
  {
   "cell_type": "markdown",
   "id": "485e215c-b747-4987-a67c-17c3ec7c77bf",
   "metadata": {},
   "source": [
    "#### 풀이 : 첫번째는 1/2 이고 두번쨰는 남자 형제를 구분지어 취급하느냐 여부에 따라서 구분짓지 않으면 1/3 이고 구분지으면 1/2이다. \n",
    "+ 분자/분모에 남자1 남자2, 남자2 남자1 을 넣는지 아니면 남자 남자 만 넣는지의 차이"
   ]
  },
  {
   "cell_type": "markdown",
   "id": "ab5aaee2-eeeb-441f-b704-3f926461e710",
   "metadata": {},
   "source": [
    "### 베이즈 정리\n",
    "+ experience base prediction\n",
    "+ 이전의 경험과 현재의 증거를 토대로 어떤 사건의 확률을 추론하는 알고리즘\n",
    "+ 따라서, 사건이 일어날 확률을 토대로 의사결정을 하는 경우, 그와 관련된 사전정보를 얼마나 알고 있나에 따라 크게 좌우\n",
    "+ 기하학 : 피타고라스 정리 = 확률학 : 베이즈 정리\n"
   ]
  },
  {
   "cell_type": "markdown",
   "id": "a69fc3cb-24a4-45ca-a8b7-a088e1a85642",
   "metadata": {},
   "source": [
    "### 아들과 딸 문제"
   ]
  },
  {
   "cell_type": "markdown",
   "id": "c240ce26-7c84-49eb-9b1e-51a80cdb92f8",
   "metadata": {},
   "source": [
    "$$ \\begin{eqnarray} P(BB|Y) &=& \\dfrac{P(Y|BB)P(BB)}{P(Y)} \\\\ &=& \\dfrac{P(Y|BB)P(BB)}{P(Y|BB)P(BB) + P(Y|BG)P(BG) + P(Y|GB)P(GB) + P(Y|GG)P(GG)} \\\\ &=& \\dfrac{1\\cdot 0.25}{1\\cdot 0.25 + 1\\cdot 0.25 + 1\\cdot 0.25 + 0\\cdot 0.25} \\\\ &=& \\dfrac{0.25}{0.75} = \\dfrac{1}{3} \\end{eqnarray} $$"
   ]
  },
  {
   "cell_type": "markdown",
   "id": "b96b7218-09b9-4eb0-9496-80c3769665d3",
   "metadata": {},
   "source": [
    "### 베이즈 정리에 대한 예제\n",
    "+ 삼키기 어려울 정도의 목에 통증 유발 - 인후염\n",
    "+ 병원 방문후 검사(정확도 90%) 시행\n",
    "+ 결과 : 양성(폐암)\n",
    "\n",
    "#### 의사 : 이 결과로 폐암일 확률은 10%도 안될 수 있음\n",
    "+ 폐암에 걸린 남성은 성인 남성 1% 정도\n",
    "\n",
    "#### 환자 : 그래도 걱정이 되니 추가 검사 시행 - 음성(!)\n",
    "+ 베이즈 정리에 근거, 실제 검사에서 양성이 나왔을때 진짜 폐암에 걸릴 확률은 ???\n",
    "\n",
    "\n",
    "### 베이즈 정리 : $ P(A|B) = \\frac {P(A)P(B|A)} {P(B)} $\n",
    "\n",
    "### 조건부확률 : $ P(A \\cap B) = P(A)P(B|A) = P(B)P(A|B) $\n",
    "\n",
    "#### 따라서, $ P(A|B) = \\frac {P(A \\cap B)} {P(B)} $ 로 도출가능\n",
    "#### 결론적으로 $ P(A|B) = \\frac {P(B)P(A|B)} {P(B)}$ 로도 사용가능\n",
    "\n",
    "#### 양성일때 폐암일 확률 \n",
    "+ ### $ P(폐암|양성) = \\frac {P(폐암∩양성)} {P(양성)} = \\frac {P(폐암)P(양성|폐암)} {P(양성)} $\n",
    "\n",
    "#### 폐암일때 양성일 확률\n",
    "\n",
    "+ ### $ P(양성|폐암) = \\frac {P(양성 \\cap 폐암)} {P(폐암)} = \\frac {P(양성)P(폐암|양성)} {P(폐암)} $\n",
    "\n",
    "#### 정확도 90% 검사로, 검사결과가 양성일때 폐암일 확률은? $ P(폐암|양성) = 0.9 $\n",
    "\n",
    "+ 성인 남성이 폐암에 걸릴 확률은? $ P(폐암) = 0.01 $\n",
    "+ 양성일 확률은? $ P(양성) $ (알고 싶은 내용)\n",
    "+ 베이즈 정리와 전체 확률의 법칙을 이용\n",
    "+ 폐암이고, 검사로도 진짜 양성일 확률과 폐암이 아닌데 검사로 양성일 확률을 더한 확률\n",
    "\n",
    "#### $ P(양성|폐암)P(폐암) + P(양성|1-폐암)P(1-폐암) = 0.9 * 0.01 + 0.1 * 0.99 = 0.10791 = 0.108 = 11\\% $\n",
    "\n",
    "### 따라서, $ P(폐암|양성) = \\frac {P(폐암)P(양성|폐암)} {P(양성)} $\n",
    "+ #### = (0.01 * 0.9) / 0.108 = 0.083 = 8.3% (별거아님)"
   ]
  },
  {
   "cell_type": "markdown",
   "id": "91913820-a583-44b8-a4e3-04664b25bf5d",
   "metadata": {},
   "source": [
    "#### 시간이 지나 다시 목이 아프고 숨을 쉬기 어려워서 다시 병원에 감\n",
    "+ 다시 검사(정확도99%) 해보니 역시 양성\n",
    "+ 예전 경험에 비춰 별거 아니라고 생각\n",
    "+ 의사는 폐암에 걸릴 확률이 50%로 증가, 절대 심각할 수 있다고 경고\n",
    "\n",
    "### $ P(양성|폐암)P(폐암) + P(양성|1-폐암)P(1-폐암) $\n",
    "\n",
    "### $ = (0.99 * 0.01) + (0.01 * 0.99) = 0.197 $\n",
    "\n",
    "### 따라서, $ P(폐암|양성) = \\frac {P(폐암)P(양성|폐암)} {P(양성)} $\n",
    "\n",
    "### $ = \\frac {(0.01 * 0.99)} {0.0197 = 0.503} = 50% $ (심각함)"
   ]
  },
  {
   "cell_type": "markdown",
   "id": "81ee5916-7ef6-48e7-bb59-7444eae0a62d",
   "metadata": {},
   "source": [
    "### 나이브베이즈 예제\n",
    "#### 나이브 베이즈에서 '나이브naive'는 단순한 이란 뜻으로 모든 변수가 서로 독립이라고 가정하고 확률을 계산함\n",
    "+ 사후확률값 자체를 아는 것이 중요한 것이 아니고 각각의 사후확률의 크기를 비교하는 것 만으로도 충분하기 때문에 수식의 분모는 상수처럼 취급함\n",
    "+ 각 변수의 상호작용을 고려해서 확률을 구하려면 수식이 상당히 복잡해짐\n",
    "+ 각 변수를 독립사건처럼 단순화함으로써 수식이 단순해지는 효과를 얻을 수 있음"
   ]
  },
  {
   "cell_type": "markdown",
   "id": "0a0fbef6-2a2e-4042-b7a0-5611c0bd5e19",
   "metadata": {},
   "source": [
    "### 연체관련 예제"
   ]
  },
  {
   "cell_type": "markdown",
   "id": "4e00f6f2-b1b7-4aff-ab0f-c490a87dd5af",
   "metadata": {},
   "source": [
    "<img src='img/loan.png'>"
   ]
  },
  {
   "cell_type": "markdown",
   "id": "b16f95a1-7f05-426d-9256-b706e1ff74fa",
   "metadata": {},
   "source": [
    "### $ P(A|B) = \\frac {P(A)P(B|A)} {P(B)} $ (A는 연체가능성)\n",
    "+ P(연체|집, 결혼, 경력) = \n",
    "    + P(연체)P(집|연체) / P(집) x \n",
    "    + P(연체)P(결혼|연체) / P(결혼) x\n",
    "    + P(연체)P(경력|연체) / P(경력)\n",
    "+ #### P(연체)P(집|연체) x P(연체)P(결혼|연체) x P(연체)P(경력|연체) 로 단순화\n",
    "+ P(B) = 집, 결혼, 경력\n",
    "+ P(A) + 연체 확률"
   ]
  },
  {
   "cell_type": "markdown",
   "id": "3cb3d5a2-9ea5-4e38-894a-9c3a11193fd3",
   "metadata": {},
   "source": [
    "#### 밥이 연체할 확률"
   ]
  },
  {
   "cell_type": "markdown",
   "id": "3032e1be-8f8c-408e-9d43-01d8c5ebaff2",
   "metadata": {},
   "source": [
    "#### P(연체Y) = 3/10\n",
    "#### P(집N|연체Y) = 2/3\n",
    "#### P(결혼Y|연체Y) = 1/3\n",
    "#### P(경력3|연체Y) = 1/3\n",
    "#### 따라서, $P(연체 \\cap 집N \\cap 결혼Y \\cap 경력3) = $\n",
    "#### 3/10 x 2/3 x 1/3 x 1/3 = 1/45"
   ]
  },
  {
   "cell_type": "code",
   "execution_count": 5,
   "id": "4e8f94ab-725c-4026-9165-1b5b00eb0aeb",
   "metadata": {},
   "outputs": [
    {
     "data": {
      "text/plain": [
       "0.022222222222222223"
      ]
     },
     "execution_count": 5,
     "metadata": {},
     "output_type": "execute_result"
    }
   ],
   "source": [
    "1/45"
   ]
  },
  {
   "cell_type": "markdown",
   "id": "bcd7c058-5d4c-406e-9455-8654c9ace601",
   "metadata": {},
   "source": [
    "#### 밥이 연체 안할 확률"
   ]
  },
  {
   "cell_type": "markdown",
   "id": "98bb9715-76ff-4a5e-9513-3c98a2b8b97d",
   "metadata": {},
   "source": [
    "#### P(연체N) = 7/10\n",
    "#### P(집N|연체N) = 4/7\n",
    "#### P(결혼Y|연체N) = 4/7\n",
    "#### P(경력3|연체N) = 2/7"
   ]
  },
  {
   "cell_type": "code",
   "execution_count": 4,
   "id": "71dbe2c8-bbbb-4b3d-b335-1df8848855eb",
   "metadata": {},
   "outputs": [
    {
     "data": {
      "text/plain": [
       "0.06530612244897958"
      ]
     },
     "execution_count": 4,
     "metadata": {},
     "output_type": "execute_result"
    }
   ],
   "source": [
    "(7/10) * (4/7) * (4/7) * (2/7)"
   ]
  },
  {
   "cell_type": "markdown",
   "id": "2ab1c677-c44b-497a-9b46-6aed494a25f1",
   "metadata": {},
   "source": [
    "### 영화마케팅 문제를 나이브베이즈로 분석\n",
    "+ 영화관객의 성향을 설문조사로 정리\n",
    "+ 관객의 속성으로 영화취향을 파악해 봄\n",
    "\n",
    "#### 독립변수가 많을 경우 의사결정나무보다 나이브베이즈가 나을 수 있음"
   ]
  },
  {
   "cell_type": "markdown",
   "id": "fe87e4fc-76e2-40cd-8717-8be579a30b4d",
   "metadata": {},
   "source": [
    "#### P(B) = 20대, 여, IT, 미혼, 애인없음\n",
    "#### P(A) = 추천할 영화장르는? (공포, 액션, 로맨틱, 스릴러, 코메디, SF, 무협)\n",
    "+ #### 공포영화를 추천해줄 확률은?\n",
    "    - #### P(A|B) = P(공포|20대, 여, IT, 미혼, 애인없음) =\n",
    "    - #### P(공포|20대) * P(공포|여) * P(공포|IT) * P(공포|미혼) * P(공포|애인없음)\n",
    "+ #### 액션영화를 추천해줄 확률은?\n",
    "    - ####  P(A|B) = P(액션|20대, 여, IT, 미혼, 애인없음)"
   ]
  },
  {
   "cell_type": "code",
   "execution_count": 6,
   "id": "261a1676-525c-4b5f-9d98-de681a020308",
   "metadata": {},
   "outputs": [],
   "source": [
    "import pandas as pd\n",
    "import numpy as np\n",
    "import matplotlib.pyplot as plt\n",
    "import seaborn as sns\n",
    "import pydotplus\n",
    "import matplotlib.image as pltimg"
   ]
  },
  {
   "cell_type": "code",
   "execution_count": 16,
   "id": "ef0ee842-033f-4272-bf6b-6234d888d929",
   "metadata": {},
   "outputs": [],
   "source": [
    "from sklearn.metrics import accuracy_score\n",
    "from sklearn.model_selection import train_test_split\n",
    "from sklearn.naive_bayes import MultinomialNB"
   ]
  },
  {
   "cell_type": "code",
   "execution_count": 86,
   "id": "99b7a702-49c1-4880-824e-6c87e1cc98f8",
   "metadata": {},
   "outputs": [],
   "source": [
    "movies = pd.read_csv('data/movie.csv', encoding='EUC-KR')"
   ]
  },
  {
   "cell_type": "code",
   "execution_count": 101,
   "id": "8ca7232c-66a2-467a-916b-671f8909ed64",
   "metadata": {},
   "outputs": [],
   "source": [
    "movies.loc[6,'나이'] = '10대'"
   ]
  },
  {
   "cell_type": "code",
   "execution_count": 102,
   "id": "47e261e6-5755-4b05-806d-6a187dd75b27",
   "metadata": {},
   "outputs": [],
   "source": [
    "movies.loc[10,'나이'] = '10대'"
   ]
  },
  {
   "cell_type": "code",
   "execution_count": 79,
   "id": "ead7f2f7-13a6-41bd-9abe-f2403cf6a0b0",
   "metadata": {},
   "outputs": [],
   "source": [
    "plt.rc('font', family='NanumGothic')\n",
    "plt.rcParams['font.family'] = 'NanumGothic'\n",
    "plt.rcParams['axes.unicode_minus']=False"
   ]
  },
  {
   "cell_type": "code",
   "execution_count": 80,
   "id": "5989d50e-23c3-41ee-a572-3e7f483dac4d",
   "metadata": {},
   "outputs": [
    {
     "data": {
      "text/plain": [
       "<AxesSubplot:xlabel='장르', ylabel='count'>"
      ]
     },
     "execution_count": 80,
     "metadata": {},
     "output_type": "execute_result"
    },
    {
     "data": {
      "image/png": "[encoded data removed]",
      "text/plain": [
       "<Figure size 432x288 with 1 Axes>"
      ]
     },
     "metadata": {
      "needs_background": "light"
     },
     "output_type": "display_data"
    }
   ],
   "source": [
    "sns.countplot(x='장르', data=movies)"
   ]
  },
  {
   "cell_type": "code",
   "execution_count": 103,
   "id": "ff8e2ddd-4970-49fe-8b87-9d86e407ef35",
   "metadata": {},
   "outputs": [],
   "source": [
    "cols = ['나이','성별','직업','결혼여부','이성친구','장르']\n",
    "ncols = ['age','gender','job','marry','lover','genre']\n",
    "for ix, c in enumerate(cols):\n",
    "    x = pd.Categorical(movies[c])\n",
    "    movies[ncols[ix]] = pd.Series(x).cat.codes"
   ]
  },
  {
   "cell_type": "code",
   "execution_count": 104,
   "id": "6ad2cae8-ce4d-4b01-b0ba-bcb2b15c5124",
   "metadata": {},
   "outputs": [
    {
     "data": {
      "text/html": [
       "<div>\n",
       "<style scoped>\n",
       "    .dataframe tbody tr th:only-of-type {\n",
       "        vertical-align: middle;\n",
       "    }\n",
       "\n",
       "    .dataframe tbody tr th {\n",
       "        vertical-align: top;\n",
       "    }\n",
       "\n",
       "    .dataframe thead th {\n",
       "        text-align: right;\n",
       "    }\n",
       "</style>\n",
       "<table border=\"1\" class=\"dataframe\">\n",
       "  <thead>\n",
       "    <tr style=\"text-align: right;\">\n",
       "      <th></th>\n",
       "      <th>나이</th>\n",
       "      <th>성별</th>\n",
       "      <th>직업</th>\n",
       "      <th>결혼여부</th>\n",
       "      <th>이성친구</th>\n",
       "      <th>장르</th>\n",
       "      <th>age</th>\n",
       "      <th>gender</th>\n",
       "      <th>job</th>\n",
       "      <th>marry</th>\n",
       "      <th>lover</th>\n",
       "      <th>genre</th>\n",
       "    </tr>\n",
       "  </thead>\n",
       "  <tbody>\n",
       "    <tr>\n",
       "      <th>0</th>\n",
       "      <td>20대</td>\n",
       "      <td>여</td>\n",
       "      <td>디자이너</td>\n",
       "      <td>NO</td>\n",
       "      <td>YES</td>\n",
       "      <td>로맨틱</td>\n",
       "      <td>1</td>\n",
       "      <td>1</td>\n",
       "      <td>1</td>\n",
       "      <td>0</td>\n",
       "      <td>1</td>\n",
       "      <td>2</td>\n",
       "    </tr>\n",
       "    <tr>\n",
       "      <th>1</th>\n",
       "      <td>40대</td>\n",
       "      <td>남</td>\n",
       "      <td>홍보/마케팅</td>\n",
       "      <td>NO</td>\n",
       "      <td>NO</td>\n",
       "      <td>공포</td>\n",
       "      <td>3</td>\n",
       "      <td>0</td>\n",
       "      <td>7</td>\n",
       "      <td>0</td>\n",
       "      <td>0</td>\n",
       "      <td>1</td>\n",
       "    </tr>\n",
       "    <tr>\n",
       "      <th>2</th>\n",
       "      <td>10대</td>\n",
       "      <td>여</td>\n",
       "      <td>홍보/마케팅</td>\n",
       "      <td>NO</td>\n",
       "      <td>YES</td>\n",
       "      <td>로맨틱</td>\n",
       "      <td>0</td>\n",
       "      <td>1</td>\n",
       "      <td>7</td>\n",
       "      <td>0</td>\n",
       "      <td>1</td>\n",
       "      <td>2</td>\n",
       "    </tr>\n",
       "    <tr>\n",
       "      <th>3</th>\n",
       "      <td>20대</td>\n",
       "      <td>여</td>\n",
       "      <td>디자이너</td>\n",
       "      <td>YES</td>\n",
       "      <td>NO</td>\n",
       "      <td>로맨틱</td>\n",
       "      <td>1</td>\n",
       "      <td>1</td>\n",
       "      <td>1</td>\n",
       "      <td>1</td>\n",
       "      <td>0</td>\n",
       "      <td>2</td>\n",
       "    </tr>\n",
       "    <tr>\n",
       "      <th>4</th>\n",
       "      <td>10대</td>\n",
       "      <td>남</td>\n",
       "      <td>학생</td>\n",
       "      <td>NO</td>\n",
       "      <td>NO</td>\n",
       "      <td>액션</td>\n",
       "      <td>0</td>\n",
       "      <td>0</td>\n",
       "      <td>6</td>\n",
       "      <td>0</td>\n",
       "      <td>0</td>\n",
       "      <td>5</td>\n",
       "    </tr>\n",
       "    <tr>\n",
       "      <th>5</th>\n",
       "      <td>40대</td>\n",
       "      <td>남</td>\n",
       "      <td>자영업</td>\n",
       "      <td>NO</td>\n",
       "      <td>NO</td>\n",
       "      <td>공포</td>\n",
       "      <td>3</td>\n",
       "      <td>0</td>\n",
       "      <td>5</td>\n",
       "      <td>0</td>\n",
       "      <td>0</td>\n",
       "      <td>1</td>\n",
       "    </tr>\n",
       "    <tr>\n",
       "      <th>6</th>\n",
       "      <td>10대</td>\n",
       "      <td>남</td>\n",
       "      <td>학생</td>\n",
       "      <td>NO</td>\n",
       "      <td>NO</td>\n",
       "      <td>액션</td>\n",
       "      <td>0</td>\n",
       "      <td>0</td>\n",
       "      <td>6</td>\n",
       "      <td>0</td>\n",
       "      <td>0</td>\n",
       "      <td>5</td>\n",
       "    </tr>\n",
       "    <tr>\n",
       "      <th>7</th>\n",
       "      <td>30대</td>\n",
       "      <td>남</td>\n",
       "      <td>IT</td>\n",
       "      <td>NO</td>\n",
       "      <td>YES</td>\n",
       "      <td>SF</td>\n",
       "      <td>2</td>\n",
       "      <td>0</td>\n",
       "      <td>0</td>\n",
       "      <td>0</td>\n",
       "      <td>1</td>\n",
       "      <td>0</td>\n",
       "    </tr>\n",
       "    <tr>\n",
       "      <th>8</th>\n",
       "      <td>30대</td>\n",
       "      <td>남</td>\n",
       "      <td>언론</td>\n",
       "      <td>YES</td>\n",
       "      <td>NO</td>\n",
       "      <td>스릴러</td>\n",
       "      <td>2</td>\n",
       "      <td>0</td>\n",
       "      <td>3</td>\n",
       "      <td>1</td>\n",
       "      <td>0</td>\n",
       "      <td>4</td>\n",
       "    </tr>\n",
       "    <tr>\n",
       "      <th>9</th>\n",
       "      <td>40대</td>\n",
       "      <td>남</td>\n",
       "      <td>자영업</td>\n",
       "      <td>NO</td>\n",
       "      <td>NO</td>\n",
       "      <td>공포</td>\n",
       "      <td>3</td>\n",
       "      <td>0</td>\n",
       "      <td>5</td>\n",
       "      <td>0</td>\n",
       "      <td>0</td>\n",
       "      <td>1</td>\n",
       "    </tr>\n",
       "    <tr>\n",
       "      <th>10</th>\n",
       "      <td>10대</td>\n",
       "      <td>남</td>\n",
       "      <td>학생</td>\n",
       "      <td>NO</td>\n",
       "      <td>NO</td>\n",
       "      <td>액션</td>\n",
       "      <td>0</td>\n",
       "      <td>0</td>\n",
       "      <td>6</td>\n",
       "      <td>0</td>\n",
       "      <td>0</td>\n",
       "      <td>5</td>\n",
       "    </tr>\n",
       "    <tr>\n",
       "      <th>11</th>\n",
       "      <td>20대</td>\n",
       "      <td>여</td>\n",
       "      <td>홍보/마케팅</td>\n",
       "      <td>YES</td>\n",
       "      <td>NO</td>\n",
       "      <td>로맨틱</td>\n",
       "      <td>1</td>\n",
       "      <td>1</td>\n",
       "      <td>7</td>\n",
       "      <td>1</td>\n",
       "      <td>0</td>\n",
       "      <td>2</td>\n",
       "    </tr>\n",
       "    <tr>\n",
       "      <th>12</th>\n",
       "      <td>30대</td>\n",
       "      <td>여</td>\n",
       "      <td>IT</td>\n",
       "      <td>YES</td>\n",
       "      <td>NO</td>\n",
       "      <td>SF</td>\n",
       "      <td>2</td>\n",
       "      <td>1</td>\n",
       "      <td>0</td>\n",
       "      <td>1</td>\n",
       "      <td>0</td>\n",
       "      <td>0</td>\n",
       "    </tr>\n",
       "    <tr>\n",
       "      <th>13</th>\n",
       "      <td>30대</td>\n",
       "      <td>남</td>\n",
       "      <td>언론</td>\n",
       "      <td>YES</td>\n",
       "      <td>NO</td>\n",
       "      <td>스릴러</td>\n",
       "      <td>2</td>\n",
       "      <td>0</td>\n",
       "      <td>3</td>\n",
       "      <td>1</td>\n",
       "      <td>0</td>\n",
       "      <td>4</td>\n",
       "    </tr>\n",
       "    <tr>\n",
       "      <th>14</th>\n",
       "      <td>10대</td>\n",
       "      <td>여</td>\n",
       "      <td>학생</td>\n",
       "      <td>NO</td>\n",
       "      <td>YES</td>\n",
       "      <td>로맨틱</td>\n",
       "      <td>0</td>\n",
       "      <td>1</td>\n",
       "      <td>6</td>\n",
       "      <td>0</td>\n",
       "      <td>1</td>\n",
       "      <td>2</td>\n",
       "    </tr>\n",
       "    <tr>\n",
       "      <th>15</th>\n",
       "      <td>20대</td>\n",
       "      <td>남</td>\n",
       "      <td>학생</td>\n",
       "      <td>NO</td>\n",
       "      <td>NO</td>\n",
       "      <td>코미디</td>\n",
       "      <td>1</td>\n",
       "      <td>0</td>\n",
       "      <td>6</td>\n",
       "      <td>0</td>\n",
       "      <td>0</td>\n",
       "      <td>6</td>\n",
       "    </tr>\n",
       "    <tr>\n",
       "      <th>16</th>\n",
       "      <td>20대</td>\n",
       "      <td>여</td>\n",
       "      <td>디자이너</td>\n",
       "      <td>YES</td>\n",
       "      <td>NO</td>\n",
       "      <td>로맨틱</td>\n",
       "      <td>1</td>\n",
       "      <td>1</td>\n",
       "      <td>1</td>\n",
       "      <td>1</td>\n",
       "      <td>0</td>\n",
       "      <td>2</td>\n",
       "    </tr>\n",
       "    <tr>\n",
       "      <th>17</th>\n",
       "      <td>30대</td>\n",
       "      <td>남</td>\n",
       "      <td>언론</td>\n",
       "      <td>NO</td>\n",
       "      <td>YES</td>\n",
       "      <td>스릴러</td>\n",
       "      <td>2</td>\n",
       "      <td>0</td>\n",
       "      <td>3</td>\n",
       "      <td>0</td>\n",
       "      <td>1</td>\n",
       "      <td>4</td>\n",
       "    </tr>\n",
       "    <tr>\n",
       "      <th>18</th>\n",
       "      <td>30대</td>\n",
       "      <td>남</td>\n",
       "      <td>영업</td>\n",
       "      <td>NO</td>\n",
       "      <td>NO</td>\n",
       "      <td>코미디</td>\n",
       "      <td>2</td>\n",
       "      <td>0</td>\n",
       "      <td>4</td>\n",
       "      <td>0</td>\n",
       "      <td>0</td>\n",
       "      <td>6</td>\n",
       "    </tr>\n",
       "    <tr>\n",
       "      <th>19</th>\n",
       "      <td>10대</td>\n",
       "      <td>남</td>\n",
       "      <td>학생</td>\n",
       "      <td>NO</td>\n",
       "      <td>NO</td>\n",
       "      <td>액션</td>\n",
       "      <td>0</td>\n",
       "      <td>0</td>\n",
       "      <td>6</td>\n",
       "      <td>0</td>\n",
       "      <td>0</td>\n",
       "      <td>5</td>\n",
       "    </tr>\n",
       "    <tr>\n",
       "      <th>20</th>\n",
       "      <td>10대</td>\n",
       "      <td>여</td>\n",
       "      <td>학생</td>\n",
       "      <td>NO</td>\n",
       "      <td>YES</td>\n",
       "      <td>로맨틱</td>\n",
       "      <td>0</td>\n",
       "      <td>1</td>\n",
       "      <td>6</td>\n",
       "      <td>0</td>\n",
       "      <td>1</td>\n",
       "      <td>2</td>\n",
       "    </tr>\n",
       "    <tr>\n",
       "      <th>21</th>\n",
       "      <td>30대</td>\n",
       "      <td>남</td>\n",
       "      <td>영업</td>\n",
       "      <td>NO</td>\n",
       "      <td>NO</td>\n",
       "      <td>코미디</td>\n",
       "      <td>2</td>\n",
       "      <td>0</td>\n",
       "      <td>4</td>\n",
       "      <td>0</td>\n",
       "      <td>0</td>\n",
       "      <td>6</td>\n",
       "    </tr>\n",
       "    <tr>\n",
       "      <th>22</th>\n",
       "      <td>40대</td>\n",
       "      <td>남</td>\n",
       "      <td>영업</td>\n",
       "      <td>NO</td>\n",
       "      <td>NO</td>\n",
       "      <td>공포</td>\n",
       "      <td>3</td>\n",
       "      <td>0</td>\n",
       "      <td>4</td>\n",
       "      <td>0</td>\n",
       "      <td>0</td>\n",
       "      <td>1</td>\n",
       "    </tr>\n",
       "    <tr>\n",
       "      <th>23</th>\n",
       "      <td>40대</td>\n",
       "      <td>남</td>\n",
       "      <td>홍보/마케팅</td>\n",
       "      <td>NO</td>\n",
       "      <td>NO</td>\n",
       "      <td>코미디</td>\n",
       "      <td>3</td>\n",
       "      <td>0</td>\n",
       "      <td>7</td>\n",
       "      <td>0</td>\n",
       "      <td>0</td>\n",
       "      <td>6</td>\n",
       "    </tr>\n",
       "    <tr>\n",
       "      <th>24</th>\n",
       "      <td>30대</td>\n",
       "      <td>남</td>\n",
       "      <td>IT</td>\n",
       "      <td>YES</td>\n",
       "      <td>NO</td>\n",
       "      <td>SF</td>\n",
       "      <td>2</td>\n",
       "      <td>0</td>\n",
       "      <td>0</td>\n",
       "      <td>1</td>\n",
       "      <td>0</td>\n",
       "      <td>0</td>\n",
       "    </tr>\n",
       "    <tr>\n",
       "      <th>25</th>\n",
       "      <td>30대</td>\n",
       "      <td>남</td>\n",
       "      <td>언론</td>\n",
       "      <td>NO</td>\n",
       "      <td>YES</td>\n",
       "      <td>스릴러</td>\n",
       "      <td>2</td>\n",
       "      <td>0</td>\n",
       "      <td>3</td>\n",
       "      <td>0</td>\n",
       "      <td>1</td>\n",
       "      <td>4</td>\n",
       "    </tr>\n",
       "    <tr>\n",
       "      <th>26</th>\n",
       "      <td>10대</td>\n",
       "      <td>여</td>\n",
       "      <td>학생</td>\n",
       "      <td>NO</td>\n",
       "      <td>YES</td>\n",
       "      <td>로맨틱</td>\n",
       "      <td>0</td>\n",
       "      <td>1</td>\n",
       "      <td>6</td>\n",
       "      <td>0</td>\n",
       "      <td>1</td>\n",
       "      <td>2</td>\n",
       "    </tr>\n",
       "    <tr>\n",
       "      <th>27</th>\n",
       "      <td>20대</td>\n",
       "      <td>남</td>\n",
       "      <td>학생</td>\n",
       "      <td>NO</td>\n",
       "      <td>NO</td>\n",
       "      <td>코미디</td>\n",
       "      <td>1</td>\n",
       "      <td>0</td>\n",
       "      <td>6</td>\n",
       "      <td>0</td>\n",
       "      <td>0</td>\n",
       "      <td>6</td>\n",
       "    </tr>\n",
       "    <tr>\n",
       "      <th>28</th>\n",
       "      <td>30대</td>\n",
       "      <td>여</td>\n",
       "      <td>IT</td>\n",
       "      <td>YES</td>\n",
       "      <td>NO</td>\n",
       "      <td>SF</td>\n",
       "      <td>2</td>\n",
       "      <td>1</td>\n",
       "      <td>0</td>\n",
       "      <td>1</td>\n",
       "      <td>0</td>\n",
       "      <td>0</td>\n",
       "    </tr>\n",
       "    <tr>\n",
       "      <th>29</th>\n",
       "      <td>10대</td>\n",
       "      <td>남</td>\n",
       "      <td>학생</td>\n",
       "      <td>NO</td>\n",
       "      <td>NO</td>\n",
       "      <td>액션</td>\n",
       "      <td>0</td>\n",
       "      <td>0</td>\n",
       "      <td>6</td>\n",
       "      <td>0</td>\n",
       "      <td>0</td>\n",
       "      <td>5</td>\n",
       "    </tr>\n",
       "    <tr>\n",
       "      <th>30</th>\n",
       "      <td>10대</td>\n",
       "      <td>남</td>\n",
       "      <td>무직</td>\n",
       "      <td>NO</td>\n",
       "      <td>NO</td>\n",
       "      <td>무협</td>\n",
       "      <td>0</td>\n",
       "      <td>0</td>\n",
       "      <td>2</td>\n",
       "      <td>0</td>\n",
       "      <td>0</td>\n",
       "      <td>3</td>\n",
       "    </tr>\n",
       "    <tr>\n",
       "      <th>31</th>\n",
       "      <td>30대</td>\n",
       "      <td>남</td>\n",
       "      <td>언론</td>\n",
       "      <td>YES</td>\n",
       "      <td>NO</td>\n",
       "      <td>스릴러</td>\n",
       "      <td>2</td>\n",
       "      <td>0</td>\n",
       "      <td>3</td>\n",
       "      <td>1</td>\n",
       "      <td>0</td>\n",
       "      <td>4</td>\n",
       "    </tr>\n",
       "    <tr>\n",
       "      <th>32</th>\n",
       "      <td>30대</td>\n",
       "      <td>남</td>\n",
       "      <td>무직</td>\n",
       "      <td>NO</td>\n",
       "      <td>NO</td>\n",
       "      <td>무협</td>\n",
       "      <td>2</td>\n",
       "      <td>0</td>\n",
       "      <td>2</td>\n",
       "      <td>0</td>\n",
       "      <td>0</td>\n",
       "      <td>3</td>\n",
       "    </tr>\n",
       "    <tr>\n",
       "      <th>33</th>\n",
       "      <td>30대</td>\n",
       "      <td>여</td>\n",
       "      <td>IT</td>\n",
       "      <td>YES</td>\n",
       "      <td>NO</td>\n",
       "      <td>SF</td>\n",
       "      <td>2</td>\n",
       "      <td>1</td>\n",
       "      <td>0</td>\n",
       "      <td>1</td>\n",
       "      <td>0</td>\n",
       "      <td>0</td>\n",
       "    </tr>\n",
       "    <tr>\n",
       "      <th>34</th>\n",
       "      <td>20대</td>\n",
       "      <td>남</td>\n",
       "      <td>무직</td>\n",
       "      <td>NO</td>\n",
       "      <td>NO</td>\n",
       "      <td>무협</td>\n",
       "      <td>1</td>\n",
       "      <td>0</td>\n",
       "      <td>2</td>\n",
       "      <td>0</td>\n",
       "      <td>0</td>\n",
       "      <td>3</td>\n",
       "    </tr>\n",
       "    <tr>\n",
       "      <th>35</th>\n",
       "      <td>40대</td>\n",
       "      <td>남</td>\n",
       "      <td>홍보/마케팅</td>\n",
       "      <td>NO</td>\n",
       "      <td>NO</td>\n",
       "      <td>공포</td>\n",
       "      <td>3</td>\n",
       "      <td>0</td>\n",
       "      <td>7</td>\n",
       "      <td>0</td>\n",
       "      <td>0</td>\n",
       "      <td>1</td>\n",
       "    </tr>\n",
       "    <tr>\n",
       "      <th>36</th>\n",
       "      <td>40대</td>\n",
       "      <td>남</td>\n",
       "      <td>무직</td>\n",
       "      <td>NO</td>\n",
       "      <td>NO</td>\n",
       "      <td>무협</td>\n",
       "      <td>3</td>\n",
       "      <td>0</td>\n",
       "      <td>2</td>\n",
       "      <td>0</td>\n",
       "      <td>0</td>\n",
       "      <td>3</td>\n",
       "    </tr>\n",
       "    <tr>\n",
       "      <th>37</th>\n",
       "      <td>40대</td>\n",
       "      <td>남</td>\n",
       "      <td>무직</td>\n",
       "      <td>NO</td>\n",
       "      <td>NO</td>\n",
       "      <td>무협</td>\n",
       "      <td>3</td>\n",
       "      <td>0</td>\n",
       "      <td>2</td>\n",
       "      <td>0</td>\n",
       "      <td>0</td>\n",
       "      <td>3</td>\n",
       "    </tr>\n",
       "    <tr>\n",
       "      <th>38</th>\n",
       "      <td>20대</td>\n",
       "      <td>여</td>\n",
       "      <td>홍보/마케팅</td>\n",
       "      <td>YES</td>\n",
       "      <td>NO</td>\n",
       "      <td>로맨틱</td>\n",
       "      <td>1</td>\n",
       "      <td>1</td>\n",
       "      <td>7</td>\n",
       "      <td>1</td>\n",
       "      <td>0</td>\n",
       "      <td>2</td>\n",
       "    </tr>\n",
       "  </tbody>\n",
       "</table>\n",
       "</div>"
      ],
      "text/plain": [
       "     나이 성별      직업 결혼여부 이성친구   장르  age  gender  job  marry  lover  genre\n",
       "0   20대  여    디자이너   NO  YES  로맨틱    1       1    1      0      1      2\n",
       "1   40대  남  홍보/마케팅   NO   NO   공포    3       0    7      0      0      1\n",
       "2   10대  여  홍보/마케팅   NO  YES  로맨틱    0       1    7      0      1      2\n",
       "3   20대  여    디자이너  YES   NO  로맨틱    1       1    1      1      0      2\n",
       "4   10대  남      학생   NO   NO   액션    0       0    6      0      0      5\n",
       "5   40대  남     자영업   NO   NO   공포    3       0    5      0      0      1\n",
       "6   10대  남      학생   NO   NO   액션    0       0    6      0      0      5\n",
       "7   30대  남      IT   NO  YES   SF    2       0    0      0      1      0\n",
       "8   30대  남      언론  YES   NO  스릴러    2       0    3      1      0      4\n",
       "9   40대  남     자영업   NO   NO   공포    3       0    5      0      0      1\n",
       "10  10대  남      학생   NO   NO   액션    0       0    6      0      0      5\n",
       "11  20대  여  홍보/마케팅  YES   NO  로맨틱    1       1    7      1      0      2\n",
       "12  30대  여      IT  YES   NO   SF    2       1    0      1      0      0\n",
       "13  30대  남      언론  YES   NO  스릴러    2       0    3      1      0      4\n",
       "14  10대  여      학생   NO  YES  로맨틱    0       1    6      0      1      2\n",
       "15  20대  남      학생   NO   NO  코미디    1       0    6      0      0      6\n",
       "16  20대  여    디자이너  YES   NO  로맨틱    1       1    1      1      0      2\n",
       "17  30대  남      언론   NO  YES  스릴러    2       0    3      0      1      4\n",
       "18  30대  남      영업   NO   NO  코미디    2       0    4      0      0      6\n",
       "19  10대  남      학생   NO   NO   액션    0       0    6      0      0      5\n",
       "20  10대  여      학생   NO  YES  로맨틱    0       1    6      0      1      2\n",
       "21  30대  남      영업   NO   NO  코미디    2       0    4      0      0      6\n",
       "22  40대  남      영업   NO   NO   공포    3       0    4      0      0      1\n",
       "23  40대  남  홍보/마케팅   NO   NO  코미디    3       0    7      0      0      6\n",
       "24  30대  남      IT  YES   NO   SF    2       0    0      1      0      0\n",
       "25  30대  남      언론   NO  YES  스릴러    2       0    3      0      1      4\n",
       "26  10대  여      학생   NO  YES  로맨틱    0       1    6      0      1      2\n",
       "27  20대  남      학생   NO   NO  코미디    1       0    6      0      0      6\n",
       "28  30대  여      IT  YES   NO   SF    2       1    0      1      0      0\n",
       "29  10대  남      학생   NO   NO   액션    0       0    6      0      0      5\n",
       "30  10대  남      무직   NO   NO   무협    0       0    2      0      0      3\n",
       "31  30대  남      언론  YES   NO  스릴러    2       0    3      1      0      4\n",
       "32  30대  남      무직   NO   NO   무협    2       0    2      0      0      3\n",
       "33  30대  여      IT  YES   NO   SF    2       1    0      1      0      0\n",
       "34  20대  남      무직   NO   NO   무협    1       0    2      0      0      3\n",
       "35  40대  남  홍보/마케팅   NO   NO   공포    3       0    7      0      0      1\n",
       "36  40대  남      무직   NO   NO   무협    3       0    2      0      0      3\n",
       "37  40대  남      무직   NO   NO   무협    3       0    2      0      0      3\n",
       "38  20대  여  홍보/마케팅  YES   NO  로맨틱    1       1    7      1      0      2"
      ]
     },
     "execution_count": 104,
     "metadata": {},
     "output_type": "execute_result"
    }
   ],
   "source": [
    "movies # 나이 : "
   ]
  },
  {
   "cell_type": "markdown",
   "id": "82130b8d-6e32-4f2b-b200-488c95bc84e5",
   "metadata": {},
   "source": [
    "#### 데이터분리"
   ]
  },
  {
   "cell_type": "code",
   "execution_count": 105,
   "id": "c4f58757-9708-45e3-af07-2b55e6865dc3",
   "metadata": {},
   "outputs": [],
   "source": [
    "data = movies.iloc[:, 6:11]\n",
    "target = movies.genre"
   ]
  },
  {
   "cell_type": "markdown",
   "id": "34489540-a7ed-498b-91d6-459600dffe68",
   "metadata": {},
   "source": [
    "### 나이브베이즈 분석\n",
    "+ #### sklearn에서 제공하는 나이브베이즈 알고리즘은 3가지\n",
    "+ #### BernolliNB : 이진데이터, 종속변수가 예/아니오 일때 사용\n",
    "+ #### MultinomialNB : 텍스트, 다항데이터, 종속변수가 3가지 이상일 때 사용\n",
    "+ #### GaussianNB : 연속형 데이터"
   ]
  },
  {
   "cell_type": "code",
   "execution_count": 106,
   "id": "93a10caa-b322-4021-89f0-e60482dd59ad",
   "metadata": {},
   "outputs": [
    {
     "data": {
      "text/plain": [
       "0.8461538461538461"
      ]
     },
     "execution_count": 106,
     "metadata": {},
     "output_type": "execute_result"
    }
   ],
   "source": [
    "bayes = MultinomialNB()\n",
    "bayes.fit(data,target)\n",
    "bayes.score(data, target)"
   ]
  },
  {
   "cell_type": "markdown",
   "id": "a36592d8-0839-4ed0-beb2-3d5632dc61c8",
   "metadata": {},
   "source": [
    "#### 20대, 여, IT, 미혼, 애인없음 인 고객에게 추천할 영화장르는?"
   ]
  },
  {
   "cell_type": "code",
   "execution_count": 109,
   "id": "79817d4d-6773-44e0-857b-1d24daaf4af2",
   "metadata": {},
   "outputs": [
    {
     "data": {
      "text/plain": [
       "array([[1, 1, 0, 0, 0]])"
      ]
     },
     "execution_count": 109,
     "metadata": {},
     "output_type": "execute_result"
    }
   ],
   "source": [
    "cust = np.array([[1, 1, 0, 0, 0]])\n",
    "cust"
   ]
  },
  {
   "cell_type": "code",
   "execution_count": 108,
   "id": "2717846b-5b2b-418e-bda3-4e88235b8407",
   "metadata": {},
   "outputs": [
    {
     "name": "stderr",
     "output_type": "stream",
     "text": [
      "/opt/miniconda3/lib/python3.7/site-packages/sklearn/base.py:442: UserWarning: X does not have valid feature names, but MultinomialNB was fitted with feature names\n",
      "  \"X does not have valid feature names, but\"\n"
     ]
    },
    {
     "data": {
      "text/plain": [
       "array([0], dtype=int8)"
      ]
     },
     "execution_count": 108,
     "metadata": {},
     "output_type": "execute_result"
    }
   ],
   "source": [
    "bayes.predict(cust)"
   ]
  },
  {
   "cell_type": "markdown",
   "id": "9a228b34-2f56-4543-bd36-4e2e6b63bf5c",
   "metadata": {},
   "source": [
    "#### 0 : SF"
   ]
  },
  {
   "cell_type": "markdown",
   "id": "b883a87a-715c-4840-abbc-abf0b893a899",
   "metadata": {},
   "source": [
    "#### 대출관련 문제를 나이브베이즈로 분석하기\n",
    "+ 집은 없고 결혼했으며 회사경력 3년인 밥의 대출여부"
   ]
  },
  {
   "cell_type": "code",
   "execution_count": 90,
   "id": "f71ee8c1-1757-48da-a22e-f81073c9a782",
   "metadata": {},
   "outputs": [],
   "source": [
    "from sklearn.naive_bayes import BernoulliNB"
   ]
  },
  {
   "cell_type": "code",
   "execution_count": 114,
   "id": "46a963de-2449-47b7-8df8-9142df7dcd5e",
   "metadata": {},
   "outputs": [],
   "source": [
    "loan2 = pd.DataFrame()\n",
    "loan2['Owner'] = ['Yes', 'No', 'No', 'Yes', 'No', 'No', 'Yes', 'No', 'No', 'Yes']\n",
    "loan2['Marital'] = ['Single', 'Married', 'Single', 'Married', 'Divorced', 'Married', 'Divorced', 'Married', 'Married', 'Single']\n",
    "loan2['Job'] = [3, 4, 5, 4, 2, 4, 2, 3, 3, 2]\n",
    "loan2['Defaulted'] = ['No', 'No', 'No', 'No', 'Yes', 'No', 'No', 'Yes', 'No', 'Yes']"
   ]
  },
  {
   "cell_type": "code",
   "execution_count": 115,
   "id": "cad17911-10d0-4094-bca2-b79c06e3fe32",
   "metadata": {},
   "outputs": [
    {
     "data": {
      "text/html": [
       "<div>\n",
       "<style scoped>\n",
       "    .dataframe tbody tr th:only-of-type {\n",
       "        vertical-align: middle;\n",
       "    }\n",
       "\n",
       "    .dataframe tbody tr th {\n",
       "        vertical-align: top;\n",
       "    }\n",
       "\n",
       "    .dataframe thead th {\n",
       "        text-align: right;\n",
       "    }\n",
       "</style>\n",
       "<table border=\"1\" class=\"dataframe\">\n",
       "  <thead>\n",
       "    <tr style=\"text-align: right;\">\n",
       "      <th></th>\n",
       "      <th>Owner</th>\n",
       "      <th>Marital</th>\n",
       "      <th>Job</th>\n",
       "      <th>Defaulted</th>\n",
       "    </tr>\n",
       "  </thead>\n",
       "  <tbody>\n",
       "    <tr>\n",
       "      <th>0</th>\n",
       "      <td>Yes</td>\n",
       "      <td>Single</td>\n",
       "      <td>3</td>\n",
       "      <td>No</td>\n",
       "    </tr>\n",
       "    <tr>\n",
       "      <th>1</th>\n",
       "      <td>No</td>\n",
       "      <td>Married</td>\n",
       "      <td>4</td>\n",
       "      <td>No</td>\n",
       "    </tr>\n",
       "    <tr>\n",
       "      <th>2</th>\n",
       "      <td>No</td>\n",
       "      <td>Single</td>\n",
       "      <td>5</td>\n",
       "      <td>No</td>\n",
       "    </tr>\n",
       "    <tr>\n",
       "      <th>3</th>\n",
       "      <td>Yes</td>\n",
       "      <td>Married</td>\n",
       "      <td>4</td>\n",
       "      <td>No</td>\n",
       "    </tr>\n",
       "    <tr>\n",
       "      <th>4</th>\n",
       "      <td>No</td>\n",
       "      <td>Divorced</td>\n",
       "      <td>2</td>\n",
       "      <td>Yes</td>\n",
       "    </tr>\n",
       "    <tr>\n",
       "      <th>5</th>\n",
       "      <td>No</td>\n",
       "      <td>Married</td>\n",
       "      <td>4</td>\n",
       "      <td>No</td>\n",
       "    </tr>\n",
       "    <tr>\n",
       "      <th>6</th>\n",
       "      <td>Yes</td>\n",
       "      <td>Divorced</td>\n",
       "      <td>2</td>\n",
       "      <td>No</td>\n",
       "    </tr>\n",
       "    <tr>\n",
       "      <th>7</th>\n",
       "      <td>No</td>\n",
       "      <td>Married</td>\n",
       "      <td>3</td>\n",
       "      <td>Yes</td>\n",
       "    </tr>\n",
       "    <tr>\n",
       "      <th>8</th>\n",
       "      <td>No</td>\n",
       "      <td>Married</td>\n",
       "      <td>3</td>\n",
       "      <td>No</td>\n",
       "    </tr>\n",
       "    <tr>\n",
       "      <th>9</th>\n",
       "      <td>Yes</td>\n",
       "      <td>Single</td>\n",
       "      <td>2</td>\n",
       "      <td>Yes</td>\n",
       "    </tr>\n",
       "  </tbody>\n",
       "</table>\n",
       "</div>"
      ],
      "text/plain": [
       "  Owner   Marital  Job Defaulted\n",
       "0   Yes    Single    3        No\n",
       "1    No   Married    4        No\n",
       "2    No    Single    5        No\n",
       "3   Yes   Married    4        No\n",
       "4    No  Divorced    2       Yes\n",
       "5    No   Married    4        No\n",
       "6   Yes  Divorced    2        No\n",
       "7    No   Married    3       Yes\n",
       "8    No   Married    3        No\n",
       "9   Yes    Single    2       Yes"
      ]
     },
     "execution_count": 115,
     "metadata": {},
     "output_type": "execute_result"
    }
   ],
   "source": [
    "loan2"
   ]
  },
  {
   "cell_type": "code",
   "execution_count": 116,
   "id": "d514c37b-b4a7-4891-b6ec-27eb468d6e72",
   "metadata": {},
   "outputs": [
    {
     "data": {
      "text/plain": [
       "<AxesSubplot:xlabel='Defaulted', ylabel='count'>"
      ]
     },
     "execution_count": 116,
     "metadata": {},
     "output_type": "execute_result"
    },
    {
     "data": {
      "image/png": "[encoded data removed]",
      "text/plain": [
       "<Figure size 432x288 with 1 Axes>"
      ]
     },
     "metadata": {
      "needs_background": "light"
     },
     "output_type": "display_data"
    }
   ],
   "source": [
    "sns.countplot(x='Defaulted', data=loan2)"
   ]
  },
  {
   "cell_type": "code",
   "execution_count": 117,
   "id": "b93fd063-7c40-46f8-bbea-8deabde88737",
   "metadata": {},
   "outputs": [],
   "source": [
    "cols2 = ['Owner','Marital','Job','Defaulted']\n",
    "ncols2 = ['집','결혼','직업','대출']\n",
    "for ix, c in enumerate(cols2):\n",
    "    x = pd.Categorical(loan2[c])\n",
    "    loan2[ncols2[ix]] = pd.Series(x).cat.codes"
   ]
  },
  {
   "cell_type": "code",
   "execution_count": 118,
   "id": "da790519-468d-4ce1-bf1d-311af3a31489",
   "metadata": {},
   "outputs": [
    {
     "data": {
      "text/html": [
       "<div>\n",
       "<style scoped>\n",
       "    .dataframe tbody tr th:only-of-type {\n",
       "        vertical-align: middle;\n",
       "    }\n",
       "\n",
       "    .dataframe tbody tr th {\n",
       "        vertical-align: top;\n",
       "    }\n",
       "\n",
       "    .dataframe thead th {\n",
       "        text-align: right;\n",
       "    }\n",
       "</style>\n",
       "<table border=\"1\" class=\"dataframe\">\n",
       "  <thead>\n",
       "    <tr style=\"text-align: right;\">\n",
       "      <th></th>\n",
       "      <th>Owner</th>\n",
       "      <th>Marital</th>\n",
       "      <th>Job</th>\n",
       "      <th>Defaulted</th>\n",
       "      <th>집</th>\n",
       "      <th>결혼</th>\n",
       "      <th>직업</th>\n",
       "      <th>대출</th>\n",
       "    </tr>\n",
       "  </thead>\n",
       "  <tbody>\n",
       "    <tr>\n",
       "      <th>0</th>\n",
       "      <td>Yes</td>\n",
       "      <td>Single</td>\n",
       "      <td>3</td>\n",
       "      <td>No</td>\n",
       "      <td>1</td>\n",
       "      <td>2</td>\n",
       "      <td>1</td>\n",
       "      <td>0</td>\n",
       "    </tr>\n",
       "    <tr>\n",
       "      <th>1</th>\n",
       "      <td>No</td>\n",
       "      <td>Married</td>\n",
       "      <td>4</td>\n",
       "      <td>No</td>\n",
       "      <td>0</td>\n",
       "      <td>1</td>\n",
       "      <td>2</td>\n",
       "      <td>0</td>\n",
       "    </tr>\n",
       "    <tr>\n",
       "      <th>2</th>\n",
       "      <td>No</td>\n",
       "      <td>Single</td>\n",
       "      <td>5</td>\n",
       "      <td>No</td>\n",
       "      <td>0</td>\n",
       "      <td>2</td>\n",
       "      <td>3</td>\n",
       "      <td>0</td>\n",
       "    </tr>\n",
       "    <tr>\n",
       "      <th>3</th>\n",
       "      <td>Yes</td>\n",
       "      <td>Married</td>\n",
       "      <td>4</td>\n",
       "      <td>No</td>\n",
       "      <td>1</td>\n",
       "      <td>1</td>\n",
       "      <td>2</td>\n",
       "      <td>0</td>\n",
       "    </tr>\n",
       "    <tr>\n",
       "      <th>4</th>\n",
       "      <td>No</td>\n",
       "      <td>Divorced</td>\n",
       "      <td>2</td>\n",
       "      <td>Yes</td>\n",
       "      <td>0</td>\n",
       "      <td>0</td>\n",
       "      <td>0</td>\n",
       "      <td>1</td>\n",
       "    </tr>\n",
       "    <tr>\n",
       "      <th>5</th>\n",
       "      <td>No</td>\n",
       "      <td>Married</td>\n",
       "      <td>4</td>\n",
       "      <td>No</td>\n",
       "      <td>0</td>\n",
       "      <td>1</td>\n",
       "      <td>2</td>\n",
       "      <td>0</td>\n",
       "    </tr>\n",
       "    <tr>\n",
       "      <th>6</th>\n",
       "      <td>Yes</td>\n",
       "      <td>Divorced</td>\n",
       "      <td>2</td>\n",
       "      <td>No</td>\n",
       "      <td>1</td>\n",
       "      <td>0</td>\n",
       "      <td>0</td>\n",
       "      <td>0</td>\n",
       "    </tr>\n",
       "    <tr>\n",
       "      <th>7</th>\n",
       "      <td>No</td>\n",
       "      <td>Married</td>\n",
       "      <td>3</td>\n",
       "      <td>Yes</td>\n",
       "      <td>0</td>\n",
       "      <td>1</td>\n",
       "      <td>1</td>\n",
       "      <td>1</td>\n",
       "    </tr>\n",
       "    <tr>\n",
       "      <th>8</th>\n",
       "      <td>No</td>\n",
       "      <td>Married</td>\n",
       "      <td>3</td>\n",
       "      <td>No</td>\n",
       "      <td>0</td>\n",
       "      <td>1</td>\n",
       "      <td>1</td>\n",
       "      <td>0</td>\n",
       "    </tr>\n",
       "    <tr>\n",
       "      <th>9</th>\n",
       "      <td>Yes</td>\n",
       "      <td>Single</td>\n",
       "      <td>2</td>\n",
       "      <td>Yes</td>\n",
       "      <td>1</td>\n",
       "      <td>2</td>\n",
       "      <td>0</td>\n",
       "      <td>1</td>\n",
       "    </tr>\n",
       "  </tbody>\n",
       "</table>\n",
       "</div>"
      ],
      "text/plain": [
       "  Owner   Marital  Job Defaulted  집  결혼  직업  대출\n",
       "0   Yes    Single    3        No  1   2   1   0\n",
       "1    No   Married    4        No  0   1   2   0\n",
       "2    No    Single    5        No  0   2   3   0\n",
       "3   Yes   Married    4        No  1   1   2   0\n",
       "4    No  Divorced    2       Yes  0   0   0   1\n",
       "5    No   Married    4        No  0   1   2   0\n",
       "6   Yes  Divorced    2        No  1   0   0   0\n",
       "7    No   Married    3       Yes  0   1   1   1\n",
       "8    No   Married    3        No  0   1   1   0\n",
       "9   Yes    Single    2       Yes  1   2   0   1"
      ]
     },
     "execution_count": 118,
     "metadata": {},
     "output_type": "execute_result"
    }
   ],
   "source": [
    "loan2"
   ]
  },
  {
   "cell_type": "code",
   "execution_count": 119,
   "id": "9baeba5f-5903-4c9b-9f0c-260a032b0171",
   "metadata": {},
   "outputs": [],
   "source": [
    "data2 = loan2.iloc[:, 4:7]\n",
    "target2 = loan2.대출"
   ]
  },
  {
   "cell_type": "code",
   "execution_count": 120,
   "id": "8b22ac8f-5f50-440f-8a44-9d9817f66ef8",
   "metadata": {},
   "outputs": [
    {
     "data": {
      "text/plain": [
       "0.7"
      ]
     },
     "execution_count": 120,
     "metadata": {},
     "output_type": "execute_result"
    }
   ],
   "source": [
    "bayes = BernoulliNB()\n",
    "bayes.fit(data2,target2)\n",
    "bayes.score(data2, target2)"
   ]
  },
  {
   "cell_type": "code",
   "execution_count": 121,
   "id": "b4484da2-6f75-4a6b-9a9a-10922a9a483d",
   "metadata": {},
   "outputs": [
    {
     "data": {
      "text/plain": [
       "array([[0, 1, 1]])"
      ]
     },
     "execution_count": 121,
     "metadata": {},
     "output_type": "execute_result"
    }
   ],
   "source": [
    "cust1 = np.array([[0, 1, 1]])\n",
    "cust1"
   ]
  },
  {
   "cell_type": "code",
   "execution_count": 122,
   "id": "026b7461-35ef-40c2-b5a3-8bc309ab8602",
   "metadata": {},
   "outputs": [
    {
     "name": "stderr",
     "output_type": "stream",
     "text": [
      "/opt/miniconda3/lib/python3.7/site-packages/sklearn/base.py:442: UserWarning: X does not have valid feature names, but BernoulliNB was fitted with feature names\n",
      "  \"X does not have valid feature names, but\"\n"
     ]
    },
    {
     "data": {
      "text/plain": [
       "array([0], dtype=int8)"
      ]
     },
     "execution_count": 122,
     "metadata": {},
     "output_type": "execute_result"
    }
   ],
   "source": [
    "bayes.predict(cust1)"
   ]
  },
  {
   "cell_type": "code",
   "execution_count": null,
   "id": "4d4ffdf1-740b-4985-9791-bb1ccb05e636",
   "metadata": {},
   "outputs": [],
   "source": []
  },
  {
   "cell_type": "markdown",
   "id": "853997c3-a641-415d-8cb6-1ff4b33b2b5a",
   "metadata": {},
   "source": [
    "#### 대출관련 데이터를 이용한 분류 알고리즘 성능 비교\n",
    "+ 로지스틱, 의사결정, 나이브베이즈 비교\n",
    "+ 단, 훈련시와 테스트시 정확도 함께 출력"
   ]
  },
  {
   "cell_type": "code",
   "execution_count": 200,
   "id": "4f9a78ad-c6fc-4753-a368-7db707c08237",
   "metadata": {},
   "outputs": [],
   "source": [
    "loan = pd.read_csv('data/loan.csv')"
   ]
  },
  {
   "cell_type": "code",
   "execution_count": 201,
   "id": "0c595f4f-92cf-4de9-9d66-8fddedf653ec",
   "metadata": {},
   "outputs": [
    {
     "data": {
      "text/html": [
       "<div>\n",
       "<style scoped>\n",
       "    .dataframe tbody tr th:only-of-type {\n",
       "        vertical-align: middle;\n",
       "    }\n",
       "\n",
       "    .dataframe tbody tr th {\n",
       "        vertical-align: top;\n",
       "    }\n",
       "\n",
       "    .dataframe thead th {\n",
       "        text-align: right;\n",
       "    }\n",
       "</style>\n",
       "<table border=\"1\" class=\"dataframe\">\n",
       "  <thead>\n",
       "    <tr style=\"text-align: right;\">\n",
       "      <th></th>\n",
       "      <th>loan_id</th>\n",
       "      <th>loan_purpose</th>\n",
       "      <th>is_first_loan</th>\n",
       "      <th>total_credit_card_limit</th>\n",
       "      <th>avg_percentage_credit_card_limit_used_last_year</th>\n",
       "      <th>saving_amount</th>\n",
       "      <th>checking_amount</th>\n",
       "      <th>is_employed</th>\n",
       "      <th>yearly_salary</th>\n",
       "      <th>age</th>\n",
       "      <th>dependent_number</th>\n",
       "      <th>label</th>\n",
       "    </tr>\n",
       "  </thead>\n",
       "  <tbody>\n",
       "    <tr>\n",
       "      <th>0</th>\n",
       "      <td>A_1</td>\n",
       "      <td>personal</td>\n",
       "      <td>1</td>\n",
       "      <td>7900</td>\n",
       "      <td>0.80</td>\n",
       "      <td>1103</td>\n",
       "      <td>6393</td>\n",
       "      <td>1</td>\n",
       "      <td>16400</td>\n",
       "      <td>42</td>\n",
       "      <td>4</td>\n",
       "      <td>0</td>\n",
       "    </tr>\n",
       "    <tr>\n",
       "      <th>1</th>\n",
       "      <td>A_2</td>\n",
       "      <td>personal</td>\n",
       "      <td>0</td>\n",
       "      <td>3300</td>\n",
       "      <td>0.29</td>\n",
       "      <td>2588</td>\n",
       "      <td>832</td>\n",
       "      <td>1</td>\n",
       "      <td>75500</td>\n",
       "      <td>56</td>\n",
       "      <td>1</td>\n",
       "      <td>0</td>\n",
       "    </tr>\n",
       "    <tr>\n",
       "      <th>2</th>\n",
       "      <td>A_3</td>\n",
       "      <td>personal</td>\n",
       "      <td>0</td>\n",
       "      <td>7600</td>\n",
       "      <td>0.90</td>\n",
       "      <td>1651</td>\n",
       "      <td>8868</td>\n",
       "      <td>1</td>\n",
       "      <td>59000</td>\n",
       "      <td>46</td>\n",
       "      <td>1</td>\n",
       "      <td>0</td>\n",
       "    </tr>\n",
       "    <tr>\n",
       "      <th>3</th>\n",
       "      <td>A_4</td>\n",
       "      <td>personal</td>\n",
       "      <td>1</td>\n",
       "      <td>3400</td>\n",
       "      <td>0.38</td>\n",
       "      <td>1269</td>\n",
       "      <td>6863</td>\n",
       "      <td>1</td>\n",
       "      <td>26000</td>\n",
       "      <td>55</td>\n",
       "      <td>8</td>\n",
       "      <td>0</td>\n",
       "    </tr>\n",
       "    <tr>\n",
       "      <th>4</th>\n",
       "      <td>A_5</td>\n",
       "      <td>emergency</td>\n",
       "      <td>0</td>\n",
       "      <td>2600</td>\n",
       "      <td>0.89</td>\n",
       "      <td>1310</td>\n",
       "      <td>3423</td>\n",
       "      <td>1</td>\n",
       "      <td>9700</td>\n",
       "      <td>41</td>\n",
       "      <td>4</td>\n",
       "      <td>1</td>\n",
       "    </tr>\n",
       "  </tbody>\n",
       "</table>\n",
       "</div>"
      ],
      "text/plain": [
       "  loan_id loan_purpose  is_first_loan  total_credit_card_limit  \\\n",
       "0     A_1     personal              1                     7900   \n",
       "1     A_2     personal              0                     3300   \n",
       "2     A_3     personal              0                     7600   \n",
       "3     A_4     personal              1                     3400   \n",
       "4     A_5    emergency              0                     2600   \n",
       "\n",
       "   avg_percentage_credit_card_limit_used_last_year  saving_amount  \\\n",
       "0                                             0.80           1103   \n",
       "1                                             0.29           2588   \n",
       "2                                             0.90           1651   \n",
       "3                                             0.38           1269   \n",
       "4                                             0.89           1310   \n",
       "\n",
       "   checking_amount  is_employed  yearly_salary  age  dependent_number  label  \n",
       "0             6393            1          16400   42                 4      0  \n",
       "1              832            1          75500   56                 1      0  \n",
       "2             8868            1          59000   46                 1      0  \n",
       "3             6863            1          26000   55                 8      0  \n",
       "4             3423            1           9700   41                 4      1  "
      ]
     },
     "execution_count": 201,
     "metadata": {},
     "output_type": "execute_result"
    }
   ],
   "source": [
    "loan.head()"
   ]
  },
  {
   "cell_type": "code",
   "execution_count": 202,
   "id": "610124f3-2502-4296-b4c0-fd9b172ea0ad",
   "metadata": {},
   "outputs": [
    {
     "name": "stdout",
     "output_type": "stream",
     "text": [
      "<class 'pandas.core.frame.DataFrame'>\n",
      "RangeIndex: 46751 entries, 0 to 46750\n",
      "Data columns (total 12 columns):\n",
      " #   Column                                           Non-Null Count  Dtype  \n",
      "---  ------                                           --------------  -----  \n",
      " 0   loan_id                                          46751 non-null  object \n",
      " 1   loan_purpose                                     46751 non-null  object \n",
      " 2   is_first_loan                                    46751 non-null  int64  \n",
      " 3   total_credit_card_limit                          46751 non-null  int64  \n",
      " 4   avg_percentage_credit_card_limit_used_last_year  46751 non-null  float64\n",
      " 5   saving_amount                                    46751 non-null  int64  \n",
      " 6   checking_amount                                  46751 non-null  int64  \n",
      " 7   is_employed                                      46751 non-null  int64  \n",
      " 8   yearly_salary                                    46751 non-null  int64  \n",
      " 9   age                                              46751 non-null  int64  \n",
      " 10  dependent_number                                 46751 non-null  int64  \n",
      " 11  label                                            46751 non-null  int64  \n",
      "dtypes: float64(1), int64(9), object(2)\n",
      "memory usage: 4.3+ MB\n"
     ]
    }
   ],
   "source": [
    "loan.info()"
   ]
  },
  {
   "cell_type": "code",
   "execution_count": 204,
   "id": "b5ad36db-c086-466a-af51-4805380c58ff",
   "metadata": {},
   "outputs": [
    {
     "data": {
      "text/plain": [
       "0    30550\n",
       "1    16201\n",
       "Name: label, dtype: int64"
      ]
     },
     "execution_count": 204,
     "metadata": {},
     "output_type": "execute_result"
    }
   ],
   "source": [
    "loan.label.value_counts() # 대출허용 및 비허용"
   ]
  },
  {
   "cell_type": "code",
   "execution_count": 205,
   "id": "a8c4b055-3070-4c93-8b4c-9e08dc071ed2",
   "metadata": {},
   "outputs": [
    {
     "data": {
      "text/plain": [
       "1    25313\n",
       "0    21438\n",
       "Name: is_first_loan, dtype: int64"
      ]
     },
     "execution_count": 205,
     "metadata": {},
     "output_type": "execute_result"
    }
   ],
   "source": [
    "loan.is_first_loan.value_counts()"
   ]
  },
  {
   "cell_type": "code",
   "execution_count": 206,
   "id": "d529e324-a6ad-4ec4-9222-29805bc5a04f",
   "metadata": {},
   "outputs": [
    {
     "data": {
      "text/plain": [
       "1    42886\n",
       "0     3865\n",
       "Name: is_employed, dtype: int64"
      ]
     },
     "execution_count": 206,
     "metadata": {},
     "output_type": "execute_result"
    }
   ],
   "source": [
    "loan.is_employed.value_counts()"
   ]
  },
  {
   "cell_type": "code",
   "execution_count": 207,
   "id": "7d989b81-479d-42d4-8b60-8bc86fad9573",
   "metadata": {},
   "outputs": [
    {
     "data": {
      "text/plain": [
       "1    9894\n",
       "8    8582\n",
       "2    8552\n",
       "3    6047\n",
       "4    4467\n",
       "5    3256\n",
       "6    2373\n",
       "7    1842\n",
       "0    1738\n",
       "Name: dependent_number, dtype: int64"
      ]
     },
     "execution_count": 207,
     "metadata": {},
     "output_type": "execute_result"
    }
   ],
   "source": [
    "loan.dependent_number.value_counts()"
   ]
  },
  {
   "cell_type": "markdown",
   "id": "b19914c0-5835-4c0e-b44a-9b2b20438ed8",
   "metadata": {},
   "source": [
    "#### 탐색적 분석, 다양한 시각화"
   ]
  },
  {
   "cell_type": "markdown",
   "id": "2a7024f4-e669-4d19-9446-301e283e80f6",
   "metadata": {},
   "source": [
    "#### 전처리 \n",
    "+ 1. 연속형 데이터를 명목형 데이터로 변환(파생변수 생성)\n",
    "+ 2. 명목형 변수에 대해 레이블인코딩 실시"
   ]
  },
  {
   "cell_type": "code",
   "execution_count": 208,
   "id": "a303894a-c16f-4602-983c-a843cd88c6e1",
   "metadata": {},
   "outputs": [
    {
     "data": {
      "text/html": [
       "<div>\n",
       "<style scoped>\n",
       "    .dataframe tbody tr th:only-of-type {\n",
       "        vertical-align: middle;\n",
       "    }\n",
       "\n",
       "    .dataframe tbody tr th {\n",
       "        vertical-align: top;\n",
       "    }\n",
       "\n",
       "    .dataframe thead th {\n",
       "        text-align: right;\n",
       "    }\n",
       "</style>\n",
       "<table border=\"1\" class=\"dataframe\">\n",
       "  <thead>\n",
       "    <tr style=\"text-align: right;\">\n",
       "      <th></th>\n",
       "      <th>loan_id</th>\n",
       "      <th>loan_purpose</th>\n",
       "      <th>is_first_loan</th>\n",
       "      <th>total_credit_card_limit</th>\n",
       "      <th>avg_percentage_credit_card_limit_used_last_year</th>\n",
       "      <th>saving_amount</th>\n",
       "      <th>checking_amount</th>\n",
       "      <th>is_employed</th>\n",
       "      <th>yearly_salary</th>\n",
       "      <th>age</th>\n",
       "      <th>dependent_number</th>\n",
       "      <th>label</th>\n",
       "    </tr>\n",
       "  </thead>\n",
       "  <tbody>\n",
       "    <tr>\n",
       "      <th>0</th>\n",
       "      <td>A_1</td>\n",
       "      <td>3</td>\n",
       "      <td>1</td>\n",
       "      <td>7900</td>\n",
       "      <td>0.80</td>\n",
       "      <td>1103</td>\n",
       "      <td>6393</td>\n",
       "      <td>1</td>\n",
       "      <td>16400</td>\n",
       "      <td>42</td>\n",
       "      <td>4</td>\n",
       "      <td>0</td>\n",
       "    </tr>\n",
       "    <tr>\n",
       "      <th>1</th>\n",
       "      <td>A_2</td>\n",
       "      <td>3</td>\n",
       "      <td>0</td>\n",
       "      <td>3300</td>\n",
       "      <td>0.29</td>\n",
       "      <td>2588</td>\n",
       "      <td>832</td>\n",
       "      <td>1</td>\n",
       "      <td>75500</td>\n",
       "      <td>56</td>\n",
       "      <td>1</td>\n",
       "      <td>0</td>\n",
       "    </tr>\n",
       "    <tr>\n",
       "      <th>2</th>\n",
       "      <td>A_3</td>\n",
       "      <td>3</td>\n",
       "      <td>0</td>\n",
       "      <td>7600</td>\n",
       "      <td>0.90</td>\n",
       "      <td>1651</td>\n",
       "      <td>8868</td>\n",
       "      <td>1</td>\n",
       "      <td>59000</td>\n",
       "      <td>46</td>\n",
       "      <td>1</td>\n",
       "      <td>0</td>\n",
       "    </tr>\n",
       "    <tr>\n",
       "      <th>3</th>\n",
       "      <td>A_4</td>\n",
       "      <td>3</td>\n",
       "      <td>1</td>\n",
       "      <td>3400</td>\n",
       "      <td>0.38</td>\n",
       "      <td>1269</td>\n",
       "      <td>6863</td>\n",
       "      <td>1</td>\n",
       "      <td>26000</td>\n",
       "      <td>55</td>\n",
       "      <td>8</td>\n",
       "      <td>0</td>\n",
       "    </tr>\n",
       "    <tr>\n",
       "      <th>4</th>\n",
       "      <td>A_5</td>\n",
       "      <td>0</td>\n",
       "      <td>0</td>\n",
       "      <td>2600</td>\n",
       "      <td>0.89</td>\n",
       "      <td>1310</td>\n",
       "      <td>3423</td>\n",
       "      <td>1</td>\n",
       "      <td>9700</td>\n",
       "      <td>41</td>\n",
       "      <td>4</td>\n",
       "      <td>1</td>\n",
       "    </tr>\n",
       "  </tbody>\n",
       "</table>\n",
       "</div>"
      ],
      "text/plain": [
       "  loan_id  loan_purpose  is_first_loan  total_credit_card_limit  \\\n",
       "0     A_1             3              1                     7900   \n",
       "1     A_2             3              0                     3300   \n",
       "2     A_3             3              0                     7600   \n",
       "3     A_4             3              1                     3400   \n",
       "4     A_5             0              0                     2600   \n",
       "\n",
       "   avg_percentage_credit_card_limit_used_last_year  saving_amount  \\\n",
       "0                                             0.80           1103   \n",
       "1                                             0.29           2588   \n",
       "2                                             0.90           1651   \n",
       "3                                             0.38           1269   \n",
       "4                                             0.89           1310   \n",
       "\n",
       "   checking_amount  is_employed  yearly_salary  age  dependent_number  label  \n",
       "0             6393            1          16400   42                 4      0  \n",
       "1              832            1          75500   56                 1      0  \n",
       "2             8868            1          59000   46                 1      0  \n",
       "3             6863            1          26000   55                 8      0  \n",
       "4             3423            1           9700   41                 4      1  "
      ]
     },
     "execution_count": 208,
     "metadata": {},
     "output_type": "execute_result"
    }
   ],
   "source": [
    "loan['loan_purpose'] = pd.Categorical(loan['loan_purpose'])\n",
    "loan['loan_purpose'] = loan['loan_purpose'].cat.codes\n",
    "loan.head()"
   ]
  },
  {
   "cell_type": "markdown",
   "id": "dcf4530d-3357-4754-8627-f565a919525f",
   "metadata": {},
   "source": [
    "#### 데이터 분할"
   ]
  },
  {
   "cell_type": "code",
   "execution_count": 210,
   "id": "12bf3f9a-1789-45b1-8871-bfcfa32c8ff0",
   "metadata": {},
   "outputs": [],
   "source": [
    "data = loan.iloc[:,1:11]\n",
    "target = loan.label"
   ]
  },
  {
   "cell_type": "code",
   "execution_count": 211,
   "id": "aa660230-4cd1-413a-a7c3-92d75e49d649",
   "metadata": {},
   "outputs": [],
   "source": [
    "Xtrain, Xtest, ytrain, ytest = train_test_split(data, target, train_size=0.3, stratify = target, random_state=2111111455)"
   ]
  },
  {
   "cell_type": "markdown",
   "id": "0f91f20d-3440-47df-b7c7-09d9789578fb",
   "metadata": {},
   "source": [
    "#### 로지스틱 회귀"
   ]
  },
  {
   "cell_type": "code",
   "execution_count": 214,
   "id": "08181370-22a6-4a10-aa53-32d0f6a1cedf",
   "metadata": {},
   "outputs": [],
   "source": [
    "lr = LogisticRegression(max_iter = 1000)\n",
    "lr.fit(Xtrain,ytrain)\n",
    "pred = lr.predict(Xtest)"
   ]
  },
  {
   "cell_type": "code",
   "execution_count": 215,
   "id": "73cfdb8d-3041-4042-b7bc-02a0601ee2e5",
   "metadata": {},
   "outputs": [
    {
     "data": {
      "text/plain": [
       "(0.876078431372549, 0.8735561938519831)"
      ]
     },
     "execution_count": 215,
     "metadata": {},
     "output_type": "execute_result"
    }
   ],
   "source": [
    "lr.score(Xtrain, ytrain), accuracy_score(ytest, pred)"
   ]
  },
  {
   "cell_type": "code",
   "execution_count": 223,
   "id": "325589f7-02c8-4995-a866-699e6e1ccf2d",
   "metadata": {},
   "outputs": [
    {
     "data": {
      "text/plain": [
       "array([[19067,  2318],\n",
       "       [ 1050, 10291]])"
      ]
     },
     "execution_count": 223,
     "metadata": {},
     "output_type": "execute_result"
    }
   ],
   "source": [
    "confusion_matrix(ytest, pred)"
   ]
  },
  {
   "cell_type": "markdown",
   "id": "2169d784-0ada-4956-a93e-c18bcc573d99",
   "metadata": {},
   "source": [
    "#### 의사결정나무"
   ]
  },
  {
   "cell_type": "code",
   "execution_count": 220,
   "id": "9f5c7a81-c6ab-419c-8454-442af651c768",
   "metadata": {},
   "outputs": [],
   "source": [
    "dtc = DecisionTreeClassifier(max_depth=6)\n",
    "dtc.fit(Xtrain, ytrain)\n",
    "pred = dtc.predict(Xtest)"
   ]
  },
  {
   "cell_type": "code",
   "execution_count": 221,
   "id": "1e35305a-74b7-4241-aa72-5ad3c0bf0308",
   "metadata": {},
   "outputs": [
    {
     "data": {
      "text/plain": [
       "(0.9096613190730838, 0.8970848866344803)"
      ]
     },
     "execution_count": 221,
     "metadata": {},
     "output_type": "execute_result"
    }
   ],
   "source": [
    "dtc.score(Xtrain, ytrain), accuracy_score(ytest, pred)"
   ]
  },
  {
   "cell_type": "code",
   "execution_count": 224,
   "id": "1a8cbeb5-b096-4200-b2eb-e3b888f90650",
   "metadata": {},
   "outputs": [
    {
     "data": {
      "text/plain": [
       "array([[19067,  2318],\n",
       "       [ 1050, 10291]])"
      ]
     },
     "execution_count": 224,
     "metadata": {},
     "output_type": "execute_result"
    }
   ],
   "source": [
    "confusion_matrix(ytest, pred)"
   ]
  },
  {
   "cell_type": "markdown",
   "id": "2607fdfc-133f-4516-9d68-81cc0bf211fd",
   "metadata": {},
   "source": [
    "#### 나이브베이즈"
   ]
  },
  {
   "cell_type": "code",
   "execution_count": 225,
   "id": "daf439aa-7451-409c-8e3e-0f544c7e0f53",
   "metadata": {},
   "outputs": [],
   "source": [
    "by = BernoulliNB()\n",
    "by.fit(Xtrain, ytrain)\n",
    "pred = by.predict(Xtest)"
   ]
  },
  {
   "cell_type": "code",
   "execution_count": 226,
   "id": "cd34b267-c05d-4f2a-9dbf-fdb177821899",
   "metadata": {},
   "outputs": [
    {
     "data": {
      "text/plain": [
       "(0.7036007130124777, 0.7039051518670171)"
      ]
     },
     "execution_count": 226,
     "metadata": {},
     "output_type": "execute_result"
    }
   ],
   "source": [
    "by.score(Xtrain, ytrain), accuracy_score(ytest, pred)"
   ]
  },
  {
   "cell_type": "code",
   "execution_count": 227,
   "id": "02b62f47-cc2c-440f-b9ce-6b482dda078d",
   "metadata": {},
   "outputs": [
    {
     "data": {
      "text/plain": [
       "array([[20858,   527],\n",
       "       [ 9163,  2178]])"
      ]
     },
     "execution_count": 227,
     "metadata": {},
     "output_type": "execute_result"
    }
   ],
   "source": [
    "confusion_matrix(ytest, pred)"
   ]
  },
  {
   "cell_type": "code",
   "execution_count": 222,
   "id": "57a89e61-b2e2-4344-8df7-6b776d55c38c",
   "metadata": {},
   "outputs": [],
   "source": [
    "from sklearn.linear_model import LogisticRegression\n",
    "from sklearn.tree import DecisionTreeClassifier\n",
    "import pydotplus\n",
    "from sklearn import tree\n",
    "from sklearn.metrics import r2_score\n",
    "from sklearn.metrics import mean_squared_error\n",
    "from pandas.plotting import scatter_matrix\n",
    "from sklearn.metrics import confusion_matrix"
   ]
  },
  {
   "cell_type": "code",
   "execution_count": null,
   "id": "c06cbd86-f927-490f-9d9e-c5c86e56a495",
   "metadata": {},
   "outputs": [],
   "source": []
  },
  {
   "cell_type": "code",
   "execution_count": null,
   "id": "8ec8c3e9-483e-4d4a-9c08-9e317d498be9",
   "metadata": {},
   "outputs": [],
   "source": []
  },
  {
   "cell_type": "code",
   "execution_count": null,
   "id": "434c9cf4-3a5a-4323-a1e0-4446e72ff02c",
   "metadata": {},
   "outputs": [],
   "source": []
  },
  {
   "cell_type": "code",
   "execution_count": null,
   "id": "bc043d3d-01b9-44de-b6e2-59746d77a6ef",
   "metadata": {},
   "outputs": [],
   "source": []
  },
  {
   "cell_type": "code",
   "execution_count": null,
   "id": "27893710-fb2a-4d70-8886-a0db03b3b89f",
   "metadata": {},
   "outputs": [],
   "source": []
  },
  {
   "cell_type": "code",
   "execution_count": null,
   "id": "baa4f2b5-ef82-4020-9890-1d207cb7bf31",
   "metadata": {},
   "outputs": [],
   "source": []
  },
  {
   "cell_type": "code",
   "execution_count": null,
   "id": "e5524ac1-5613-4626-ae80-73775f01a23d",
   "metadata": {},
   "outputs": [],
   "source": []
  },
  {
   "cell_type": "code",
   "execution_count": null,
   "id": "b6523631-e9b0-4840-872d-ba25edd41586",
   "metadata": {},
   "outputs": [],
   "source": []
  },
  {
   "cell_type": "code",
   "execution_count": null,
   "id": "f21c2d0f-00b9-4918-9e6d-2f8a4329a18c",
   "metadata": {},
   "outputs": [],
   "source": []
  },
  {
   "cell_type": "code",
   "execution_count": null,
   "id": "b86eee43-bc31-4550-b87e-279db5f40b6c",
   "metadata": {},
   "outputs": [],
   "source": []
  }
 ],
 "metadata": {
  "kernelspec": {
   "display_name": "Python 3 (ipykernel)",
   "language": "python",
   "name": "python3"
  },
  "language_info": {
   "codemirror_mode": {
    "name": "ipython",
    "version": 3
   },
   "file_extension": ".py",
   "mimetype": "text/x-python",
   "name": "python",
   "nbconvert_exporter": "python",
   "pygments_lexer": "ipython3",
   "version": "3.7.10"
  }
 },
 "nbformat": 4,
 "nbformat_minor": 5
}
