{
 "cells": [
  {
   "cell_type": "markdown",
   "id": "08e8ad86-f9bf-4b97-8d35-f765977b6bb7",
   "metadata": {},
   "source": []
  },
  {
   "cell_type": "code",
   "execution_count": null,
   "id": "f2b89556-7dee-46c2-8cf9-ac4d68e37484",
   "metadata": {},
   "outputs": [],
   "source": []
  },
  {
   "cell_type": "code",
   "execution_count": null,
   "id": "7955d8db-0b5b-4acd-9122-10e969500046",
   "metadata": {},
   "outputs": [],
   "source": []
  },
  {
   "cell_type": "code",
   "execution_count": 1,
   "id": "b8bcccfe-60db-4fb8-8b9b-9e20743f2e08",
   "metadata": {},
   "outputs": [],
   "source": [
    "import pandas as pd\n",
    "import numpy as np"
   ]
  },
  {
   "cell_type": "code",
   "execution_count": 2,
   "id": "307bcfa6-ddd7-47cd-8f2c-aa21129096e0",
   "metadata": {},
   "outputs": [],
   "source": [
    "pd.set_option('display.max_columns', 50)"
   ]
  },
  {
   "cell_type": "code",
   "execution_count": 3,
   "id": "0b602e1d-b830-4cc0-b436-470682a2ea9b",
   "metadata": {},
   "outputs": [],
   "source": [
    "pd.set_option('display.width', 100)"
   ]
  },
  {
   "cell_type": "code",
   "execution_count": 4,
   "id": "c1822650-3ab2-4def-b7fe-16fd0beb92c1",
   "metadata": {},
   "outputs": [],
   "source": [
    "pd.set_option('display.max_colwidth', 250)"
   ]
  },
  {
   "cell_type": "code",
   "execution_count": 7,
   "id": "180cc93d-9d60-44b5-a360-bcd73d73a4a0",
   "metadata": {},
   "outputs": [],
   "source": [
    "a = pd.DataFrame([\n",
    "    [1, np.nan, 3],\n",
    "    [np.nan, 8, 10],\n",
    "    [15, 20, 18]])"
   ]
  },
  {
   "cell_type": "code",
   "execution_count": 8,
   "id": "3f52d9c4-36e6-4f75-8709-05621a517cc4",
   "metadata": {},
   "outputs": [
    {
     "data": {
      "text/html": [
       "<div>\n",
       "<style scoped>\n",
       "    .dataframe tbody tr th:only-of-type {\n",
       "        vertical-align: middle;\n",
       "    }\n",
       "\n",
       "    .dataframe tbody tr th {\n",
       "        vertical-align: top;\n",
       "    }\n",
       "\n",
       "    .dataframe thead th {\n",
       "        text-align: right;\n",
       "    }\n",
       "</style>\n",
       "<table border=\"1\" class=\"dataframe\">\n",
       "  <thead>\n",
       "    <tr style=\"text-align: right;\">\n",
       "      <th></th>\n",
       "      <th>0</th>\n",
       "      <th>1</th>\n",
       "      <th>2</th>\n",
       "    </tr>\n",
       "  </thead>\n",
       "  <tbody>\n",
       "    <tr>\n",
       "      <th>0</th>\n",
       "      <td>1.0</td>\n",
       "      <td>NaN</td>\n",
       "      <td>3</td>\n",
       "    </tr>\n",
       "    <tr>\n",
       "      <th>1</th>\n",
       "      <td>NaN</td>\n",
       "      <td>8.0</td>\n",
       "      <td>10</td>\n",
       "    </tr>\n",
       "    <tr>\n",
       "      <th>2</th>\n",
       "      <td>15.0</td>\n",
       "      <td>20.0</td>\n",
       "      <td>18</td>\n",
       "    </tr>\n",
       "  </tbody>\n",
       "</table>\n",
       "</div>"
      ],
      "text/plain": [
       "      0     1   2\n",
       "0   1.0   NaN   3\n",
       "1   NaN   8.0  10\n",
       "2  15.0  20.0  18"
      ]
     },
     "execution_count": 8,
     "metadata": {},
     "output_type": "execute_result"
    }
   ],
   "source": [
    "a"
   ]
  },
  {
   "cell_type": "markdown",
   "id": "ef65ffdc-9fa3-480f-9281-318e579b7cc7",
   "metadata": {},
   "source": [
    "### 열을 기준으로 결측치 삭제 : axis=1"
   ]
  },
  {
   "cell_type": "code",
   "execution_count": 9,
   "id": "b028dbb5-ec89-4437-bda2-5abd6343b28b",
   "metadata": {},
   "outputs": [
    {
     "data": {
      "text/html": [
       "<div>\n",
       "<style scoped>\n",
       "    .dataframe tbody tr th:only-of-type {\n",
       "        vertical-align: middle;\n",
       "    }\n",
       "\n",
       "    .dataframe tbody tr th {\n",
       "        vertical-align: top;\n",
       "    }\n",
       "\n",
       "    .dataframe thead th {\n",
       "        text-align: right;\n",
       "    }\n",
       "</style>\n",
       "<table border=\"1\" class=\"dataframe\">\n",
       "  <thead>\n",
       "    <tr style=\"text-align: right;\">\n",
       "      <th></th>\n",
       "      <th>2</th>\n",
       "    </tr>\n",
       "  </thead>\n",
       "  <tbody>\n",
       "    <tr>\n",
       "      <th>0</th>\n",
       "      <td>3</td>\n",
       "    </tr>\n",
       "    <tr>\n",
       "      <th>1</th>\n",
       "      <td>10</td>\n",
       "    </tr>\n",
       "    <tr>\n",
       "      <th>2</th>\n",
       "      <td>18</td>\n",
       "    </tr>\n",
       "  </tbody>\n",
       "</table>\n",
       "</div>"
      ],
      "text/plain": [
       "    2\n",
       "0   3\n",
       "1  10\n",
       "2  18"
      ]
     },
     "execution_count": 9,
     "metadata": {},
     "output_type": "execute_result"
    }
   ],
   "source": [
    "a.dropna(axis=1)"
   ]
  },
  {
   "cell_type": "code",
   "execution_count": 12,
   "id": "9eb96dab-caa6-4574-98b7-378c78b42306",
   "metadata": {},
   "outputs": [
    {
     "data": {
      "text/html": [
       "<div>\n",
       "<style scoped>\n",
       "    .dataframe tbody tr th:only-of-type {\n",
       "        vertical-align: middle;\n",
       "    }\n",
       "\n",
       "    .dataframe tbody tr th {\n",
       "        vertical-align: top;\n",
       "    }\n",
       "\n",
       "    .dataframe thead th {\n",
       "        text-align: right;\n",
       "    }\n",
       "</style>\n",
       "<table border=\"1\" class=\"dataframe\">\n",
       "  <thead>\n",
       "    <tr style=\"text-align: right;\">\n",
       "      <th></th>\n",
       "      <th>0</th>\n",
       "      <th>1</th>\n",
       "      <th>2</th>\n",
       "    </tr>\n",
       "  </thead>\n",
       "  <tbody>\n",
       "    <tr>\n",
       "      <th>2</th>\n",
       "      <td>15.0</td>\n",
       "      <td>20.0</td>\n",
       "      <td>18</td>\n",
       "    </tr>\n",
       "  </tbody>\n",
       "</table>\n",
       "</div>"
      ],
      "text/plain": [
       "      0     1   2\n",
       "2  15.0  20.0  18"
      ]
     },
     "execution_count": 12,
     "metadata": {},
     "output_type": "execute_result"
    }
   ],
   "source": [
    "a.dropna(axis=0)"
   ]
  },
  {
   "cell_type": "markdown",
   "id": "d1aaca45-c976-44da-9fa4-64a3a41acdc0",
   "metadata": {},
   "source": [
    "### 결측치를 포함하는 열 제거\n",
    "+ dropna(행/열, 삭제방향)"
   ]
  },
  {
   "cell_type": "code",
   "execution_count": 13,
   "id": "977b06a6-e5e1-4c65-9af2-fb90816548f9",
   "metadata": {},
   "outputs": [
    {
     "data": {
      "text/html": [
       "<div>\n",
       "<style scoped>\n",
       "    .dataframe tbody tr th:only-of-type {\n",
       "        vertical-align: middle;\n",
       "    }\n",
       "\n",
       "    .dataframe tbody tr th {\n",
       "        vertical-align: top;\n",
       "    }\n",
       "\n",
       "    .dataframe thead th {\n",
       "        text-align: right;\n",
       "    }\n",
       "</style>\n",
       "<table border=\"1\" class=\"dataframe\">\n",
       "  <thead>\n",
       "    <tr style=\"text-align: right;\">\n",
       "      <th></th>\n",
       "      <th>0</th>\n",
       "      <th>1</th>\n",
       "      <th>2</th>\n",
       "    </tr>\n",
       "  </thead>\n",
       "  <tbody>\n",
       "    <tr>\n",
       "      <th>2</th>\n",
       "      <td>15.0</td>\n",
       "      <td>20.0</td>\n",
       "      <td>18</td>\n",
       "    </tr>\n",
       "  </tbody>\n",
       "</table>\n",
       "</div>"
      ],
      "text/plain": [
       "      0     1   2\n",
       "2  15.0  20.0  18"
      ]
     },
     "execution_count": 13,
     "metadata": {},
     "output_type": "execute_result"
    }
   ],
   "source": [
    "a.dropna()"
   ]
  },
  {
   "cell_type": "markdown",
   "id": "de5c989e-07b8-4acc-9619-e7a2102821f4",
   "metadata": {},
   "source": [
    "### 대체값 채우기 : fillna\n",
    "+ fillna(대체값, 기준대체값, 축방향)\n",
    "+ method 라는 속성을 이용해서 대체값을 넣을 기준 지정"
   ]
  },
  {
   "cell_type": "code",
   "execution_count": 18,
   "id": "7a590ef6-146d-471d-a006-dcb0856ae30d",
   "metadata": {},
   "outputs": [
    {
     "data": {
      "text/html": [
       "<div>\n",
       "<style scoped>\n",
       "    .dataframe tbody tr th:only-of-type {\n",
       "        vertical-align: middle;\n",
       "    }\n",
       "\n",
       "    .dataframe tbody tr th {\n",
       "        vertical-align: top;\n",
       "    }\n",
       "\n",
       "    .dataframe thead th {\n",
       "        text-align: right;\n",
       "    }\n",
       "</style>\n",
       "<table border=\"1\" class=\"dataframe\">\n",
       "  <thead>\n",
       "    <tr style=\"text-align: right;\">\n",
       "      <th></th>\n",
       "      <th>0</th>\n",
       "      <th>1</th>\n",
       "      <th>2</th>\n",
       "    </tr>\n",
       "  </thead>\n",
       "  <tbody>\n",
       "    <tr>\n",
       "      <th>0</th>\n",
       "      <td>1.0</td>\n",
       "      <td>0.0</td>\n",
       "      <td>3</td>\n",
       "    </tr>\n",
       "    <tr>\n",
       "      <th>1</th>\n",
       "      <td>0.0</td>\n",
       "      <td>8.0</td>\n",
       "      <td>10</td>\n",
       "    </tr>\n",
       "    <tr>\n",
       "      <th>2</th>\n",
       "      <td>15.0</td>\n",
       "      <td>20.0</td>\n",
       "      <td>18</td>\n",
       "    </tr>\n",
       "  </tbody>\n",
       "</table>\n",
       "</div>"
      ],
      "text/plain": [
       "      0     1   2\n",
       "0   1.0   0.0   3\n",
       "1   0.0   8.0  10\n",
       "2  15.0  20.0  18"
      ]
     },
     "execution_count": 18,
     "metadata": {},
     "output_type": "execute_result"
    }
   ],
   "source": [
    "a.fillna(0) # NaN을 0으로 대체"
   ]
  },
  {
   "cell_type": "markdown",
   "id": "ec378f3c-b531-4cbf-86f8-c284d2e4624b",
   "metadata": {},
   "source": [
    "#### NaN 기준 행의 앞(위)/뒤(아래) 값으로 대체\n",
    "#### axis=0과 동일"
   ]
  },
  {
   "cell_type": "code",
   "execution_count": 20,
   "id": "d114c1d9-a18e-4447-86b9-5491da3c69e9",
   "metadata": {},
   "outputs": [
    {
     "data": {
      "text/html": [
       "<div>\n",
       "<style scoped>\n",
       "    .dataframe tbody tr th:only-of-type {\n",
       "        vertical-align: middle;\n",
       "    }\n",
       "\n",
       "    .dataframe tbody tr th {\n",
       "        vertical-align: top;\n",
       "    }\n",
       "\n",
       "    .dataframe thead th {\n",
       "        text-align: right;\n",
       "    }\n",
       "</style>\n",
       "<table border=\"1\" class=\"dataframe\">\n",
       "  <thead>\n",
       "    <tr style=\"text-align: right;\">\n",
       "      <th></th>\n",
       "      <th>0</th>\n",
       "      <th>1</th>\n",
       "      <th>2</th>\n",
       "    </tr>\n",
       "  </thead>\n",
       "  <tbody>\n",
       "    <tr>\n",
       "      <th>0</th>\n",
       "      <td>1.0</td>\n",
       "      <td>NaN</td>\n",
       "      <td>3</td>\n",
       "    </tr>\n",
       "    <tr>\n",
       "      <th>1</th>\n",
       "      <td>1.0</td>\n",
       "      <td>8.0</td>\n",
       "      <td>10</td>\n",
       "    </tr>\n",
       "    <tr>\n",
       "      <th>2</th>\n",
       "      <td>15.0</td>\n",
       "      <td>20.0</td>\n",
       "      <td>18</td>\n",
       "    </tr>\n",
       "  </tbody>\n",
       "</table>\n",
       "</div>"
      ],
      "text/plain": [
       "      0     1   2\n",
       "0   1.0   NaN   3\n",
       "1   1.0   8.0  10\n",
       "2  15.0  20.0  18"
      ]
     },
     "execution_count": 20,
     "metadata": {},
     "output_type": "execute_result"
    }
   ],
   "source": [
    "a.fillna(method='ffill') #앞"
   ]
  },
  {
   "cell_type": "code",
   "execution_count": 19,
   "id": "5d546d37-dab5-4ba0-a1ca-71f4d82d8533",
   "metadata": {},
   "outputs": [
    {
     "data": {
      "text/html": [
       "<div>\n",
       "<style scoped>\n",
       "    .dataframe tbody tr th:only-of-type {\n",
       "        vertical-align: middle;\n",
       "    }\n",
       "\n",
       "    .dataframe tbody tr th {\n",
       "        vertical-align: top;\n",
       "    }\n",
       "\n",
       "    .dataframe thead th {\n",
       "        text-align: right;\n",
       "    }\n",
       "</style>\n",
       "<table border=\"1\" class=\"dataframe\">\n",
       "  <thead>\n",
       "    <tr style=\"text-align: right;\">\n",
       "      <th></th>\n",
       "      <th>0</th>\n",
       "      <th>1</th>\n",
       "      <th>2</th>\n",
       "    </tr>\n",
       "  </thead>\n",
       "  <tbody>\n",
       "    <tr>\n",
       "      <th>0</th>\n",
       "      <td>1.0</td>\n",
       "      <td>8.0</td>\n",
       "      <td>3</td>\n",
       "    </tr>\n",
       "    <tr>\n",
       "      <th>1</th>\n",
       "      <td>15.0</td>\n",
       "      <td>8.0</td>\n",
       "      <td>10</td>\n",
       "    </tr>\n",
       "    <tr>\n",
       "      <th>2</th>\n",
       "      <td>15.0</td>\n",
       "      <td>20.0</td>\n",
       "      <td>18</td>\n",
       "    </tr>\n",
       "  </tbody>\n",
       "</table>\n",
       "</div>"
      ],
      "text/plain": [
       "      0     1   2\n",
       "0   1.0   8.0   3\n",
       "1  15.0   8.0  10\n",
       "2  15.0  20.0  18"
      ]
     },
     "execution_count": 19,
     "metadata": {},
     "output_type": "execute_result"
    }
   ],
   "source": [
    "a.fillna(method='bfill') #뒤"
   ]
  },
  {
   "cell_type": "code",
   "execution_count": 21,
   "id": "0093db93-dbf4-463a-8cd0-c8fa72691d84",
   "metadata": {},
   "outputs": [
    {
     "data": {
      "text/html": [
       "<div>\n",
       "<style scoped>\n",
       "    .dataframe tbody tr th:only-of-type {\n",
       "        vertical-align: middle;\n",
       "    }\n",
       "\n",
       "    .dataframe tbody tr th {\n",
       "        vertical-align: top;\n",
       "    }\n",
       "\n",
       "    .dataframe thead th {\n",
       "        text-align: right;\n",
       "    }\n",
       "</style>\n",
       "<table border=\"1\" class=\"dataframe\">\n",
       "  <thead>\n",
       "    <tr style=\"text-align: right;\">\n",
       "      <th></th>\n",
       "      <th>0</th>\n",
       "      <th>1</th>\n",
       "      <th>2</th>\n",
       "    </tr>\n",
       "  </thead>\n",
       "  <tbody>\n",
       "    <tr>\n",
       "      <th>0</th>\n",
       "      <td>1.0</td>\n",
       "      <td>1.0</td>\n",
       "      <td>3.0</td>\n",
       "    </tr>\n",
       "    <tr>\n",
       "      <th>1</th>\n",
       "      <td>NaN</td>\n",
       "      <td>8.0</td>\n",
       "      <td>10.0</td>\n",
       "    </tr>\n",
       "    <tr>\n",
       "      <th>2</th>\n",
       "      <td>15.0</td>\n",
       "      <td>20.0</td>\n",
       "      <td>18.0</td>\n",
       "    </tr>\n",
       "  </tbody>\n",
       "</table>\n",
       "</div>"
      ],
      "text/plain": [
       "      0     1     2\n",
       "0   1.0   1.0   3.0\n",
       "1   NaN   8.0  10.0\n",
       "2  15.0  20.0  18.0"
      ]
     },
     "execution_count": 21,
     "metadata": {},
     "output_type": "execute_result"
    }
   ],
   "source": [
    "a.fillna(method='ffill', axis=1)"
   ]
  },
  {
   "cell_type": "code",
   "execution_count": 22,
   "id": "0e55037a-87ec-4d0c-b3ee-c4a06cb1a78e",
   "metadata": {},
   "outputs": [
    {
     "data": {
      "text/html": [
       "<div>\n",
       "<style scoped>\n",
       "    .dataframe tbody tr th:only-of-type {\n",
       "        vertical-align: middle;\n",
       "    }\n",
       "\n",
       "    .dataframe tbody tr th {\n",
       "        vertical-align: top;\n",
       "    }\n",
       "\n",
       "    .dataframe thead th {\n",
       "        text-align: right;\n",
       "    }\n",
       "</style>\n",
       "<table border=\"1\" class=\"dataframe\">\n",
       "  <thead>\n",
       "    <tr style=\"text-align: right;\">\n",
       "      <th></th>\n",
       "      <th>0</th>\n",
       "      <th>1</th>\n",
       "      <th>2</th>\n",
       "    </tr>\n",
       "  </thead>\n",
       "  <tbody>\n",
       "    <tr>\n",
       "      <th>0</th>\n",
       "      <td>1.0</td>\n",
       "      <td>3.0</td>\n",
       "      <td>3.0</td>\n",
       "    </tr>\n",
       "    <tr>\n",
       "      <th>1</th>\n",
       "      <td>8.0</td>\n",
       "      <td>8.0</td>\n",
       "      <td>10.0</td>\n",
       "    </tr>\n",
       "    <tr>\n",
       "      <th>2</th>\n",
       "      <td>15.0</td>\n",
       "      <td>20.0</td>\n",
       "      <td>18.0</td>\n",
       "    </tr>\n",
       "  </tbody>\n",
       "</table>\n",
       "</div>"
      ],
      "text/plain": [
       "      0     1     2\n",
       "0   1.0   3.0   3.0\n",
       "1   8.0   8.0  10.0\n",
       "2  15.0  20.0  18.0"
      ]
     },
     "execution_count": 22,
     "metadata": {},
     "output_type": "execute_result"
    }
   ],
   "source": [
    "a.fillna(method='bfill', axis=1)"
   ]
  },
  {
   "cell_type": "markdown",
   "id": "fceae5bb-8973-4c62-b037-4c33c06292c4",
   "metadata": {},
   "source": [
    "#### 데이터 프레임에 새로운 항목 추가하기\n",
    "+ 열을 추가할 때는 객체명[새로운 컬럼명] = 값 목록 사용\n",
    "+ 행을 추가할 때는 객체명.append(Series/Dict객체) 사용"
   ]
  },
  {
   "cell_type": "code",
   "execution_count": 23,
   "id": "871ee8a3-26ea-4585-a4ff-549de6be75c9",
   "metadata": {},
   "outputs": [
    {
     "data": {
      "text/html": [
       "<div>\n",
       "<style scoped>\n",
       "    .dataframe tbody tr th:only-of-type {\n",
       "        vertical-align: middle;\n",
       "    }\n",
       "\n",
       "    .dataframe tbody tr th {\n",
       "        vertical-align: top;\n",
       "    }\n",
       "\n",
       "    .dataframe thead th {\n",
       "        text-align: right;\n",
       "    }\n",
       "</style>\n",
       "<table border=\"1\" class=\"dataframe\">\n",
       "  <thead>\n",
       "    <tr style=\"text-align: right;\">\n",
       "      <th></th>\n",
       "    </tr>\n",
       "  </thead>\n",
       "  <tbody>\n",
       "  </tbody>\n",
       "</table>\n",
       "</div>"
      ],
      "text/plain": [
       "Empty DataFrame\n",
       "Columns: []\n",
       "Index: []"
      ]
     },
     "execution_count": 23,
     "metadata": {},
     "output_type": "execute_result"
    }
   ],
   "source": [
    "b = pd.DataFrame()\n",
    "b"
   ]
  },
  {
   "cell_type": "code",
   "execution_count": 24,
   "id": "874058ae-391a-4060-a73b-0602103a8d84",
   "metadata": {},
   "outputs": [
    {
     "data": {
      "text/html": [
       "<div>\n",
       "<style scoped>\n",
       "    .dataframe tbody tr th:only-of-type {\n",
       "        vertical-align: middle;\n",
       "    }\n",
       "\n",
       "    .dataframe tbody tr th {\n",
       "        vertical-align: top;\n",
       "    }\n",
       "\n",
       "    .dataframe thead th {\n",
       "        text-align: right;\n",
       "    }\n",
       "</style>\n",
       "<table border=\"1\" class=\"dataframe\">\n",
       "  <thead>\n",
       "    <tr style=\"text-align: right;\">\n",
       "      <th></th>\n",
       "      <th>name</th>\n",
       "      <th>kor</th>\n",
       "      <th>eng</th>\n",
       "      <th>mat</th>\n",
       "    </tr>\n",
       "  </thead>\n",
       "  <tbody>\n",
       "    <tr>\n",
       "      <th>0</th>\n",
       "      <td>혜교</td>\n",
       "      <td>76</td>\n",
       "      <td>54</td>\n",
       "      <td>43</td>\n",
       "    </tr>\n",
       "    <tr>\n",
       "      <th>1</th>\n",
       "      <td>지현</td>\n",
       "      <td>87</td>\n",
       "      <td>65</td>\n",
       "      <td>76</td>\n",
       "    </tr>\n",
       "    <tr>\n",
       "      <th>2</th>\n",
       "      <td>수지</td>\n",
       "      <td>98</td>\n",
       "      <td>76</td>\n",
       "      <td>90</td>\n",
       "    </tr>\n",
       "  </tbody>\n",
       "</table>\n",
       "</div>"
      ],
      "text/plain": [
       "  name  kor  eng  mat\n",
       "0   혜교   76   54   43\n",
       "1   지현   87   65   76\n",
       "2   수지   98   76   90"
      ]
     },
     "execution_count": 24,
     "metadata": {},
     "output_type": "execute_result"
    }
   ],
   "source": [
    "b['name'] = ['혜교', '지현', '수지']\n",
    "b['kor'] = [76,87,98]\n",
    "b['eng'] = [54,65,76]\n",
    "b['mat'] = [43,76,90]\n",
    "b"
   ]
  },
  {
   "cell_type": "code",
   "execution_count": 42,
   "id": "3b3bbf30-a3ab-450e-81f8-38b1c7d812fb",
   "metadata": {},
   "outputs": [],
   "source": [
    "b1 = pd.DataFrame()"
   ]
  },
  {
   "cell_type": "code",
   "execution_count": 43,
   "id": "ef347730-e845-495a-9fb0-9bffb11fc3e0",
   "metadata": {},
   "outputs": [],
   "source": [
    "hekyo = pd.Series(['혜교', 76, 54, 43], index=['name', 'kor', 'eng', 'mat'])\n",
    "jihyun = pd.Series(['지현', 87, 65, 76], index=['name', 'kor', 'eng', 'mat'])\n"
   ]
  },
  {
   "cell_type": "code",
   "execution_count": 44,
   "id": "f9336f37-2b41-4397-93ae-02bf9d34440b",
   "metadata": {},
   "outputs": [
    {
     "data": {
      "text/html": [
       "<div>\n",
       "<style scoped>\n",
       "    .dataframe tbody tr th:only-of-type {\n",
       "        vertical-align: middle;\n",
       "    }\n",
       "\n",
       "    .dataframe tbody tr th {\n",
       "        vertical-align: top;\n",
       "    }\n",
       "\n",
       "    .dataframe thead th {\n",
       "        text-align: right;\n",
       "    }\n",
       "</style>\n",
       "<table border=\"1\" class=\"dataframe\">\n",
       "  <thead>\n",
       "    <tr style=\"text-align: right;\">\n",
       "      <th></th>\n",
       "    </tr>\n",
       "  </thead>\n",
       "  <tbody>\n",
       "  </tbody>\n",
       "</table>\n",
       "</div>"
      ],
      "text/plain": [
       "Empty DataFrame\n",
       "Columns: []\n",
       "Index: []"
      ]
     },
     "execution_count": 44,
     "metadata": {},
     "output_type": "execute_result"
    }
   ],
   "source": [
    "b1.append(hekyo, ignore_index=True)\n",
    "b1.append(jihyun, ignore_index=True)\n",
    "b1"
   ]
  },
  {
   "cell_type": "code",
   "execution_count": 46,
   "id": "ef2e2a5d-68a8-4c0c-bd18-b3962f1c29db",
   "metadata": {},
   "outputs": [
    {
     "data": {
      "text/html": [
       "<div>\n",
       "<style scoped>\n",
       "    .dataframe tbody tr th:only-of-type {\n",
       "        vertical-align: middle;\n",
       "    }\n",
       "\n",
       "    .dataframe tbody tr th {\n",
       "        vertical-align: top;\n",
       "    }\n",
       "\n",
       "    .dataframe thead th {\n",
       "        text-align: right;\n",
       "    }\n",
       "</style>\n",
       "<table border=\"1\" class=\"dataframe\">\n",
       "  <thead>\n",
       "    <tr style=\"text-align: right;\">\n",
       "      <th></th>\n",
       "      <th>name</th>\n",
       "      <th>kor</th>\n",
       "      <th>eng</th>\n",
       "      <th>mat</th>\n",
       "    </tr>\n",
       "  </thead>\n",
       "  <tbody>\n",
       "    <tr>\n",
       "      <th>2</th>\n",
       "      <td>수지</td>\n",
       "      <td>98</td>\n",
       "      <td>76</td>\n",
       "      <td>90</td>\n",
       "    </tr>\n",
       "  </tbody>\n",
       "</table>\n",
       "</div>"
      ],
      "text/plain": [
       "  name  kor  eng  mat\n",
       "2   수지   98   76   90"
      ]
     },
     "execution_count": 46,
     "metadata": {},
     "output_type": "execute_result"
    }
   ],
   "source": [
    "person = pd.DataFrame({'name':'수지', 'kor':98, 'eng':76, 'mat':90}, index=[2,])\n",
    "person"
   ]
  },
  {
   "cell_type": "code",
   "execution_count": 47,
   "id": "97463c8e-0000-4918-949f-4d8907a9061c",
   "metadata": {},
   "outputs": [
    {
     "data": {
      "text/html": [
       "<div>\n",
       "<style scoped>\n",
       "    .dataframe tbody tr th:only-of-type {\n",
       "        vertical-align: middle;\n",
       "    }\n",
       "\n",
       "    .dataframe tbody tr th {\n",
       "        vertical-align: top;\n",
       "    }\n",
       "\n",
       "    .dataframe thead th {\n",
       "        text-align: right;\n",
       "    }\n",
       "</style>\n",
       "<table border=\"1\" class=\"dataframe\">\n",
       "  <thead>\n",
       "    <tr style=\"text-align: right;\">\n",
       "      <th></th>\n",
       "      <th>name</th>\n",
       "      <th>kor</th>\n",
       "      <th>eng</th>\n",
       "      <th>mat</th>\n",
       "    </tr>\n",
       "  </thead>\n",
       "  <tbody>\n",
       "    <tr>\n",
       "      <th>2</th>\n",
       "      <td>수지</td>\n",
       "      <td>98</td>\n",
       "      <td>76</td>\n",
       "      <td>90</td>\n",
       "    </tr>\n",
       "  </tbody>\n",
       "</table>\n",
       "</div>"
      ],
      "text/plain": [
       "  name  kor  eng  mat\n",
       "2   수지   98   76   90"
      ]
     },
     "execution_count": 47,
     "metadata": {},
     "output_type": "execute_result"
    }
   ],
   "source": [
    "b1 = b1.append(person)\n",
    "b1"
   ]
  },
  {
   "cell_type": "markdown",
   "id": "96814ca4-80f0-4083-8932-6c17e0282a21",
   "metadata": {},
   "source": [
    "#### 데이터프레임에서 rank 다루기\n",
    "+ rank(정렬방법)\n",
    "+ 기본적으로 오름차순으로 처리\n",
    "+ 동일한 값들은 그것들의 평균값으로 순위지정"
   ]
  },
  {
   "cell_type": "code",
   "execution_count": 48,
   "id": "ffe2cae6-6048-4c7f-952c-e43fa02b3e4c",
   "metadata": {},
   "outputs": [
    {
     "data": {
      "text/html": [
       "<div>\n",
       "<style scoped>\n",
       "    .dataframe tbody tr th:only-of-type {\n",
       "        vertical-align: middle;\n",
       "    }\n",
       "\n",
       "    .dataframe tbody tr th {\n",
       "        vertical-align: top;\n",
       "    }\n",
       "\n",
       "    .dataframe thead th {\n",
       "        text-align: right;\n",
       "    }\n",
       "</style>\n",
       "<table border=\"1\" class=\"dataframe\">\n",
       "  <thead>\n",
       "    <tr style=\"text-align: right;\">\n",
       "      <th></th>\n",
       "      <th>name</th>\n",
       "      <th>kor</th>\n",
       "      <th>eng</th>\n",
       "      <th>mat</th>\n",
       "    </tr>\n",
       "  </thead>\n",
       "  <tbody>\n",
       "    <tr>\n",
       "      <th>0</th>\n",
       "      <td>3.0</td>\n",
       "      <td>1.0</td>\n",
       "      <td>1.0</td>\n",
       "      <td>1.0</td>\n",
       "    </tr>\n",
       "    <tr>\n",
       "      <th>1</th>\n",
       "      <td>2.0</td>\n",
       "      <td>2.0</td>\n",
       "      <td>2.0</td>\n",
       "      <td>2.0</td>\n",
       "    </tr>\n",
       "    <tr>\n",
       "      <th>2</th>\n",
       "      <td>1.0</td>\n",
       "      <td>3.0</td>\n",
       "      <td>3.0</td>\n",
       "      <td>3.0</td>\n",
       "    </tr>\n",
       "  </tbody>\n",
       "</table>\n",
       "</div>"
      ],
      "text/plain": [
       "   name  kor  eng  mat\n",
       "0   3.0  1.0  1.0  1.0\n",
       "1   2.0  2.0  2.0  2.0\n",
       "2   1.0  3.0  3.0  3.0"
      ]
     },
     "execution_count": 48,
     "metadata": {},
     "output_type": "execute_result"
    }
   ],
   "source": [
    "b.rank()"
   ]
  },
  {
   "cell_type": "code",
   "execution_count": 53,
   "id": "cf7e4576-ebbb-40e7-8feb-458991ca1859",
   "metadata": {},
   "outputs": [
    {
     "data": {
      "text/html": [
       "<div>\n",
       "<style scoped>\n",
       "    .dataframe tbody tr th:only-of-type {\n",
       "        vertical-align: middle;\n",
       "    }\n",
       "\n",
       "    .dataframe tbody tr th {\n",
       "        vertical-align: top;\n",
       "    }\n",
       "\n",
       "    .dataframe thead th {\n",
       "        text-align: right;\n",
       "    }\n",
       "</style>\n",
       "<table border=\"1\" class=\"dataframe\">\n",
       "  <thead>\n",
       "    <tr style=\"text-align: right;\">\n",
       "      <th></th>\n",
       "      <th>name</th>\n",
       "      <th>kor</th>\n",
       "      <th>eng</th>\n",
       "      <th>mat</th>\n",
       "    </tr>\n",
       "  </thead>\n",
       "  <tbody>\n",
       "    <tr>\n",
       "      <th>0</th>\n",
       "      <td>1.0</td>\n",
       "      <td>3.0</td>\n",
       "      <td>3.0</td>\n",
       "      <td>3.0</td>\n",
       "    </tr>\n",
       "    <tr>\n",
       "      <th>1</th>\n",
       "      <td>2.0</td>\n",
       "      <td>2.0</td>\n",
       "      <td>2.0</td>\n",
       "      <td>2.0</td>\n",
       "    </tr>\n",
       "    <tr>\n",
       "      <th>2</th>\n",
       "      <td>3.0</td>\n",
       "      <td>1.0</td>\n",
       "      <td>1.0</td>\n",
       "      <td>1.0</td>\n",
       "    </tr>\n",
       "  </tbody>\n",
       "</table>\n",
       "</div>"
      ],
      "text/plain": [
       "   name  kor  eng  mat\n",
       "0   1.0  3.0  3.0  3.0\n",
       "1   2.0  2.0  2.0  2.0\n",
       "2   3.0  1.0  1.0  1.0"
      ]
     },
     "execution_count": 53,
     "metadata": {},
     "output_type": "execute_result"
    }
   ],
   "source": [
    "b.rank(ascending=False)"
   ]
  },
  {
   "cell_type": "code",
   "execution_count": 57,
   "id": "782e10ef-b25f-4068-b6a5-758996a08785",
   "metadata": {},
   "outputs": [
    {
     "data": {
      "text/plain": [
       "0    6.5\n",
       "1    1.0\n",
       "2    6.5\n",
       "3    4.5\n",
       "4    3.0\n",
       "5    2.0\n",
       "6    4.5\n",
       "dtype: float64"
      ]
     },
     "execution_count": 57,
     "metadata": {},
     "output_type": "execute_result"
    }
   ],
   "source": [
    "data = [7,-2,7,4,2,0,4]\n",
    "df = pd.Series(data)\n",
    "df.rank()"
   ]
  },
  {
   "cell_type": "code",
   "execution_count": 55,
   "id": "b4001105-c83e-43b0-b962-c76de415f930",
   "metadata": {},
   "outputs": [
    {
     "data": {
      "text/plain": [
       "0    6.0\n",
       "1    1.0\n",
       "2    6.0\n",
       "3    4.0\n",
       "4    3.0\n",
       "5    2.0\n",
       "6    4.0\n",
       "dtype: float64"
      ]
     },
     "execution_count": 55,
     "metadata": {},
     "output_type": "execute_result"
    }
   ],
   "source": [
    "df.rank(method='min') # 동일 순위 지정 방법 = 최소값 지정"
   ]
  },
  {
   "cell_type": "code",
   "execution_count": 56,
   "id": "33ed45df-c523-4c37-80a7-9a31c13586e4",
   "metadata": {},
   "outputs": [
    {
     "data": {
      "text/plain": [
       "0    7.0\n",
       "1    1.0\n",
       "2    7.0\n",
       "3    5.0\n",
       "4    3.0\n",
       "5    2.0\n",
       "6    5.0\n",
       "dtype: float64"
      ]
     },
     "execution_count": 56,
     "metadata": {},
     "output_type": "execute_result"
    }
   ],
   "source": [
    "df.rank(method='max') # 동일 순위 지정 방법 = 최대값 지정"
   ]
  },
  {
   "cell_type": "code",
   "execution_count": 59,
   "id": "be58da31-e8a0-4de5-9a99-67d32f30a737",
   "metadata": {},
   "outputs": [
    {
     "data": {
      "text/plain": [
       "0    6.0\n",
       "1    1.0\n",
       "2    7.0\n",
       "3    4.0\n",
       "4    3.0\n",
       "5    2.0\n",
       "6    5.0\n",
       "dtype: float64"
      ]
     },
     "execution_count": 59,
     "metadata": {},
     "output_type": "execute_result"
    }
   ],
   "source": [
    "df.rank(method='first') #동일순위 - 선착순"
   ]
  },
  {
   "cell_type": "markdown",
   "id": "a2728d1e-40f3-4162-a534-6b2f4c4ee0c4",
   "metadata": {},
   "source": [
    "#### 문자열 처리\n",
    "+ 문자열 관련 함수를 적용하려면 먼저 str 함수로 문자형으로 변환해야 함"
   ]
  },
  {
   "cell_type": "code",
   "execution_count": 62,
   "id": "832076d1-b3c9-40d9-84a0-c46f9ceeb443",
   "metadata": {},
   "outputs": [
    {
     "data": {
      "text/plain": [
       "0    3.0\n",
       "1    9.0\n",
       "2    NaN\n",
       "3    NaN\n",
       "4    3.0\n",
       "5    5.0\n",
       "dtype: float64"
      ]
     },
     "execution_count": 62,
     "metadata": {},
     "output_type": "execute_result"
    }
   ],
   "source": [
    "data1 = ['Tom', '  James  ', np.nan, 12345, 'Vin', 'Steve']\n",
    "df = pd.Series(data1)\n",
    "df.str.len()"
   ]
  },
  {
   "cell_type": "code",
   "execution_count": 66,
   "id": "897ca6cd-97c1-4be3-be96-6b9afe60a532",
   "metadata": {},
   "outputs": [
    {
     "data": {
      "text/plain": [
       "0          tom\n",
       "1      james  \n",
       "2          NaN\n",
       "3          NaN\n",
       "4          vin\n",
       "5        steve\n",
       "dtype: object"
      ]
     },
     "execution_count": 66,
     "metadata": {},
     "output_type": "execute_result"
    }
   ],
   "source": [
    "df.str.lower()\n"
   ]
  },
  {
   "cell_type": "code",
   "execution_count": 65,
   "id": "a07417a2-d9a1-42a8-8fea-6fb47fe03e3e",
   "metadata": {},
   "outputs": [
    {
     "data": {
      "text/plain": [
       "0          TOM\n",
       "1      JAMES  \n",
       "2          NaN\n",
       "3          NaN\n",
       "4          VIN\n",
       "5        STEVE\n",
       "dtype: object"
      ]
     },
     "execution_count": 65,
     "metadata": {},
     "output_type": "execute_result"
    }
   ],
   "source": [
    "df.str.upper()"
   ]
  },
  {
   "cell_type": "code",
   "execution_count": 67,
   "id": "977b7bae-cd39-4f81-a03e-aa4f605c8cc7",
   "metadata": {},
   "outputs": [
    {
     "data": {
      "text/plain": [
       "0          tOM\n",
       "1      jAMES  \n",
       "2          NaN\n",
       "3          NaN\n",
       "4          vIN\n",
       "5        sTEVE\n",
       "dtype: object"
      ]
     },
     "execution_count": 67,
     "metadata": {},
     "output_type": "execute_result"
    }
   ],
   "source": [
    "df.str.swapcase()"
   ]
  },
  {
   "cell_type": "code",
   "execution_count": 71,
   "id": "c063fb9f-b0ea-4eca-a602-889259b3be94",
   "metadata": {},
   "outputs": [
    {
     "data": {
      "text/plain": [
       "0      Tom\n",
       "1    James\n",
       "2      NaN\n",
       "3      NaN\n",
       "4      Vin\n",
       "5    Steve\n",
       "dtype: object"
      ]
     },
     "execution_count": 71,
     "metadata": {},
     "output_type": "execute_result"
    }
   ],
   "source": [
    "df.str.strip()"
   ]
  },
  {
   "cell_type": "code",
   "execution_count": 72,
   "id": "0484a87b-3a75-4dee-87f4-862194fd1b54",
   "metadata": {},
   "outputs": [
    {
     "data": {
      "text/plain": [
       "0          [Tom]\n",
       "1    [  James  ]\n",
       "2            NaN\n",
       "3            NaN\n",
       "4          [Vin]\n",
       "5        [Steve]\n",
       "dtype: object"
      ]
     },
     "execution_count": 72,
     "metadata": {},
     "output_type": "execute_result"
    }
   ],
   "source": [
    "df.str.split(',')"
   ]
  },
  {
   "cell_type": "code",
   "execution_count": 74,
   "id": "820cadde-58d2-4174-b818-3e00fde3418b",
   "metadata": {},
   "outputs": [
    {
     "data": {
      "text/plain": [
       "0    False\n",
       "1    False\n",
       "2      NaN\n",
       "3      NaN\n",
       "4    False\n",
       "5    False\n",
       "dtype: object"
      ]
     },
     "execution_count": 74,
     "metadata": {},
     "output_type": "execute_result"
    }
   ],
   "source": [
    "df.str.contains('123')"
   ]
  },
  {
   "cell_type": "code",
   "execution_count": 75,
   "id": "088bedd0-60a1-4fc1-91fe-dece87a0a0ae",
   "metadata": {},
   "outputs": [
    {
     "data": {
      "text/plain": [
       "0     True\n",
       "1    False\n",
       "2      NaN\n",
       "3      NaN\n",
       "4    False\n",
       "5    False\n",
       "dtype: object"
      ]
     },
     "execution_count": 75,
     "metadata": {},
     "output_type": "execute_result"
    }
   ],
   "source": [
    "df.str.contains('T')"
   ]
  },
  {
   "cell_type": "code",
   "execution_count": 76,
   "id": "799c9ad9-843c-4979-b396-d747da3f5390",
   "metadata": {},
   "outputs": [
    {
     "data": {
      "text/plain": [
       "0    False\n",
       "1     True\n",
       "2      NaN\n",
       "3      NaN\n",
       "4    False\n",
       "5    False\n",
       "dtype: object"
      ]
     },
     "execution_count": 76,
     "metadata": {},
     "output_type": "execute_result"
    }
   ],
   "source": [
    "df.str.contains('es')"
   ]
  },
  {
   "cell_type": "code",
   "execution_count": 77,
   "id": "2c1f8e9a-2f66-4f34-beec-76bcfa75d00d",
   "metadata": {},
   "outputs": [
    {
     "data": {
      "text/plain": [
       "0   -1.0\n",
       "1   -1.0\n",
       "2    NaN\n",
       "3    NaN\n",
       "4   -1.0\n",
       "5   -1.0\n",
       "dtype: float64"
      ]
     },
     "execution_count": 77,
     "metadata": {},
     "output_type": "execute_result"
    }
   ],
   "source": [
    "df.str.find('123') # 일치문자의 인덱스 출력"
   ]
  },
  {
   "cell_type": "code",
   "execution_count": 78,
   "id": "f11fec82-e179-43f0-a452-8f5e9d0f2d65",
   "metadata": {},
   "outputs": [
    {
     "data": {
      "text/plain": [
       "0   -1.0\n",
       "1    5.0\n",
       "2    NaN\n",
       "3    NaN\n",
       "4   -1.0\n",
       "5   -1.0\n",
       "dtype: float64"
      ]
     },
     "execution_count": 78,
     "metadata": {},
     "output_type": "execute_result"
    }
   ],
   "source": [
    "df.str.find('es')"
   ]
  },
  {
   "cell_type": "code",
   "execution_count": 80,
   "id": "6bd11f43-f98d-4007-94e5-20a099269484",
   "metadata": {},
   "outputs": [
    {
     "data": {
      "text/plain": [
       "0    2.0\n",
       "1    4.0\n",
       "2    NaN\n",
       "3    NaN\n",
       "4   -1.0\n",
       "5   -1.0\n",
       "dtype: float64"
      ]
     },
     "execution_count": 80,
     "metadata": {},
     "output_type": "execute_result"
    }
   ],
   "source": [
    "df.str.find('m')"
   ]
  },
  {
   "cell_type": "code",
   "execution_count": 81,
   "id": "2b0fc7a7-6ec4-4fbb-886b-ac4910c6eae2",
   "metadata": {},
   "outputs": [
    {
     "data": {
      "text/plain": [
       "0    [m]\n",
       "1    [m]\n",
       "2    NaN\n",
       "3    NaN\n",
       "4     []\n",
       "5     []\n",
       "dtype: object"
      ]
     },
     "execution_count": 81,
     "metadata": {},
     "output_type": "execute_result"
    }
   ],
   "source": [
    "df.str.findall('m') # 일치문자의 문자가 리스트 출력"
   ]
  },
  {
   "cell_type": "code",
   "execution_count": 82,
   "id": "336816e3-2978-4db4-b8d1-e76cb46fc43a",
   "metadata": {},
   "outputs": [
    {
     "data": {
      "text/plain": [
       "0        []\n",
       "1       [e]\n",
       "2       NaN\n",
       "3       NaN\n",
       "4        []\n",
       "5    [e, e]\n",
       "dtype: object"
      ]
     },
     "execution_count": 82,
     "metadata": {},
     "output_type": "execute_result"
    }
   ],
   "source": [
    "df.str.findall('e')"
   ]
  },
  {
   "cell_type": "markdown",
   "id": "1537c4b1-277b-4abe-843e-16628eea545e",
   "metadata": {},
   "source": [
    "### onehot - encoding 데이터프레임\n",
    "+ 하나의 True와 나머지가 False인 인코딩을 의미\n",
    "+ 컴퓨터는 문자보다 숫자를 더 잘 처리함\n",
    "+ 따라서, 단어/기호를 숫자형태로 바꾸는 기법 필요\n",
    "+ 범주형 데이터로 구성된 분류문제를 푸는 머신러닝/딥러닝에 주로 사용\n",
    "+ 예를 들어 과일이미지를 이용해서 과일이름을 판별하는 경우\n",
    "+ 사과/복숭아/오렌지\n",
    "+ 1   /  2   / 3 -> 100 / 010 / 001"
   ]
  },
  {
   "cell_type": "code",
   "execution_count": 83,
   "id": "36ae82d3-615a-42b1-bdc3-1170456c40ab",
   "metadata": {},
   "outputs": [
    {
     "data": {
      "text/html": [
       "<div>\n",
       "<style scoped>\n",
       "    .dataframe tbody tr th:only-of-type {\n",
       "        vertical-align: middle;\n",
       "    }\n",
       "\n",
       "    .dataframe tbody tr th {\n",
       "        vertical-align: top;\n",
       "    }\n",
       "\n",
       "    .dataframe thead th {\n",
       "        text-align: right;\n",
       "    }\n",
       "</style>\n",
       "<table border=\"1\" class=\"dataframe\">\n",
       "  <thead>\n",
       "    <tr style=\"text-align: right;\">\n",
       "      <th></th>\n",
       "      <th>James</th>\n",
       "      <th>12345</th>\n",
       "      <th>Steve</th>\n",
       "      <th>Tom</th>\n",
       "      <th>Vin</th>\n",
       "    </tr>\n",
       "  </thead>\n",
       "  <tbody>\n",
       "    <tr>\n",
       "      <th>0</th>\n",
       "      <td>0</td>\n",
       "      <td>0</td>\n",
       "      <td>0</td>\n",
       "      <td>1</td>\n",
       "      <td>0</td>\n",
       "    </tr>\n",
       "    <tr>\n",
       "      <th>1</th>\n",
       "      <td>1</td>\n",
       "      <td>0</td>\n",
       "      <td>0</td>\n",
       "      <td>0</td>\n",
       "      <td>0</td>\n",
       "    </tr>\n",
       "    <tr>\n",
       "      <th>2</th>\n",
       "      <td>0</td>\n",
       "      <td>0</td>\n",
       "      <td>0</td>\n",
       "      <td>0</td>\n",
       "      <td>0</td>\n",
       "    </tr>\n",
       "    <tr>\n",
       "      <th>3</th>\n",
       "      <td>0</td>\n",
       "      <td>1</td>\n",
       "      <td>0</td>\n",
       "      <td>0</td>\n",
       "      <td>0</td>\n",
       "    </tr>\n",
       "    <tr>\n",
       "      <th>4</th>\n",
       "      <td>0</td>\n",
       "      <td>0</td>\n",
       "      <td>0</td>\n",
       "      <td>0</td>\n",
       "      <td>1</td>\n",
       "    </tr>\n",
       "    <tr>\n",
       "      <th>5</th>\n",
       "      <td>0</td>\n",
       "      <td>0</td>\n",
       "      <td>1</td>\n",
       "      <td>0</td>\n",
       "      <td>0</td>\n",
       "    </tr>\n",
       "  </tbody>\n",
       "</table>\n",
       "</div>"
      ],
      "text/plain": [
       "     James    12345  Steve  Tom  Vin\n",
       "0          0      0      0    1    0\n",
       "1          1      0      0    0    0\n",
       "2          0      0      0    0    0\n",
       "3          0      1      0    0    0\n",
       "4          0      0      0    0    1\n",
       "5          0      0      1    0    0"
      ]
     },
     "execution_count": 83,
     "metadata": {},
     "output_type": "execute_result"
    }
   ],
   "source": [
    "df.str.get_dummies()\n",
    "### Tom = 00010\n",
    "### Vin = 00001"
   ]
  },
  {
   "cell_type": "markdown",
   "id": "01501bb9-19e9-4a6c-85e0-44d8b408453c",
   "metadata": {},
   "source": [
    "### 데이터프레임 필터링\n",
    "+ 조건을 만족하는 특정 데이터를 추출하려면 []에 조건연산자를 사용한 조건식을 작성하면 됨"
   ]
  },
  {
   "cell_type": "code",
   "execution_count": 84,
   "id": "c81bbe9f-7bdb-4853-bd59-4379ab541cd5",
   "metadata": {},
   "outputs": [
    {
     "data": {
      "text/html": [
       "<div>\n",
       "<style scoped>\n",
       "    .dataframe tbody tr th:only-of-type {\n",
       "        vertical-align: middle;\n",
       "    }\n",
       "\n",
       "    .dataframe tbody tr th {\n",
       "        vertical-align: top;\n",
       "    }\n",
       "\n",
       "    .dataframe thead th {\n",
       "        text-align: right;\n",
       "    }\n",
       "</style>\n",
       "<table border=\"1\" class=\"dataframe\">\n",
       "  <thead>\n",
       "    <tr style=\"text-align: right;\">\n",
       "      <th></th>\n",
       "      <th>prodid</th>\n",
       "      <th>prodname</th>\n",
       "      <th>stock</th>\n",
       "      <th>price</th>\n",
       "      <th>maker</th>\n",
       "    </tr>\n",
       "  </thead>\n",
       "  <tbody>\n",
       "    <tr>\n",
       "      <th>0</th>\n",
       "      <td>p01</td>\n",
       "      <td>그냥만두</td>\n",
       "      <td>5000</td>\n",
       "      <td>4500</td>\n",
       "      <td>대한식품</td>\n",
       "    </tr>\n",
       "    <tr>\n",
       "      <th>1</th>\n",
       "      <td>p02</td>\n",
       "      <td>매운쫄면</td>\n",
       "      <td>2500</td>\n",
       "      <td>5500</td>\n",
       "      <td>민국푸드</td>\n",
       "    </tr>\n",
       "    <tr>\n",
       "      <th>2</th>\n",
       "      <td>p03</td>\n",
       "      <td>쿵떡파이</td>\n",
       "      <td>3600</td>\n",
       "      <td>2600</td>\n",
       "      <td>한빛제과</td>\n",
       "    </tr>\n",
       "    <tr>\n",
       "      <th>3</th>\n",
       "      <td>p04</td>\n",
       "      <td>맛난초콜렛</td>\n",
       "      <td>1250</td>\n",
       "      <td>2500</td>\n",
       "      <td>한빛제과</td>\n",
       "    </tr>\n",
       "    <tr>\n",
       "      <th>4</th>\n",
       "      <td>p05</td>\n",
       "      <td>얼큰라면</td>\n",
       "      <td>2200</td>\n",
       "      <td>1200</td>\n",
       "      <td>대한식품</td>\n",
       "    </tr>\n",
       "  </tbody>\n",
       "</table>\n",
       "</div>"
      ],
      "text/plain": [
       "  prodid prodname  stock  price maker\n",
       "0    p01     그냥만두   5000   4500  대한식품\n",
       "1    p02     매운쫄면   2500   5500  민국푸드\n",
       "2    p03     쿵떡파이   3600   2600  한빛제과\n",
       "3    p04    맛난초콜렛   1250   2500  한빛제과\n",
       "4    p05     얼큰라면   2200   1200  대한식품"
      ]
     },
     "execution_count": 84,
     "metadata": {},
     "output_type": "execute_result"
    }
   ],
   "source": [
    "products = pd.read_csv('data/products.csv')\n",
    "products.head()"
   ]
  },
  {
   "cell_type": "markdown",
   "id": "3eb3da32-c473-40d0-8f41-dce757f3a13d",
   "metadata": {},
   "source": [
    "#### 제조업체가 한빛제과인 상품 추출"
   ]
  },
  {
   "cell_type": "code",
   "execution_count": 89,
   "id": "1a22fa49-bf44-43ef-95f0-e718e538f66d",
   "metadata": {},
   "outputs": [
    {
     "data": {
      "text/html": [
       "<div>\n",
       "<style scoped>\n",
       "    .dataframe tbody tr th:only-of-type {\n",
       "        vertical-align: middle;\n",
       "    }\n",
       "\n",
       "    .dataframe tbody tr th {\n",
       "        vertical-align: top;\n",
       "    }\n",
       "\n",
       "    .dataframe thead th {\n",
       "        text-align: right;\n",
       "    }\n",
       "</style>\n",
       "<table border=\"1\" class=\"dataframe\">\n",
       "  <thead>\n",
       "    <tr style=\"text-align: right;\">\n",
       "      <th></th>\n",
       "      <th>prodid</th>\n",
       "      <th>prodname</th>\n",
       "      <th>stock</th>\n",
       "      <th>price</th>\n",
       "      <th>maker</th>\n",
       "    </tr>\n",
       "  </thead>\n",
       "  <tbody>\n",
       "    <tr>\n",
       "      <th>2</th>\n",
       "      <td>p03</td>\n",
       "      <td>쿵떡파이</td>\n",
       "      <td>3600</td>\n",
       "      <td>2600</td>\n",
       "      <td>한빛제과</td>\n",
       "    </tr>\n",
       "    <tr>\n",
       "      <th>3</th>\n",
       "      <td>p04</td>\n",
       "      <td>맛난초콜렛</td>\n",
       "      <td>1250</td>\n",
       "      <td>2500</td>\n",
       "      <td>한빛제과</td>\n",
       "    </tr>\n",
       "    <tr>\n",
       "      <th>6</th>\n",
       "      <td>p07</td>\n",
       "      <td>달콤비스켓</td>\n",
       "      <td>1650</td>\n",
       "      <td>1500</td>\n",
       "      <td>한빛제과</td>\n",
       "    </tr>\n",
       "  </tbody>\n",
       "</table>\n",
       "</div>"
      ],
      "text/plain": [
       "  prodid prodname  stock  price maker\n",
       "2    p03     쿵떡파이   3600   2600  한빛제과\n",
       "3    p04    맛난초콜렛   1250   2500  한빛제과\n",
       "6    p07    달콤비스켓   1650   1500  한빛제과"
      ]
     },
     "execution_count": 89,
     "metadata": {},
     "output_type": "execute_result"
    }
   ],
   "source": [
    "search = products.maker == \"한빛제과\"\n",
    "products[search]"
   ]
  },
  {
   "cell_type": "code",
   "execution_count": 90,
   "id": "6f521f11-3586-438e-b190-9d51e0797976",
   "metadata": {},
   "outputs": [
    {
     "data": {
      "text/plain": [
       "2     쿵떡파이\n",
       "3    맛난초콜렛\n",
       "6    달콤비스켓\n",
       "Name: prodname, dtype: object"
      ]
     },
     "execution_count": 90,
     "metadata": {},
     "output_type": "execute_result"
    }
   ],
   "source": [
    "products[search]['prodname']"
   ]
  },
  {
   "cell_type": "code",
   "execution_count": 91,
   "id": "f0e00a92-8849-45db-8054-398e68f4785e",
   "metadata": {},
   "outputs": [
    {
     "data": {
      "text/html": [
       "<div>\n",
       "<style scoped>\n",
       "    .dataframe tbody tr th:only-of-type {\n",
       "        vertical-align: middle;\n",
       "    }\n",
       "\n",
       "    .dataframe tbody tr th {\n",
       "        vertical-align: top;\n",
       "    }\n",
       "\n",
       "    .dataframe thead th {\n",
       "        text-align: right;\n",
       "    }\n",
       "</style>\n",
       "<table border=\"1\" class=\"dataframe\">\n",
       "  <thead>\n",
       "    <tr style=\"text-align: right;\">\n",
       "      <th></th>\n",
       "      <th>prodname</th>\n",
       "      <th>price</th>\n",
       "    </tr>\n",
       "  </thead>\n",
       "  <tbody>\n",
       "    <tr>\n",
       "      <th>2</th>\n",
       "      <td>쿵떡파이</td>\n",
       "      <td>2600</td>\n",
       "    </tr>\n",
       "    <tr>\n",
       "      <th>3</th>\n",
       "      <td>맛난초콜렛</td>\n",
       "      <td>2500</td>\n",
       "    </tr>\n",
       "    <tr>\n",
       "      <th>6</th>\n",
       "      <td>달콤비스켓</td>\n",
       "      <td>1500</td>\n",
       "    </tr>\n",
       "  </tbody>\n",
       "</table>\n",
       "</div>"
      ],
      "text/plain": [
       "  prodname  price\n",
       "2     쿵떡파이   2600\n",
       "3    맛난초콜렛   2500\n",
       "6    달콤비스켓   1500"
      ]
     },
     "execution_count": 91,
     "metadata": {},
     "output_type": "execute_result"
    }
   ],
   "source": [
    "products[search][['prodname', 'price']]"
   ]
  },
  {
   "cell_type": "markdown",
   "id": "9e70cea5-dbd6-436a-addc-6367df741859",
   "metadata": {},
   "source": [
    "#### 민국푸드에서 생산중인 상품 중 가격이 3000원 이상인 상품 추출"
   ]
  },
  {
   "cell_type": "code",
   "execution_count": 97,
   "id": "46177d6d-a066-4095-9739-086a402f5c24",
   "metadata": {},
   "outputs": [],
   "source": [
    "search1 = products.maker == \"민국푸드\"\n",
    "search2 = products.price >= 3000\n",
    "# search1 = (products.maker == \"민국푸드\") & (products.price >= 3000)"
   ]
  },
  {
   "cell_type": "code",
   "execution_count": 93,
   "id": "decf62d8-0f65-40da-a301-ffaeac1d314f",
   "metadata": {},
   "outputs": [
    {
     "name": "stderr",
     "output_type": "stream",
     "text": [
      "/opt/miniconda3/lib/python3.7/site-packages/ipykernel_launcher.py:1: UserWarning: Boolean Series key will be reindexed to match DataFrame index.\n",
      "  \"\"\"Entry point for launching an IPython kernel.\n"
     ]
    },
    {
     "data": {
      "text/plain": [
       "1    매운쫄면\n",
       "Name: prodname, dtype: object"
      ]
     },
     "execution_count": 93,
     "metadata": {},
     "output_type": "execute_result"
    }
   ],
   "source": [
    "products[search1][search2]['prodname']"
   ]
  },
  {
   "cell_type": "code",
   "execution_count": 94,
   "id": "d84012b5-82ed-4c6f-9e68-8fa3a74345a5",
   "metadata": {},
   "outputs": [
    {
     "data": {
      "text/plain": [
       "1    매운쫄면\n",
       "5    통통우동\n",
       "Name: prodname, dtype: object"
      ]
     },
     "execution_count": 94,
     "metadata": {},
     "output_type": "execute_result"
    }
   ],
   "source": [
    "products[search1]['prodname']"
   ]
  },
  {
   "cell_type": "code",
   "execution_count": 98,
   "id": "4f7797e2-a02a-4f62-9663-52dc94340485",
   "metadata": {},
   "outputs": [
    {
     "data": {
      "text/html": [
       "<div>\n",
       "<style scoped>\n",
       "    .dataframe tbody tr th:only-of-type {\n",
       "        vertical-align: middle;\n",
       "    }\n",
       "\n",
       "    .dataframe tbody tr th {\n",
       "        vertical-align: top;\n",
       "    }\n",
       "\n",
       "    .dataframe thead th {\n",
       "        text-align: right;\n",
       "    }\n",
       "</style>\n",
       "<table border=\"1\" class=\"dataframe\">\n",
       "  <thead>\n",
       "    <tr style=\"text-align: right;\">\n",
       "      <th></th>\n",
       "      <th>makeyear</th>\n",
       "      <th>buyyear</th>\n",
       "      <th>dispsize</th>\n",
       "      <th>age</th>\n",
       "      <th>height</th>\n",
       "      <th>weight</th>\n",
       "      <th>phonetime</th>\n",
       "      <th>pctime</th>\n",
       "      <th>lteamount</th>\n",
       "    </tr>\n",
       "  </thead>\n",
       "  <tbody>\n",
       "    <tr>\n",
       "      <th>0</th>\n",
       "      <td>2015</td>\n",
       "      <td>2015</td>\n",
       "      <td>5.0</td>\n",
       "      <td>45</td>\n",
       "      <td>173</td>\n",
       "      <td>75</td>\n",
       "      <td>60</td>\n",
       "      <td>500</td>\n",
       "      <td>100</td>\n",
       "    </tr>\n",
       "    <tr>\n",
       "      <th>1</th>\n",
       "      <td>2014</td>\n",
       "      <td>2015</td>\n",
       "      <td>4.5</td>\n",
       "      <td>27</td>\n",
       "      <td>176</td>\n",
       "      <td>59</td>\n",
       "      <td>70</td>\n",
       "      <td>30</td>\n",
       "      <td>50</td>\n",
       "    </tr>\n",
       "    <tr>\n",
       "      <th>2</th>\n",
       "      <td>2015</td>\n",
       "      <td>2015</td>\n",
       "      <td>5.0</td>\n",
       "      <td>29</td>\n",
       "      <td>183</td>\n",
       "      <td>65</td>\n",
       "      <td>120</td>\n",
       "      <td>300</td>\n",
       "      <td>200</td>\n",
       "    </tr>\n",
       "    <tr>\n",
       "      <th>3</th>\n",
       "      <td>2015</td>\n",
       "      <td>2016</td>\n",
       "      <td>5.0</td>\n",
       "      <td>28</td>\n",
       "      <td>172</td>\n",
       "      <td>63</td>\n",
       "      <td>80</td>\n",
       "      <td>60</td>\n",
       "      <td>190</td>\n",
       "    </tr>\n",
       "    <tr>\n",
       "      <th>4</th>\n",
       "      <td>2015</td>\n",
       "      <td>2015</td>\n",
       "      <td>5.0</td>\n",
       "      <td>24</td>\n",
       "      <td>179</td>\n",
       "      <td>65</td>\n",
       "      <td>90</td>\n",
       "      <td>30</td>\n",
       "      <td>500</td>\n",
       "    </tr>\n",
       "  </tbody>\n",
       "</table>\n",
       "</div>"
      ],
      "text/plain": [
       "   makeyear  buyyear  dispsize  age  height  weight  phonetime  pctime  lteamount\n",
       "0      2015     2015       5.0   45     173      75         60     500        100\n",
       "1      2014     2015       4.5   27     176      59         70      30         50\n",
       "2      2015     2015       5.0   29     183      65        120     300        200\n",
       "3      2015     2016       5.0   28     172      63         80      60        190\n",
       "4      2015     2015       5.0   24     179      65         90      30        500"
      ]
     },
     "execution_count": 98,
     "metadata": {},
     "output_type": "execute_result"
    }
   ],
   "source": [
    "phone = pd.read_csv('data/phone02.csv')\n",
    "phone.head()"
   ]
  },
  {
   "cell_type": "code",
   "execution_count": 100,
   "id": "9484b64e-f8ff-483d-8929-4fd558559429",
   "metadata": {},
   "outputs": [],
   "source": [
    "search4 = phone.makeyear == 2015\n",
    "search5 = phone.buyyear == 2015\n",
    "search6 = phone.dispsize == 4.5\n",
    "search7 = phone.age >= 35"
   ]
  },
  {
   "cell_type": "code",
   "execution_count": 108,
   "id": "802b027a-23c5-4bdf-900e-4c1b1aafa9a7",
   "metadata": {},
   "outputs": [
    {
     "data": {
      "text/html": [
       "<div>\n",
       "<style scoped>\n",
       "    .dataframe tbody tr th:only-of-type {\n",
       "        vertical-align: middle;\n",
       "    }\n",
       "\n",
       "    .dataframe tbody tr th {\n",
       "        vertical-align: top;\n",
       "    }\n",
       "\n",
       "    .dataframe thead th {\n",
       "        text-align: right;\n",
       "    }\n",
       "</style>\n",
       "<table border=\"1\" class=\"dataframe\">\n",
       "  <thead>\n",
       "    <tr style=\"text-align: right;\">\n",
       "      <th></th>\n",
       "      <th>makeyear</th>\n",
       "      <th>buyyear</th>\n",
       "      <th>dispsize</th>\n",
       "      <th>age</th>\n",
       "      <th>height</th>\n",
       "      <th>weight</th>\n",
       "      <th>phonetime</th>\n",
       "      <th>pctime</th>\n",
       "      <th>lteamount</th>\n",
       "    </tr>\n",
       "  </thead>\n",
       "  <tbody>\n",
       "    <tr>\n",
       "      <th>0</th>\n",
       "      <td>2015</td>\n",
       "      <td>2015</td>\n",
       "      <td>5.0</td>\n",
       "      <td>45</td>\n",
       "      <td>173</td>\n",
       "      <td>75</td>\n",
       "      <td>60</td>\n",
       "      <td>500</td>\n",
       "      <td>100</td>\n",
       "    </tr>\n",
       "    <tr>\n",
       "      <th>2</th>\n",
       "      <td>2015</td>\n",
       "      <td>2015</td>\n",
       "      <td>5.0</td>\n",
       "      <td>29</td>\n",
       "      <td>183</td>\n",
       "      <td>65</td>\n",
       "      <td>120</td>\n",
       "      <td>300</td>\n",
       "      <td>200</td>\n",
       "    </tr>\n",
       "    <tr>\n",
       "      <th>3</th>\n",
       "      <td>2015</td>\n",
       "      <td>2016</td>\n",
       "      <td>5.0</td>\n",
       "      <td>28</td>\n",
       "      <td>172</td>\n",
       "      <td>63</td>\n",
       "      <td>80</td>\n",
       "      <td>60</td>\n",
       "      <td>190</td>\n",
       "    </tr>\n",
       "    <tr>\n",
       "      <th>4</th>\n",
       "      <td>2015</td>\n",
       "      <td>2015</td>\n",
       "      <td>5.0</td>\n",
       "      <td>24</td>\n",
       "      <td>179</td>\n",
       "      <td>65</td>\n",
       "      <td>90</td>\n",
       "      <td>30</td>\n",
       "      <td>500</td>\n",
       "    </tr>\n",
       "    <tr>\n",
       "      <th>9</th>\n",
       "      <td>2015</td>\n",
       "      <td>2014</td>\n",
       "      <td>5.0</td>\n",
       "      <td>42</td>\n",
       "      <td>177</td>\n",
       "      <td>79</td>\n",
       "      <td>40</td>\n",
       "      <td>480</td>\n",
       "      <td>30</td>\n",
       "    </tr>\n",
       "    <tr>\n",
       "      <th>11</th>\n",
       "      <td>2015</td>\n",
       "      <td>2015</td>\n",
       "      <td>5.5</td>\n",
       "      <td>37</td>\n",
       "      <td>171</td>\n",
       "      <td>70</td>\n",
       "      <td>90</td>\n",
       "      <td>360</td>\n",
       "      <td>200</td>\n",
       "    </tr>\n",
       "    <tr>\n",
       "      <th>12</th>\n",
       "      <td>2015</td>\n",
       "      <td>2016</td>\n",
       "      <td>5.5</td>\n",
       "      <td>35</td>\n",
       "      <td>173</td>\n",
       "      <td>69</td>\n",
       "      <td>60</td>\n",
       "      <td>120</td>\n",
       "      <td>150</td>\n",
       "    </tr>\n",
       "    <tr>\n",
       "      <th>13</th>\n",
       "      <td>2015</td>\n",
       "      <td>2015</td>\n",
       "      <td>6.0</td>\n",
       "      <td>41</td>\n",
       "      <td>181</td>\n",
       "      <td>88</td>\n",
       "      <td>60</td>\n",
       "      <td>120</td>\n",
       "      <td>130</td>\n",
       "    </tr>\n",
       "    <tr>\n",
       "      <th>14</th>\n",
       "      <td>2015</td>\n",
       "      <td>2015</td>\n",
       "      <td>5.5</td>\n",
       "      <td>10</td>\n",
       "      <td>178</td>\n",
       "      <td>89</td>\n",
       "      <td>70</td>\n",
       "      <td>60</td>\n",
       "      <td>140</td>\n",
       "    </tr>\n",
       "    <tr>\n",
       "      <th>15</th>\n",
       "      <td>2015</td>\n",
       "      <td>2015</td>\n",
       "      <td>5.0</td>\n",
       "      <td>35</td>\n",
       "      <td>169</td>\n",
       "      <td>70</td>\n",
       "      <td>50</td>\n",
       "      <td>90</td>\n",
       "      <td>80</td>\n",
       "    </tr>\n",
       "    <tr>\n",
       "      <th>18</th>\n",
       "      <td>2015</td>\n",
       "      <td>2015</td>\n",
       "      <td>4.5</td>\n",
       "      <td>29</td>\n",
       "      <td>188</td>\n",
       "      <td>83</td>\n",
       "      <td>140</td>\n",
       "      <td>240</td>\n",
       "      <td>600</td>\n",
       "    </tr>\n",
       "    <tr>\n",
       "      <th>20</th>\n",
       "      <td>2015</td>\n",
       "      <td>2015</td>\n",
       "      <td>5.5</td>\n",
       "      <td>32</td>\n",
       "      <td>177</td>\n",
       "      <td>68</td>\n",
       "      <td>70</td>\n",
       "      <td>120</td>\n",
       "      <td>300</td>\n",
       "    </tr>\n",
       "    <tr>\n",
       "      <th>22</th>\n",
       "      <td>2015</td>\n",
       "      <td>2015</td>\n",
       "      <td>5.0</td>\n",
       "      <td>26</td>\n",
       "      <td>179</td>\n",
       "      <td>80</td>\n",
       "      <td>180</td>\n",
       "      <td>30</td>\n",
       "      <td>1100</td>\n",
       "    </tr>\n",
       "  </tbody>\n",
       "</table>\n",
       "</div>"
      ],
      "text/plain": [
       "    makeyear  buyyear  dispsize  age  height  weight  phonetime  pctime  lteamount\n",
       "0       2015     2015       5.0   45     173      75         60     500        100\n",
       "2       2015     2015       5.0   29     183      65        120     300        200\n",
       "3       2015     2016       5.0   28     172      63         80      60        190\n",
       "4       2015     2015       5.0   24     179      65         90      30        500\n",
       "9       2015     2014       5.0   42     177      79         40     480         30\n",
       "11      2015     2015       5.5   37     171      70         90     360        200\n",
       "12      2015     2016       5.5   35     173      69         60     120        150\n",
       "13      2015     2015       6.0   41     181      88         60     120        130\n",
       "14      2015     2015       5.5   10     178      89         70      60        140\n",
       "15      2015     2015       5.0   35     169      70         50      90         80\n",
       "18      2015     2015       4.5   29     188      83        140     240        600\n",
       "20      2015     2015       5.5   32     177      68         70     120        300\n",
       "22      2015     2015       5.0   26     179      80        180      30       1100"
      ]
     },
     "execution_count": 108,
     "metadata": {},
     "output_type": "execute_result"
    }
   ],
   "source": [
    "phone[search4]"
   ]
  },
  {
   "cell_type": "code",
   "execution_count": 109,
   "id": "542694da-4e5f-4c72-917e-9af3a06f3f32",
   "metadata": {},
   "outputs": [
    {
     "data": {
      "text/html": [
       "<div>\n",
       "<style scoped>\n",
       "    .dataframe tbody tr th:only-of-type {\n",
       "        vertical-align: middle;\n",
       "    }\n",
       "\n",
       "    .dataframe tbody tr th {\n",
       "        vertical-align: top;\n",
       "    }\n",
       "\n",
       "    .dataframe thead th {\n",
       "        text-align: right;\n",
       "    }\n",
       "</style>\n",
       "<table border=\"1\" class=\"dataframe\">\n",
       "  <thead>\n",
       "    <tr style=\"text-align: right;\">\n",
       "      <th></th>\n",
       "      <th>makeyear</th>\n",
       "      <th>buyyear</th>\n",
       "      <th>dispsize</th>\n",
       "      <th>age</th>\n",
       "      <th>height</th>\n",
       "      <th>weight</th>\n",
       "      <th>phonetime</th>\n",
       "      <th>pctime</th>\n",
       "      <th>lteamount</th>\n",
       "    </tr>\n",
       "  </thead>\n",
       "  <tbody>\n",
       "    <tr>\n",
       "      <th>0</th>\n",
       "      <td>2015</td>\n",
       "      <td>2015</td>\n",
       "      <td>5.0</td>\n",
       "      <td>45</td>\n",
       "      <td>173</td>\n",
       "      <td>75</td>\n",
       "      <td>60</td>\n",
       "      <td>500</td>\n",
       "      <td>100</td>\n",
       "    </tr>\n",
       "    <tr>\n",
       "      <th>1</th>\n",
       "      <td>2014</td>\n",
       "      <td>2015</td>\n",
       "      <td>4.5</td>\n",
       "      <td>27</td>\n",
       "      <td>176</td>\n",
       "      <td>59</td>\n",
       "      <td>70</td>\n",
       "      <td>30</td>\n",
       "      <td>50</td>\n",
       "    </tr>\n",
       "    <tr>\n",
       "      <th>2</th>\n",
       "      <td>2015</td>\n",
       "      <td>2015</td>\n",
       "      <td>5.0</td>\n",
       "      <td>29</td>\n",
       "      <td>183</td>\n",
       "      <td>65</td>\n",
       "      <td>120</td>\n",
       "      <td>300</td>\n",
       "      <td>200</td>\n",
       "    </tr>\n",
       "    <tr>\n",
       "      <th>4</th>\n",
       "      <td>2015</td>\n",
       "      <td>2015</td>\n",
       "      <td>5.0</td>\n",
       "      <td>24</td>\n",
       "      <td>179</td>\n",
       "      <td>65</td>\n",
       "      <td>90</td>\n",
       "      <td>30</td>\n",
       "      <td>500</td>\n",
       "    </tr>\n",
       "    <tr>\n",
       "      <th>10</th>\n",
       "      <td>2014</td>\n",
       "      <td>2015</td>\n",
       "      <td>4.5</td>\n",
       "      <td>32</td>\n",
       "      <td>167</td>\n",
       "      <td>62</td>\n",
       "      <td>130</td>\n",
       "      <td>300</td>\n",
       "      <td>400</td>\n",
       "    </tr>\n",
       "    <tr>\n",
       "      <th>11</th>\n",
       "      <td>2015</td>\n",
       "      <td>2015</td>\n",
       "      <td>5.5</td>\n",
       "      <td>37</td>\n",
       "      <td>171</td>\n",
       "      <td>70</td>\n",
       "      <td>90</td>\n",
       "      <td>360</td>\n",
       "      <td>200</td>\n",
       "    </tr>\n",
       "    <tr>\n",
       "      <th>13</th>\n",
       "      <td>2015</td>\n",
       "      <td>2015</td>\n",
       "      <td>6.0</td>\n",
       "      <td>41</td>\n",
       "      <td>181</td>\n",
       "      <td>88</td>\n",
       "      <td>60</td>\n",
       "      <td>120</td>\n",
       "      <td>130</td>\n",
       "    </tr>\n",
       "    <tr>\n",
       "      <th>14</th>\n",
       "      <td>2015</td>\n",
       "      <td>2015</td>\n",
       "      <td>5.5</td>\n",
       "      <td>10</td>\n",
       "      <td>178</td>\n",
       "      <td>89</td>\n",
       "      <td>70</td>\n",
       "      <td>60</td>\n",
       "      <td>140</td>\n",
       "    </tr>\n",
       "    <tr>\n",
       "      <th>15</th>\n",
       "      <td>2015</td>\n",
       "      <td>2015</td>\n",
       "      <td>5.0</td>\n",
       "      <td>35</td>\n",
       "      <td>169</td>\n",
       "      <td>70</td>\n",
       "      <td>50</td>\n",
       "      <td>90</td>\n",
       "      <td>80</td>\n",
       "    </tr>\n",
       "    <tr>\n",
       "      <th>18</th>\n",
       "      <td>2015</td>\n",
       "      <td>2015</td>\n",
       "      <td>4.5</td>\n",
       "      <td>29</td>\n",
       "      <td>188</td>\n",
       "      <td>83</td>\n",
       "      <td>140</td>\n",
       "      <td>240</td>\n",
       "      <td>600</td>\n",
       "    </tr>\n",
       "    <tr>\n",
       "      <th>20</th>\n",
       "      <td>2015</td>\n",
       "      <td>2015</td>\n",
       "      <td>5.5</td>\n",
       "      <td>32</td>\n",
       "      <td>177</td>\n",
       "      <td>68</td>\n",
       "      <td>70</td>\n",
       "      <td>120</td>\n",
       "      <td>300</td>\n",
       "    </tr>\n",
       "    <tr>\n",
       "      <th>22</th>\n",
       "      <td>2015</td>\n",
       "      <td>2015</td>\n",
       "      <td>5.0</td>\n",
       "      <td>26</td>\n",
       "      <td>179</td>\n",
       "      <td>80</td>\n",
       "      <td>180</td>\n",
       "      <td>30</td>\n",
       "      <td>1100</td>\n",
       "    </tr>\n",
       "  </tbody>\n",
       "</table>\n",
       "</div>"
      ],
      "text/plain": [
       "    makeyear  buyyear  dispsize  age  height  weight  phonetime  pctime  lteamount\n",
       "0       2015     2015       5.0   45     173      75         60     500        100\n",
       "1       2014     2015       4.5   27     176      59         70      30         50\n",
       "2       2015     2015       5.0   29     183      65        120     300        200\n",
       "4       2015     2015       5.0   24     179      65         90      30        500\n",
       "10      2014     2015       4.5   32     167      62        130     300        400\n",
       "11      2015     2015       5.5   37     171      70         90     360        200\n",
       "13      2015     2015       6.0   41     181      88         60     120        130\n",
       "14      2015     2015       5.5   10     178      89         70      60        140\n",
       "15      2015     2015       5.0   35     169      70         50      90         80\n",
       "18      2015     2015       4.5   29     188      83        140     240        600\n",
       "20      2015     2015       5.5   32     177      68         70     120        300\n",
       "22      2015     2015       5.0   26     179      80        180      30       1100"
      ]
     },
     "execution_count": 109,
     "metadata": {},
     "output_type": "execute_result"
    }
   ],
   "source": [
    "phone[search5]"
   ]
  },
  {
   "cell_type": "code",
   "execution_count": 104,
   "id": "d94b881a-dd0b-4ef1-966c-b9df6fa76af9",
   "metadata": {},
   "outputs": [
    {
     "data": {
      "text/html": [
       "<div>\n",
       "<style scoped>\n",
       "    .dataframe tbody tr th:only-of-type {\n",
       "        vertical-align: middle;\n",
       "    }\n",
       "\n",
       "    .dataframe tbody tr th {\n",
       "        vertical-align: top;\n",
       "    }\n",
       "\n",
       "    .dataframe thead th {\n",
       "        text-align: right;\n",
       "    }\n",
       "</style>\n",
       "<table border=\"1\" class=\"dataframe\">\n",
       "  <thead>\n",
       "    <tr style=\"text-align: right;\">\n",
       "      <th></th>\n",
       "      <th>age</th>\n",
       "      <th>height</th>\n",
       "      <th>weight</th>\n",
       "    </tr>\n",
       "  </thead>\n",
       "  <tbody>\n",
       "    <tr>\n",
       "      <th>1</th>\n",
       "      <td>27</td>\n",
       "      <td>176</td>\n",
       "      <td>59</td>\n",
       "    </tr>\n",
       "    <tr>\n",
       "      <th>8</th>\n",
       "      <td>30</td>\n",
       "      <td>175</td>\n",
       "      <td>70</td>\n",
       "    </tr>\n",
       "    <tr>\n",
       "      <th>10</th>\n",
       "      <td>32</td>\n",
       "      <td>167</td>\n",
       "      <td>62</td>\n",
       "    </tr>\n",
       "    <tr>\n",
       "      <th>18</th>\n",
       "      <td>29</td>\n",
       "      <td>188</td>\n",
       "      <td>83</td>\n",
       "    </tr>\n",
       "  </tbody>\n",
       "</table>\n",
       "</div>"
      ],
      "text/plain": [
       "    age  height  weight\n",
       "1    27     176      59\n",
       "8    30     175      70\n",
       "10   32     167      62\n",
       "18   29     188      83"
      ]
     },
     "execution_count": 104,
     "metadata": {},
     "output_type": "execute_result"
    }
   ],
   "source": [
    "phone[search6][['age', 'height', 'weight']]"
   ]
  },
  {
   "cell_type": "code",
   "execution_count": 105,
   "id": "648bc82f-43b9-403c-b2e5-52310761d9f9",
   "metadata": {},
   "outputs": [
    {
     "data": {
      "text/html": [
       "<div>\n",
       "<style scoped>\n",
       "    .dataframe tbody tr th:only-of-type {\n",
       "        vertical-align: middle;\n",
       "    }\n",
       "\n",
       "    .dataframe tbody tr th {\n",
       "        vertical-align: top;\n",
       "    }\n",
       "\n",
       "    .dataframe thead th {\n",
       "        text-align: right;\n",
       "    }\n",
       "</style>\n",
       "<table border=\"1\" class=\"dataframe\">\n",
       "  <thead>\n",
       "    <tr style=\"text-align: right;\">\n",
       "      <th></th>\n",
       "      <th>makeyear</th>\n",
       "      <th>dispsize</th>\n",
       "    </tr>\n",
       "  </thead>\n",
       "  <tbody>\n",
       "    <tr>\n",
       "      <th>0</th>\n",
       "      <td>2015</td>\n",
       "      <td>5.0</td>\n",
       "    </tr>\n",
       "    <tr>\n",
       "      <th>6</th>\n",
       "      <td>2016</td>\n",
       "      <td>6.0</td>\n",
       "    </tr>\n",
       "    <tr>\n",
       "      <th>7</th>\n",
       "      <td>2014</td>\n",
       "      <td>5.0</td>\n",
       "    </tr>\n",
       "    <tr>\n",
       "      <th>9</th>\n",
       "      <td>2015</td>\n",
       "      <td>5.0</td>\n",
       "    </tr>\n",
       "    <tr>\n",
       "      <th>11</th>\n",
       "      <td>2015</td>\n",
       "      <td>5.5</td>\n",
       "    </tr>\n",
       "    <tr>\n",
       "      <th>12</th>\n",
       "      <td>2015</td>\n",
       "      <td>5.5</td>\n",
       "    </tr>\n",
       "    <tr>\n",
       "      <th>13</th>\n",
       "      <td>2015</td>\n",
       "      <td>6.0</td>\n",
       "    </tr>\n",
       "    <tr>\n",
       "      <th>15</th>\n",
       "      <td>2015</td>\n",
       "      <td>5.0</td>\n",
       "    </tr>\n",
       "    <tr>\n",
       "      <th>16</th>\n",
       "      <td>2016</td>\n",
       "      <td>5.5</td>\n",
       "    </tr>\n",
       "  </tbody>\n",
       "</table>\n",
       "</div>"
      ],
      "text/plain": [
       "    makeyear  dispsize\n",
       "0       2015       5.0\n",
       "6       2016       6.0\n",
       "7       2014       5.0\n",
       "9       2015       5.0\n",
       "11      2015       5.5\n",
       "12      2015       5.5\n",
       "13      2015       6.0\n",
       "15      2015       5.0\n",
       "16      2016       5.5"
      ]
     },
     "execution_count": 105,
     "metadata": {},
     "output_type": "execute_result"
    }
   ],
   "source": [
    "phone[search7][['makeyear', 'dispsize']]"
   ]
  },
  {
   "cell_type": "code",
   "execution_count": 106,
   "id": "3c03a117-1ae8-4053-aae0-28713831694e",
   "metadata": {},
   "outputs": [],
   "source": [
    "sarda = pd.DataFrame()"
   ]
  },
  {
   "cell_type": "code",
   "execution_count": 107,
   "id": "dededd8e-c5d5-4054-93ed-1b5c3e815dad",
   "metadata": {},
   "outputs": [
    {
     "data": {
      "text/html": [
       "<div>\n",
       "<style scoped>\n",
       "    .dataframe tbody tr th:only-of-type {\n",
       "        vertical-align: middle;\n",
       "    }\n",
       "\n",
       "    .dataframe tbody tr th {\n",
       "        vertical-align: top;\n",
       "    }\n",
       "\n",
       "    .dataframe thead th {\n",
       "        text-align: right;\n",
       "    }\n",
       "</style>\n",
       "<table border=\"1\" class=\"dataframe\">\n",
       "  <thead>\n",
       "    <tr style=\"text-align: right;\">\n",
       "      <th></th>\n",
       "      <th>city</th>\n",
       "      <th>year</th>\n",
       "      <th>pop</th>\n",
       "      <th>region</th>\n",
       "    </tr>\n",
       "  </thead>\n",
       "  <tbody>\n",
       "    <tr>\n",
       "      <th>0</th>\n",
       "      <td>서울</td>\n",
       "      <td>2015</td>\n",
       "      <td>9904312</td>\n",
       "      <td>수도권</td>\n",
       "    </tr>\n",
       "    <tr>\n",
       "      <th>1</th>\n",
       "      <td>서울</td>\n",
       "      <td>2010</td>\n",
       "      <td>9631482</td>\n",
       "      <td>수도권</td>\n",
       "    </tr>\n",
       "    <tr>\n",
       "      <th>2</th>\n",
       "      <td>서울</td>\n",
       "      <td>2005</td>\n",
       "      <td>9762546</td>\n",
       "      <td>수도권</td>\n",
       "    </tr>\n",
       "    <tr>\n",
       "      <th>3</th>\n",
       "      <td>부산</td>\n",
       "      <td>2015</td>\n",
       "      <td>3448737</td>\n",
       "      <td>경상권</td>\n",
       "    </tr>\n",
       "    <tr>\n",
       "      <th>4</th>\n",
       "      <td>부산</td>\n",
       "      <td>2010</td>\n",
       "      <td>3393191</td>\n",
       "      <td>경상권</td>\n",
       "    </tr>\n",
       "    <tr>\n",
       "      <th>5</th>\n",
       "      <td>부산</td>\n",
       "      <td>2005</td>\n",
       "      <td>3512547</td>\n",
       "      <td>경상권</td>\n",
       "    </tr>\n",
       "    <tr>\n",
       "      <th>6</th>\n",
       "      <td>인천</td>\n",
       "      <td>2015</td>\n",
       "      <td>2890451</td>\n",
       "      <td>수도권</td>\n",
       "    </tr>\n",
       "    <tr>\n",
       "      <th>7</th>\n",
       "      <td>인천</td>\n",
       "      <td>2010</td>\n",
       "      <td>263203</td>\n",
       "      <td>수도권</td>\n",
       "    </tr>\n",
       "  </tbody>\n",
       "</table>\n",
       "</div>"
      ],
      "text/plain": [
       "  city  year      pop region\n",
       "0   서울  2015  9904312    수도권\n",
       "1   서울  2010  9631482    수도권\n",
       "2   서울  2005  9762546    수도권\n",
       "3   부산  2015  3448737    경상권\n",
       "4   부산  2010  3393191    경상권\n",
       "5   부산  2005  3512547    경상권\n",
       "6   인천  2015  2890451    수도권\n",
       "7   인천  2010   263203    수도권"
      ]
     },
     "execution_count": 107,
     "metadata": {},
     "output_type": "execute_result"
    }
   ],
   "source": [
    "sarda['city'] = ['서울', '서울', '서울', '부산', '부산', '부산', '인천', '인천']\n",
    "sarda['year'] = [2015, 2010, 2005, 2015, 2010, 2005, 2015, 2010]\n",
    "sarda['pop'] = [9904312, 9631482, 9762546, 3448737, 3393191, 3512547, 2890451, 263203]\n",
    "sarda['region'] = ['수도권', '수도권', '수도권', '경상권', '경상권', '경상권', '수도권', '수도권']\n",
    "sarda"
   ]
  },
  {
   "cell_type": "markdown",
   "id": "287f737b-4395-457c-9076-1308b4431a1c",
   "metadata": {},
   "source": [
    "### 데이터프레임 그룹핑\n",
    "+ 특정조건에 따라 데이터들을 그룹으로 묶어서 집계함수를 적용하고 통계함수를 이용한 정보 출력\n",
    "+ 이로서 해당 그룹의 특성을 알아볼 수 있음\n",
    "+ groupby(조건열).(집계함수)"
   ]
  },
  {
   "cell_type": "markdown",
   "id": "ee66a878-ac40-45e0-8f52-b4807001be0c",
   "metadata": {},
   "source": [
    "#### 도시별 인구수 "
   ]
  },
  {
   "cell_type": "code",
   "execution_count": 113,
   "id": "1c06f148-34c2-43f8-94bb-88a95c4488e7",
   "metadata": {},
   "outputs": [
    {
     "data": {
      "text/plain": [
       "{'부산': [3, 4, 5], '서울': [0, 1, 2], '인천': [6, 7]}"
      ]
     },
     "execution_count": 113,
     "metadata": {},
     "output_type": "execute_result"
    }
   ],
   "source": [
    "groupby = sarda.groupby('city')\n",
    "groupby.groups"
   ]
  },
  {
   "cell_type": "markdown",
   "id": "4a10d565-2156-41b8-b92d-17caecde831e",
   "metadata": {},
   "source": [
    "#### 반복처리를 통해 그룹핑 결과 출력"
   ]
  },
  {
   "cell_type": "code",
   "execution_count": 115,
   "id": "cdc8474f-3360-475a-935d-4b53ac079afc",
   "metadata": {},
   "outputs": [
    {
     "name": "stdout",
     "output_type": "stream",
     "text": [
      "부산 \n",
      "   city  year      pop region\n",
      "3   부산  2015  3448737    경상권\n",
      "4   부산  2010  3393191    경상권\n",
      "5   부산  2005  3512547    경상권\n",
      "서울 \n",
      "   city  year      pop region\n",
      "0   서울  2015  9904312    수도권\n",
      "1   서울  2010  9631482    수도권\n",
      "2   서울  2005  9762546    수도권\n",
      "인천 \n",
      "   city  year      pop region\n",
      "6   인천  2015  2890451    수도권\n",
      "7   인천  2010   263203    수도권\n"
     ]
    }
   ],
   "source": [
    "for nm, gp in groupby:\n",
    "    print(f'{nm} \\n {gp}')"
   ]
  },
  {
   "cell_type": "markdown",
   "id": "bb80a450-4de1-42c7-a0b1-c1213eeea9b7",
   "metadata": {},
   "source": [
    "### 그룹핑 결과에 집계함수 적용"
   ]
  },
  {
   "cell_type": "code",
   "execution_count": 118,
   "id": "83f877a5-40ff-45c6-ad05-f04897d336df",
   "metadata": {},
   "outputs": [],
   "source": [
    "pd.set_option('display.float_format', '{:.2f}'.format)"
   ]
  },
  {
   "cell_type": "code",
   "execution_count": 129,
   "id": "ec879fcc-be6a-4847-92ed-38009c2f0055",
   "metadata": {},
   "outputs": [
    {
     "data": {
      "text/html": [
       "<style type=\"text/css\">\n",
       "</style>\n",
       "<table id=\"T_902a2_\">\n",
       "  <thead>\n",
       "    <tr>\n",
       "      <th class=\"blank level0\" >&nbsp;</th>\n",
       "      <th class=\"col_heading level0 col0\" >year</th>\n",
       "      <th class=\"col_heading level0 col1\" >pop</th>\n",
       "    </tr>\n",
       "    <tr>\n",
       "      <th class=\"index_name level0\" >city</th>\n",
       "      <th class=\"blank col0\" >&nbsp;</th>\n",
       "      <th class=\"blank col1\" >&nbsp;</th>\n",
       "    </tr>\n",
       "  </thead>\n",
       "  <tbody>\n",
       "    <tr>\n",
       "      <th id=\"T_902a2_level0_row0\" class=\"row_heading level0 row0\" >부산</th>\n",
       "      <td id=\"T_902a2_row0_col0\" class=\"data row0 col0\" >2,010.00</td>\n",
       "      <td id=\"T_902a2_row0_col1\" class=\"data row0 col1\" >3,451,491.67</td>\n",
       "    </tr>\n",
       "    <tr>\n",
       "      <th id=\"T_902a2_level0_row1\" class=\"row_heading level0 row1\" >서울</th>\n",
       "      <td id=\"T_902a2_row1_col0\" class=\"data row1 col0\" >2,010.00</td>\n",
       "      <td id=\"T_902a2_row1_col1\" class=\"data row1 col1\" >9,766,113.33</td>\n",
       "    </tr>\n",
       "    <tr>\n",
       "      <th id=\"T_902a2_level0_row2\" class=\"row_heading level0 row2\" >인천</th>\n",
       "      <td id=\"T_902a2_row2_col0\" class=\"data row2 col0\" >2,012.50</td>\n",
       "      <td id=\"T_902a2_row2_col1\" class=\"data row2 col1\" >1,576,827.00</td>\n",
       "    </tr>\n",
       "  </tbody>\n",
       "</table>\n"
      ],
      "text/plain": [
       "<pandas.io.formats.style.Styler at 0x7f0792b2b350>"
      ]
     },
     "execution_count": 129,
     "metadata": {},
     "output_type": "execute_result"
    }
   ],
   "source": [
    "groupby.agg(np.sum).style.format('{:,}') #연도까지 합산\n",
    "groupby.agg(np.mean).style.format('{:,.2f}')"
   ]
  },
  {
   "cell_type": "code",
   "execution_count": 120,
   "id": "b9b2c272-aca9-41da-ae64-62579bae53df",
   "metadata": {},
   "outputs": [
    {
     "data": {
      "text/html": [
       "<div>\n",
       "<style scoped>\n",
       "    .dataframe tbody tr th:only-of-type {\n",
       "        vertical-align: middle;\n",
       "    }\n",
       "\n",
       "    .dataframe tbody tr th {\n",
       "        vertical-align: top;\n",
       "    }\n",
       "\n",
       "    .dataframe thead th {\n",
       "        text-align: right;\n",
       "    }\n",
       "</style>\n",
       "<table border=\"1\" class=\"dataframe\">\n",
       "  <thead>\n",
       "    <tr style=\"text-align: right;\">\n",
       "      <th></th>\n",
       "      <th>year</th>\n",
       "      <th>pop</th>\n",
       "    </tr>\n",
       "    <tr>\n",
       "      <th>city</th>\n",
       "      <th></th>\n",
       "      <th></th>\n",
       "    </tr>\n",
       "  </thead>\n",
       "  <tbody>\n",
       "    <tr>\n",
       "      <th>부산</th>\n",
       "      <td>2010.00</td>\n",
       "      <td>3451491.67</td>\n",
       "    </tr>\n",
       "    <tr>\n",
       "      <th>서울</th>\n",
       "      <td>2010.00</td>\n",
       "      <td>9766113.33</td>\n",
       "    </tr>\n",
       "    <tr>\n",
       "      <th>인천</th>\n",
       "      <td>2012.50</td>\n",
       "      <td>1576827.00</td>\n",
       "    </tr>\n",
       "  </tbody>\n",
       "</table>\n",
       "</div>"
      ],
      "text/plain": [
       "        year        pop\n",
       "city                   \n",
       "부산   2010.00 3451491.67\n",
       "서울   2010.00 9766113.33\n",
       "인천   2012.50 1576827.00"
      ]
     },
     "execution_count": 120,
     "metadata": {},
     "output_type": "execute_result"
    }
   ],
   "source": [
    "groupby.sum()\n",
    "groupby.mean()  # 연도까지 합산"
   ]
  },
  {
   "cell_type": "code",
   "execution_count": 124,
   "id": "fd1f9cfb-4b9f-40e8-82f6-e3022c7d84b8",
   "metadata": {},
   "outputs": [
    {
     "data": {
      "text/plain": [
       "city\n",
       "부산    10354475\n",
       "서울    29298340\n",
       "인천     3153654\n",
       "Name: pop, dtype: int64"
      ]
     },
     "execution_count": 124,
     "metadata": {},
     "output_type": "execute_result"
    }
   ],
   "source": [
    "groupby['pop'].sum()  # 도시별 총인구"
   ]
  },
  {
   "cell_type": "code",
   "execution_count": 123,
   "id": "6ab9e80e-6285-4a1f-85e8-843762938848",
   "metadata": {},
   "outputs": [
    {
     "data": {
      "text/plain": [
       "city\n",
       "부산   3451491.67\n",
       "서울   9766113.33\n",
       "인천   1576827.00\n",
       "Name: pop, dtype: float64"
      ]
     },
     "execution_count": 123,
     "metadata": {},
     "output_type": "execute_result"
    }
   ],
   "source": [
    "groupby['pop'].mean()  # 도시별 평균인구"
   ]
  },
  {
   "cell_type": "code",
   "execution_count": 130,
   "id": "f839c202-7c39-4299-8d57-208bea6b2d84",
   "metadata": {},
   "outputs": [
    {
     "data": {
      "text/plain": [
       "{2005: [2, 5], 2010: [1, 4, 7], 2015: [0, 3, 6]}"
      ]
     },
     "execution_count": 130,
     "metadata": {},
     "output_type": "execute_result"
    }
   ],
   "source": [
    "groupby2 = sarda.groupby('year')\n",
    "groupby2.groups"
   ]
  },
  {
   "cell_type": "code",
   "execution_count": 159,
   "id": "f67f70f2-9f7d-4b9e-9707-9c0c0961869c",
   "metadata": {},
   "outputs": [
    {
     "data": {
      "text/plain": [
       "year\n",
       "2005    13275093\n",
       "2010    13287876\n",
       "2015    16243500\n",
       "Name: pop, dtype: int64"
      ]
     },
     "execution_count": 159,
     "metadata": {},
     "output_type": "execute_result"
    }
   ],
   "source": [
    "groupby2b = sarda.groupby('year')['pop'].sum()\n",
    "groupby2b"
   ]
  },
  {
   "cell_type": "code",
   "execution_count": 160,
   "id": "5ecc629e-407f-47cc-8c12-3e1dbbf690cc",
   "metadata": {},
   "outputs": [
    {
     "data": {
      "text/plain": [
       "region  year\n",
       "경상권     2005     3512547\n",
       "        2010     3393191\n",
       "        2015     3448737\n",
       "수도권     2005     9762546\n",
       "        2010     9894685\n",
       "        2015    12794763\n",
       "Name: pop, dtype: int64"
      ]
     },
     "execution_count": 160,
     "metadata": {},
     "output_type": "execute_result"
    }
   ],
   "source": [
    "groupby2c = sarda.groupby(['region','year']).sum()\n",
    "groupby2c['pop']"
   ]
  },
  {
   "cell_type": "code",
   "execution_count": null,
   "id": "f7ef9a52-396a-45ee-b46a-1cd0c0af444f",
   "metadata": {},
   "outputs": [],
   "source": []
  },
  {
   "cell_type": "code",
   "execution_count": 131,
   "id": "6dc608ff-cfe8-4694-b7e5-ac00158590f5",
   "metadata": {},
   "outputs": [
    {
     "name": "stdout",
     "output_type": "stream",
     "text": [
      "2005 \n",
      "   city  year      pop region\n",
      "2   서울  2005  9762546    수도권\n",
      "5   부산  2005  3512547    경상권\n",
      "2010 \n",
      "   city  year      pop region\n",
      "1   서울  2010  9631482    수도권\n",
      "4   부산  2010  3393191    경상권\n",
      "7   인천  2010   263203    수도권\n",
      "2015 \n",
      "   city  year      pop region\n",
      "0   서울  2015  9904312    수도권\n",
      "3   부산  2015  3448737    경상권\n",
      "6   인천  2015  2890451    수도권\n"
     ]
    }
   ],
   "source": [
    "for nm, gp in groupby2:\n",
    "    print(f'{nm} \\n {gp}')"
   ]
  },
  {
   "cell_type": "code",
   "execution_count": 132,
   "id": "b57dfd1b-8a75-4c0b-81fa-7a4a123c9f1a",
   "metadata": {},
   "outputs": [
    {
     "data": {
      "text/plain": [
       "year\n",
       "2005    13275093\n",
       "2010    13287876\n",
       "2015    16243500\n",
       "Name: pop, dtype: int64"
      ]
     },
     "execution_count": 132,
     "metadata": {},
     "output_type": "execute_result"
    }
   ],
   "source": [
    "groupby2['pop'].sum()"
   ]
  },
  {
   "cell_type": "code",
   "execution_count": 134,
   "id": "c9a162d0-c0b7-4975-9032-d55946014a10",
   "metadata": {},
   "outputs": [
    {
     "data": {
      "text/plain": [
       "{'경상권': [3, 4, 5], '수도권': [0, 1, 2, 6, 7]}"
      ]
     },
     "execution_count": 134,
     "metadata": {},
     "output_type": "execute_result"
    }
   ],
   "source": [
    "groupby3 = sarda.groupby('region')\n",
    "groupby3.groups"
   ]
  },
  {
   "cell_type": "code",
   "execution_count": 135,
   "id": "16514adc-9b7f-4ce3-a062-c97051598240",
   "metadata": {},
   "outputs": [
    {
     "data": {
      "text/plain": [
       "region\n",
       "경상권    10354475\n",
       "수도권    32451994\n",
       "Name: pop, dtype: int64"
      ]
     },
     "execution_count": 135,
     "metadata": {},
     "output_type": "execute_result"
    }
   ],
   "source": [
    "groupby3['pop'].sum()"
   ]
  },
  {
   "cell_type": "code",
   "execution_count": 136,
   "id": "9b7b78a2-21ae-486a-b394-b009ffe2dc98",
   "metadata": {},
   "outputs": [
    {
     "data": {
      "text/html": [
       "<div>\n",
       "<style scoped>\n",
       "    .dataframe tbody tr th:only-of-type {\n",
       "        vertical-align: middle;\n",
       "    }\n",
       "\n",
       "    .dataframe tbody tr th {\n",
       "        vertical-align: top;\n",
       "    }\n",
       "\n",
       "    .dataframe thead th {\n",
       "        text-align: right;\n",
       "    }\n",
       "</style>\n",
       "<table border=\"1\" class=\"dataframe\">\n",
       "  <thead>\n",
       "    <tr style=\"text-align: right;\">\n",
       "      <th></th>\n",
       "      <th>year</th>\n",
       "      <th>month</th>\n",
       "      <th>day</th>\n",
       "      <th>gender</th>\n",
       "      <th>births</th>\n",
       "    </tr>\n",
       "  </thead>\n",
       "  <tbody>\n",
       "    <tr>\n",
       "      <th>0</th>\n",
       "      <td>1969</td>\n",
       "      <td>1</td>\n",
       "      <td>1.00</td>\n",
       "      <td>F</td>\n",
       "      <td>4046</td>\n",
       "    </tr>\n",
       "    <tr>\n",
       "      <th>1</th>\n",
       "      <td>1969</td>\n",
       "      <td>1</td>\n",
       "      <td>1.00</td>\n",
       "      <td>M</td>\n",
       "      <td>4440</td>\n",
       "    </tr>\n",
       "    <tr>\n",
       "      <th>2</th>\n",
       "      <td>1969</td>\n",
       "      <td>1</td>\n",
       "      <td>2.00</td>\n",
       "      <td>F</td>\n",
       "      <td>4454</td>\n",
       "    </tr>\n",
       "    <tr>\n",
       "      <th>3</th>\n",
       "      <td>1969</td>\n",
       "      <td>1</td>\n",
       "      <td>2.00</td>\n",
       "      <td>M</td>\n",
       "      <td>4548</td>\n",
       "    </tr>\n",
       "    <tr>\n",
       "      <th>4</th>\n",
       "      <td>1969</td>\n",
       "      <td>1</td>\n",
       "      <td>3.00</td>\n",
       "      <td>F</td>\n",
       "      <td>4548</td>\n",
       "    </tr>\n",
       "  </tbody>\n",
       "</table>\n",
       "</div>"
      ],
      "text/plain": [
       "   year  month  day gender  births\n",
       "0  1969      1 1.00      F    4046\n",
       "1  1969      1 1.00      M    4440\n",
       "2  1969      1 2.00      F    4454\n",
       "3  1969      1 2.00      M    4548\n",
       "4  1969      1 3.00      F    4548"
      ]
     },
     "execution_count": 136,
     "metadata": {},
     "output_type": "execute_result"
    }
   ],
   "source": [
    "births = pd.read_csv('data/births.csv')\n",
    "births.head()"
   ]
  },
  {
   "cell_type": "code",
   "execution_count": 138,
   "id": "02755732-3b54-4785-8cd9-ca7b9eedf253",
   "metadata": {},
   "outputs": [],
   "source": [
    "groupby4 = births.groupby('year')"
   ]
  },
  {
   "cell_type": "code",
   "execution_count": 139,
   "id": "191cd4d4-c414-4f2d-abe4-43f88d8310cf",
   "metadata": {},
   "outputs": [
    {
     "data": {
      "text/plain": [
       "year\n",
       "1969    3600206\n",
       "1970    3737800\n",
       "1971    3563548\n",
       "1972    3266235\n",
       "1973    3146125\n",
       "1974    3170631\n",
       "1975    3153556\n",
       "1976    3176476\n",
       "1977    3332159\n",
       "1978    3338300\n",
       "1979    3499795\n",
       "1980    3617981\n",
       "1981    3635515\n",
       "1982    3685457\n",
       "1983    3642821\n",
       "1984    3673568\n",
       "1985    3765064\n",
       "1986    3760695\n",
       "1987    3813216\n",
       "1988    3913793\n",
       "1989    4045693\n",
       "1990    4162917\n",
       "1991    4115342\n",
       "1992    4069428\n",
       "1993    4004523\n",
       "1994    3956925\n",
       "1995    3903012\n",
       "1996    3894874\n",
       "1997    3884329\n",
       "1998    3945192\n",
       "1999    3963465\n",
       "2000    4063823\n",
       "2001    4031531\n",
       "2002    4027376\n",
       "2003    4096092\n",
       "2004    4118907\n",
       "2005    4145619\n",
       "2006    4273225\n",
       "2007    4324008\n",
       "2008    4255156\n",
       "Name: births, dtype: int64"
      ]
     },
     "execution_count": 139,
     "metadata": {},
     "output_type": "execute_result"
    }
   ],
   "source": [
    "groupby4['births'].sum()"
   ]
  },
  {
   "cell_type": "code",
   "execution_count": 163,
   "id": "21063669-b8a8-418b-9c22-5229c83fc809",
   "metadata": {},
   "outputs": [
    {
     "data": {
      "text/plain": [
       "year\n",
       "1969    3,600,206명\n",
       "1970    3,737,800명\n",
       "1971    3,563,548명\n",
       "1972    3,266,235명\n",
       "1973    3,146,125명\n",
       "1974    3,170,631명\n",
       "1975    3,153,556명\n",
       "1976    3,176,476명\n",
       "1977    3,332,159명\n",
       "1978    3,338,300명\n",
       "1979    3,499,795명\n",
       "1980    3,617,981명\n",
       "1981    3,635,515명\n",
       "1982    3,685,457명\n",
       "1983    3,642,821명\n",
       "1984    3,673,568명\n",
       "1985    3,765,064명\n",
       "1986    3,760,695명\n",
       "1987    3,813,216명\n",
       "1988    3,913,793명\n",
       "1989    4,045,693명\n",
       "1990    4,162,917명\n",
       "1991    4,115,342명\n",
       "1992    4,069,428명\n",
       "1993    4,004,523명\n",
       "1994    3,956,925명\n",
       "1995    3,903,012명\n",
       "1996    3,894,874명\n",
       "1997    3,884,329명\n",
       "1998    3,945,192명\n",
       "1999    3,963,465명\n",
       "2000    4,063,823명\n",
       "2001    4,031,531명\n",
       "2002    4,027,376명\n",
       "2003    4,096,092명\n",
       "2004    4,118,907명\n",
       "2005    4,145,619명\n",
       "2006    4,273,225명\n",
       "2007    4,324,008명\n",
       "2008    4,255,156명\n",
       "Name: births, dtype: object"
      ]
     },
     "execution_count": 163,
     "metadata": {},
     "output_type": "execute_result"
    }
   ],
   "source": [
    "births.groupby('year')['births'].sum().map('{:,}명'.format)"
   ]
  },
  {
   "cell_type": "code",
   "execution_count": 141,
   "id": "c4561e9f-45fb-4cae-8a15-dd2921f289e6",
   "metadata": {},
   "outputs": [
    {
     "data": {
      "text/plain": [
       "month\n",
       "1     12364197\n",
       "2     11541178\n",
       "3     12678844\n",
       "4     12085891\n",
       "5     12624972\n",
       "6     12521070\n",
       "7     13367556\n",
       "8     13528007\n",
       "9     13252831\n",
       "10    12954950\n",
       "11    12197967\n",
       "12    12656915\n",
       "Name: births, dtype: int64"
      ]
     },
     "execution_count": 141,
     "metadata": {},
     "output_type": "execute_result"
    }
   ],
   "source": [
    "groupby5 = births.groupby('month')\n",
    "groupby5['births'].sum()"
   ]
  },
  {
   "cell_type": "code",
   "execution_count": 164,
   "id": "94e22916-3601-440e-b1c2-2bb5e7bb7a9b",
   "metadata": {},
   "outputs": [],
   "source": [
    "search0 = births.year == 1969"
   ]
  },
  {
   "cell_type": "code",
   "execution_count": 167,
   "id": "9088163d-969b-4bd3-bcec-33e9bfaad989",
   "metadata": {},
   "outputs": [
    {
     "data": {
      "text/plain": [
       "month\n",
       "1     293940\n",
       "2     270786\n",
       "3     296550\n",
       "4     282638\n",
       "5     289124\n",
       "6     291610\n",
       "7     318356\n",
       "8     321034\n",
       "9     312620\n",
       "10    311972\n",
       "11    297054\n",
       "12    314522\n",
       "Name: births, dtype: int64"
      ]
     },
     "execution_count": 167,
     "metadata": {},
     "output_type": "execute_result"
    }
   ],
   "source": [
    "births[search0].groupby('month')['births'].sum()"
   ]
  },
  {
   "cell_type": "code",
   "execution_count": null,
   "id": "f8c40d7e-057d-4c2a-8e55-ce445c375011",
   "metadata": {},
   "outputs": [],
   "source": []
  },
  {
   "cell_type": "code",
   "execution_count": 143,
   "id": "d35ec29a-4da0-4ec4-bc90-3e1845990003",
   "metadata": {},
   "outputs": [
    {
     "data": {
      "text/plain": [
       "gender\n",
       "F    74035823\n",
       "M    77738555\n",
       "Name: births, dtype: int64"
      ]
     },
     "execution_count": 143,
     "metadata": {},
     "output_type": "execute_result"
    }
   ],
   "source": [
    "groupby6 = births.groupby('gender')\n",
    "groupby6['births'].sum()"
   ]
  },
  {
   "cell_type": "code",
   "execution_count": 169,
   "id": "38cf02ab-2869-4dfd-a9f3-0e27df862f42",
   "metadata": {},
   "outputs": [
    {
     "data": {
      "text/plain": [
       "year  gender\n",
       "1969  F         1753634\n",
       "      M         1846572\n",
       "1970  F         1819164\n",
       "      M         1918636\n",
       "1971  F         1736774\n",
       "                 ...   \n",
       "2006  M         2188268\n",
       "2007  F         2111890\n",
       "      M         2212118\n",
       "2008  F         2077929\n",
       "      M         2177227\n",
       "Name: births, Length: 80, dtype: int64"
      ]
     },
     "execution_count": 169,
     "metadata": {},
     "output_type": "execute_result"
    }
   ],
   "source": [
    "groupby6 = births.groupby(['year','gender']).sum()\n",
    "groupby6['births']"
   ]
  },
  {
   "cell_type": "code",
   "execution_count": null,
   "id": "68761604-f514-4f34-b00b-adf442c81916",
   "metadata": {},
   "outputs": [],
   "source": []
  }
 ],
 "metadata": {
  "kernelspec": {
   "display_name": "Python 3 (ipykernel)",
   "language": "python",
   "name": "python3"
  },
  "language_info": {
   "codemirror_mode": {
    "name": "ipython",
    "version": 3
   },
   "file_extension": ".py",
   "mimetype": "text/x-python",
   "name": "python",
   "nbconvert_exporter": "python",
   "pygments_lexer": "ipython3",
   "version": "3.7.10"
  }
 },
 "nbformat": 4,
 "nbformat_minor": 5
}
