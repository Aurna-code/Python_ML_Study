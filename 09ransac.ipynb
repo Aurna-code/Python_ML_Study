{
 "cells": [
  {
   "cell_type": "markdown",
   "id": "0d1bd9e1-cb5e-4b9a-8613-cbed77bbdca9",
   "metadata": {},
   "source": [
    "## RANSAC\n",
    "* random sample consensus\n",
    "* 데이터셋에서 노이즈를 제거하고 모델을 예측하는 알고리즘\n",
    "* 특정 임계값을 기준으로 데이터를 무시하고 모델 생성\n",
    "    + 노이즈를 반영하지 않고 최대 데이터가 일치하는 이상적 모델 생성\n",
    "    + 즉, 가장 많은 수의 데이터로부터 지지를 받는 모델을 생성"
   ]
  },
  {
   "cell_type": "markdown",
   "id": "00b7848e-bd01-451f-877c-9bf549a808c7",
   "metadata": {},
   "source": [
    "<img src='img/ransac01.png'>"
   ]
  },
  {
   "cell_type": "markdown",
   "id": "3ca81587-25fa-4215-9296-0c4b826cc926",
   "metadata": {},
   "source": [
    "<img src='img/ransac02.png'>"
   ]
  },
  {
   "cell_type": "markdown",
   "id": "5ee60fcf-6367-4bc4-bc94-73c7463f99fa",
   "metadata": {},
   "source": [
    "<img src='img/ransac03.png' width=\"50%\">"
   ]
  },
  {
   "cell_type": "markdown",
   "id": "03049069-28e0-4b1b-ba0d-5c503e47a926",
   "metadata": {},
   "source": [
    "### RANSAC 알고리즘\n",
    "+ 가설단계 : 전체 데이터에서 N개의 표본을 선택하고, 선택된 표본(inlier)으로부터 모델을 예측한다\n",
    "+ 검증단계 : 데이터셋에서 모델과 일치하는 데이터수를 센 후 최대값인 경우 모델의 매개변수를 새롭게 저장함\n",
    "+ RANSAC은 가설과 검증을 N번 반복해서 그 중 최고의 모델을 선정함\n",
    "+ sklearn에서는 RANSACRegressor라는 객체를 제공\n",
    "+ 매개변수 : 임계값, 표본수\n",
    "\n"
   ]
  },
  {
   "cell_type": "markdown",
   "id": "bd6de20d-531a-4909-92d6-4d2b2a440496",
   "metadata": {},
   "source": [
    "<img src='img/ransac04.png'>"
   ]
  },
  {
   "cell_type": "code",
   "execution_count": 7,
   "id": "c51775f6-76f4-4d60-a28a-cdfb6591743b",
   "metadata": {},
   "outputs": [],
   "source": [
    "import numpy as np\n",
    "import pandas as pd\n",
    "import matplotlib.pyplot as plt"
   ]
  },
  {
   "cell_type": "markdown",
   "id": "f709311c-8a35-4f85-8da3-81ca72370236",
   "metadata": {},
   "source": [
    "#### 보스턴 집값 데이터에서 방수RM과 평균값 Mdev에 대해 회귀분석과 RANSAC 분석 실시하고 결과를 비교하기"
   ]
  },
  {
   "cell_type": "code",
   "execution_count": 17,
   "id": "a7bf83f9-d4b7-417d-9f66-8399db006524",
   "metadata": {},
   "outputs": [],
   "source": [
    "from sklearn.datasets import load_boston\n",
    "from sklearn.model_selection import train_test_split\n",
    "from sklearn.linear_model import LinearRegression\n",
    "from sklearn.metrics import r2_score\n",
    "from sklearn.metrics import mean_squared_error\n",
    "from pandas.plotting import scatter_matrix\n",
    "import seaborn as sns"
   ]
  },
  {
   "cell_type": "code",
   "execution_count": 12,
   "id": "f8c9e543-452d-4921-acb1-4dead9fdce9f",
   "metadata": {},
   "outputs": [],
   "source": [
    "from sklearn.datasets import load_boston"
   ]
  },
  {
   "cell_type": "code",
   "execution_count": 82,
   "id": "c4db7a97-7295-47cc-b64a-4032d7509529",
   "metadata": {},
   "outputs": [],
   "source": [
    "boston = load_boston()\n",
    "df = pd.DataFrame(boston.data, columns=boston.feature_names)\n",
    "df['MDEV'] = boston.target"
   ]
  },
  {
   "cell_type": "code",
   "execution_count": 83,
   "id": "031e08f0-f582-47a1-9d8a-4afeb4310c85",
   "metadata": {},
   "outputs": [],
   "source": [
    "X = df.RM    # 방수\n",
    "y = df.MDEV  # 주택가격"
   ]
  },
  {
   "cell_type": "markdown",
   "id": "bbe2981b-ce50-4cf3-921b-c1f56a277d14",
   "metadata": {},
   "source": [
    "### 단순선형회귀"
   ]
  },
  {
   "cell_type": "markdown",
   "id": "aaefd9dd-f95a-42ef-bec2-42c597231aa1",
   "metadata": {},
   "source": [
    "#### 산점도"
   ]
  },
  {
   "cell_type": "code",
   "execution_count": 84,
   "id": "17f07c03-47d3-46df-a7f8-653fe6c9c698",
   "metadata": {},
   "outputs": [
    {
     "data": {
      "text/plain": [
       "[<matplotlib.lines.Line2D at 0x7f44bec10a10>]"
      ]
     },
     "execution_count": 84,
     "metadata": {},
     "output_type": "execute_result"
    },
    {
     "data": {
      "image/png": "[encoded data removed]",
      "text/plain": [
       "<Figure size 432x288 with 1 Axes>"
      ]
     },
     "metadata": {
      "needs_background": "light"
     },
     "output_type": "display_data"
    }
   ],
   "source": [
    "plt.plot(X,y,'bo')"
   ]
  },
  {
   "cell_type": "markdown",
   "id": "35ad37ba-321d-4b6c-8b11-5b283ea98b93",
   "metadata": {},
   "source": [
    "#### 선형회귀"
   ]
  },
  {
   "cell_type": "code",
   "execution_count": 85,
   "id": "8d1940d4-1dae-40ac-909a-b4dabd6b5cdd",
   "metadata": {},
   "outputs": [],
   "source": [
    "X = np.array(X).reshape(-1,1)\n",
    "lrclf = LinearRegression()\n",
    "lrclf.fit(X, y)\n",
    "pred = lrclf.predict(X)"
   ]
  },
  {
   "cell_type": "markdown",
   "id": "e9cb4227-cf62-4dda-b72d-dfc602b6158f",
   "metadata": {},
   "source": [
    "#### 선형모델의 계수"
   ]
  },
  {
   "cell_type": "code",
   "execution_count": 86,
   "id": "94783920-11ec-4b50-97aa-6da2caff1950",
   "metadata": {},
   "outputs": [
    {
     "name": "stdout",
     "output_type": "stream",
     "text": [
      "[9.10210898] -34.67062077643857\n"
     ]
    }
   ],
   "source": [
    "a = lrclf.coef_\n",
    "b = lrclf.intercept_\n",
    "print(a,b)"
   ]
  },
  {
   "cell_type": "markdown",
   "id": "43c29042-2e32-4526-83d3-5596315b40a8",
   "metadata": {},
   "source": [
    "#### 모델 성능 평가"
   ]
  },
  {
   "cell_type": "code",
   "execution_count": 87,
   "id": "c2321c14-5be6-44be-95fc-6dc3a3521167",
   "metadata": {},
   "outputs": [
    {
     "name": "stdout",
     "output_type": "stream",
     "text": [
      "6.603071389222561 0.48352545599133423\n"
     ]
    }
   ],
   "source": [
    "rmse = np.sqrt(mean_squared_error(y, pred))\n",
    "r2 = r2_score(y, pred)\n",
    "print(rmse,r2)"
   ]
  },
  {
   "cell_type": "markdown",
   "id": "29ed78ea-ed7e-4fa2-aa26-b4fdb732402b",
   "metadata": {},
   "source": [
    "#### 회귀선 시각화"
   ]
  },
  {
   "cell_type": "code",
   "execution_count": 30,
   "id": "4b6b1c42-faaf-4931-987b-fa2744dcb8a5",
   "metadata": {},
   "outputs": [
    {
     "data": {
      "text/plain": [
       "[<matplotlib.lines.Line2D at 0x7f44bf07acd0>]"
      ]
     },
     "execution_count": 30,
     "metadata": {},
     "output_type": "execute_result"
    },
    {
     "data": {
      "image/png": "[encoded data removed]",
      "text/plain": [
       "<Figure size 432x288 with 1 Axes>"
      ]
     },
     "metadata": {
      "needs_background": "light"
     },
     "output_type": "display_data"
    }
   ],
   "source": [
    "z = lrclf.predict(X)\n",
    "plt.plot(X,y, 'bo')\n",
    "plt.plot(X,z, 'r-')"
   ]
  },
  {
   "cell_type": "markdown",
   "id": "e8bd2be9-1666-43f5-900b-5fff72928f12",
   "metadata": {},
   "source": [
    "### RANSAC 선형회귀 실시"
   ]
  },
  {
   "cell_type": "code",
   "execution_count": 31,
   "id": "0d606885-b765-44c9-9972-68fe316f732e",
   "metadata": {},
   "outputs": [],
   "source": [
    "from sklearn.linear_model import RANSACRegressor"
   ]
  },
  {
   "cell_type": "code",
   "execution_count": 51,
   "id": "a918be49-2219-4fc9-ace9-84419f8eb03e",
   "metadata": {},
   "outputs": [
    {
     "data": {
      "text/plain": [
       "RANSACRegressor(base_estimator=LinearRegression(), max_trials=500,\n",
       "                min_samples=50, random_state=2111091045,\n",
       "                residual_threshold=5.0)"
      ]
     },
     "execution_count": 51,
     "metadata": {},
     "output_type": "execute_result"
    }
   ],
   "source": [
    "lrclf2 = lrclf = LinearRegression()\n",
    "ransac = RANSACRegressor(lrclf2, max_trials=500, min_samples=50, loss='absolute_error', residual_threshold=5.0, random_state=2111091045)\n",
    "ransac.fit(X, y) \n",
    "# max_trais : 알고리즘 최대 반복횟수\n",
    "# min_samples : 모델 선정에 사용할 무작위 표본의 최소수\n",
    "# loss : 모델의 성능 평가에 사용할 함수 지정\n",
    "# absolute_error : 절대값 \n",
    "# residual_thresold : 정상치에 포함할 허용오차"
   ]
  },
  {
   "cell_type": "markdown",
   "id": "d0726c18-a320-4329-9b82-4c987de720ff",
   "metadata": {},
   "source": [
    "#### 선형모델의 계수"
   ]
  },
  {
   "cell_type": "code",
   "execution_count": 46,
   "id": "5df415ec-d958-4355-a653-05d41e0af04b",
   "metadata": {},
   "outputs": [
    {
     "name": "stdout",
     "output_type": "stream",
     "text": [
      "[10.13609866] -40.2080937417566\n"
     ]
    }
   ],
   "source": [
    "a = ransac.estimator_.coef_\n",
    "b = ransac.estimator_.intercept_\n",
    "print(a,b)"
   ]
  },
  {
   "cell_type": "markdown",
   "id": "eeedaccf-3b85-4a23-8fb6-9e21d4d99a73",
   "metadata": {},
   "source": [
    "#### 정상치inlier와 이상치outlier 추출"
   ]
  },
  {
   "cell_type": "code",
   "execution_count": 61,
   "id": "9a5cd7ed-3803-4f78-8b18-17b5d623aaf8",
   "metadata": {},
   "outputs": [],
   "source": [
    "inlier_mask = ransac.inlier_mask_\n",
    "outlier_mask = np.logical_not(inlier_mask)\n"
   ]
  },
  {
   "cell_type": "markdown",
   "id": "a7575a0d-0fe2-45a5-8b83-7a8d56c456a9",
   "metadata": {},
   "source": [
    "#### 회귀선 시각화를 위한 변수 생성\n"
   ]
  },
  {
   "cell_type": "code",
   "execution_count": 62,
   "id": "b7e87e93-e7b5-4702-ae79-a720f96c28c0",
   "metadata": {},
   "outputs": [],
   "source": [
    "z = ransac.predict(X[inlier_mask])"
   ]
  },
  {
   "cell_type": "markdown",
   "id": "20cc49a1-759a-48c3-9450-f76ca381e353",
   "metadata": {},
   "source": [
    "#### 정상치와 이상치 시각화"
   ]
  },
  {
   "cell_type": "code",
   "execution_count": 63,
   "id": "66b3af3e-f325-49b5-80b2-31cc763eefaf",
   "metadata": {},
   "outputs": [
    {
     "data": {
      "text/plain": [
       "[<matplotlib.lines.Line2D at 0x7f44bed73990>]"
      ]
     },
     "execution_count": 63,
     "metadata": {},
     "output_type": "execute_result"
    },
    {
     "data": {
      "image/png": "[encoded data removed]",
      "text/plain": [
       "<Figure size 432x288 with 1 Axes>"
      ]
     },
     "metadata": {
      "needs_background": "light"
     },
     "output_type": "display_data"
    }
   ],
   "source": [
    "plt.scatter(X[inlier_mask], y[inlier_mask], c='blue', marker='x', label = 'inlier')\n",
    "plt.scatter(X[outlier_mask], y[outlier_mask], c='pink', marker='x', label = 'outlier')\n",
    "plt.legend()\n",
    "plt.plot(X[inlier_mask], z, 'r-')"
   ]
  },
  {
   "cell_type": "code",
   "execution_count": 65,
   "id": "a37885e1-697d-4f10-a70b-347db6bcd634",
   "metadata": {},
   "outputs": [
    {
     "name": "stdout",
     "output_type": "stream",
     "text": [
      "2.47 0.88\n"
     ]
    }
   ],
   "source": [
    "rmse = np.sqrt(mean_squared_error(y[inlier_mask], z))\n",
    "r2 = r2_score(y[inlier_mask], z)\n",
    "print('%.2f' % rmse, '%.2f' % r2)"
   ]
  },
  {
   "cell_type": "markdown",
   "id": "1016f109-04ab-41e8-9428-95bc6f0cbd76",
   "metadata": {},
   "source": [
    "#### 데이터에서 임의의 표본을 n개 선택하여 이를 inlier(정상치)로 가정하고 회귀 모델을 구함\n",
    "\n",
    "#### 나머지 데이터들을 회귀 모델과 비교 - 허용 오차내에 있는 데이터들을 inlier로 포함\n",
    "\n",
    "#### 재구성된 inlier를 이용해 다시 회귀 모델을 구하고 오차 측정\n",
    "\n",
    "#### 오차가 허용오차보다 크거나 반복횟수에 도달하면 작업 종료\n"
   ]
  },
  {
   "cell_type": "markdown",
   "id": "f350b785-89b3-41c1-aab9-147d33f97ffb",
   "metadata": {},
   "source": [
    "### LSTAT으로 해보기"
   ]
  },
  {
   "cell_type": "code",
   "execution_count": 125,
   "id": "43a99f36-47cd-4355-b9a5-a19b75437f1b",
   "metadata": {},
   "outputs": [],
   "source": [
    "X1 = df.LSTAT"
   ]
  },
  {
   "cell_type": "code",
   "execution_count": 126,
   "id": "3923eee2-9155-4fc7-828e-987894c77001",
   "metadata": {},
   "outputs": [
    {
     "data": {
      "text/plain": [
       "[<matplotlib.lines.Line2D at 0x7f44be606110>]"
      ]
     },
     "execution_count": 126,
     "metadata": {},
     "output_type": "execute_result"
    },
    {
     "data": {
      "image/png": "[encoded data removed]",
      "text/plain": [
       "<Figure size 432x288 with 1 Axes>"
      ]
     },
     "metadata": {
      "needs_background": "light"
     },
     "output_type": "display_data"
    }
   ],
   "source": [
    "plt.plot(X1,y,'bo') \n",
    "# 산점도"
   ]
  },
  {
   "cell_type": "code",
   "execution_count": 127,
   "id": "6143bbfc-423b-49dc-a698-06d8783f65d5",
   "metadata": {},
   "outputs": [],
   "source": [
    "X1 = np.array(X1).reshape(-1,1)\n",
    "lrclf = LinearRegression()\n",
    "lrclf.fit(X1, y)\n",
    "pred = lrclf.predict(X1)\n",
    "# 어레이 변환 및 선형회귀"
   ]
  },
  {
   "cell_type": "code",
   "execution_count": 128,
   "id": "1edf4406-5155-473f-84bb-ba149acc8511",
   "metadata": {},
   "outputs": [
    {
     "name": "stdout",
     "output_type": "stream",
     "text": [
      "-0.95 34.55\n"
     ]
    }
   ],
   "source": [
    "a = lrclf.coef_\n",
    "b = lrclf.intercept_\n",
    "print('%.2f' % a, '%.2f' % b) \n",
    "# 회귀계수"
   ]
  },
  {
   "cell_type": "code",
   "execution_count": 103,
   "id": "7adf29ab-b09a-4bcd-88f9-f96438d8c001",
   "metadata": {},
   "outputs": [
    {
     "name": "stdout",
     "output_type": "stream",
     "text": [
      "6.20 0.54\n"
     ]
    }
   ],
   "source": [
    "rmse = np.sqrt(mean_squared_error(y, pred))\n",
    "r2 = r2_score(y, pred)\n",
    "print('%.2f' % rmse, '%.2f' % r2)\n",
    "# 모델 성능 평가"
   ]
  },
  {
   "cell_type": "code",
   "execution_count": 130,
   "id": "c54a195a-9d20-4357-9edb-42caced13ace",
   "metadata": {},
   "outputs": [
    {
     "data": {
      "text/plain": [
       "[<matplotlib.lines.Line2D at 0x7f44be450a50>]"
      ]
     },
     "execution_count": 130,
     "metadata": {},
     "output_type": "execute_result"
    },
    {
     "data": {
      "image/png": "[encoded data removed]",
      "text/plain": [
       "<Figure size 432x288 with 1 Axes>"
      ]
     },
     "metadata": {
      "needs_background": "light"
     },
     "output_type": "display_data"
    }
   ],
   "source": [
    "plt.plot(X1,y, 'bo')\n",
    "plt.plot(X1,pred, 'r-')\n",
    "# 회귀선 시각화"
   ]
  },
  {
   "cell_type": "code",
   "execution_count": 131,
   "id": "790215d9-51a2-4976-be0b-55476da3e5ee",
   "metadata": {},
   "outputs": [
    {
     "data": {
      "text/plain": [
       "RANSACRegressor(base_estimator=LinearRegression(), max_trials=500,\n",
       "                min_samples=50, random_state=2111091205,\n",
       "                residual_threshold=5.0)"
      ]
     },
     "execution_count": 131,
     "metadata": {},
     "output_type": "execute_result"
    }
   ],
   "source": [
    "lrclf3 = lrclf = LinearRegression()\n",
    "ransac = RANSACRegressor(lrclf3, max_trials=500, min_samples=50, loss='absolute_error', residual_threshold=5.0, random_state=2111091205)\n",
    "ransac.fit(X1, y) \n",
    "# max_trais : 알고리즘 최대 반복횟수\n",
    "# min_samples : 모델 선정에 사용할 무작위 표본의 최소수\n",
    "# loss : 모델의 성능 평가에 사용할 함수 지정\n",
    "# absolute_error : 절대값 \n",
    "# residual_thresold : 정상치에 포함할 허용오차\n",
    "# RANSAC 선형회귀 변수"
   ]
  },
  {
   "cell_type": "code",
   "execution_count": 132,
   "id": "313dcc42-24fd-4747-a2ab-8486e6989314",
   "metadata": {},
   "outputs": [
    {
     "name": "stdout",
     "output_type": "stream",
     "text": [
      "[-0.74347328] 29.828872956329434\n"
     ]
    }
   ],
   "source": [
    "a = ransac.estimator_.coef_\n",
    "b = ransac.estimator_.intercept_\n",
    "print(a,b)\n",
    "# RANSAC 선형회귀 계수"
   ]
  },
  {
   "cell_type": "code",
   "execution_count": 133,
   "id": "7a269a6b-b240-4c77-9e6a-6057e9fc3de4",
   "metadata": {},
   "outputs": [],
   "source": [
    "inlier_mask = ransac.inlier_mask_\n",
    "outlier_mask = np.logical_not(inlier_mask)\n",
    "# 정상치와 이상치 추출"
   ]
  },
  {
   "cell_type": "code",
   "execution_count": 134,
   "id": "78190cd9-293d-4059-a214-9f0f4d3adb19",
   "metadata": {},
   "outputs": [],
   "source": [
    "z1 = ransac.predict(X1[inlier_mask])\n",
    "# RANSAC 시각화를 위한 변수 생성"
   ]
  },
  {
   "cell_type": "code",
   "execution_count": 135,
   "id": "f758da73-b854-4570-8df3-5b62e08f1ed5",
   "metadata": {},
   "outputs": [
    {
     "data": {
      "text/plain": [
       "[<matplotlib.lines.Line2D at 0x7f44be3f8bd0>]"
      ]
     },
     "execution_count": 135,
     "metadata": {},
     "output_type": "execute_result"
    },
    {
     "data": {
      "image/png": "[encoded data removed]",
      "text/plain": [
       "<Figure size 432x288 with 1 Axes>"
      ]
     },
     "metadata": {
      "needs_background": "light"
     },
     "output_type": "display_data"
    }
   ],
   "source": [
    "plt.scatter(X1[inlier_mask], y[inlier_mask], c='blue', marker='x', label = 'inlier')\n",
    "plt.scatter(X1[outlier_mask], y[outlier_mask], c='pink', marker='x', label = 'outlier')\n",
    "plt.legend()\n",
    "plt.plot(X1[inlier_mask], z1, 'r-')\n",
    "# 정상치와 이상치 시각화 "
   ]
  },
  {
   "cell_type": "code",
   "execution_count": 136,
   "id": "58371d80-92c3-482f-82ec-eb56fea46304",
   "metadata": {},
   "outputs": [
    {
     "name": "stdout",
     "output_type": "stream",
     "text": [
      "2.41 0.80\n"
     ]
    }
   ],
   "source": [
    "rmse = np.sqrt(mean_squared_error(y[inlier_mask], z1))\n",
    "r2 = r2_score(y[inlier_mask], z1)\n",
    "print('%.2f' % rmse, '%.2f' % r2) "
   ]
  },
  {
   "cell_type": "markdown",
   "id": "b046a450-65be-4b10-8132-b9896fe1fbaa",
   "metadata": {},
   "source": [
    "#### train test split"
   ]
  },
  {
   "cell_type": "code",
   "execution_count": 112,
   "id": "6d2e8982-e14f-4c15-99f1-68db97c8044e",
   "metadata": {},
   "outputs": [],
   "source": [
    "Xtrain, Xtest, ytrain, ytest = train_test_split(X1, y, train_size=0.7, random_state=2111001130)"
   ]
  },
  {
   "cell_type": "code",
   "execution_count": 113,
   "id": "c407003e-077d-42a6-aecc-8cfeccc106ad",
   "metadata": {},
   "outputs": [],
   "source": [
    "lrclf = LinearRegression()\n",
    "lrclf.fit(Xtrain, ytrain)\n",
    "pred = lrclf.predict(Xtest)"
   ]
  },
  {
   "cell_type": "code",
   "execution_count": 114,
   "id": "eff0417d-bd1a-492a-b2f9-9ea474899805",
   "metadata": {},
   "outputs": [
    {
     "name": "stdout",
     "output_type": "stream",
     "text": [
      "-0.94 34.36\n"
     ]
    }
   ],
   "source": [
    "print('%.2f' % lrclf.coef_[0], '%.2f' % lrclf.intercept_)"
   ]
  },
  {
   "cell_type": "code",
   "execution_count": 115,
   "id": "c3658fac-3af2-4b4f-be21-333e1eaf3d65",
   "metadata": {},
   "outputs": [
    {
     "name": "stdout",
     "output_type": "stream",
     "text": [
      "6.58 0.55\n"
     ]
    }
   ],
   "source": [
    "rmse = np.sqrt(mean_squared_error(ytest, pred))\n",
    "r2 = r2_score(ytest, pred)\n",
    "print('%.2f' % rmse, '%.2f' % r2)"
   ]
  },
  {
   "cell_type": "code",
   "execution_count": 116,
   "id": "25aea3e9-ff43-4720-93db-5c25f270bbf6",
   "metadata": {},
   "outputs": [],
   "source": [
    "Xtrain, Xtest, ytrain, ytest = train_test_split(X1[inlier_mask], y[inlier_mask], train_size=0.7, random_state=2111001130)"
   ]
  },
  {
   "cell_type": "code",
   "execution_count": 117,
   "id": "3d10f3f0-c741-4298-9873-c4f6fcdf067b",
   "metadata": {},
   "outputs": [],
   "source": [
    "lrclf = LinearRegression()\n",
    "lrclf.fit(Xtrain, ytrain)\n",
    "pred = lrclf.predict(Xtest)"
   ]
  },
  {
   "cell_type": "code",
   "execution_count": 118,
   "id": "80e12503-2e8e-4b0f-af47-0d227873e92c",
   "metadata": {},
   "outputs": [
    {
     "name": "stdout",
     "output_type": "stream",
     "text": [
      "-0.73 29.73\n"
     ]
    }
   ],
   "source": [
    "print('%.2f' % lrclf.coef_[0], '%.2f' % lrclf.intercept_)"
   ]
  },
  {
   "cell_type": "code",
   "execution_count": 119,
   "id": "c16eb15a-5b86-4fbe-a5af-6174f705b7af",
   "metadata": {},
   "outputs": [
    {
     "name": "stdout",
     "output_type": "stream",
     "text": [
      "2.45 0.81\n"
     ]
    }
   ],
   "source": [
    "rmse = np.sqrt(mean_squared_error(ytest, pred))\n",
    "r2 = r2_score(ytest, pred)\n",
    "print('%.2f' % rmse, '%.2f' % r2)"
   ]
  },
  {
   "cell_type": "code",
   "execution_count": null,
   "id": "32c8c225-29ee-4166-aef6-2de4ff67fc7e",
   "metadata": {},
   "outputs": [],
   "source": []
  },
  {
   "cell_type": "code",
   "execution_count": null,
   "id": "4a49f083-a184-4495-9475-c600429615c7",
   "metadata": {},
   "outputs": [],
   "source": []
  },
  {
   "cell_type": "code",
   "execution_count": null,
   "id": "88b51cb2-eb36-4ba4-958f-5ea3da78775e",
   "metadata": {},
   "outputs": [],
   "source": []
  },
  {
   "cell_type": "code",
   "execution_count": null,
   "id": "30125e8c-bb09-459f-9c73-3e00a20b0759",
   "metadata": {},
   "outputs": [],
   "source": []
  },
  {
   "cell_type": "code",
   "execution_count": null,
   "id": "93afe00a-f4cb-48a3-bef9-55378302bed0",
   "metadata": {},
   "outputs": [],
   "source": []
  },
  {
   "cell_type": "code",
   "execution_count": null,
   "id": "ca1c62c1-bac7-4b57-ae99-6134a25eb9e4",
   "metadata": {},
   "outputs": [],
   "source": []
  }
 ],
 "metadata": {
  "kernelspec": {
   "display_name": "Python 3 (ipykernel)",
   "language": "python",
   "name": "python3"
  },
  "language_info": {
   "codemirror_mode": {
    "name": "ipython",
    "version": 3
   },
   "file_extension": ".py",
   "mimetype": "text/x-python",
   "name": "python",
   "nbconvert_exporter": "python",
   "pygments_lexer": "ipython3",
   "version": "3.7.10"
  }
 },
 "nbformat": 4,
 "nbformat_minor": 5
}
