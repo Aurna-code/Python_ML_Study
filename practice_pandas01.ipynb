{
 "cells": [
  {
   "cell_type": "markdown",
   "id": "d51532a9-fd8a-4ccc-ae43-002c34dc2f8b",
   "metadata": {},
   "source": [
    "## pandas\n",
    "+ 행에 열 레이블을 부착한 n차원 행렬 자료구조를 제공하는 파이썬 라이브러리\n",
    "+ 지원하는 자료구조는 Series, DataFrame, Panel\n",
    "+ 0.20 이후로 Panel 은 deprecated\n",
    "+ numpy 기반으로 처리속도가 빠름\n",
    "+ 파이썬에서 금융 시계열을 다룰 목적으로 헤지펀드 애널리스트가 개발에 참여\n",
    "+ pandas.pydata.org\n",
    "+ pip install pandas"
   ]
  },
  {
   "cell_type": "code",
   "execution_count": 134,
   "id": "cec69466-2c7a-4ad8-9675-c4b3969004c8",
   "metadata": {},
   "outputs": [],
   "source": [
    "import numpy as np\n",
    "import pandas as pd"
   ]
  },
  {
   "cell_type": "markdown",
   "id": "2c6d39c3-6736-4f19-b4f3-cfb57f1efb53",
   "metadata": {},
   "source": [
    "### pandas 자료구조 1 : series\n",
    "+ R의 벡터와 유사한 자료구조 : 1차원 배열\n",
    "+ pd.Series(데이터, 인덱스, 자료형)"
   ]
  },
  {
   "cell_type": "markdown",
   "id": "bbb1f2a4-520d-4634-9297-5b82893d591a",
   "metadata": {},
   "source": [
    "#### 빈 시리즈 생성"
   ]
  },
  {
   "cell_type": "code",
   "execution_count": 4,
   "id": "18434cb5-1754-4d2c-8e07-9149fef5be8e",
   "metadata": {},
   "outputs": [
    {
     "data": {
      "text/plain": [
       "'1.3.3'"
      ]
     },
     "execution_count": 4,
     "metadata": {},
     "output_type": "execute_result"
    }
   ],
   "source": [
    "pd.__version__"
   ]
  },
  {
   "cell_type": "code",
   "execution_count": 5,
   "id": "5379b707-19c6-4fb8-96c5-4e9de8fc97bb",
   "metadata": {},
   "outputs": [
    {
     "data": {
      "text/plain": [
       "Series([], dtype: object)"
      ]
     },
     "execution_count": 5,
     "metadata": {},
     "output_type": "execute_result"
    }
   ],
   "source": [
    "a = pd.Series(dtype='object')\n",
    "a"
   ]
  },
  {
   "cell_type": "markdown",
   "id": "6e16bb95-736c-4cf6-9322-882dc6a5360e",
   "metadata": {},
   "source": [
    "#### numpy 배열을 시리즈로 생성"
   ]
  },
  {
   "cell_type": "code",
   "execution_count": 7,
   "id": "9577200b-4907-4b24-8322-a747c3d58601",
   "metadata": {},
   "outputs": [
    {
     "data": {
      "text/plain": [
       "0    1\n",
       "1    2\n",
       "2    3\n",
       "3    4\n",
       "4    5\n",
       "dtype: int64"
      ]
     },
     "execution_count": 7,
     "metadata": {},
     "output_type": "execute_result"
    }
   ],
   "source": [
    "b = pd.Series([1,2,3,4,5])\n",
    "b"
   ]
  },
  {
   "cell_type": "markdown",
   "id": "99109e12-934e-45dd-93a9-a97fcbcbc7b7",
   "metadata": {},
   "source": [
    "#### 시리즈 생성시 인덱스 지정 (index 속성)"
   ]
  },
  {
   "cell_type": "code",
   "execution_count": 15,
   "id": "e81f41cc-2fb9-4cdb-bf32-757915a89617",
   "metadata": {},
   "outputs": [
    {
     "data": {
      "text/plain": [
       "1     6\n",
       "2     7\n",
       "3     8\n",
       "4     9\n",
       "5    10\n",
       "dtype: int64"
      ]
     },
     "execution_count": 15,
     "metadata": {},
     "output_type": "execute_result"
    }
   ],
   "source": [
    "c = pd.Series([6,7,8,9,10], index=[1,2,3,4,5])\n",
    "c"
   ]
  },
  {
   "cell_type": "markdown",
   "id": "1f92aa68-445b-4337-95f1-2ab9d720f87c",
   "metadata": {},
   "source": [
    "#### 시리즈 객체가 지원하는 속성들"
   ]
  },
  {
   "cell_type": "code",
   "execution_count": 19,
   "id": "7bf4c0a9-ac7b-420a-b13e-abf2a78f146d",
   "metadata": {},
   "outputs": [
    {
     "name": "stdout",
     "output_type": "stream",
     "text": [
      "[ 6  7  8  9 10]\n",
      "Int64Index([1, 2, 3, 4, 5], dtype='int64')\n",
      "7\n",
      "4     9\n",
      "5    10\n",
      "dtype: int64\n"
     ]
    }
   ],
   "source": [
    "print(c.values)  # 시리즈의 요소값\n",
    "print(c.index)  # 시리즈의 인덱스\n",
    "print(c[2])     # 2번째값(인덱스가 1부터 시작)\n",
    "print(c[3:5])   # 3,4번째값"
   ]
  },
  {
   "cell_type": "markdown",
   "id": "30b94cac-c71a-4474-adbf-66d43f8c7b0c",
   "metadata": {},
   "source": [
    "### pandas indexer\n",
    "+ pandas에서 정수형 인덱스를 사용하는 경우 파이썬의 slice 연산과 혼동할 위험 존재\n",
    "+ 따라서, panda만의 특별한 요소지정방법 제공 - indexer\n",
    "    - loc : 문자형 인덱스 요소 지정\n",
    "    - iloc : 숫자형 인덱스 요소 지정"
   ]
  },
  {
   "cell_type": "code",
   "execution_count": 21,
   "id": "be4bae76-f0d0-4ff9-8f95-b871f7f0ff90",
   "metadata": {},
   "outputs": [
    {
     "data": {
      "text/plain": [
       "가    9\n",
       "나    8\n",
       "다    7\n",
       "라    6\n",
       "마    5\n",
       "dtype: int64"
      ]
     },
     "execution_count": 21,
     "metadata": {},
     "output_type": "execute_result"
    }
   ],
   "source": [
    "d = pd.Series([9,8,7,6,5], index = ['가','나','다','라','마'])\n",
    "d"
   ]
  },
  {
   "cell_type": "markdown",
   "id": "fccf6e54-049a-4a04-99f7-55b44f32dc3d",
   "metadata": {},
   "source": [
    "#### 1번째 자료 지정"
   ]
  },
  {
   "cell_type": "code",
   "execution_count": 23,
   "id": "5722257e-c6e7-48db-8ca3-73928761edf3",
   "metadata": {},
   "outputs": [
    {
     "data": {
      "text/plain": [
       "9"
      ]
     },
     "execution_count": 23,
     "metadata": {},
     "output_type": "execute_result"
    }
   ],
   "source": [
    "print(d[0])"
   ]
  },
  {
   "cell_type": "code",
   "execution_count": 25,
   "id": "5a9ab7cd-fa76-4454-a2f8-04750c6d3b06",
   "metadata": {},
   "outputs": [
    {
     "name": "stdout",
     "output_type": "stream",
     "text": [
      "9\n"
     ]
    }
   ],
   "source": [
    "print(d.iloc[0])"
   ]
  },
  {
   "cell_type": "code",
   "execution_count": 29,
   "id": "b1891250-c881-4a93-b6ca-74c682b8b4f2",
   "metadata": {},
   "outputs": [
    {
     "name": "stdout",
     "output_type": "stream",
     "text": [
      "9\n"
     ]
    }
   ],
   "source": [
    "print(d.loc['가'])"
   ]
  },
  {
   "cell_type": "markdown",
   "id": "bdbcdd6d-a716-4f33-8986-202f1e298592",
   "metadata": {},
   "source": [
    "#### 2번째이후 자료 지정"
   ]
  },
  {
   "cell_type": "code",
   "execution_count": 50,
   "id": "020bbb36-ddbf-4105-b7f9-c4b5a48be4f0",
   "metadata": {},
   "outputs": [
    {
     "name": "stdout",
     "output_type": "stream",
     "text": [
      "나    8\n",
      "다    7\n",
      "라    6\n",
      "마    5\n",
      "dtype: int64\n"
     ]
    }
   ],
   "source": [
    "print(d[1:])"
   ]
  },
  {
   "cell_type": "code",
   "execution_count": 41,
   "id": "0c6d68ec-d05f-4ad5-9aa4-b18f34a0b0df",
   "metadata": {},
   "outputs": [
    {
     "name": "stdout",
     "output_type": "stream",
     "text": [
      "나    8\n",
      "다    7\n",
      "dtype: int64\n"
     ]
    }
   ],
   "source": [
    "print(d.iloc[1:3])"
   ]
  },
  {
   "cell_type": "code",
   "execution_count": 39,
   "id": "6c075df6-70fa-4adc-82cf-f00e344bb474",
   "metadata": {},
   "outputs": [
    {
     "name": "stdout",
     "output_type": "stream",
     "text": [
      "나    8\n",
      "다    7\n",
      "라    6\n",
      "dtype: int64\n"
     ]
    }
   ],
   "source": [
    "print(d.loc['나':'라'])"
   ]
  },
  {
   "cell_type": "code",
   "execution_count": 45,
   "id": "8e0ed1b0-d99c-4e7b-8054-982d0ff31e5c",
   "metadata": {},
   "outputs": [
    {
     "name": "stdout",
     "output_type": "stream",
     "text": [
      "가    9\n",
      "다    7\n",
      "마    5\n",
      "dtype: int64\n"
     ]
    }
   ],
   "source": [
    "print(d[::2])"
   ]
  },
  {
   "cell_type": "code",
   "execution_count": 46,
   "id": "8f61a525-6720-4e15-9414-7e0dd2f80a50",
   "metadata": {},
   "outputs": [
    {
     "name": "stdout",
     "output_type": "stream",
     "text": [
      "가    9\n",
      "다    7\n",
      "마    5\n",
      "dtype: int64\n"
     ]
    }
   ],
   "source": [
    "print(d.iloc[::2])"
   ]
  },
  {
   "cell_type": "code",
   "execution_count": 47,
   "id": "c9300a4c-0420-4642-957b-6ef64ef62449",
   "metadata": {},
   "outputs": [
    {
     "name": "stdout",
     "output_type": "stream",
     "text": [
      "가    9\n",
      "다    7\n",
      "마    5\n",
      "dtype: int64\n"
     ]
    }
   ],
   "source": [
    "print(d.loc[::2])"
   ]
  },
  {
   "cell_type": "code",
   "execution_count": 49,
   "id": "a2be3e8e-9888-47a9-b71d-5c668d517847",
   "metadata": {},
   "outputs": [
    {
     "name": "stdout",
     "output_type": "stream",
     "text": [
      "가    9\n",
      "다    7\n",
      "마    5\n",
      "dtype: int64\n"
     ]
    }
   ],
   "source": [
    "print(d.loc[['가','다','마']])"
   ]
  },
  {
   "cell_type": "markdown",
   "id": "52e97211-4dee-47ad-b246-8a96be2490a2",
   "metadata": {},
   "source": [
    "#### dict 객체로 시리즈 객체 생성"
   ]
  },
  {
   "cell_type": "code",
   "execution_count": 52,
   "id": "31cb479c-b87d-430d-955f-d76092afed47",
   "metadata": {},
   "outputs": [
    {
     "data": {
      "text/plain": [
       "a    1\n",
       "b    2\n",
       "c    3\n",
       "d    4\n",
       "e    5\n",
       "dtype: int64"
      ]
     },
     "execution_count": 52,
     "metadata": {},
     "output_type": "execute_result"
    }
   ],
   "source": [
    "data = {'a':1, 'b':2, 'c':3, 'd':4, 'e':5}\n",
    "e = pd.Series(data)\n",
    "e"
   ]
  },
  {
   "cell_type": "markdown",
   "id": "4cb86a88-5592-45e9-b9dc-21badde12d60",
   "metadata": {},
   "source": [
    "### pandas 자료구조 2 : dataframe\n",
    "+ R의 데이터프레임과 유사한 자료구조 : 2차원 테이블\n",
    "+ pd.DataFrame(데이터, 인덱스, 컬럼레이블, 자료형)"
   ]
  },
  {
   "cell_type": "markdown",
   "id": "8531dffd-6fe3-40e4-aa9e-5880447068d6",
   "metadata": {},
   "source": [
    "#### 빈 데이터프레임 객체 생성"
   ]
  },
  {
   "cell_type": "code",
   "execution_count": 53,
   "id": "84e8fd5f-a1b3-44c1-9638-43637198bf5d",
   "metadata": {},
   "outputs": [
    {
     "data": {
      "text/html": [
       "<div>\n",
       "<style scoped>\n",
       "    .dataframe tbody tr th:only-of-type {\n",
       "        vertical-align: middle;\n",
       "    }\n",
       "\n",
       "    .dataframe tbody tr th {\n",
       "        vertical-align: top;\n",
       "    }\n",
       "\n",
       "    .dataframe thead th {\n",
       "        text-align: right;\n",
       "    }\n",
       "</style>\n",
       "<table border=\"1\" class=\"dataframe\">\n",
       "  <thead>\n",
       "    <tr style=\"text-align: right;\">\n",
       "      <th></th>\n",
       "    </tr>\n",
       "  </thead>\n",
       "  <tbody>\n",
       "  </tbody>\n",
       "</table>\n",
       "</div>"
      ],
      "text/plain": [
       "Empty DataFrame\n",
       "Columns: []\n",
       "Index: []"
      ]
     },
     "execution_count": 53,
     "metadata": {},
     "output_type": "execute_result"
    }
   ],
   "source": [
    "f = pd.DataFrame()\n",
    "f"
   ]
  },
  {
   "cell_type": "markdown",
   "id": "db8da4ea-7178-4dd7-8473-1b0b93ceff3c",
   "metadata": {},
   "source": [
    "#### 리스트로 데이터프레임 객체 생성"
   ]
  },
  {
   "cell_type": "code",
   "execution_count": 54,
   "id": "fc91a865-0100-4eb3-b7ea-f6d438e90d81",
   "metadata": {},
   "outputs": [
    {
     "data": {
      "text/html": [
       "<div>\n",
       "<style scoped>\n",
       "    .dataframe tbody tr th:only-of-type {\n",
       "        vertical-align: middle;\n",
       "    }\n",
       "\n",
       "    .dataframe tbody tr th {\n",
       "        vertical-align: top;\n",
       "    }\n",
       "\n",
       "    .dataframe thead th {\n",
       "        text-align: right;\n",
       "    }\n",
       "</style>\n",
       "<table border=\"1\" class=\"dataframe\">\n",
       "  <thead>\n",
       "    <tr style=\"text-align: right;\">\n",
       "      <th></th>\n",
       "      <th>0</th>\n",
       "    </tr>\n",
       "  </thead>\n",
       "  <tbody>\n",
       "    <tr>\n",
       "      <th>0</th>\n",
       "      <td>1</td>\n",
       "    </tr>\n",
       "    <tr>\n",
       "      <th>1</th>\n",
       "      <td>2</td>\n",
       "    </tr>\n",
       "    <tr>\n",
       "      <th>2</th>\n",
       "      <td>3</td>\n",
       "    </tr>\n",
       "    <tr>\n",
       "      <th>3</th>\n",
       "      <td>4</td>\n",
       "    </tr>\n",
       "    <tr>\n",
       "      <th>4</th>\n",
       "      <td>5</td>\n",
       "    </tr>\n",
       "  </tbody>\n",
       "</table>\n",
       "</div>"
      ],
      "text/plain": [
       "   0\n",
       "0  1\n",
       "1  2\n",
       "2  3\n",
       "3  4\n",
       "4  5"
      ]
     },
     "execution_count": 54,
     "metadata": {},
     "output_type": "execute_result"
    }
   ],
   "source": [
    "data = [1,2,3,4,5]\n",
    "g = pd.DataFrame(data)\n",
    "g  # 컬럼명이 없음"
   ]
  },
  {
   "cell_type": "code",
   "execution_count": 56,
   "id": "fe6d294c-2e2b-43b8-a15e-5e06e0d17be6",
   "metadata": {},
   "outputs": [
    {
     "data": {
      "text/html": [
       "<div>\n",
       "<style scoped>\n",
       "    .dataframe tbody tr th:only-of-type {\n",
       "        vertical-align: middle;\n",
       "    }\n",
       "\n",
       "    .dataframe tbody tr th {\n",
       "        vertical-align: top;\n",
       "    }\n",
       "\n",
       "    .dataframe thead th {\n",
       "        text-align: right;\n",
       "    }\n",
       "</style>\n",
       "<table border=\"1\" class=\"dataframe\">\n",
       "  <thead>\n",
       "    <tr style=\"text-align: right;\">\n",
       "      <th></th>\n",
       "      <th>nums</th>\n",
       "    </tr>\n",
       "  </thead>\n",
       "  <tbody>\n",
       "    <tr>\n",
       "      <th>0</th>\n",
       "      <td>1</td>\n",
       "    </tr>\n",
       "    <tr>\n",
       "      <th>1</th>\n",
       "      <td>2</td>\n",
       "    </tr>\n",
       "    <tr>\n",
       "      <th>2</th>\n",
       "      <td>3</td>\n",
       "    </tr>\n",
       "    <tr>\n",
       "      <th>3</th>\n",
       "      <td>4</td>\n",
       "    </tr>\n",
       "    <tr>\n",
       "      <th>4</th>\n",
       "      <td>5</td>\n",
       "    </tr>\n",
       "  </tbody>\n",
       "</table>\n",
       "</div>"
      ],
      "text/plain": [
       "   nums\n",
       "0     1\n",
       "1     2\n",
       "2     3\n",
       "3     4\n",
       "4     5"
      ]
     },
     "execution_count": 56,
     "metadata": {},
     "output_type": "execute_result"
    }
   ],
   "source": [
    "g = pd.DataFrame(data, columns=['nums'])\n",
    "g   # 컬럼명 출력"
   ]
  },
  {
   "cell_type": "markdown",
   "id": "74f6c81d-01c3-4388-a282-5895752007e9",
   "metadata": {},
   "source": [
    "#### 3행 2열짜리 배열로 dataframe 객체 생성"
   ]
  },
  {
   "cell_type": "code",
   "execution_count": 79,
   "id": "ee4777e7-e3d0-44df-a057-10851bc31859",
   "metadata": {},
   "outputs": [
    {
     "data": {
      "text/html": [
       "<div>\n",
       "<style scoped>\n",
       "    .dataframe tbody tr th:only-of-type {\n",
       "        vertical-align: middle;\n",
       "    }\n",
       "\n",
       "    .dataframe tbody tr th {\n",
       "        vertical-align: top;\n",
       "    }\n",
       "\n",
       "    .dataframe thead th {\n",
       "        text-align: right;\n",
       "    }\n",
       "</style>\n",
       "<table border=\"1\" class=\"dataframe\">\n",
       "  <thead>\n",
       "    <tr style=\"text-align: right;\">\n",
       "      <th></th>\n",
       "      <th>이름</th>\n",
       "      <th>점수</th>\n",
       "    </tr>\n",
       "  </thead>\n",
       "  <tbody>\n",
       "    <tr>\n",
       "      <th>1</th>\n",
       "      <td>지현</td>\n",
       "      <td>99</td>\n",
       "    </tr>\n",
       "    <tr>\n",
       "      <th>2</th>\n",
       "      <td>혜교</td>\n",
       "      <td>76</td>\n",
       "    </tr>\n",
       "    <tr>\n",
       "      <th>3</th>\n",
       "      <td>수지</td>\n",
       "      <td>83</td>\n",
       "    </tr>\n",
       "  </tbody>\n",
       "</table>\n",
       "</div>"
      ],
      "text/plain": [
       "   이름  점수\n",
       "1  지현  99\n",
       "2  혜교  76\n",
       "3  수지  83"
      ]
     },
     "execution_count": 79,
     "metadata": {},
     "output_type": "execute_result"
    }
   ],
   "source": [
    "data = [['지현',99],['혜교',76],['수지',83]]\n",
    "cols = ['이름', '점수']\n",
    "idx = [1,2,3]\n",
    "h = pd.DataFrame(data, columns=cols, index=idx)\n",
    "h"
   ]
  },
  {
   "cell_type": "markdown",
   "id": "8d4e3ff0-3dd8-49a9-8b75-1957610fdec3",
   "metadata": {},
   "source": [
    "#### dict로 dataframe 객체 생성"
   ]
  },
  {
   "cell_type": "code",
   "execution_count": 80,
   "id": "a104d173-c2c4-41cc-bd18-a41c4af48893",
   "metadata": {},
   "outputs": [
    {
     "data": {
      "text/html": [
       "<div>\n",
       "<style scoped>\n",
       "    .dataframe tbody tr th:only-of-type {\n",
       "        vertical-align: middle;\n",
       "    }\n",
       "\n",
       "    .dataframe tbody tr th {\n",
       "        vertical-align: top;\n",
       "    }\n",
       "\n",
       "    .dataframe thead th {\n",
       "        text-align: right;\n",
       "    }\n",
       "</style>\n",
       "<table border=\"1\" class=\"dataframe\">\n",
       "  <thead>\n",
       "    <tr style=\"text-align: right;\">\n",
       "      <th></th>\n",
       "      <th>이름</th>\n",
       "      <th>점수</th>\n",
       "    </tr>\n",
       "  </thead>\n",
       "  <tbody>\n",
       "    <tr>\n",
       "      <th>1</th>\n",
       "      <td>지현</td>\n",
       "      <td>99</td>\n",
       "    </tr>\n",
       "    <tr>\n",
       "      <th>2</th>\n",
       "      <td>혜교</td>\n",
       "      <td>76</td>\n",
       "    </tr>\n",
       "    <tr>\n",
       "      <th>3</th>\n",
       "      <td>수지</td>\n",
       "      <td>83</td>\n",
       "    </tr>\n",
       "  </tbody>\n",
       "</table>\n",
       "</div>"
      ],
      "text/plain": [
       "   이름  점수\n",
       "1  지현  99\n",
       "2  혜교  76\n",
       "3  수지  83"
      ]
     },
     "execution_count": 80,
     "metadata": {},
     "output_type": "execute_result"
    }
   ],
   "source": [
    "data2 = {'이름':['지현','혜교','수지'], '점수':[99,76,83]}\n",
    "i = pd.DataFrame(data2, index=idx)\n",
    "i"
   ]
  },
  {
   "cell_type": "markdown",
   "id": "cdd7b6f1-e168-47ff-b6c2-82968ac25844",
   "metadata": {},
   "source": [
    "#### series로 dataframe 객체 생성"
   ]
  },
  {
   "cell_type": "code",
   "execution_count": 81,
   "id": "bd2c827b-e92e-48d1-adad-ac0f3b0cf9eb",
   "metadata": {},
   "outputs": [
    {
     "data": {
      "text/html": [
       "<div>\n",
       "<style scoped>\n",
       "    .dataframe tbody tr th:only-of-type {\n",
       "        vertical-align: middle;\n",
       "    }\n",
       "\n",
       "    .dataframe tbody tr th {\n",
       "        vertical-align: top;\n",
       "    }\n",
       "\n",
       "    .dataframe thead th {\n",
       "        text-align: right;\n",
       "    }\n",
       "</style>\n",
       "<table border=\"1\" class=\"dataframe\">\n",
       "  <thead>\n",
       "    <tr style=\"text-align: right;\">\n",
       "      <th></th>\n",
       "      <th>이름</th>\n",
       "      <th>점수</th>\n",
       "    </tr>\n",
       "  </thead>\n",
       "  <tbody>\n",
       "    <tr>\n",
       "      <th>0</th>\n",
       "      <td>지현</td>\n",
       "      <td>99</td>\n",
       "    </tr>\n",
       "    <tr>\n",
       "      <th>1</th>\n",
       "      <td>혜교</td>\n",
       "      <td>76</td>\n",
       "    </tr>\n",
       "    <tr>\n",
       "      <th>2</th>\n",
       "      <td>수지</td>\n",
       "      <td>83</td>\n",
       "    </tr>\n",
       "  </tbody>\n",
       "</table>\n",
       "</div>"
      ],
      "text/plain": [
       "   이름  점수\n",
       "0  지현  99\n",
       "1  혜교  76\n",
       "2  수지  83"
      ]
     },
     "execution_count": 81,
     "metadata": {},
     "output_type": "execute_result"
    }
   ],
   "source": [
    "name = pd.Series(['지현', '혜교', '수지']) # 0,1,2 index\n",
    "jumsu = pd.Series([99, 76, 83])  # 0,1,2 index\n",
    "data3 = {'이름':name, '점수':jumsu}\n",
    "j = pd.DataFrame(data3) # 1, 2, 3 index\n",
    "j"
   ]
  },
  {
   "cell_type": "code",
   "execution_count": 103,
   "id": "b36f6f18-a89f-4200-952c-33383e023b24",
   "metadata": {},
   "outputs": [
    {
     "data": {
      "text/html": [
       "<div>\n",
       "<style scoped>\n",
       "    .dataframe tbody tr th:only-of-type {\n",
       "        vertical-align: middle;\n",
       "    }\n",
       "\n",
       "    .dataframe tbody tr th {\n",
       "        vertical-align: top;\n",
       "    }\n",
       "\n",
       "    .dataframe thead th {\n",
       "        text-align: right;\n",
       "    }\n",
       "</style>\n",
       "<table border=\"1\" class=\"dataframe\">\n",
       "  <thead>\n",
       "    <tr style=\"text-align: right;\">\n",
       "      <th></th>\n",
       "      <th>Manager</th>\n",
       "      <th>Date</th>\n",
       "      <th>Country</th>\n",
       "      <th>Gender</th>\n",
       "      <th>Age</th>\n",
       "      <th>q1</th>\n",
       "      <th>q2</th>\n",
       "      <th>q3</th>\n",
       "      <th>q4</th>\n",
       "    </tr>\n",
       "  </thead>\n",
       "  <tbody>\n",
       "    <tr>\n",
       "      <th>1</th>\n",
       "      <td>1</td>\n",
       "      <td>10/24/14</td>\n",
       "      <td>US</td>\n",
       "      <td>M</td>\n",
       "      <td>32</td>\n",
       "      <td>5</td>\n",
       "      <td>4</td>\n",
       "      <td>5.0</td>\n",
       "      <td>5.0</td>\n",
       "    </tr>\n",
       "    <tr>\n",
       "      <th>2</th>\n",
       "      <td>2</td>\n",
       "      <td>10/28/14</td>\n",
       "      <td>US</td>\n",
       "      <td>F</td>\n",
       "      <td>45</td>\n",
       "      <td>3</td>\n",
       "      <td>5</td>\n",
       "      <td>5.0</td>\n",
       "      <td>5.0</td>\n",
       "    </tr>\n",
       "    <tr>\n",
       "      <th>3</th>\n",
       "      <td>3</td>\n",
       "      <td>10/01/14</td>\n",
       "      <td>UK</td>\n",
       "      <td>F</td>\n",
       "      <td>25</td>\n",
       "      <td>3</td>\n",
       "      <td>5</td>\n",
       "      <td>5.0</td>\n",
       "      <td>2.0</td>\n",
       "    </tr>\n",
       "    <tr>\n",
       "      <th>4</th>\n",
       "      <td>4</td>\n",
       "      <td>10/12/14</td>\n",
       "      <td>UK</td>\n",
       "      <td>M</td>\n",
       "      <td>39</td>\n",
       "      <td>3</td>\n",
       "      <td>3</td>\n",
       "      <td>NaN</td>\n",
       "      <td>NaN</td>\n",
       "    </tr>\n",
       "    <tr>\n",
       "      <th>5</th>\n",
       "      <td>5</td>\n",
       "      <td>05/01/14</td>\n",
       "      <td>UK</td>\n",
       "      <td>F</td>\n",
       "      <td>99</td>\n",
       "      <td>2</td>\n",
       "      <td>2</td>\n",
       "      <td>2.0</td>\n",
       "      <td>1.0</td>\n",
       "    </tr>\n",
       "  </tbody>\n",
       "</table>\n",
       "</div>"
      ],
      "text/plain": [
       "   Manager      Date Country Gender  Age  q1  q2   q3   q4\n",
       "1        1  10/24/14      US      M   32   5   4  5.0  5.0\n",
       "2        2  10/28/14      US      F   45   3   5  5.0  5.0\n",
       "3        3  10/01/14      UK      F   25   3   5  5.0  2.0\n",
       "4        4  10/12/14      UK      M   39   3   3  NaN  NaN\n",
       "5        5  05/01/14      UK      F   99   2   2  2.0  1.0"
      ]
     },
     "execution_count": 103,
     "metadata": {},
     "output_type": "execute_result"
    }
   ],
   "source": [
    "Manager=pd.Series([1,2,3,4,5])\n",
    "Date = pd.Series(['10/24/14','10/28/14','10/01/14', '10/12/14', '05/01/14'])\n",
    "Country = pd.Series(['US','US','UK','UK','UK'])\n",
    "Gender = pd.Series(['M','F','F','M','F'])\n",
    "Age = pd.Series([32,45,25,39,99])\n",
    "q1 = pd.Series([5,3,3,3,2])\n",
    "q2 = pd.Series([4,5,5,3,2])\n",
    "q3 = pd.Series([5,5,5,np.NAN,2])\n",
    "q4 = pd.Series([5,5,2,np.NAN,1])\n",
    "leadership = {'Manager':Manager, 'Date':Date, 'Country':Country, 'Gender' : Gender, 'Age':Age, 'q1':q1,'q2':q2,'q3':q3,'q4':q4}\n",
    "leadership = pd.DataFrame(leadership)\n",
    "# leadership = leadership.set_index('Manager')\n",
    "leadership.index = [1,2,3,4,5]\n",
    "leadership\n"
   ]
  },
  {
   "cell_type": "code",
   "execution_count": 97,
   "id": "ad3057fe-beba-42e7-b695-a5591cce60aa",
   "metadata": {},
   "outputs": [
    {
     "data": {
      "text/html": [
       "<div>\n",
       "<style scoped>\n",
       "    .dataframe tbody tr th:only-of-type {\n",
       "        vertical-align: middle;\n",
       "    }\n",
       "\n",
       "    .dataframe tbody tr th {\n",
       "        vertical-align: top;\n",
       "    }\n",
       "\n",
       "    .dataframe thead th {\n",
       "        text-align: right;\n",
       "    }\n",
       "</style>\n",
       "<table border=\"1\" class=\"dataframe\">\n",
       "  <thead>\n",
       "    <tr style=\"text-align: right;\">\n",
       "      <th></th>\n",
       "      <th>Man</th>\n",
       "      <th>Date</th>\n",
       "      <th>Country</th>\n",
       "    </tr>\n",
       "  </thead>\n",
       "  <tbody>\n",
       "    <tr>\n",
       "      <th>0</th>\n",
       "      <td>1</td>\n",
       "      <td>10/24/14</td>\n",
       "      <td>US</td>\n",
       "    </tr>\n",
       "    <tr>\n",
       "      <th>1</th>\n",
       "      <td>2</td>\n",
       "      <td>10/28/14</td>\n",
       "      <td>US</td>\n",
       "    </tr>\n",
       "    <tr>\n",
       "      <th>2</th>\n",
       "      <td>3</td>\n",
       "      <td>10/01/14</td>\n",
       "      <td>UK</td>\n",
       "    </tr>\n",
       "    <tr>\n",
       "      <th>3</th>\n",
       "      <td>4</td>\n",
       "      <td>10/12/14</td>\n",
       "      <td>UK</td>\n",
       "    </tr>\n",
       "    <tr>\n",
       "      <th>4</th>\n",
       "      <td>5</td>\n",
       "      <td>05/01/14</td>\n",
       "      <td>UK</td>\n",
       "    </tr>\n",
       "  </tbody>\n",
       "</table>\n",
       "</div>"
      ],
      "text/plain": [
       "   Man      Date Country\n",
       "0    1  10/24/14      US\n",
       "1    2  10/28/14      US\n",
       "2    3  10/01/14      UK\n",
       "3    4  10/12/14      UK\n",
       "4    5  05/01/14      UK"
      ]
     },
     "execution_count": 97,
     "metadata": {},
     "output_type": "execute_result"
    }
   ],
   "source": [
    "Manager=[1,2,3,4,5]\n",
    "Date=['10/24/14','10/28/14','10/01/14', '10/12/14', '05/01/14']\n",
    "Country =['US','US','UK','UK','UK']\n",
    "\n",
    "managex = {'Man' : Manager, 'Date':Date, 'Country':Country}\n",
    "managex = pd.DataFrame(managex)\n",
    "managex"
   ]
  },
  {
   "cell_type": "markdown",
   "id": "867e5be7-1730-4123-8b6c-b7aa76842124",
   "metadata": {},
   "source": [
    "#### 인덱스를 재설정하려면 reindex 사용\n",
    "+ 존재하지 않는 인덱스가 추가되면 그 행의 값은 NaN이 됨"
   ]
  },
  {
   "cell_type": "code",
   "execution_count": 82,
   "id": "ea3d6c6a-9487-4a73-b23a-3701d791d49f",
   "metadata": {},
   "outputs": [
    {
     "data": {
      "text/html": [
       "<div>\n",
       "<style scoped>\n",
       "    .dataframe tbody tr th:only-of-type {\n",
       "        vertical-align: middle;\n",
       "    }\n",
       "\n",
       "    .dataframe tbody tr th {\n",
       "        vertical-align: top;\n",
       "    }\n",
       "\n",
       "    .dataframe thead th {\n",
       "        text-align: right;\n",
       "    }\n",
       "</style>\n",
       "<table border=\"1\" class=\"dataframe\">\n",
       "  <thead>\n",
       "    <tr style=\"text-align: right;\">\n",
       "      <th></th>\n",
       "      <th>이름</th>\n",
       "      <th>점수</th>\n",
       "    </tr>\n",
       "  </thead>\n",
       "  <tbody>\n",
       "    <tr>\n",
       "      <th>1</th>\n",
       "      <td>혜교</td>\n",
       "      <td>76.0</td>\n",
       "    </tr>\n",
       "    <tr>\n",
       "      <th>2</th>\n",
       "      <td>수지</td>\n",
       "      <td>83.0</td>\n",
       "    </tr>\n",
       "    <tr>\n",
       "      <th>3</th>\n",
       "      <td>NaN</td>\n",
       "      <td>NaN</td>\n",
       "    </tr>\n",
       "  </tbody>\n",
       "</table>\n",
       "</div>"
      ],
      "text/plain": [
       "    이름    점수\n",
       "1   혜교  76.0\n",
       "2   수지  83.0\n",
       "3  NaN   NaN"
      ]
     },
     "execution_count": 82,
     "metadata": {},
     "output_type": "execute_result"
    }
   ],
   "source": [
    "j = j.reindex(idx)\n",
    "j"
   ]
  },
  {
   "cell_type": "markdown",
   "id": "26166fcf-766d-48df-938c-ff1ab18d57c0",
   "metadata": {},
   "source": [
    "#### 특정 컬럼을 인덱스로 재설정하려면 set_index를 사용"
   ]
  },
  {
   "cell_type": "code",
   "execution_count": 83,
   "id": "af85e969-9a2d-4766-a5d8-66906f7cb6e2",
   "metadata": {},
   "outputs": [
    {
     "data": {
      "text/html": [
       "<div>\n",
       "<style scoped>\n",
       "    .dataframe tbody tr th:only-of-type {\n",
       "        vertical-align: middle;\n",
       "    }\n",
       "\n",
       "    .dataframe tbody tr th {\n",
       "        vertical-align: top;\n",
       "    }\n",
       "\n",
       "    .dataframe thead th {\n",
       "        text-align: right;\n",
       "    }\n",
       "</style>\n",
       "<table border=\"1\" class=\"dataframe\">\n",
       "  <thead>\n",
       "    <tr style=\"text-align: right;\">\n",
       "      <th></th>\n",
       "      <th>점수</th>\n",
       "    </tr>\n",
       "    <tr>\n",
       "      <th>이름</th>\n",
       "      <th></th>\n",
       "    </tr>\n",
       "  </thead>\n",
       "  <tbody>\n",
       "    <tr>\n",
       "      <th>혜교</th>\n",
       "      <td>76.0</td>\n",
       "    </tr>\n",
       "    <tr>\n",
       "      <th>수지</th>\n",
       "      <td>83.0</td>\n",
       "    </tr>\n",
       "    <tr>\n",
       "      <th>NaN</th>\n",
       "      <td>NaN</td>\n",
       "    </tr>\n",
       "  </tbody>\n",
       "</table>\n",
       "</div>"
      ],
      "text/plain": [
       "       점수\n",
       "이름       \n",
       "혜교   76.0\n",
       "수지   83.0\n",
       "NaN   NaN"
      ]
     },
     "execution_count": 83,
     "metadata": {},
     "output_type": "execute_result"
    }
   ],
   "source": [
    "j = j.set_index('이름')\n",
    "j"
   ]
  },
  {
   "cell_type": "markdown",
   "id": "c2eb7dc5-da53-49e5-b3ea-2f8843d150e4",
   "metadata": {},
   "source": [
    "j = j.index = idx\n",
    "j"
   ]
  },
  {
   "cell_type": "code",
   "execution_count": 104,
   "id": "560f2416-dc01-4f00-a7cd-c9efe6201a75",
   "metadata": {},
   "outputs": [
    {
     "data": {
      "text/html": [
       "<div>\n",
       "<style scoped>\n",
       "    .dataframe tbody tr th:only-of-type {\n",
       "        vertical-align: middle;\n",
       "    }\n",
       "\n",
       "    .dataframe tbody tr th {\n",
       "        vertical-align: top;\n",
       "    }\n",
       "\n",
       "    .dataframe thead th {\n",
       "        text-align: right;\n",
       "    }\n",
       "</style>\n",
       "<table border=\"1\" class=\"dataframe\">\n",
       "  <thead>\n",
       "    <tr style=\"text-align: right;\">\n",
       "      <th></th>\n",
       "      <th>Manager</th>\n",
       "      <th>Date</th>\n",
       "      <th>Country</th>\n",
       "      <th>Gender</th>\n",
       "      <th>Age</th>\n",
       "      <th>q1</th>\n",
       "      <th>q2</th>\n",
       "      <th>q3</th>\n",
       "      <th>q4</th>\n",
       "    </tr>\n",
       "  </thead>\n",
       "  <tbody>\n",
       "    <tr>\n",
       "      <th>1</th>\n",
       "      <td>1</td>\n",
       "      <td>10/24/14</td>\n",
       "      <td>US</td>\n",
       "      <td>M</td>\n",
       "      <td>32</td>\n",
       "      <td>5</td>\n",
       "      <td>4</td>\n",
       "      <td>5.0</td>\n",
       "      <td>5.0</td>\n",
       "    </tr>\n",
       "    <tr>\n",
       "      <th>2</th>\n",
       "      <td>2</td>\n",
       "      <td>10/28/14</td>\n",
       "      <td>US</td>\n",
       "      <td>F</td>\n",
       "      <td>45</td>\n",
       "      <td>3</td>\n",
       "      <td>5</td>\n",
       "      <td>5.0</td>\n",
       "      <td>5.0</td>\n",
       "    </tr>\n",
       "    <tr>\n",
       "      <th>3</th>\n",
       "      <td>3</td>\n",
       "      <td>10/01/14</td>\n",
       "      <td>UK</td>\n",
       "      <td>F</td>\n",
       "      <td>25</td>\n",
       "      <td>3</td>\n",
       "      <td>5</td>\n",
       "      <td>5.0</td>\n",
       "      <td>2.0</td>\n",
       "    </tr>\n",
       "    <tr>\n",
       "      <th>4</th>\n",
       "      <td>4</td>\n",
       "      <td>10/12/14</td>\n",
       "      <td>UK</td>\n",
       "      <td>M</td>\n",
       "      <td>39</td>\n",
       "      <td>3</td>\n",
       "      <td>3</td>\n",
       "      <td>NaN</td>\n",
       "      <td>NaN</td>\n",
       "    </tr>\n",
       "    <tr>\n",
       "      <th>5</th>\n",
       "      <td>5</td>\n",
       "      <td>05/01/14</td>\n",
       "      <td>UK</td>\n",
       "      <td>F</td>\n",
       "      <td>99</td>\n",
       "      <td>2</td>\n",
       "      <td>2</td>\n",
       "      <td>2.0</td>\n",
       "      <td>1.0</td>\n",
       "    </tr>\n",
       "  </tbody>\n",
       "</table>\n",
       "</div>"
      ],
      "text/plain": [
       "   Manager      Date Country Gender  Age  q1  q2   q3   q4\n",
       "1        1  10/24/14      US      M   32   5   4  5.0  5.0\n",
       "2        2  10/28/14      US      F   45   3   5  5.0  5.0\n",
       "3        3  10/01/14      UK      F   25   3   5  5.0  2.0\n",
       "4        4  10/12/14      UK      M   39   3   3  NaN  NaN\n",
       "5        5  05/01/14      UK      F   99   2   2  2.0  1.0"
      ]
     },
     "execution_count": 104,
     "metadata": {},
     "output_type": "execute_result"
    }
   ],
   "source": [
    "leadership"
   ]
  },
  {
   "cell_type": "markdown",
   "id": "7a6562f3-f8a3-4e90-b816-ba9550f039c8",
   "metadata": {},
   "source": [
    "#### 데이터프레임 요소에 접근하기"
   ]
  },
  {
   "cell_type": "code",
   "execution_count": 106,
   "id": "70f5e1b5-dc9c-4809-bbf4-79018f8bd040",
   "metadata": {},
   "outputs": [
    {
     "name": "stdout",
     "output_type": "stream",
     "text": [
      "1    32\n",
      "2    45\n",
      "3    25\n",
      "4    39\n",
      "5    99\n",
      "Name: Age, dtype: int64\n"
     ]
    }
   ],
   "source": [
    "print(leadership['Age'])  # 객체명[컬럼명])"
   ]
  },
  {
   "cell_type": "code",
   "execution_count": 108,
   "id": "1aaa9781-177b-4b53-a43e-9db7fd03aa03",
   "metadata": {},
   "outputs": [
    {
     "name": "stdout",
     "output_type": "stream",
     "text": [
      "1    32\n",
      "2    45\n",
      "3    25\n",
      "4    39\n",
      "5    99\n",
      "Name: Age, dtype: int64\n"
     ]
    }
   ],
   "source": [
    "print(leadership.Age)"
   ]
  },
  {
   "cell_type": "code",
   "execution_count": 112,
   "id": "2c16fac3-1b20-4e89-b866-398ff21e2fa6",
   "metadata": {},
   "outputs": [
    {
     "name": "stdout",
     "output_type": "stream",
     "text": [
      "1    32\n",
      "2    45\n",
      "3    25\n",
      "4    39\n",
      "5    99\n",
      "Name: Age, dtype: int64\n"
     ]
    }
   ],
   "source": [
    "print(leadership.iloc[:,4])"
   ]
  },
  {
   "cell_type": "code",
   "execution_count": 114,
   "id": "793a2ef3-5c39-4cb5-8a49-f8cec13e51cb",
   "metadata": {},
   "outputs": [
    {
     "name": "stdout",
     "output_type": "stream",
     "text": [
      "1    32\n",
      "2    45\n",
      "3    25\n",
      "4    39\n",
      "5    99\n",
      "Name: Age, dtype: int64\n"
     ]
    }
   ],
   "source": [
    "print(leadership.loc[:,'Age'])"
   ]
  },
  {
   "cell_type": "code",
   "execution_count": 117,
   "id": "ded78912-d20d-44ec-b894-7b4d7630961b",
   "metadata": {},
   "outputs": [
    {
     "name": "stdout",
     "output_type": "stream",
     "text": [
      "   q1  q2   q3   q4\n",
      "1   5   4  5.0  5.0\n",
      "2   3   5  5.0  5.0\n",
      "3   3   5  5.0  2.0\n",
      "4   3   3  NaN  NaN\n",
      "5   2   2  2.0  1.0\n"
     ]
    }
   ],
   "source": [
    "print(leadership[['q1','q2','q3','q4']]) # 객체명[[컬럼명1, 컬럼명2..]])"
   ]
  },
  {
   "cell_type": "code",
   "execution_count": 118,
   "id": "1eb03e8e-a6fa-4cb8-8e8f-ed05140c1486",
   "metadata": {},
   "outputs": [
    {
     "name": "stdout",
     "output_type": "stream",
     "text": [
      "   q1  q2   q3   q4\n",
      "1   5   4  5.0  5.0\n",
      "2   3   5  5.0  5.0\n",
      "3   3   5  5.0  2.0\n",
      "4   3   3  NaN  NaN\n",
      "5   2   2  2.0  1.0\n"
     ]
    }
   ],
   "source": [
    "print(leadership.iloc[:, 5:9])"
   ]
  },
  {
   "cell_type": "code",
   "execution_count": 121,
   "id": "2e0a820f-b5d6-4f37-86a3-a36ee97166fb",
   "metadata": {},
   "outputs": [
    {
     "name": "stdout",
     "output_type": "stream",
     "text": [
      "   q1  q2   q3   q4\n",
      "1   5   4  5.0  5.0\n",
      "2   3   5  5.0  5.0\n",
      "3   3   5  5.0  2.0\n",
      "4   3   3  NaN  NaN\n",
      "5   2   2  2.0  1.0\n"
     ]
    }
   ],
   "source": [
    "print(leadership.loc[:,'q1':'q4'])"
   ]
  },
  {
   "cell_type": "markdown",
   "id": "e48cbf1e-dd2a-4a7b-9454-fc797f1dcc87",
   "metadata": {},
   "source": [
    "#### 외부파일로 데이터프레임 만들기\n",
    "+ 외부 데이터파일을 이용해서 dataframe 객체를 만들 수 있음\n",
    "+ csv, excel, json, xml ... 등등 지원\n",
    "+ pd.read_xxx(경로, 구분자, 헤더설정, 인코딩)"
   ]
  },
  {
   "cell_type": "code",
   "execution_count": 122,
   "id": "a440f3f7-4d7e-44c4-8d55-bdedc7040d3e",
   "metadata": {},
   "outputs": [
    {
     "data": {
      "text/html": [
       "<div>\n",
       "<style scoped>\n",
       "    .dataframe tbody tr th:only-of-type {\n",
       "        vertical-align: middle;\n",
       "    }\n",
       "\n",
       "    .dataframe tbody tr th {\n",
       "        vertical-align: top;\n",
       "    }\n",
       "\n",
       "    .dataframe thead th {\n",
       "        text-align: right;\n",
       "    }\n",
       "</style>\n",
       "<table border=\"1\" class=\"dataframe\">\n",
       "  <thead>\n",
       "    <tr style=\"text-align: right;\">\n",
       "      <th></th>\n",
       "      <th>Age</th>\n",
       "      <th>Profit</th>\n",
       "      <th>Location</th>\n",
       "      <th>Vehicle-Type</th>\n",
       "      <th>Previous</th>\n",
       "    </tr>\n",
       "  </thead>\n",
       "  <tbody>\n",
       "    <tr>\n",
       "      <th>0</th>\n",
       "      <td>21</td>\n",
       "      <td>$1,387</td>\n",
       "      <td>Tionesta</td>\n",
       "      <td>Sedan</td>\n",
       "      <td>0</td>\n",
       "    </tr>\n",
       "    <tr>\n",
       "      <th>1</th>\n",
       "      <td>23</td>\n",
       "      <td>1,754</td>\n",
       "      <td>Sheffield</td>\n",
       "      <td>SUV</td>\n",
       "      <td>1</td>\n",
       "    </tr>\n",
       "    <tr>\n",
       "      <th>2</th>\n",
       "      <td>24</td>\n",
       "      <td>1,817</td>\n",
       "      <td>Sheffield</td>\n",
       "      <td>Hybrid</td>\n",
       "      <td>1</td>\n",
       "    </tr>\n",
       "    <tr>\n",
       "      <th>3</th>\n",
       "      <td>25</td>\n",
       "      <td>1,040</td>\n",
       "      <td>Sheffield</td>\n",
       "      <td>Compact</td>\n",
       "      <td>0</td>\n",
       "    </tr>\n",
       "    <tr>\n",
       "      <th>4</th>\n",
       "      <td>26</td>\n",
       "      <td>1,273</td>\n",
       "      <td>Kane</td>\n",
       "      <td>Sedan</td>\n",
       "      <td>1</td>\n",
       "    </tr>\n",
       "  </tbody>\n",
       "</table>\n",
       "</div>"
      ],
      "text/plain": [
       "   Age  Profit   Location Vehicle-Type  Previous\n",
       "0   21  $1,387   Tionesta        Sedan         0\n",
       "1   23   1,754  Sheffield          SUV         1\n",
       "2   24   1,817  Sheffield       Hybrid         1\n",
       "3   25   1,040  Sheffield      Compact         0\n",
       "4   26   1,273       Kane        Sedan         1"
      ]
     },
     "execution_count": 122,
     "metadata": {},
     "output_type": "execute_result"
    }
   ],
   "source": [
    "aw = pd.read_csv('data/applewood.txt', header=0, sep=' ')\n",
    "aw.head()"
   ]
  },
  {
   "cell_type": "markdown",
   "id": "1588ae78-bf7e-4b74-970f-01234e78c86c",
   "metadata": {},
   "source": [
    "#### 데이터프레임의 구조 - 컬럼별 자료형, 결측치 개수, 데이터 총 개수"
   ]
  },
  {
   "cell_type": "code",
   "execution_count": 123,
   "id": "c1e846c3-00d7-4df4-b4ef-db35aa5cba00",
   "metadata": {},
   "outputs": [
    {
     "name": "stdout",
     "output_type": "stream",
     "text": [
      "<class 'pandas.core.frame.DataFrame'>\n",
      "RangeIndex: 180 entries, 0 to 179\n",
      "Data columns (total 5 columns):\n",
      " #   Column        Non-Null Count  Dtype \n",
      "---  ------        --------------  ----- \n",
      " 0   Age           180 non-null    int64 \n",
      " 1   Profit        180 non-null    object\n",
      " 2   Location      180 non-null    object\n",
      " 3   Vehicle-Type  180 non-null    object\n",
      " 4   Previous      180 non-null    int64 \n",
      "dtypes: int64(2), object(3)\n",
      "memory usage: 7.2+ KB\n"
     ]
    }
   ],
   "source": [
    "aw.info()"
   ]
  },
  {
   "cell_type": "markdown",
   "id": "1ee4b83a-c25a-42ab-8c27-95af48d388d6",
   "metadata": {},
   "source": [
    "#### 일련번호 만들기 : numpy arange(시작번호, 종료번호, 간격)"
   ]
  },
  {
   "cell_type": "code",
   "execution_count": 125,
   "id": "f5d38340-9461-45f8-8c62-17e2a7cf64b1",
   "metadata": {},
   "outputs": [],
   "source": [
    "idx = np.arange(1,180+1)"
   ]
  },
  {
   "cell_type": "code",
   "execution_count": 126,
   "id": "6b09553e-0198-491f-8d11-73dd732e6bf6",
   "metadata": {},
   "outputs": [
    {
     "data": {
      "text/html": [
       "<div>\n",
       "<style scoped>\n",
       "    .dataframe tbody tr th:only-of-type {\n",
       "        vertical-align: middle;\n",
       "    }\n",
       "\n",
       "    .dataframe tbody tr th {\n",
       "        vertical-align: top;\n",
       "    }\n",
       "\n",
       "    .dataframe thead th {\n",
       "        text-align: right;\n",
       "    }\n",
       "</style>\n",
       "<table border=\"1\" class=\"dataframe\">\n",
       "  <thead>\n",
       "    <tr style=\"text-align: right;\">\n",
       "      <th></th>\n",
       "      <th>Age</th>\n",
       "      <th>Profit</th>\n",
       "      <th>Location</th>\n",
       "      <th>Vehicle-Type</th>\n",
       "      <th>Previous</th>\n",
       "    </tr>\n",
       "  </thead>\n",
       "  <tbody>\n",
       "    <tr>\n",
       "      <th>1</th>\n",
       "      <td>21</td>\n",
       "      <td>$1,387</td>\n",
       "      <td>Tionesta</td>\n",
       "      <td>Sedan</td>\n",
       "      <td>0</td>\n",
       "    </tr>\n",
       "    <tr>\n",
       "      <th>2</th>\n",
       "      <td>23</td>\n",
       "      <td>1,754</td>\n",
       "      <td>Sheffield</td>\n",
       "      <td>SUV</td>\n",
       "      <td>1</td>\n",
       "    </tr>\n",
       "    <tr>\n",
       "      <th>3</th>\n",
       "      <td>24</td>\n",
       "      <td>1,817</td>\n",
       "      <td>Sheffield</td>\n",
       "      <td>Hybrid</td>\n",
       "      <td>1</td>\n",
       "    </tr>\n",
       "    <tr>\n",
       "      <th>4</th>\n",
       "      <td>25</td>\n",
       "      <td>1,040</td>\n",
       "      <td>Sheffield</td>\n",
       "      <td>Compact</td>\n",
       "      <td>0</td>\n",
       "    </tr>\n",
       "    <tr>\n",
       "      <th>5</th>\n",
       "      <td>26</td>\n",
       "      <td>1,273</td>\n",
       "      <td>Kane</td>\n",
       "      <td>Sedan</td>\n",
       "      <td>1</td>\n",
       "    </tr>\n",
       "  </tbody>\n",
       "</table>\n",
       "</div>"
      ],
      "text/plain": [
       "   Age  Profit   Location Vehicle-Type  Previous\n",
       "1   21  $1,387   Tionesta        Sedan         0\n",
       "2   23   1,754  Sheffield          SUV         1\n",
       "3   24   1,817  Sheffield       Hybrid         1\n",
       "4   25   1,040  Sheffield      Compact         0\n",
       "5   26   1,273       Kane        Sedan         1"
      ]
     },
     "execution_count": 126,
     "metadata": {},
     "output_type": "execute_result"
    }
   ],
   "source": [
    "aw.index = idx\n",
    "aw.head()"
   ]
  },
  {
   "cell_type": "markdown",
   "id": "39556642-46cd-4ef0-a454-6e67c5b61829",
   "metadata": {},
   "source": [
    "#### json 파일을 읽고 데이터프레임으로 만들기"
   ]
  },
  {
   "cell_type": "code",
   "execution_count": 129,
   "id": "a14427fa-4936-450d-a66d-78cba00c0d36",
   "metadata": {},
   "outputs": [
    {
     "name": "stdout",
     "output_type": "stream",
     "text": [
      "<class 'pandas.core.frame.DataFrame'>\n",
      "RangeIndex: 25 entries, 0 to 24\n",
      "Data columns (total 2 columns):\n",
      " #   Column    Non-Null Count  Dtype \n",
      "---  ------    --------------  ----- \n",
      " 0   type      25 non-null     object\n",
      " 1   features  25 non-null     object\n",
      "dtypes: object(2)\n",
      "memory usage: 528.0+ bytes\n"
     ]
    }
   ],
   "source": [
    "seoul_geo = pd.read_json('data/seoul_geo_simple.json')\n",
    "seoul_geo.info()"
   ]
  },
  {
   "cell_type": "code",
   "execution_count": 130,
   "id": "6a335385-25bf-4e9b-9b07-14d99b024e03",
   "metadata": {},
   "outputs": [
    {
     "data": {
      "text/html": [
       "<div>\n",
       "<style scoped>\n",
       "    .dataframe tbody tr th:only-of-type {\n",
       "        vertical-align: middle;\n",
       "    }\n",
       "\n",
       "    .dataframe tbody tr th {\n",
       "        vertical-align: top;\n",
       "    }\n",
       "\n",
       "    .dataframe thead th {\n",
       "        text-align: right;\n",
       "    }\n",
       "</style>\n",
       "<table border=\"1\" class=\"dataframe\">\n",
       "  <thead>\n",
       "    <tr style=\"text-align: right;\">\n",
       "      <th></th>\n",
       "      <th>type</th>\n",
       "      <th>features</th>\n",
       "    </tr>\n",
       "  </thead>\n",
       "  <tbody>\n",
       "    <tr>\n",
       "      <th>0</th>\n",
       "      <td>FeatureCollection</td>\n",
       "      <td>{'type': 'Feature', 'properties': {'code': '11...</td>\n",
       "    </tr>\n",
       "    <tr>\n",
       "      <th>1</th>\n",
       "      <td>FeatureCollection</td>\n",
       "      <td>{'type': 'Feature', 'properties': {'code': '11...</td>\n",
       "    </tr>\n",
       "    <tr>\n",
       "      <th>2</th>\n",
       "      <td>FeatureCollection</td>\n",
       "      <td>{'type': 'Feature', 'properties': {'code': '11...</td>\n",
       "    </tr>\n",
       "    <tr>\n",
       "      <th>3</th>\n",
       "      <td>FeatureCollection</td>\n",
       "      <td>{'type': 'Feature', 'properties': {'code': '11...</td>\n",
       "    </tr>\n",
       "    <tr>\n",
       "      <th>4</th>\n",
       "      <td>FeatureCollection</td>\n",
       "      <td>{'type': 'Feature', 'properties': {'code': '11...</td>\n",
       "    </tr>\n",
       "  </tbody>\n",
       "</table>\n",
       "</div>"
      ],
      "text/plain": [
       "                type                                           features\n",
       "0  FeatureCollection  {'type': 'Feature', 'properties': {'code': '11...\n",
       "1  FeatureCollection  {'type': 'Feature', 'properties': {'code': '11...\n",
       "2  FeatureCollection  {'type': 'Feature', 'properties': {'code': '11...\n",
       "3  FeatureCollection  {'type': 'Feature', 'properties': {'code': '11...\n",
       "4  FeatureCollection  {'type': 'Feature', 'properties': {'code': '11..."
      ]
     },
     "execution_count": 130,
     "metadata": {},
     "output_type": "execute_result"
    }
   ],
   "source": [
    "seoul_geo.head()"
   ]
  },
  {
   "cell_type": "markdown",
   "id": "0d26a4c3-cc4a-470b-905b-baca6e5e8460",
   "metadata": {},
   "source": [
    "#### pd.set_option 함수를 이용해서 출력양식 변경"
   ]
  },
  {
   "cell_type": "code",
   "execution_count": 132,
   "id": "77b0a59d-a830-4d25-ab5a-a3755f858b2f",
   "metadata": {},
   "outputs": [
    {
     "data": {
      "text/html": [
       "<div>\n",
       "<style scoped>\n",
       "    .dataframe tbody tr th:only-of-type {\n",
       "        vertical-align: middle;\n",
       "    }\n",
       "\n",
       "    .dataframe tbody tr th {\n",
       "        vertical-align: top;\n",
       "    }\n",
       "\n",
       "    .dataframe thead th {\n",
       "        text-align: right;\n",
       "    }\n",
       "</style>\n",
       "<table border=\"1\" class=\"dataframe\">\n",
       "  <thead>\n",
       "    <tr style=\"text-align: right;\">\n",
       "      <th></th>\n",
       "      <th>type</th>\n",
       "      <th>features</th>\n",
       "    </tr>\n",
       "  </thead>\n",
       "  <tbody>\n",
       "    <tr>\n",
       "      <th>0</th>\n",
       "      <td>FeatureCollection</td>\n",
       "      <td>{'type': 'Feature', 'properties': {'code': '11...</td>\n",
       "    </tr>\n",
       "    <tr>\n",
       "      <th>1</th>\n",
       "      <td>FeatureCollection</td>\n",
       "      <td>{'type': 'Feature', 'properties': {'code': '11...</td>\n",
       "    </tr>\n",
       "    <tr>\n",
       "      <th>2</th>\n",
       "      <td>FeatureCollection</td>\n",
       "      <td>{'type': 'Feature', 'properties': {'code': '11...</td>\n",
       "    </tr>\n",
       "    <tr>\n",
       "      <th>3</th>\n",
       "      <td>FeatureCollection</td>\n",
       "      <td>{'type': 'Feature', 'properties': {'code': '11...</td>\n",
       "    </tr>\n",
       "    <tr>\n",
       "      <th>4</th>\n",
       "      <td>FeatureCollection</td>\n",
       "      <td>{'type': 'Feature', 'properties': {'code': '11...</td>\n",
       "    </tr>\n",
       "  </tbody>\n",
       "</table>\n",
       "</div>"
      ],
      "text/plain": [
       "                type                                           features\n",
       "0  FeatureCollection  {'type': 'Feature', 'properties': {'code': '11...\n",
       "1  FeatureCollection  {'type': 'Feature', 'properties': {'code': '11...\n",
       "2  FeatureCollection  {'type': 'Feature', 'properties': {'code': '11...\n",
       "3  FeatureCollection  {'type': 'Feature', 'properties': {'code': '11...\n",
       "4  FeatureCollection  {'type': 'Feature', 'properties': {'code': '11..."
      ]
     },
     "execution_count": 132,
     "metadata": {},
     "output_type": "execute_result"
    }
   ],
   "source": []
  },
  {
   "cell_type": "markdown",
   "id": "f4b44ecb-0f62-44a4-a487-e0f827770090",
   "metadata": {},
   "source": []
  },
  {
   "cell_type": "code",
   "execution_count": 139,
   "id": "c84acfbf-ccf4-4f4f-83de-6153631e4a5d",
   "metadata": {},
   "outputs": [],
   "source": [
    "pd.set_option('display.max_columns', 50)"
   ]
  },
  {
   "cell_type": "code",
   "execution_count": 141,
   "id": "752a88ba-3533-496c-acc1-addfaae73c6c",
   "metadata": {},
   "outputs": [],
   "source": [
    "pd.set_option('display.max_colwidth', 250)"
   ]
  },
  {
   "cell_type": "code",
   "execution_count": 143,
   "id": "673e9837-f6f1-4ae6-b5ba-aaad37038b26",
   "metadata": {},
   "outputs": [
    {
     "data": {
      "text/html": [
       "<div>\n",
       "<style scoped>\n",
       "    .dataframe tbody tr th:only-of-type {\n",
       "        vertical-align: middle;\n",
       "    }\n",
       "\n",
       "    .dataframe tbody tr th {\n",
       "        vertical-align: top;\n",
       "    }\n",
       "\n",
       "    .dataframe thead th {\n",
       "        text-align: right;\n",
       "    }\n",
       "</style>\n",
       "<table border=\"1\" class=\"dataframe\">\n",
       "  <thead>\n",
       "    <tr style=\"text-align: right;\">\n",
       "      <th></th>\n",
       "      <th>type</th>\n",
       "      <th>features</th>\n",
       "    </tr>\n",
       "  </thead>\n",
       "  <tbody>\n",
       "    <tr>\n",
       "      <th>0</th>\n",
       "      <td>FeatureCollection</td>\n",
       "      <td>{'type': 'Feature', 'properties': {'code': '11250', 'name': '강동구', 'name_eng': 'Gangdong-gu', 'base_year': '2013'}, 'geometry': {'type': 'Polygon', 'coordinates': [[[127.11519584981606, 37.557533180704915], [127.11879551821994, 37.557222485451305...</td>\n",
       "    </tr>\n",
       "    <tr>\n",
       "      <th>1</th>\n",
       "      <td>FeatureCollection</td>\n",
       "      <td>{'type': 'Feature', 'properties': {'code': '11240', 'name': '송파구', 'name_eng': 'Songpa-gu', 'base_year': '2013'}, 'geometry': {'type': 'Polygon', 'coordinates': [[[127.0690698130372, 37.522279423505026], [127.07496309841329, 37.52091052765938], [...</td>\n",
       "    </tr>\n",
       "    <tr>\n",
       "      <th>2</th>\n",
       "      <td>FeatureCollection</td>\n",
       "      <td>{'type': 'Feature', 'properties': {'code': '11230', 'name': '강남구', 'name_eng': 'Gangnam-gu', 'base_year': '2013'}, 'geometry': {'type': 'Polygon', 'coordinates': [[[127.05867359288398, 37.52629974922568], [127.0690698130372, 37.522279423505026], ...</td>\n",
       "    </tr>\n",
       "    <tr>\n",
       "      <th>3</th>\n",
       "      <td>FeatureCollection</td>\n",
       "      <td>{'type': 'Feature', 'properties': {'code': '11220', 'name': '서초구', 'name_eng': 'Seocho-gu', 'base_year': '2013'}, 'geometry': {'type': 'Polygon', 'coordinates': [[[127.01397119667513, 37.52503988289669], [127.01917707838057, 37.520085205855196], ...</td>\n",
       "    </tr>\n",
       "    <tr>\n",
       "      <th>4</th>\n",
       "      <td>FeatureCollection</td>\n",
       "      <td>{'type': 'Feature', 'properties': {'code': '11210', 'name': '관악구', 'name_eng': 'Gwanak-gu', 'base_year': '2013'}, 'geometry': {'type': 'Polygon', 'coordinates': [[[126.98367668291802, 37.473856492692086], [126.9846374349825, 37.46996301876212], [...</td>\n",
       "    </tr>\n",
       "  </tbody>\n",
       "</table>\n",
       "</div>"
      ],
      "text/plain": [
       "                type  \\\n",
       "0  FeatureCollection   \n",
       "1  FeatureCollection   \n",
       "2  FeatureCollection   \n",
       "3  FeatureCollection   \n",
       "4  FeatureCollection   \n",
       "\n",
       "                                                                                                                                                                                                                                                    features  \n",
       "0  {'type': 'Feature', 'properties': {'code': '11250', 'name': '강동구', 'name_eng': 'Gangdong-gu', 'base_year': '2013'}, 'geometry': {'type': 'Polygon', 'coordinates': [[[127.11519584981606, 37.557533180704915], [127.11879551821994, 37.557222485451305...  \n",
       "1  {'type': 'Feature', 'properties': {'code': '11240', 'name': '송파구', 'name_eng': 'Songpa-gu', 'base_year': '2013'}, 'geometry': {'type': 'Polygon', 'coordinates': [[[127.0690698130372, 37.522279423505026], [127.07496309841329, 37.52091052765938], [...  \n",
       "2  {'type': 'Feature', 'properties': {'code': '11230', 'name': '강남구', 'name_eng': 'Gangnam-gu', 'base_year': '2013'}, 'geometry': {'type': 'Polygon', 'coordinates': [[[127.05867359288398, 37.52629974922568], [127.0690698130372, 37.522279423505026], ...  \n",
       "3  {'type': 'Feature', 'properties': {'code': '11220', 'name': '서초구', 'name_eng': 'Seocho-gu', 'base_year': '2013'}, 'geometry': {'type': 'Polygon', 'coordinates': [[[127.01397119667513, 37.52503988289669], [127.01917707838057, 37.520085205855196], ...  \n",
       "4  {'type': 'Feature', 'properties': {'code': '11210', 'name': '관악구', 'name_eng': 'Gwanak-gu', 'base_year': '2013'}, 'geometry': {'type': 'Polygon', 'coordinates': [[[126.98367668291802, 37.473856492692086], [126.9846374349825, 37.46996301876212], [...  "
      ]
     },
     "execution_count": 143,
     "metadata": {},
     "output_type": "execute_result"
    }
   ],
   "source": [
    "seoul_geo.head()"
   ]
  },
  {
   "cell_type": "markdown",
   "id": "404c64cf-026a-452a-9456-abb12d3bb360",
   "metadata": {},
   "source": [
    "#### 읽어들인 json 데이터가 복잡한 중첩구조로 구성된 경우\n",
    "+ file 객체로 json 파일을 읽은 후 json.load 함수로 데이터들을 메모리에 적재하고 json_normalize 함수로 필요한 데이터를 저장해 데이터프레임으로 만듬"
   ]
  },
  {
   "cell_type": "code",
   "execution_count": 144,
   "id": "b9f077b0-096f-462a-94f5-aba028417340",
   "metadata": {},
   "outputs": [],
   "source": [
    "seoul_geo = pd.read_json('data/seoul_geo_simple.json', orient='features')"
   ]
  },
  {
   "cell_type": "code",
   "execution_count": 145,
   "id": "3752e797-4f28-4325-918a-530289b2d23d",
   "metadata": {},
   "outputs": [
    {
     "data": {
      "text/html": [
       "<div>\n",
       "<style scoped>\n",
       "    .dataframe tbody tr th:only-of-type {\n",
       "        vertical-align: middle;\n",
       "    }\n",
       "\n",
       "    .dataframe tbody tr th {\n",
       "        vertical-align: top;\n",
       "    }\n",
       "\n",
       "    .dataframe thead th {\n",
       "        text-align: right;\n",
       "    }\n",
       "</style>\n",
       "<table border=\"1\" class=\"dataframe\">\n",
       "  <thead>\n",
       "    <tr style=\"text-align: right;\">\n",
       "      <th></th>\n",
       "      <th>type</th>\n",
       "      <th>features</th>\n",
       "    </tr>\n",
       "  </thead>\n",
       "  <tbody>\n",
       "    <tr>\n",
       "      <th>0</th>\n",
       "      <td>FeatureCollection</td>\n",
       "      <td>{'type': 'Feature', 'properties': {'code': '11250', 'name': '강동구', 'name_eng': 'Gangdong-gu', 'base_year': '2013'}, 'geometry': {'type': 'Polygon', 'coordinates': [[[127.11519584981606, 37.557533180704915], [127.11879551821994, 37.557222485451305...</td>\n",
       "    </tr>\n",
       "    <tr>\n",
       "      <th>1</th>\n",
       "      <td>FeatureCollection</td>\n",
       "      <td>{'type': 'Feature', 'properties': {'code': '11240', 'name': '송파구', 'name_eng': 'Songpa-gu', 'base_year': '2013'}, 'geometry': {'type': 'Polygon', 'coordinates': [[[127.0690698130372, 37.522279423505026], [127.07496309841329, 37.52091052765938], [...</td>\n",
       "    </tr>\n",
       "    <tr>\n",
       "      <th>2</th>\n",
       "      <td>FeatureCollection</td>\n",
       "      <td>{'type': 'Feature', 'properties': {'code': '11230', 'name': '강남구', 'name_eng': 'Gangnam-gu', 'base_year': '2013'}, 'geometry': {'type': 'Polygon', 'coordinates': [[[127.05867359288398, 37.52629974922568], [127.0690698130372, 37.522279423505026], ...</td>\n",
       "    </tr>\n",
       "    <tr>\n",
       "      <th>3</th>\n",
       "      <td>FeatureCollection</td>\n",
       "      <td>{'type': 'Feature', 'properties': {'code': '11220', 'name': '서초구', 'name_eng': 'Seocho-gu', 'base_year': '2013'}, 'geometry': {'type': 'Polygon', 'coordinates': [[[127.01397119667513, 37.52503988289669], [127.01917707838057, 37.520085205855196], ...</td>\n",
       "    </tr>\n",
       "    <tr>\n",
       "      <th>4</th>\n",
       "      <td>FeatureCollection</td>\n",
       "      <td>{'type': 'Feature', 'properties': {'code': '11210', 'name': '관악구', 'name_eng': 'Gwanak-gu', 'base_year': '2013'}, 'geometry': {'type': 'Polygon', 'coordinates': [[[126.98367668291802, 37.473856492692086], [126.9846374349825, 37.46996301876212], [...</td>\n",
       "    </tr>\n",
       "  </tbody>\n",
       "</table>\n",
       "</div>"
      ],
      "text/plain": [
       "                type  \\\n",
       "0  FeatureCollection   \n",
       "1  FeatureCollection   \n",
       "2  FeatureCollection   \n",
       "3  FeatureCollection   \n",
       "4  FeatureCollection   \n",
       "\n",
       "                                                                                                                                                                                                                                                    features  \n",
       "0  {'type': 'Feature', 'properties': {'code': '11250', 'name': '강동구', 'name_eng': 'Gangdong-gu', 'base_year': '2013'}, 'geometry': {'type': 'Polygon', 'coordinates': [[[127.11519584981606, 37.557533180704915], [127.11879551821994, 37.557222485451305...  \n",
       "1  {'type': 'Feature', 'properties': {'code': '11240', 'name': '송파구', 'name_eng': 'Songpa-gu', 'base_year': '2013'}, 'geometry': {'type': 'Polygon', 'coordinates': [[[127.0690698130372, 37.522279423505026], [127.07496309841329, 37.52091052765938], [...  \n",
       "2  {'type': 'Feature', 'properties': {'code': '11230', 'name': '강남구', 'name_eng': 'Gangnam-gu', 'base_year': '2013'}, 'geometry': {'type': 'Polygon', 'coordinates': [[[127.05867359288398, 37.52629974922568], [127.0690698130372, 37.522279423505026], ...  \n",
       "3  {'type': 'Feature', 'properties': {'code': '11220', 'name': '서초구', 'name_eng': 'Seocho-gu', 'base_year': '2013'}, 'geometry': {'type': 'Polygon', 'coordinates': [[[127.01397119667513, 37.52503988289669], [127.01917707838057, 37.520085205855196], ...  \n",
       "4  {'type': 'Feature', 'properties': {'code': '11210', 'name': '관악구', 'name_eng': 'Gwanak-gu', 'base_year': '2013'}, 'geometry': {'type': 'Polygon', 'coordinates': [[[126.98367668291802, 37.473856492692086], [126.9846374349825, 37.46996301876212], [...  "
      ]
     },
     "execution_count": 145,
     "metadata": {},
     "output_type": "execute_result"
    }
   ],
   "source": [
    "seoul_geo.head()"
   ]
  },
  {
   "cell_type": "code",
   "execution_count": 147,
   "id": "cbf3460f-9c51-47d0-a9e0-214a43c98357",
   "metadata": {},
   "outputs": [],
   "source": [
    "import json\n",
    "from pandas import json_normalize"
   ]
  },
  {
   "cell_type": "code",
   "execution_count": 148,
   "id": "f84ebb0d-96f1-4e93-b401-15bb55b1d189",
   "metadata": {},
   "outputs": [],
   "source": [
    "with open('data/seoul_geo_simple.json') as f:\n",
    "    jdata = json.load(f)"
   ]
  },
  {
   "cell_type": "code",
   "execution_count": null,
   "id": "8a6ffc9b-623b-4f5a-b712-57d6061aca3f",
   "metadata": {},
   "outputs": [],
   "source": [
    "jdata"
   ]
  },
  {
   "cell_type": "code",
   "execution_count": 150,
   "id": "cd2d4aa3-0178-4914-8da9-395391f6ec8b",
   "metadata": {},
   "outputs": [
    {
     "data": {
      "text/html": [
       "<div>\n",
       "<style scoped>\n",
       "    .dataframe tbody tr th:only-of-type {\n",
       "        vertical-align: middle;\n",
       "    }\n",
       "\n",
       "    .dataframe tbody tr th {\n",
       "        vertical-align: top;\n",
       "    }\n",
       "\n",
       "    .dataframe thead th {\n",
       "        text-align: right;\n",
       "    }\n",
       "</style>\n",
       "<table border=\"1\" class=\"dataframe\">\n",
       "  <thead>\n",
       "    <tr style=\"text-align: right;\">\n",
       "      <th></th>\n",
       "      <th>type</th>\n",
       "      <th>properties.code</th>\n",
       "      <th>properties.name</th>\n",
       "      <th>properties.name_eng</th>\n",
       "      <th>properties.base_year</th>\n",
       "      <th>geometry.type</th>\n",
       "      <th>geometry.coordinates</th>\n",
       "    </tr>\n",
       "  </thead>\n",
       "  <tbody>\n",
       "    <tr>\n",
       "      <th>0</th>\n",
       "      <td>Feature</td>\n",
       "      <td>11250</td>\n",
       "      <td>강동구</td>\n",
       "      <td>Gangdong-gu</td>\n",
       "      <td>2013</td>\n",
       "      <td>Polygon</td>\n",
       "      <td>[[[127.11519584981606, 37.557533180704915], [127.11879551821994, 37.557222485451305], [127.12146867175024, 37.55986003393365], [127.12435254630417, 37.56144246249796], [127.13593925898998, 37.56564793048277], [127.14930548011061, 37.5689225030389...</td>\n",
       "    </tr>\n",
       "    <tr>\n",
       "      <th>1</th>\n",
       "      <td>Feature</td>\n",
       "      <td>11240</td>\n",
       "      <td>송파구</td>\n",
       "      <td>Songpa-gu</td>\n",
       "      <td>2013</td>\n",
       "      <td>Polygon</td>\n",
       "      <td>[[[127.0690698130372, 37.522279423505026], [127.07496309841329, 37.52091052765938], [127.07968915919895, 37.52077294752823], [127.08639455667742, 37.52161824624356], [127.0943611414465, 37.523984206117525], [127.10087519791962, 37.524841220167055...</td>\n",
       "    </tr>\n",
       "    <tr>\n",
       "      <th>2</th>\n",
       "      <td>Feature</td>\n",
       "      <td>11230</td>\n",
       "      <td>강남구</td>\n",
       "      <td>Gangnam-gu</td>\n",
       "      <td>2013</td>\n",
       "      <td>Polygon</td>\n",
       "      <td>[[[127.05867359288398, 37.52629974922568], [127.0690698130372, 37.522279423505026], [127.06860425556381, 37.51812758676938], [127.06926628842805, 37.51717796437217], [127.0719146000724, 37.50224013587669], [127.0764808967127, 37.498612695580306],...</td>\n",
       "    </tr>\n",
       "    <tr>\n",
       "      <th>3</th>\n",
       "      <td>Feature</td>\n",
       "      <td>11220</td>\n",
       "      <td>서초구</td>\n",
       "      <td>Seocho-gu</td>\n",
       "      <td>2013</td>\n",
       "      <td>Polygon</td>\n",
       "      <td>[[[127.01397119667513, 37.52503988289669], [127.01917707838057, 37.520085205855196], [127.02038705349842, 37.51771683027875], [127.02265609299096, 37.509970106251416], [127.03372275812187, 37.48674434662411], [127.03621915098798, 37.4817580242760...</td>\n",
       "    </tr>\n",
       "    <tr>\n",
       "      <th>4</th>\n",
       "      <td>Feature</td>\n",
       "      <td>11210</td>\n",
       "      <td>관악구</td>\n",
       "      <td>Gwanak-gu</td>\n",
       "      <td>2013</td>\n",
       "      <td>Polygon</td>\n",
       "      <td>[[[126.98367668291802, 37.473856492692086], [126.9846374349825, 37.46996301876212], [126.98662755598336, 37.466937278295305], [126.98896316546526, 37.465041871263544], [126.99026416700147, 37.46271603227842], [126.98956736277059, 37.4576007564004...</td>\n",
       "    </tr>\n",
       "  </tbody>\n",
       "</table>\n",
       "</div>"
      ],
      "text/plain": [
       "      type properties.code properties.name properties.name_eng  \\\n",
       "0  Feature           11250             강동구         Gangdong-gu   \n",
       "1  Feature           11240             송파구           Songpa-gu   \n",
       "2  Feature           11230             강남구          Gangnam-gu   \n",
       "3  Feature           11220             서초구           Seocho-gu   \n",
       "4  Feature           11210             관악구           Gwanak-gu   \n",
       "\n",
       "  properties.base_year geometry.type  \\\n",
       "0                 2013       Polygon   \n",
       "1                 2013       Polygon   \n",
       "2                 2013       Polygon   \n",
       "3                 2013       Polygon   \n",
       "4                 2013       Polygon   \n",
       "\n",
       "                                                                                                                                                                                                                                        geometry.coordinates  \n",
       "0  [[[127.11519584981606, 37.557533180704915], [127.11879551821994, 37.557222485451305], [127.12146867175024, 37.55986003393365], [127.12435254630417, 37.56144246249796], [127.13593925898998, 37.56564793048277], [127.14930548011061, 37.5689225030389...  \n",
       "1  [[[127.0690698130372, 37.522279423505026], [127.07496309841329, 37.52091052765938], [127.07968915919895, 37.52077294752823], [127.08639455667742, 37.52161824624356], [127.0943611414465, 37.523984206117525], [127.10087519791962, 37.524841220167055...  \n",
       "2  [[[127.05867359288398, 37.52629974922568], [127.0690698130372, 37.522279423505026], [127.06860425556381, 37.51812758676938], [127.06926628842805, 37.51717796437217], [127.0719146000724, 37.50224013587669], [127.0764808967127, 37.498612695580306],...  \n",
       "3  [[[127.01397119667513, 37.52503988289669], [127.01917707838057, 37.520085205855196], [127.02038705349842, 37.51771683027875], [127.02265609299096, 37.509970106251416], [127.03372275812187, 37.48674434662411], [127.03621915098798, 37.4817580242760...  \n",
       "4  [[[126.98367668291802, 37.473856492692086], [126.9846374349825, 37.46996301876212], [126.98662755598336, 37.466937278295305], [126.98896316546526, 37.465041871263544], [126.99026416700147, 37.46271603227842], [126.98956736277059, 37.4576007564004...  "
      ]
     },
     "execution_count": 150,
     "metadata": {},
     "output_type": "execute_result"
    }
   ],
   "source": [
    "seoul_geo = json_normalize(jdata['features'])\n",
    "seoul_geo.head()"
   ]
  },
  {
   "cell_type": "markdown",
   "id": "7d128e33-407c-47d4-97ab-95c159e07a3f",
   "metadata": {},
   "source": [
    "#### 웹페이지에서 table 태그를 데이터프레임으로 만들기\n",
    "+ read_html"
   ]
  },
  {
   "cell_type": "code",
   "execution_count": 152,
   "id": "3aedc7f6-db6b-4d4c-b2ba-b7f2ffff0f73",
   "metadata": {},
   "outputs": [],
   "source": [
    "import requests\n",
    "from bs4 import BeautifulSoup"
   ]
  },
  {
   "cell_type": "code",
   "execution_count": null,
   "id": "4ea67a02-e505-46dd-9a2d-5303cf9b8fed",
   "metadata": {},
   "outputs": [],
   "source": [
    "url = ''\n",
    "headers = {}"
   ]
  },
  {
   "cell_type": "code",
   "execution_count": null,
   "id": "c494ad8c-2513-48d8-8eb9-74967bdf3aa9",
   "metadata": {},
   "outputs": [],
   "source": []
  },
  {
   "cell_type": "code",
   "execution_count": null,
   "id": "60f4b192-1b56-44ba-9b2a-b05348a32a52",
   "metadata": {},
   "outputs": [],
   "source": []
  },
  {
   "cell_type": "code",
   "execution_count": null,
   "id": "9ed3b010-a38d-41a5-a6e3-ee66139f6c31",
   "metadata": {},
   "outputs": [],
   "source": []
  },
  {
   "cell_type": "code",
   "execution_count": null,
   "id": "fb9c8f20-0bb4-43d8-a1d8-799052d1d87a",
   "metadata": {},
   "outputs": [],
   "source": []
  },
  {
   "cell_type": "code",
   "execution_count": null,
   "id": "1728cff3-d012-44be-a389-44d1e10e1f5a",
   "metadata": {},
   "outputs": [],
   "source": []
  }
 ],
 "metadata": {
  "kernelspec": {
   "display_name": "Python 3 (ipykernel)",
   "language": "python",
   "name": "python3"
  },
  "language_info": {
   "codemirror_mode": {
    "name": "ipython",
    "version": 3
   },
   "file_extension": ".py",
   "mimetype": "text/x-python",
   "name": "python",
   "nbconvert_exporter": "python",
   "pygments_lexer": "ipython3",
   "version": "3.7.10"
  }
 },
 "nbformat": 4,
 "nbformat_minor": 5
}
