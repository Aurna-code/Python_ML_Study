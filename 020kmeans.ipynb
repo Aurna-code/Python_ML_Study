{
 "cells": [
  {
   "cell_type": "markdown",
   "id": "db05d6c3-4162-467f-9bcb-5fe1262e2e45",
   "metadata": {},
   "source": [
    "## 지도학습 vs 비지도학습\n",
    "+ 지도학습 : 데이터와 레이블을 이용해서 규칙/패턴 파악\n",
    "+ 비지도학습 : 데이터만을 이용해서 유사도에 따른 패턴/규칙 파악"
   ]
  },
  {
   "cell_type": "markdown",
   "id": "11bd56ce-6017-414b-96ca-0050aba5ff0e",
   "metadata": {},
   "source": [
    "### Kmeans\n",
    "+ 대표적 군집 알고리즘\n",
    "+ 서로 유사성이 높은 것끼리 관측값을 묶어 다수의 그룹을 만드는 알고리즘\n",
    "+ 즉, 동일 그룹내 구성원끼리는 유사성이 높고 다른 그룹내 구성원과의 유사성은 거의 없다는 의미\n",
    "+ 군집기반 분석기법, SSW, SSB"
   ]
  },
  {
   "cell_type": "markdown",
   "id": "87680268-77df-46fa-93a2-feadf22b8e2d",
   "metadata": {},
   "source": [
    "### 유사도 파악\n",
    "+ Kmeans에서는 각 점간의 거리가 가까울수록 비슷한 특성을 가진다고 보고 데이터들을 모음(군집)\n",
    "+ 따라서, 유사도 측정을 위해 임의의 기준점 centeroid를 선정"
   ]
  },
  {
   "cell_type": "code",
   "execution_count": 1,
   "id": "3422b617-a23c-4c9a-bf49-f51efdc1207b",
   "metadata": {},
   "outputs": [],
   "source": [
    "import math\n",
    "import numpy as np\n",
    "import pandas as pd\n",
    "import matplotlib.pyplot as plt\n",
    "import seaborn as sns\n",
    "import mldlpy3"
   ]
  },
  {
   "cell_type": "code",
   "execution_count": 2,
   "id": "dc42f90b-e056-47d1-b473-0d6d238f0a39",
   "metadata": {},
   "outputs": [],
   "source": [
    "x = 7, 2, 6, 3, 6, 5, 3, 1, 5, 7, 7, 2\n",
    "y = 8, 4, 4, 2, 5, 7, 3, 4, 4, 7, 6, 1"
   ]
  },
  {
   "cell_type": "code",
   "execution_count": 6,
   "id": "054c2553-5681-4a48-9f2f-50c31370b392",
   "metadata": {},
   "outputs": [
    {
     "data": {
      "image/png": "[encoded data removed]",
      "text/plain": [
       "<Figure size 432x288 with 1 Axes>"
      ]
     },
     "metadata": {
      "needs_background": "light"
     },
     "output_type": "display_data"
    }
   ],
   "source": [
    "plt.plot(x, y, 'ro')\n",
    "plt.grid()"
   ]
  },
  {
   "cell_type": "markdown",
   "id": "f082eee3-5e52-4fba-a6fd-4e4833f425f0",
   "metadata": {},
   "source": [
    "#### 임의의 센터로이드 설정\n",
    "+ c1(1,4), c2(7,8)"
   ]
  },
  {
   "cell_type": "code",
   "execution_count": 7,
   "id": "59eb74cf-c009-4830-8232-630e2028c95b",
   "metadata": {},
   "outputs": [
    {
     "data": {
      "image/png": "[encoded data removed]",
      "text/plain": [
       "<Figure size 432x288 with 1 Axes>"
      ]
     },
     "metadata": {
      "needs_background": "light"
     },
     "output_type": "display_data"
    }
   ],
   "source": [
    "plt.plot(x, y, 'ro')\n",
    "plt.plot([1,7],[4,8], 'bx')\n",
    "plt.grid()"
   ]
  },
  {
   "cell_type": "markdown",
   "id": "2a77b9f6-ad0e-482f-997f-1283d74ec81c",
   "metadata": {},
   "source": [
    "#### 센터로이드와 각 점들간 거리 계산 : 유클리드 거리 계산\n",
    "+ 즉, A(X1, Y1)와 B(X2, Y2)간의 거리계산은 $ sqrt((X2 - X1)^2 + (Y2 - Y1)^2) $"
   ]
  },
  {
   "cell_type": "markdown",
   "id": "f83d202a-fda3-4a29-9fba-07c686cbb567",
   "metadata": {},
   "source": [
    "#### C(2, 4)와 D(6,4)는 A, B 센터로이드 중 어디와 가까운가"
   ]
  },
  {
   "cell_type": "code",
   "execution_count": 14,
   "id": "64f80f4e-562f-4acd-9d2e-36dda6f6a31e",
   "metadata": {},
   "outputs": [
    {
     "data": {
      "text/plain": [
       "1.0"
      ]
     },
     "execution_count": 14,
     "metadata": {},
     "output_type": "execute_result"
    }
   ],
   "source": [
    "math.sqrt((2 - 1)**2 + (4 -4)**2)"
   ]
  },
  {
   "cell_type": "code",
   "execution_count": 15,
   "id": "427de67b-a58f-45f4-b361-fb2b9ed0d98a",
   "metadata": {},
   "outputs": [
    {
     "data": {
      "text/plain": [
       "6.4031242374328485"
      ]
     },
     "execution_count": 15,
     "metadata": {},
     "output_type": "execute_result"
    }
   ],
   "source": [
    "math.sqrt((2 - 7)**2 + (4 - 8)**2)"
   ]
  },
  {
   "cell_type": "code",
   "execution_count": 16,
   "id": "9caed64f-d3d6-41d5-bdc0-ea5c82ed691a",
   "metadata": {},
   "outputs": [
    {
     "data": {
      "text/plain": [
       "5.0"
      ]
     },
     "execution_count": 16,
     "metadata": {},
     "output_type": "execute_result"
    }
   ],
   "source": [
    "math.sqrt((6 - 1)**2 + (4 - 4)**2)"
   ]
  },
  {
   "cell_type": "code",
   "execution_count": 17,
   "id": "ac5b35c1-9fd5-46f4-996e-36db275c1002",
   "metadata": {},
   "outputs": [
    {
     "data": {
      "text/plain": [
       "4.123105625617661"
      ]
     },
     "execution_count": 17,
     "metadata": {},
     "output_type": "execute_result"
    }
   ],
   "source": [
    "math.sqrt((6 - 7)**2 + (4 - 8)**2)"
   ]
  },
  {
   "cell_type": "markdown",
   "id": "313d0eae-674e-4cbc-b65e-65b10a821120",
   "metadata": {},
   "source": [
    "#### C(2,4)는 C1으로 분류, D(6,4)는 C2로 분류"
   ]
  },
  {
   "cell_type": "markdown",
   "id": "57cd8048-7e94-4a7f-be97-4d6d7e07bc32",
   "metadata": {},
   "source": [
    "#### 새로운 중심점 설정\n",
    "+ 모든 데이터에 대한 군집화가 수행된 후 새로운 중심점을 선정하고 다시 유사도에 의한 군집 실시\n",
    "+ 새로운 중심점을 선정하는 방법은 각 군집별 평균값을 이용\n",
    "+ 즉, 군집 C1, C2의 각 x/y 좌표간 평균계산\n",
    "    + C1의 새로운 좌표\n",
    "    + X좌표 : 1, 2, 2, 3, 3 / 5 = 2.2\n",
    "    + y좌표 : 1, 2, 3, 4, 4 / 5 = 2.8\n",
    "    + 새로운 센터로이드 = (2.2, 2.8)\n",
    "    + C2의 새로운 좌표\n",
    "    + X좌표 : 5,5,6,6,7,7,7 / 7 = 43/7\n",
    "    + Y좌표 : 4,4,5,6,7,7,8 / 7 = 41/7\n",
    "    + 새로운 센터로이드 = (6.14, 5.85)"
   ]
  },
  {
   "cell_type": "markdown",
   "id": "e3ac6cc6-0fe5-4947-960a-c0841cf869b7",
   "metadata": {},
   "source": [
    "#### 새로운 좌표 시각화"
   ]
  },
  {
   "cell_type": "code",
   "execution_count": 21,
   "id": "4adf39d6-9a64-4d88-81b4-08ce7912c6d2",
   "metadata": {},
   "outputs": [
    {
     "data": {
      "text/plain": [
       "[<matplotlib.lines.Line2D at 0x7ffa2aafadd0>]"
      ]
     },
     "execution_count": 21,
     "metadata": {},
     "output_type": "execute_result"
    },
    {
     "data": {
      "image/png": "[encoded data removed]",
      "text/plain": [
       "<Figure size 432x288 with 1 Axes>"
      ]
     },
     "metadata": {
      "needs_background": "light"
     },
     "output_type": "display_data"
    }
   ],
   "source": [
    "plt.plot(x,y, 'ro')\n",
    "plt.grid()\n",
    "plt.plot([2.2, 6.14], [2.8, 5.85], 'bx')"
   ]
  },
  {
   "cell_type": "markdown",
   "id": "e3eb7e25-4397-4c21-bd14-7b581a648346",
   "metadata": {},
   "source": [
    "#### iris 데이터셋을 Kmeans로 군집화하기"
   ]
  },
  {
   "cell_type": "code",
   "execution_count": 31,
   "id": "342c7929-6cb7-4071-b3f2-7a6e27ba0fd1",
   "metadata": {},
   "outputs": [],
   "source": [
    "from sklearn.datasets import load_iris\n",
    "from sklearn.cluster import KMeans\n",
    "from sklearn.metrics import silhouette_score\n",
    "from sklearn.model_selection import train_test_split\n",
    "from sklearn.model_selection import cross_val_score\n",
    "from sklearn.metrics import accuracy_score\n",
    "from sklearn.metrics import confusion_matrix"
   ]
  },
  {
   "cell_type": "code",
   "execution_count": 48,
   "id": "bb654029-005d-4495-93d0-75ecd98c2053",
   "metadata": {},
   "outputs": [],
   "source": [
    "iris = load_iris()"
   ]
  },
  {
   "cell_type": "code",
   "execution_count": 49,
   "id": "664ec3ba-5d9a-43a6-b4f0-b5aa553d91fa",
   "metadata": {},
   "outputs": [],
   "source": [
    "Xtrain, Xtest, ytrain, ytest = train_test_split(iris.data, iris.target, test_size=0.3, stratify = iris.target, random_state=2111151155)"
   ]
  },
  {
   "cell_type": "markdown",
   "id": "bb448200-be92-45ee-b260-708a3cd3e8ee",
   "metadata": {},
   "source": [
    "#### 군집분석 실시\n",
    "+ n_clusters : 군집수\n",
    "+ max_iter : 군집화 시도횟수"
   ]
  },
  {
   "cell_type": "code",
   "execution_count": 50,
   "id": "ed7c2ef2-32c1-44c4-a6e9-c7e0a270be96",
   "metadata": {},
   "outputs": [],
   "source": [
    "kms = KMeans(n_clusters=3, max_iter = 100)"
   ]
  },
  {
   "cell_type": "code",
   "execution_count": 60,
   "id": "6553e6d2-a63d-4877-bd0c-093692e25f26",
   "metadata": {},
   "outputs": [
    {
     "data": {
      "text/plain": [
       "KMeans(max_iter=100, n_clusters=3)"
      ]
     },
     "execution_count": 60,
     "metadata": {},
     "output_type": "execute_result"
    }
   ],
   "source": [
    "kms.fit(Xtrain)"
   ]
  },
  {
   "cell_type": "markdown",
   "id": "89fd42a6-200f-40a3-9ebf-e21a06798bb0",
   "metadata": {},
   "source": [
    "#### 군집 결과 평가 : 객체명.labels_에 저장되어 있음"
   ]
  },
  {
   "cell_type": "code",
   "execution_count": 52,
   "id": "b74c7fa4-0f0f-4152-b012-d594717d9c5c",
   "metadata": {},
   "outputs": [
    {
     "data": {
      "text/plain": [
       "array([0, 2, 2, 2, 1, 0, 2, 0, 1, 1, 0, 2, 0, 2, 2, 0, 0, 1, 2, 1, 2, 2,\n",
       "       1, 2, 1, 2, 0, 2, 2, 1, 1, 1, 0, 2, 0, 0, 1, 2, 1, 0, 0, 2, 2, 0,\n",
       "       2, 2, 2, 2, 2, 0, 0, 0, 2, 2, 0, 2, 2, 2, 1, 2, 0, 0, 1, 2, 0, 2,\n",
       "       2, 1, 2, 0, 0, 1, 0, 0, 0, 2, 2, 0, 0, 1, 0, 1, 1, 1, 2, 2, 1, 0,\n",
       "       0, 0, 1, 1, 1, 2, 0, 2, 2, 2, 0, 2, 0, 1, 2, 1, 1], dtype=int32)"
      ]
     },
     "execution_count": 52,
     "metadata": {},
     "output_type": "execute_result"
    }
   ],
   "source": [
    "kms.labels_"
   ]
  },
  {
   "cell_type": "code",
   "execution_count": 53,
   "id": "632fdd19-743d-4cc1-acae-b52ebd346306",
   "metadata": {},
   "outputs": [
    {
     "data": {
      "text/plain": [
       "0.42857142857142855"
      ]
     },
     "execution_count": 53,
     "metadata": {},
     "output_type": "execute_result"
    }
   ],
   "source": [
    "accuracy_score(kms.labels_, ytrain)"
   ]
  },
  {
   "cell_type": "markdown",
   "id": "2147b33b-810b-41f1-8702-66f421ce2614",
   "metadata": {},
   "source": [
    "#### 군집 시각화1"
   ]
  },
  {
   "cell_type": "code",
   "execution_count": 78,
   "id": "7cd94edc-290b-42d3-98f8-ead2c203ad90",
   "metadata": {},
   "outputs": [
    {
     "data": {
      "text/plain": [
       "<matplotlib.collections.PathCollection at 0x7ffa2346cd90>"
      ]
     },
     "execution_count": 78,
     "metadata": {},
     "output_type": "execute_result"
    },
    {
     "data": {
      "image/png": "[encoded data removed]",
      "text/plain": [
       "<Figure size 432x288 with 1 Axes>"
      ]
     },
     "metadata": {
      "needs_background": "light"
     },
     "output_type": "display_data"
    }
   ],
   "source": [
    "plt.scatter(Xtrain[kms.labels_ == 0,0], Xtrain[kms.labels_ == 0,1], s=50, marker='o', c='r', edgecolors='k')\n",
    "plt.scatter(Xtrain[kms.labels_ == 1,0], Xtrain[kms.labels_ == 1,1], s=50, marker='o', c='b', edgecolors='k')\n",
    "plt.scatter(Xtrain[kms.labels_ == 2,0], Xtrain[kms.labels_ == 2,1], s=50, marker='o', c='g', edgecolors='k')"
   ]
  },
  {
   "cell_type": "code",
   "execution_count": 67,
   "id": "d498a066-e06d-49de-8381-d5e68d29fa16",
   "metadata": {},
   "outputs": [
    {
     "name": "stderr",
     "output_type": "stream",
     "text": [
      "/opt/miniconda3/lib/python3.7/site-packages/ipykernel_launcher.py:1: UserWarning: You passed a edgecolor/edgecolors ('r') for an unfilled marker ('x').  Matplotlib is ignoring the edgecolor in favor of the facecolor.  This behavior may change in the future.\n",
      "  \"\"\"Entry point for launching an IPython kernel.\n"
     ]
    },
    {
     "data": {
      "text/plain": [
       "<matplotlib.collections.PathCollection at 0x7ffa2ab1edd0>"
      ]
     },
     "execution_count": 67,
     "metadata": {},
     "output_type": "execute_result"
    },
    {
     "data": {
      "image/png": "[encoded data removed]",
      "text/plain": [
       "<Figure size 432x288 with 1 Axes>"
      ]
     },
     "metadata": {
      "needs_background": "light"
     },
     "output_type": "display_data"
    }
   ],
   "source": [
    "plt.scatter(kms.cluster_centers_[:,0], kms.cluster_centers_ [:,1], s=200, marker='x', c='k', edgecolors='r')"
   ]
  },
  {
   "cell_type": "markdown",
   "id": "1e553336-d66f-48e8-b495-357d75d43b65",
   "metadata": {},
   "source": [
    "#### 군집 시각화2"
   ]
  },
  {
   "cell_type": "code",
   "execution_count": 77,
   "id": "3145fb03-8e14-4c52-97b9-75061575e6bd",
   "metadata": {},
   "outputs": [
    {
     "ename": "IndexError",
     "evalue": "boolean index did not match indexed array along dimension 0; dimension is 105 but corresponding boolean dimension is 52",
     "output_type": "error",
     "traceback": [
      "\u001b[0;31m---------------------------------------------------------------------------\u001b[0m",
      "\u001b[0;31mIndexError\u001b[0m                                Traceback (most recent call last)",
      "\u001b[0;32m/tmp/ipykernel_6704/327756835.py\u001b[0m in \u001b[0;36m<module>\u001b[0;34m\u001b[0m\n\u001b[0;32m----> 1\u001b[0;31m \u001b[0mplt\u001b[0m\u001b[0;34m.\u001b[0m\u001b[0mscatter\u001b[0m\u001b[0;34m(\u001b[0m\u001b[0mXtrain\u001b[0m\u001b[0;34m[\u001b[0m\u001b[0mkms\u001b[0m\u001b[0;34m.\u001b[0m\u001b[0mlabels_\u001b[0m \u001b[0;34m==\u001b[0m \u001b[0;36m0\u001b[0m\u001b[0;34m,\u001b[0m\u001b[0;36m2\u001b[0m\u001b[0;34m]\u001b[0m\u001b[0;34m,\u001b[0m \u001b[0mXtrain\u001b[0m\u001b[0;34m[\u001b[0m\u001b[0mkms\u001b[0m\u001b[0;34m.\u001b[0m\u001b[0mlabels_\u001b[0m \u001b[0;34m==\u001b[0m \u001b[0;36m0\u001b[0m\u001b[0;34m,\u001b[0m\u001b[0;36m3\u001b[0m\u001b[0;34m]\u001b[0m\u001b[0;34m,\u001b[0m \u001b[0ms\u001b[0m\u001b[0;34m=\u001b[0m\u001b[0;36m50\u001b[0m\u001b[0;34m,\u001b[0m \u001b[0mmarker\u001b[0m\u001b[0;34m=\u001b[0m\u001b[0;34m'o'\u001b[0m\u001b[0;34m,\u001b[0m \u001b[0mc\u001b[0m\u001b[0;34m=\u001b[0m\u001b[0;34m'r'\u001b[0m\u001b[0;34m,\u001b[0m \u001b[0medgecolors\u001b[0m\u001b[0;34m=\u001b[0m\u001b[0;34m'k'\u001b[0m\u001b[0;34m)\u001b[0m\u001b[0;34m\u001b[0m\u001b[0;34m\u001b[0m\u001b[0m\n\u001b[0m\u001b[1;32m      2\u001b[0m \u001b[0mplt\u001b[0m\u001b[0;34m.\u001b[0m\u001b[0mscatter\u001b[0m\u001b[0;34m(\u001b[0m\u001b[0mXtrain\u001b[0m\u001b[0;34m[\u001b[0m\u001b[0mkms\u001b[0m\u001b[0;34m.\u001b[0m\u001b[0mlabels_\u001b[0m \u001b[0;34m==\u001b[0m \u001b[0;36m1\u001b[0m\u001b[0;34m,\u001b[0m\u001b[0;36m2\u001b[0m\u001b[0;34m]\u001b[0m\u001b[0;34m,\u001b[0m \u001b[0mXtrain\u001b[0m\u001b[0;34m[\u001b[0m\u001b[0mkms\u001b[0m\u001b[0;34m.\u001b[0m\u001b[0mlabels_\u001b[0m \u001b[0;34m==\u001b[0m \u001b[0;36m1\u001b[0m\u001b[0;34m,\u001b[0m\u001b[0;36m3\u001b[0m\u001b[0;34m]\u001b[0m\u001b[0;34m,\u001b[0m \u001b[0ms\u001b[0m\u001b[0;34m=\u001b[0m\u001b[0;36m50\u001b[0m\u001b[0;34m,\u001b[0m \u001b[0mmarker\u001b[0m\u001b[0;34m=\u001b[0m\u001b[0;34m'o'\u001b[0m\u001b[0;34m,\u001b[0m \u001b[0mc\u001b[0m\u001b[0;34m=\u001b[0m\u001b[0;34m'b'\u001b[0m\u001b[0;34m,\u001b[0m \u001b[0medgecolors\u001b[0m\u001b[0;34m=\u001b[0m\u001b[0;34m'k'\u001b[0m\u001b[0;34m)\u001b[0m\u001b[0;34m\u001b[0m\u001b[0;34m\u001b[0m\u001b[0m\n\u001b[1;32m      3\u001b[0m \u001b[0mplt\u001b[0m\u001b[0;34m.\u001b[0m\u001b[0mscatter\u001b[0m\u001b[0;34m(\u001b[0m\u001b[0mXtrain\u001b[0m\u001b[0;34m[\u001b[0m\u001b[0mkms\u001b[0m\u001b[0;34m.\u001b[0m\u001b[0mlabels_\u001b[0m \u001b[0;34m==\u001b[0m \u001b[0;36m2\u001b[0m\u001b[0;34m,\u001b[0m\u001b[0;36m2\u001b[0m\u001b[0;34m]\u001b[0m\u001b[0;34m,\u001b[0m \u001b[0mXtrain\u001b[0m\u001b[0;34m[\u001b[0m\u001b[0mkms\u001b[0m\u001b[0;34m.\u001b[0m\u001b[0mlabels_\u001b[0m \u001b[0;34m==\u001b[0m \u001b[0;36m2\u001b[0m\u001b[0;34m,\u001b[0m\u001b[0;36m3\u001b[0m\u001b[0;34m]\u001b[0m\u001b[0;34m,\u001b[0m \u001b[0ms\u001b[0m\u001b[0;34m=\u001b[0m\u001b[0;36m50\u001b[0m\u001b[0;34m,\u001b[0m \u001b[0mmarker\u001b[0m\u001b[0;34m=\u001b[0m\u001b[0;34m'o'\u001b[0m\u001b[0;34m,\u001b[0m \u001b[0mc\u001b[0m\u001b[0;34m=\u001b[0m\u001b[0;34m'g'\u001b[0m\u001b[0;34m,\u001b[0m \u001b[0medgecolors\u001b[0m\u001b[0;34m=\u001b[0m\u001b[0;34m'k'\u001b[0m\u001b[0;34m)\u001b[0m\u001b[0;34m\u001b[0m\u001b[0;34m\u001b[0m\u001b[0m\n\u001b[1;32m      4\u001b[0m \u001b[0mplt\u001b[0m\u001b[0;34m.\u001b[0m\u001b[0mscatter\u001b[0m\u001b[0;34m(\u001b[0m\u001b[0mkms\u001b[0m\u001b[0;34m.\u001b[0m\u001b[0mcluster_centers_\u001b[0m\u001b[0;34m[\u001b[0m\u001b[0;34m:\u001b[0m\u001b[0;34m,\u001b[0m\u001b[0;36m1\u001b[0m\u001b[0;34m]\u001b[0m\u001b[0;34m,\u001b[0m \u001b[0mkms\u001b[0m\u001b[0;34m.\u001b[0m\u001b[0mcluster_centers_\u001b[0m \u001b[0;34m[\u001b[0m\u001b[0;34m:\u001b[0m\u001b[0;34m,\u001b[0m\u001b[0;36m2\u001b[0m\u001b[0;34m]\u001b[0m\u001b[0;34m,\u001b[0m \u001b[0ms\u001b[0m\u001b[0;34m=\u001b[0m\u001b[0;36m200\u001b[0m\u001b[0;34m,\u001b[0m \u001b[0mmarker\u001b[0m\u001b[0;34m=\u001b[0m\u001b[0;34m'x'\u001b[0m\u001b[0;34m,\u001b[0m \u001b[0mc\u001b[0m\u001b[0;34m=\u001b[0m\u001b[0;34m'k'\u001b[0m\u001b[0;34m,\u001b[0m \u001b[0medgecolors\u001b[0m\u001b[0;34m=\u001b[0m\u001b[0;34m'r'\u001b[0m\u001b[0;34m)\u001b[0m\u001b[0;34m\u001b[0m\u001b[0;34m\u001b[0m\u001b[0m\n",
      "\u001b[0;31mIndexError\u001b[0m: boolean index did not match indexed array along dimension 0; dimension is 105 but corresponding boolean dimension is 52"
     ]
    }
   ],
   "source": [
    "plt.scatter(Xtrain[kms.labels_ == 0,2], Xtrain[kms.labels_ == 0,3], s=50, marker='o', c='r', edgecolors='k')\n",
    "plt.scatter(Xtrain[kms.labels_ == 1,2], Xtrain[kms.labels_ == 1,3], s=50, marker='o', c='b', edgecolors='k')\n",
    "plt.scatter(Xtrain[kms.labels_ == 2,2], Xtrain[kms.labels_ == 2,3], s=50, marker='o', c='g', edgecolors='k')"
   ]
  },
  {
   "cell_type": "code",
   "execution_count": 75,
   "id": "07f52ac7-ff62-4f5e-86f9-d5c23e1cf1e9",
   "metadata": {},
   "outputs": [
    {
     "name": "stderr",
     "output_type": "stream",
     "text": [
      "/opt/miniconda3/lib/python3.7/site-packages/ipykernel_launcher.py:1: UserWarning: You passed a edgecolor/edgecolors ('r') for an unfilled marker ('x').  Matplotlib is ignoring the edgecolor in favor of the facecolor.  This behavior may change in the future.\n",
      "  \"\"\"Entry point for launching an IPython kernel.\n"
     ]
    },
    {
     "data": {
      "text/plain": [
       "<matplotlib.collections.PathCollection at 0x7ffa235cafd0>"
      ]
     },
     "execution_count": 75,
     "metadata": {},
     "output_type": "execute_result"
    },
    {
     "data": {
      "image/png": "[encoded data removed]",
      "text/plain": [
       "<Figure size 432x288 with 1 Axes>"
      ]
     },
     "metadata": {
      "needs_background": "light"
     },
     "output_type": "display_data"
    }
   ],
   "source": [
    "plt.scatter(kms.cluster_centers_[:,2], kms.cluster_centers_ [:,3], s=200, marker='x', c='k', edgecolors='r')"
   ]
  },
  {
   "cell_type": "code",
   "execution_count": null,
   "id": "fad1dbf1-82d1-4641-bcc3-7cb9516760e4",
   "metadata": {},
   "outputs": [],
   "source": []
  },
  {
   "cell_type": "markdown",
   "id": "8ba663a8-1f9d-48bc-b08b-71dfd0162df1",
   "metadata": {},
   "source": [
    "#### 군집 분석"
   ]
  },
  {
   "cell_type": "code",
   "execution_count": 54,
   "id": "ce4d1026-c084-4163-920a-6e71ff13715a",
   "metadata": {},
   "outputs": [
    {
     "data": {
      "text/plain": [
       "KMeans(max_iter=100, n_clusters=3)"
      ]
     },
     "execution_count": 54,
     "metadata": {},
     "output_type": "execute_result"
    }
   ],
   "source": [
    "kms.fit(Xtest)"
   ]
  },
  {
   "cell_type": "code",
   "execution_count": 55,
   "id": "c01f060b-c839-4101-83ed-c9bda27f2759",
   "metadata": {},
   "outputs": [
    {
     "data": {
      "text/plain": [
       "0.4444444444444444"
      ]
     },
     "execution_count": 55,
     "metadata": {},
     "output_type": "execute_result"
    }
   ],
   "source": [
    "accuracy_score(kms.labels_, ytest)"
   ]
  },
  {
   "cell_type": "markdown",
   "id": "55d942d3-245a-49a2-8f91-e9958c555a08",
   "metadata": {},
   "source": [
    "#### 군집 성능 평가\n",
    "+ 실루엣 계수 : 군집 적합도를 수치로 나타낸 것\n",
    "+ 1에 가까울수록 군집이 잘 된 것으로 파악"
   ]
  },
  {
   "cell_type": "code",
   "execution_count": 83,
   "id": "a67cacbd-e95e-4242-8b97-7591ba0e54b5",
   "metadata": {},
   "outputs": [
    {
     "data": {
      "text/plain": [
       "0.568307598040377"
      ]
     },
     "execution_count": 83,
     "metadata": {},
     "output_type": "execute_result"
    }
   ],
   "source": [
    "silhouette_score(Xtrain, kms.labels_, metric='euclidean')"
   ]
  },
  {
   "cell_type": "markdown",
   "id": "7be73015-d3f1-4f88-bc20-2eb097c4c9fe",
   "metadata": {},
   "source": [
    "#### 반복문을 통해 적절한 군집갯수와 그에 따른 실루엣 계수 확인"
   ]
  },
  {
   "cell_type": "code",
   "execution_count": 97,
   "id": "f622ee56-dd2b-4358-ae17-2460f4652b8e",
   "metadata": {},
   "outputs": [],
   "source": [
    "sss = []\n",
    "els = []\n",
    "for k in range(2, 11):\n",
    "    kms = KMeans(n_clusters=k, max_iter=100)\n",
    "    kms.fit(Xtrain)\n",
    "    ss = silhouette_score(Xtrain, kms.labels_, metric='euclidean')\n",
    "    els.append(kms.inertia_)\n",
    "    sss.append(ss)"
   ]
  },
  {
   "cell_type": "code",
   "execution_count": 98,
   "id": "802081cf-ec06-4199-90f4-7403301b3ec8",
   "metadata": {},
   "outputs": [
    {
     "data": {
      "text/plain": [
       "[<matplotlib.lines.Line2D at 0x7ffa231be6d0>]"
      ]
     },
     "execution_count": 98,
     "metadata": {},
     "output_type": "execute_result"
    },
    {
     "data": {
      "image/png": "[encoded data removed]",
      "text/plain": [
       "<Figure size 432x288 with 1 Axes>"
      ]
     },
     "metadata": {
      "needs_background": "light"
     },
     "output_type": "display_data"
    }
   ],
   "source": [
    "plt.plot(sss, 'ro-')"
   ]
  },
  {
   "cell_type": "code",
   "execution_count": 99,
   "id": "d60eaad0-7fe5-40ca-b2ef-bd3ec33c58c0",
   "metadata": {},
   "outputs": [
    {
     "data": {
      "text/plain": [
       "[<matplotlib.lines.Line2D at 0x7ffa22fb7190>]"
      ]
     },
     "execution_count": 99,
     "metadata": {},
     "output_type": "execute_result"
    },
    {
     "data": {
      "image/png": "[encoded data removed]",
      "text/plain": [
       "<Figure size 432x288 with 1 Axes>"
      ]
     },
     "metadata": {
      "needs_background": "light"
     },
     "output_type": "display_data"
    }
   ],
   "source": [
    "plt.plot(els, 'ro-') # 값이 급격히 바뀔수록 좋은 집단수"
   ]
  },
  {
   "cell_type": "markdown",
   "id": "b0a138d5-e300-4611-9343-c20a2e7a2bb8",
   "metadata": {},
   "source": [
    "#### 엘보우계수로 적절한 군집수를 파악하기 쉬운 편"
   ]
  },
  {
   "cell_type": "code",
   "execution_count": 100,
   "id": "eee1e57e-597a-46db-9968-66c653f5e8c9",
   "metadata": {},
   "outputs": [],
   "source": [
    "sss = []\n",
    "els = []\n",
    "for k in range(2, 11):\n",
    "    kms = KMeans(n_clusters=k, max_iter=100)\n",
    "    kms.fit(Xtest)\n",
    "    ss = silhouette_score(Xtest, kms.labels_, metric='euclidean')\n",
    "    sss.append(ss)\n",
    "    els.append(kms.inertia_)"
   ]
  },
  {
   "cell_type": "code",
   "execution_count": 101,
   "id": "a66c235e-b06c-4f66-8edc-6ebcf5139448",
   "metadata": {},
   "outputs": [
    {
     "data": {
      "text/plain": [
       "[<matplotlib.lines.Line2D at 0x7ffa22f431d0>]"
      ]
     },
     "execution_count": 101,
     "metadata": {},
     "output_type": "execute_result"
    },
    {
     "data": {
      "image/png": "[encoded data removed]",
      "text/plain": [
       "<Figure size 432x288 with 1 Axes>"
      ]
     },
     "metadata": {
      "needs_background": "light"
     },
     "output_type": "display_data"
    }
   ],
   "source": [
    "plt.plot(sss, 'ro-')"
   ]
  },
  {
   "cell_type": "markdown",
   "id": "89f4f9bd-da58-4aa0-b739-832d611a60ad",
   "metadata": {},
   "source": [
    "#### 실루엣 계수만으로는 적절한 군집 개수 파악이 어려움"
   ]
  },
  {
   "cell_type": "code",
   "execution_count": 102,
   "id": "f077e0a0-ea4c-4e6b-8fa8-9efb28f30e60",
   "metadata": {},
   "outputs": [
    {
     "data": {
      "text/plain": [
       "[<matplotlib.lines.Line2D at 0x7ffa22e48bd0>]"
      ]
     },
     "execution_count": 102,
     "metadata": {},
     "output_type": "execute_result"
    },
    {
     "data": {
      "image/png": "[encoded data removed]",
      "text/plain": [
       "<Figure size 432x288 with 1 Axes>"
      ]
     },
     "metadata": {
      "needs_background": "light"
     },
     "output_type": "display_data"
    }
   ],
   "source": [
    "plt.plot(els, 'ro-')"
   ]
  },
  {
   "cell_type": "markdown",
   "id": "0ca5e8f6-eafe-4051-8925-670307d0d3c8",
   "metadata": {},
   "source": [
    "#### 엘보우 계수 : 군집화가 된 후 각 중심점에서 군집 데이터간의 거리를 합산한 값\n",
    "+ 군집이 어느 정도로 잘 되어 있는지를 나타내는 값 : 이 값이 높을수록 군집의 응집이 높다는 의미\n",
    "+ 객체명.inertia_"
   ]
  },
  {
   "cell_type": "markdown",
   "id": "121aaece-7c89-41df-a076-2adbe9198156",
   "metadata": {},
   "source": [
    "#### 학생성적과 집중도를 기준으로 클래스를 나누려고 할 때 몇 개의 반으로 나누는 것이 좋을지 알아보기 "
   ]
  },
  {
   "cell_type": "code",
   "execution_count": 155,
   "id": "fb0574e5-2854-4c6b-be2a-6d8cb6073e03",
   "metadata": {},
   "outputs": [],
   "source": [
    "ac= pd.read_csv('data/academy.csv', encoding='euc-kr')"
   ]
  },
  {
   "cell_type": "code",
   "execution_count": 156,
   "id": "9ff1d344-1e0b-4617-9877-b093510b3560",
   "metadata": {},
   "outputs": [
    {
     "data": {
      "text/html": [
       "<div>\n",
       "<style scoped>\n",
       "    .dataframe tbody tr th:only-of-type {\n",
       "        vertical-align: middle;\n",
       "    }\n",
       "\n",
       "    .dataframe tbody tr th {\n",
       "        vertical-align: top;\n",
       "    }\n",
       "\n",
       "    .dataframe thead th {\n",
       "        text-align: right;\n",
       "    }\n",
       "</style>\n",
       "<table border=\"1\" class=\"dataframe\">\n",
       "  <thead>\n",
       "    <tr style=\"text-align: right;\">\n",
       "      <th></th>\n",
       "      <th>학생번호</th>\n",
       "      <th>국어점수평균</th>\n",
       "      <th>수학점수평균</th>\n",
       "      <th>영어점수평균</th>\n",
       "      <th>과학점수평균</th>\n",
       "      <th>학업집중도</th>\n",
       "    </tr>\n",
       "  </thead>\n",
       "  <tbody>\n",
       "    <tr>\n",
       "      <th>0</th>\n",
       "      <td>1</td>\n",
       "      <td>90</td>\n",
       "      <td>75</td>\n",
       "      <td>85</td>\n",
       "      <td>60</td>\n",
       "      <td>70</td>\n",
       "    </tr>\n",
       "    <tr>\n",
       "      <th>1</th>\n",
       "      <td>2</td>\n",
       "      <td>65</td>\n",
       "      <td>90</td>\n",
       "      <td>60</td>\n",
       "      <td>88</td>\n",
       "      <td>80</td>\n",
       "    </tr>\n",
       "    <tr>\n",
       "      <th>2</th>\n",
       "      <td>3</td>\n",
       "      <td>45</td>\n",
       "      <td>53</td>\n",
       "      <td>48</td>\n",
       "      <td>50</td>\n",
       "      <td>60</td>\n",
       "    </tr>\n",
       "    <tr>\n",
       "      <th>3</th>\n",
       "      <td>4</td>\n",
       "      <td>77</td>\n",
       "      <td>96</td>\n",
       "      <td>62</td>\n",
       "      <td>92</td>\n",
       "      <td>70</td>\n",
       "    </tr>\n",
       "    <tr>\n",
       "      <th>4</th>\n",
       "      <td>5</td>\n",
       "      <td>88</td>\n",
       "      <td>89</td>\n",
       "      <td>80</td>\n",
       "      <td>82</td>\n",
       "      <td>90</td>\n",
       "    </tr>\n",
       "  </tbody>\n",
       "</table>\n",
       "</div>"
      ],
      "text/plain": [
       "   학생번호  국어점수평균  수학점수평균  영어점수평균  과학점수평균  학업집중도\n",
       "0     1      90      75      85      60     70\n",
       "1     2      65      90      60      88     80\n",
       "2     3      45      53      48      50     60\n",
       "3     4      77      96      62      92     70\n",
       "4     5      88      89      80      82     90"
      ]
     },
     "execution_count": 156,
     "metadata": {},
     "output_type": "execute_result"
    }
   ],
   "source": [
    "ac.head()"
   ]
  },
  {
   "cell_type": "code",
   "execution_count": 157,
   "id": "c40be712-df9a-4dec-9706-37b10f95e19c",
   "metadata": {},
   "outputs": [
    {
     "name": "stdout",
     "output_type": "stream",
     "text": [
      "<class 'pandas.core.frame.DataFrame'>\n",
      "RangeIndex: 52 entries, 0 to 51\n",
      "Data columns (total 6 columns):\n",
      " #   Column  Non-Null Count  Dtype\n",
      "---  ------  --------------  -----\n",
      " 0   학생번호    52 non-null     int64\n",
      " 1   국어점수평균  52 non-null     int64\n",
      " 2   수학점수평균  52 non-null     int64\n",
      " 3   영어점수평균  52 non-null     int64\n",
      " 4   과학점수평균  52 non-null     int64\n",
      " 5   학업집중도   52 non-null     int64\n",
      "dtypes: int64(6)\n",
      "memory usage: 2.6 KB\n"
     ]
    }
   ],
   "source": [
    "ac.info()"
   ]
  },
  {
   "cell_type": "code",
   "execution_count": 158,
   "id": "5776c149-bc15-4cb1-8e87-7158818cda08",
   "metadata": {},
   "outputs": [],
   "source": [
    "data = ac.iloc[:, 1:]"
   ]
  },
  {
   "cell_type": "code",
   "execution_count": 162,
   "id": "fe8f6cff-490e-4dea-a39c-5b6f9397b227",
   "metadata": {},
   "outputs": [],
   "source": [
    "sss = []\n",
    "els = []\n",
    "for k in range(2, 11):\n",
    "    kms = KMeans(n_clusters=k, max_iter=100)\n",
    "    kms.fit(data)\n",
    "    ss = silhouette_score(data, kms.labels_, metric = 'euclidean')\n",
    "    els.append(kms.inertia_)\n",
    "    sss.append(ss)"
   ]
  },
  {
   "cell_type": "code",
   "execution_count": 163,
   "id": "f51f5a8d-da47-4d41-8111-30d8795f7796",
   "metadata": {},
   "outputs": [
    {
     "data": {
      "text/plain": [
       "[<matplotlib.lines.Line2D at 0x7ffa228c67d0>]"
      ]
     },
     "execution_count": 163,
     "metadata": {},
     "output_type": "execute_result"
    },
    {
     "data": {
      "image/png": "[encoded data removed]",
      "text/plain": [
       "<Figure size 432x288 with 1 Axes>"
      ]
     },
     "metadata": {
      "needs_background": "light"
     },
     "output_type": "display_data"
    }
   ],
   "source": [
    "plt.plot(sss, 'ro-')"
   ]
  },
  {
   "cell_type": "code",
   "execution_count": 164,
   "id": "95e08cc7-a6db-4615-b89d-566b2cdeb847",
   "metadata": {},
   "outputs": [
    {
     "data": {
      "text/plain": [
       "[<matplotlib.lines.Line2D at 0x7ffa226722d0>]"
      ]
     },
     "execution_count": 164,
     "metadata": {},
     "output_type": "execute_result"
    },
    {
     "data": {
      "image/png": "[encoded data removed]",
      "text/plain": [
       "<Figure size 432x288 with 1 Axes>"
      ]
     },
     "metadata": {
      "needs_background": "light"
     },
     "output_type": "display_data"
    }
   ],
   "source": [
    "plt.plot(els, 'ro-')"
   ]
  },
  {
   "cell_type": "markdown",
   "id": "0d042210-7aa2-450c-a7e6-c20aeba8320e",
   "metadata": {},
   "source": [
    "#### 엘보우 계수 확인결과 적절한 군집의 개수는 3~4개"
   ]
  },
  {
   "cell_type": "markdown",
   "id": "8ef40791-1853-4197-b091-fcbd55475228",
   "metadata": {},
   "source": [
    "#### 군집의 개수가 3일때"
   ]
  },
  {
   "cell_type": "code",
   "execution_count": 191,
   "id": "f45d7189-a37e-4dd7-98aa-04a22a58c4b6",
   "metadata": {},
   "outputs": [],
   "source": [
    "kms = KMeans(n_clusters=3, max_iter = 100, random_state = 2111151440)"
   ]
  },
  {
   "cell_type": "code",
   "execution_count": 192,
   "id": "a84e47ff-ea14-4e62-9826-795d1bc52774",
   "metadata": {},
   "outputs": [
    {
     "data": {
      "text/plain": [
       "KMeans(max_iter=100, n_clusters=3, random_state=2111151440)"
      ]
     },
     "execution_count": 192,
     "metadata": {},
     "output_type": "execute_result"
    }
   ],
   "source": [
    "kms.fit(data)"
   ]
  },
  {
   "cell_type": "code",
   "execution_count": 193,
   "id": "348b8eea-cb67-40f1-a246-d965b4d85559",
   "metadata": {},
   "outputs": [
    {
     "data": {
      "text/plain": [
       "array([2, 0, 1, 0, 2, 2, 0, 0, 1, 2, 0, 2, 2, 1, 2, 0, 0, 2, 0, 0, 0, 0,\n",
       "       1, 1, 0, 0, 2, 2, 0, 1, 0, 2, 1, 2, 1, 0, 0, 2, 2, 1, 2, 2, 2, 0,\n",
       "       1, 0, 2, 1, 2, 1, 1, 0], dtype=int32)"
      ]
     },
     "execution_count": 193,
     "metadata": {},
     "output_type": "execute_result"
    }
   ],
   "source": [
    "kms.labels_"
   ]
  },
  {
   "cell_type": "code",
   "execution_count": 194,
   "id": "e8dbdd2f-1e18-4d28-a2e2-d7ad8d9825a6",
   "metadata": {},
   "outputs": [
    {
     "name": "stderr",
     "output_type": "stream",
     "text": [
      "/opt/miniconda3/lib/python3.7/site-packages/ipykernel_launcher.py:4: UserWarning: You passed a edgecolor/edgecolors ('k') for an unfilled marker ('x').  Matplotlib is ignoring the edgecolor in favor of the facecolor.  This behavior may change in the future.\n",
      "  after removing the cwd from sys.path.\n"
     ]
    },
    {
     "data": {
      "text/plain": [
       "<matplotlib.collections.PathCollection at 0x7ffa22302b50>"
      ]
     },
     "execution_count": 194,
     "metadata": {},
     "output_type": "execute_result"
    },
    {
     "data": {
      "image/png": "[encoded data removed]",
      "text/plain": [
       "<Figure size 432x288 with 1 Axes>"
      ]
     },
     "metadata": {
      "needs_background": "light"
     },
     "output_type": "display_data"
    }
   ],
   "source": [
    "plt.scatter(data.iloc[kms.labels_ == 0,0], data.iloc[kms.labels_ == 0,1], s=50, c='red', marker='o') \n",
    "plt.scatter(data.iloc[kms.labels_ == 1,0], data.iloc[kms.labels_ == 1,1], s=50, c='blue', marker='x') \n",
    "plt.scatter(data.iloc[kms.labels_ == 2,0], data.iloc[kms.labels_ == 2,1], s=50, c='green', marker='*') \n",
    "plt.scatter(kms.cluster_centers_[:,1], kms.cluster_centers_ [:,2], s=500, marker='x', c='pink', edgecolors='k')"
   ]
  },
  {
   "cell_type": "code",
   "execution_count": null,
   "id": "32500c4e-49b6-45b1-a1a8-3ebfdd39eda3",
   "metadata": {},
   "outputs": [],
   "source": []
  },
  {
   "cell_type": "markdown",
   "id": "961fd9a6-2cd1-4171-b098-78d0f75357ee",
   "metadata": {},
   "source": []
  },
  {
   "cell_type": "code",
   "execution_count": 195,
   "id": "d33e62a4-ef6c-4934-b15f-fd36f9071d3a",
   "metadata": {},
   "outputs": [
    {
     "data": {
      "text/plain": [
       "<matplotlib.collections.PathCollection at 0x7ffa22244e90>"
      ]
     },
     "execution_count": 195,
     "metadata": {},
     "output_type": "execute_result"
    },
    {
     "data": {
      "image/png": "[encoded data removed]",
      "text/plain": [
       "<Figure size 432x288 with 1 Axes>"
      ]
     },
     "metadata": {
      "needs_background": "light"
     },
     "output_type": "display_data"
    }
   ],
   "source": [
    "plt.scatter(data.iloc[kms.labels_ == 0,2], data.iloc[kms.labels_ == 0,3], s=50, c='red', marker='o') \n",
    "plt.scatter(data.iloc[kms.labels_ == 1,2], data.iloc[kms.labels_ == 1,3], s=50, c='blue', marker='x') \n",
    "plt.scatter(data.iloc[kms.labels_ == 2,2], data.iloc[kms.labels_ == 2,3], s=50, c='green', marker='*') \n"
   ]
  },
  {
   "cell_type": "code",
   "execution_count": 196,
   "id": "6d8de916-60f9-4a6e-bd3d-72b385e8e7bd",
   "metadata": {},
   "outputs": [
    {
     "data": {
      "text/plain": [
       "<matplotlib.collections.PathCollection at 0x7ffa22195dd0>"
      ]
     },
     "execution_count": 196,
     "metadata": {},
     "output_type": "execute_result"
    },
    {
     "data": {
      "image/png": "[encoded data removed]",
      "text/plain": [
       "<Figure size 432x288 with 1 Axes>"
      ]
     },
     "metadata": {
      "needs_background": "light"
     },
     "output_type": "display_data"
    }
   ],
   "source": [
    "plt.scatter(data.iloc[kms.labels_ == 0,3], data.iloc[kms.labels_ == 0,4], s=50, c='red', marker='o') \n",
    "plt.scatter(data.iloc[kms.labels_ == 1,3], data.iloc[kms.labels_ == 1,4], s=50, c='blue', marker='x') \n",
    "plt.scatter(data.iloc[kms.labels_ == 2,3], data.iloc[kms.labels_ == 2,4], s=50, c='green', marker='*') "
   ]
  },
  {
   "cell_type": "code",
   "execution_count": null,
   "id": "3583850a-b975-40fd-825a-5a22a3628174",
   "metadata": {},
   "outputs": [
    {
     "data": {
      "text/plain": [
       "<matplotlib.collections.PathCollection at 0x7ffa22350090>"
      ]
     },
     "execution_count": 197,
     "metadata": {},
     "output_type": "execute_result"
    },
    {
     "data": {
      "image/png": "[encoded data removed]",
      "text/plain": [
       "<Figure size 432x288 with 1 Axes>"
      ]
     },
     "metadata": {
      "needs_background": "light"
     },
     "output_type": "display_data"
    }
   ],
   "source": [
    "plt.scatter(data.iloc[kms.labels_ == 0,0], data.iloc[kms.labels_ == 0,4], s=50, c='red', marker='o') \n",
    "plt.scatter(data.iloc[kms.labels_ == 1,0], data.iloc[kms.labels_ == 1,4], s=50, c='blue', marker='x') \n",
    "plt.scatter(data.iloc[kms.labels_ == 2,0], data.iloc[kms.labels_ == 2,4], s=50, c='green', marker='*') "
   ]
  },
  {
   "cell_type": "markdown",
   "id": "90c256cf-2feb-4b4a-b904-2077a677e692",
   "metadata": {},
   "source": [
    "#### 군집의 개수가 4일때"
   ]
  },
  {
   "cell_type": "code",
   "execution_count": 205,
   "id": "2df98644-0e65-4342-9241-1e32af1e70d9",
   "metadata": {},
   "outputs": [],
   "source": [
    "kms = KMeans(n_clusters=4, max_iter = 100, random_state = 2111151440)"
   ]
  },
  {
   "cell_type": "code",
   "execution_count": 206,
   "id": "4250358a-23a2-467d-b2d3-111fafe91bb4",
   "metadata": {},
   "outputs": [
    {
     "data": {
      "text/plain": [
       "KMeans(max_iter=100, n_clusters=4, random_state=2111151440)"
      ]
     },
     "execution_count": 206,
     "metadata": {},
     "output_type": "execute_result"
    }
   ],
   "source": [
    "kms.fit(data)"
   ]
  },
  {
   "cell_type": "code",
   "execution_count": 208,
   "id": "325c4f19-dfde-4cd0-b424-f5e3fd8b84ba",
   "metadata": {},
   "outputs": [
    {
     "data": {
      "text/plain": [
       "<matplotlib.collections.PathCollection at 0x7ffa21f916d0>"
      ]
     },
     "execution_count": 208,
     "metadata": {},
     "output_type": "execute_result"
    },
    {
     "data": {
      "image/png": "[encoded data removed]",
      "text/plain": [
       "<Figure size 432x288 with 1 Axes>"
      ]
     },
     "metadata": {
      "needs_background": "light"
     },
     "output_type": "display_data"
    }
   ],
   "source": [
    "plt.scatter(data.iloc[kms.labels_ == 0,0], data.iloc[kms.labels_ == 0,1], s=50, c='red', marker='o') \n",
    "plt.scatter(data.iloc[kms.labels_ == 1,0], data.iloc[kms.labels_ == 1,1], s=50, c='blue', marker='x') \n",
    "plt.scatter(data.iloc[kms.labels_ == 2,0], data.iloc[kms.labels_ == 2,1], s=50, c='green', marker='*')\n",
    "plt.scatter(data.iloc[kms.labels_ == 3,0], data.iloc[kms.labels_ == 3,1], s=50, c='k', marker='o')"
   ]
  },
  {
   "cell_type": "code",
   "execution_count": 209,
   "id": "be4b0ea5-113a-4e3a-925e-f6a4de586b8a",
   "metadata": {},
   "outputs": [
    {
     "data": {
      "text/plain": [
       "<matplotlib.collections.PathCollection at 0x7ffa21f26d10>"
      ]
     },
     "execution_count": 209,
     "metadata": {},
     "output_type": "execute_result"
    },
    {
     "data": {
      "image/png": "[encoded data removed]",
      "text/plain": [
       "<Figure size 432x288 with 1 Axes>"
      ]
     },
     "metadata": {
      "needs_background": "light"
     },
     "output_type": "display_data"
    }
   ],
   "source": [
    "plt.scatter(data.iloc[kms.labels_ == 0,2], data.iloc[kms.labels_ == 0,3], s=50, c='red', marker='o') \n",
    "plt.scatter(data.iloc[kms.labels_ == 1,2], data.iloc[kms.labels_ == 1,3], s=50, c='blue', marker='x')\n",
    "plt.scatter(data.iloc[kms.labels_ == 2,2], data.iloc[kms.labels_ == 2,3], s=50, c='green', marker='*')\n",
    "plt.scatter(data.iloc[kms.labels_ == 3,2], data.iloc[kms.labels_ == 3,3], s=50, c='k', marker='o')"
   ]
  },
  {
   "cell_type": "code",
   "execution_count": 210,
   "id": "587e4f35-bc1d-4a60-913a-f8ac2a577364",
   "metadata": {},
   "outputs": [
    {
     "data": {
      "text/plain": [
       "<matplotlib.collections.PathCollection at 0x7ffa21fc4e10>"
      ]
     },
     "execution_count": 210,
     "metadata": {},
     "output_type": "execute_result"
    },
    {
     "data": {
      "image/png": "[encoded data removed]",
      "text/plain": [
       "<Figure size 432x288 with 1 Axes>"
      ]
     },
     "metadata": {
      "needs_background": "light"
     },
     "output_type": "display_data"
    }
   ],
   "source": [
    "plt.scatter(data.iloc[kms.labels_ == 0,3], data.iloc[kms.labels_ == 0,4], s=50, c='red', marker='o') \n",
    "plt.scatter(data.iloc[kms.labels_ == 1,3], data.iloc[kms.labels_ == 1,4], s=50, c='blue', marker='x') \n",
    "plt.scatter(data.iloc[kms.labels_ == 2,3], data.iloc[kms.labels_ == 2,4], s=50, c='green', marker='*')\n",
    "plt.scatter(data.iloc[kms.labels_ == 3,3], data.iloc[kms.labels_ == 3,4], s=50, c='k', marker='o')"
   ]
  },
  {
   "cell_type": "code",
   "execution_count": null,
   "id": "f852d9e1-5718-449c-bcbd-c19ff45d3b58",
   "metadata": {},
   "outputs": [],
   "source": []
  },
  {
   "cell_type": "code",
   "execution_count": null,
   "id": "cd374c10-efd0-426a-99ed-601ade77891d",
   "metadata": {},
   "outputs": [],
   "source": []
  },
  {
   "cell_type": "code",
   "execution_count": 128,
   "id": "a6b41ac9-0af0-4997-9a31-8e9a643450eb",
   "metadata": {},
   "outputs": [],
   "source": [
    "academy['전체평균'] = (academy['국어점수평균'] + academy['국어점수평균'] + academy['국어점수평균'] + academy['국어점수평균']) / 4"
   ]
  },
  {
   "cell_type": "code",
   "execution_count": 129,
   "id": "b3ae814c-1c37-4cd3-90c0-d58d5e5d6b15",
   "metadata": {},
   "outputs": [],
   "source": [
    "x = academy['전체평균']\n",
    "y = academy['학업집중도']"
   ]
  },
  {
   "cell_type": "code",
   "execution_count": 113,
   "id": "ea0c042b-cc7b-4bb9-b237-43a6bdea74c9",
   "metadata": {},
   "outputs": [
    {
     "data": {
      "image/png": "[encoded data removed]",
      "text/plain": [
       "<Figure size 432x288 with 1 Axes>"
      ]
     },
     "metadata": {
      "needs_background": "light"
     },
     "output_type": "display_data"
    }
   ],
   "source": [
    "plt.plot(x, y, 'ro')\n",
    "plt.grid()"
   ]
  },
  {
   "cell_type": "code",
   "execution_count": null,
   "id": "b21e1388-0023-4e7d-96ff-264de27de890",
   "metadata": {},
   "outputs": [],
   "source": []
  },
  {
   "cell_type": "code",
   "execution_count": null,
   "id": "8d30d6c0-9326-4569-b2d0-c5eefabfe2d1",
   "metadata": {},
   "outputs": [],
   "source": []
  },
  {
   "cell_type": "code",
   "execution_count": null,
   "id": "72a16cc0-7df2-49b2-a89d-4c377deae8dc",
   "metadata": {},
   "outputs": [],
   "source": []
  },
  {
   "cell_type": "code",
   "execution_count": null,
   "id": "8cc3e0dd-41be-42fd-a7f2-979306a289e3",
   "metadata": {},
   "outputs": [],
   "source": []
  }
 ],
 "metadata": {
  "kernelspec": {
   "display_name": "Python 3 (ipykernel)",
   "language": "python",
   "name": "python3"
  },
  "language_info": {
   "codemirror_mode": {
    "name": "ipython",
    "version": 3
   },
   "file_extension": ".py",
   "mimetype": "text/x-python",
   "name": "python",
   "nbconvert_exporter": "python",
   "pygments_lexer": "ipython3",
   "version": "3.7.10"
  }
 },
 "nbformat": 4,
 "nbformat_minor": 5
}
