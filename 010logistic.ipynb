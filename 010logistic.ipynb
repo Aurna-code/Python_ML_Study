{
 "cells": [
  {
   "cell_type": "markdown",
   "id": "5d1bdfa3-846f-4240-b3d9-bd2e1db3a7fb",
   "metadata": {},
   "source": [
    "### 선형회귀분석 오류\n",
    "#### 곤충질량에 따라 암수구분하는 모델 생성\n",
    "+ 0 : 암컷\n",
    "+ 1 : 수컷"
   ]
  },
  {
   "cell_type": "code",
   "execution_count": 1,
   "id": "aaa25cf5-7ced-4ba6-94a8-6e393db1f6d8",
   "metadata": {},
   "outputs": [],
   "source": [
    "import numpy as np\n",
    "import pandas as pd\n",
    "import matplotlib.pyplot as plt"
   ]
  },
  {
   "cell_type": "code",
   "execution_count": 3,
   "id": "25521b48-40ac-4a8f-878b-955cd08fe17c",
   "metadata": {},
   "outputs": [],
   "source": [
    "from sklearn.model_selection import train_test_split\n",
    "from sklearn.linear_model import LinearRegression\n",
    "from sklearn.metrics import r2_score\n",
    "from sklearn.metrics import mean_squared_error\n",
    "from pandas.plotting import scatter_matrix"
   ]
  },
  {
   "cell_type": "code",
   "execution_count": 26,
   "id": "1c0eedf5-3384-452b-a77b-cafd06b9077e",
   "metadata": {},
   "outputs": [],
   "source": [
    "wght = [1.94,1.67,0.92,1.11,1.41,1.65,2.28,0.47,1.07,2.19,2.08,1.02,0.91,1.16,1.46,1.02,0.85,0.89,1.79,1.89,0.75,0.9,1.87,0.5,0.69,1.5,0.96,0.53,1.21,0.6]\n",
    "spcs = [1,1,0,0,1,1,1,0,0,1,1,0,0,0,1,0,0,0,1,1,0,1,1,0,0,1,1,0,1,0]"
   ]
  },
  {
   "cell_type": "code",
   "execution_count": 7,
   "id": "f92c98c4-7d7d-45f1-a8a2-32fe9a3f6189",
   "metadata": {},
   "outputs": [],
   "source": [
    "df = pd.DataFrame()\n",
    "df['wght'] = wght\n",
    "df['spcs'] = spcs "
   ]
  },
  {
   "cell_type": "code",
   "execution_count": 9,
   "id": "fb210c21-44d8-4be7-8d4d-5ef0a85b0f7c",
   "metadata": {},
   "outputs": [
    {
     "data": {
      "text/plain": [
       "[<matplotlib.lines.Line2D at 0x7f1efb3bd310>]"
      ]
     },
     "execution_count": 9,
     "metadata": {},
     "output_type": "execute_result"
    },
    {
     "data": {
      "image/png": "[encoded data removed]",
      "text/plain": [
       "<Figure size 432x288 with 1 Axes>"
      ]
     },
     "metadata": {
      "needs_background": "light"
     },
     "output_type": "display_data"
    }
   ],
   "source": [
    "plt.plot(df.wght, df.spcs, 'bo')"
   ]
  },
  {
   "cell_type": "code",
   "execution_count": 18,
   "id": "80999aa4-71a0-4f05-91ed-230d91b02f5e",
   "metadata": {},
   "outputs": [],
   "source": [
    "X = df.wght   \n",
    "y = df.spcs "
   ]
  },
  {
   "cell_type": "code",
   "execution_count": 19,
   "id": "1c187acc-94c6-4528-a362-88ad614df7a8",
   "metadata": {},
   "outputs": [],
   "source": [
    "X = np.array(X).reshape(-1,1)\n",
    "lrclf = LinearRegression()\n",
    "lrclf.fit(X, y)\n",
    "pred = lrclf.predict(X)"
   ]
  },
  {
   "cell_type": "code",
   "execution_count": 23,
   "id": "6690813a-ea04-4867-9534-9c314bd624c1",
   "metadata": {},
   "outputs": [
    {
     "name": "stdout",
     "output_type": "stream",
     "text": [
      "0.75 -0.43\n"
     ]
    }
   ],
   "source": [
    "a = lrclf.coef_\n",
    "b = lrclf.intercept_\n",
    "print('%.2f' % a, '%.2f' % b)"
   ]
  },
  {
   "cell_type": "code",
   "execution_count": 21,
   "id": "fa3db631-d462-4f14-af50-0c903a8e000e",
   "metadata": {},
   "outputs": [
    {
     "name": "stdout",
     "output_type": "stream",
     "text": [
      "0.3106178929591639 0.6140660982944375\n"
     ]
    }
   ],
   "source": [
    "rmse = np.sqrt(mean_squared_error(y, pred))\n",
    "r2 = r2_score(y, pred)\n",
    "print(rmse,r2)"
   ]
  },
  {
   "cell_type": "code",
   "execution_count": 22,
   "id": "9ec484f1-386d-4065-a0e2-43d4708a1ef1",
   "metadata": {},
   "outputs": [
    {
     "data": {
      "text/plain": [
       "[<matplotlib.lines.Line2D at 0x7f1efb0b8310>]"
      ]
     },
     "execution_count": 22,
     "metadata": {},
     "output_type": "execute_result"
    },
    {
     "data": {
      "image/png": "[encoded data removed]",
      "text/plain": [
       "<Figure size 432x288 with 1 Axes>"
      ]
     },
     "metadata": {
      "needs_background": "light"
     },
     "output_type": "display_data"
    }
   ],
   "source": [
    "z = lrclf.predict(X)\n",
    "plt.plot(X,y, 'bo')\n",
    "plt.plot(X,z, 'r-')"
   ]
  },
  {
   "cell_type": "markdown",
   "id": "4be2b23d-e65c-4565-8f8a-48e7486b6e3f",
   "metadata": {},
   "source": [
    "### 종속변수가 범주형인 경우\n",
    "+ 선형방정식은 이항분포를 따르는 데이터에 적용하기에 다소 맞지 않음\n",
    "    - ### $ y = ax + b $\n",
    "+ 위 사례에서 우변값의 범위는 '-무한대 ~ +무한대', 좌변값의 범위는 '0~1'\n",
    "+ 따라서 좌변값의 범위를 우변과 동일하게 '-무한대 ~ +무한대'로 하려면 적절한 변환함수 필요\n",
    "    - 로짓함수를 이용해서 변환함\n",
    "    - ### $ f(x) = \\frac {1} {1 + e^{-x}} $"
   ]
  },
  {
   "cell_type": "markdown",
   "id": "71f3afa6-295a-482c-8b6c-e88fe59449e6",
   "metadata": {},
   "source": [
    "### 로짓(Logit)함수 정의"
   ]
  },
  {
   "cell_type": "code",
   "execution_count": 46,
   "id": "9d1209ae-a231-4fed-b994-768a3e6097d4",
   "metadata": {},
   "outputs": [],
   "source": [
    "def logistic(x, w):\n",
    "    yy = 1 / (1 + np.exp(-(w[0]*x + w[1])))\n",
    "    return yy"
   ]
  },
  {
   "cell_type": "markdown",
   "id": "38d5e1fc-5137-4043-86ce-68e0581ef132",
   "metadata": {},
   "source": [
    "#### 로짓함수를 이용해 그래프 그리기"
   ]
  },
  {
   "cell_type": "code",
   "execution_count": 49,
   "id": "26c2a5c6-7244-4bea-a43e-1e8b3fe8a8ea",
   "metadata": {},
   "outputs": [],
   "source": [
    "W = [8, -10]  # 기울기와 절편을 임의로 설정\n",
    "xx = np.linspace(0.5, 2.25, 50)  # 0.5 ~2.25내 50개 값 생성\n",
    "yy = logistic(xx, W)"
   ]
  },
  {
   "cell_type": "code",
   "execution_count": 51,
   "id": "2790845e-ba53-4446-9333-708bf5403e73",
   "metadata": {},
   "outputs": [
    {
     "data": {
      "text/plain": [
       "[<matplotlib.lines.Line2D at 0x7f1efa6d0710>]"
      ]
     },
     "execution_count": 51,
     "metadata": {},
     "output_type": "execute_result"
    },
    {
     "data": {
      "image/png": "[encoded data removed]",
      "text/plain": [
       "<Figure size 432x288 with 1 Axes>"
      ]
     },
     "metadata": {
      "needs_background": "light"
     },
     "output_type": "display_data"
    }
   ],
   "source": [
    "plt.scatter(pd.Series(wght), pd.Series(spcs), c=spcs)\n",
    "plt.plot(xx.reshape(-1,1), yy, 'r-')\n",
    "# 결정경계 표시 (yy가 0.5 이상 되는 지점)\n",
    "i = np.min(np.where(yy >= 0.5))\n",
    "xp = (xx[i])\n",
    "plt.plot([xp,xp],[-.5,1.5], 'y--')"
   ]
  },
  {
   "cell_type": "markdown",
   "id": "b82360c7-1791-4dd5-b4d0-b62b197b6303",
   "metadata": {},
   "source": [
    "#### 결정경계 표시 (yy가 0.5 이상 되는 지점 알아냄)\n"
   ]
  },
  {
   "cell_type": "markdown",
   "id": "9e977f53-13c5-4158-950b-a54277817d56",
   "metadata": {},
   "source": [
    "#### sklearn에서 제공하는 LogisticRegression으로 분석하기"
   ]
  },
  {
   "cell_type": "code",
   "execution_count": 53,
   "id": "87762592-1f9b-49d9-a3ea-259b2e3231c5",
   "metadata": {},
   "outputs": [],
   "source": [
    "from sklearn.linear_model import LogisticRegression\n",
    "from sklearn.metrics import accuracy_score"
   ]
  },
  {
   "cell_type": "code",
   "execution_count": 54,
   "id": "4e957e13-67ec-4b1a-a348-507cb24e96a3",
   "metadata": {},
   "outputs": [],
   "source": [
    "X = np.array(wght).reshape(-1,1)\n",
    "y = spcs"
   ]
  },
  {
   "cell_type": "markdown",
   "id": "9b8d66a1-4466-4768-ae5e-25561c92f646",
   "metadata": {},
   "source": [
    "#### solver : sklearn 20.x 이상부터는 명시적 지정 필요\n",
    "+ liblinear : 이항회귀, 비교적 작은 데이터셋에 적합\n",
    "+ lbfgs, newton-g : 다항회귀, L1제약\n",
    "+ sag, saga : 다항회귀, L2제약, 확률적경사하강법 사용\n",
    "\n",
    "#### multi_class = 'multinomial' 다항회귀 설정"
   ]
  },
  {
   "cell_type": "code",
   "execution_count": 78,
   "id": "24159916-1e6a-460b-9a59-ef6223ea92d5",
   "metadata": {},
   "outputs": [],
   "source": [
    "lrclf = LogisticRegression(solver='liblinear')\n",
    "lrclf.fit(X,y)\n",
    "pred = lrclf.predict(X)"
   ]
  },
  {
   "cell_type": "code",
   "execution_count": 79,
   "id": "87a5112e-c837-468c-8adf-4d0a06c0a1fa",
   "metadata": {},
   "outputs": [
    {
     "data": {
      "text/plain": [
       "0.8666666666666667"
      ]
     },
     "execution_count": 79,
     "metadata": {},
     "output_type": "execute_result"
    }
   ],
   "source": [
    "accuracy_score(y, pred)"
   ]
  },
  {
   "cell_type": "code",
   "execution_count": 81,
   "id": "9ed56043-b041-4c0b-b1d1-ef80b8a8846d",
   "metadata": {},
   "outputs": [
    {
     "data": {
      "text/plain": [
       "[<matplotlib.lines.Line2D at 0x7f1ef9df9890>]"
      ]
     },
     "execution_count": 81,
     "metadata": {},
     "output_type": "execute_result"
    },
    {
     "data": {
      "image/png": "[encoded data removed]",
      "text/plain": [
       "<Figure size 432x288 with 1 Axes>"
      ]
     },
     "metadata": {
      "needs_background": "light"
     },
     "output_type": "display_data"
    }
   ],
   "source": [
    "plt.scatter(X, y, c=y)\n",
    "xx = np.linspace(0.5, 2.25, 50).reshape(-1,1)\n",
    "yy = lrclf.predict_proba(xx)  # 0, 1 일 확률\n",
    "plt.plot(xx, yy[:, 1], 'r-') \n",
    "# 결정경계 표시\n",
    "i = np.min(np.where(yy[:, 1] >= 0.5))\n",
    "xp = (xx[i])\n",
    "plt.plot([xp,xp],[-0.5,1.5], 'g--')"
   ]
  },
  {
   "cell_type": "code",
   "execution_count": 82,
   "id": "38809f5a-659b-49a4-84a3-c2755328251b",
   "metadata": {},
   "outputs": [
    {
     "name": "stdout",
     "output_type": "stream",
     "text": [
      "임계값 : [1.07142857]\n"
     ]
    }
   ],
   "source": [
    "print(\"임계값 :\", xp)"
   ]
  },
  {
   "cell_type": "code",
   "execution_count": 83,
   "id": "266aba12-9a18-4f78-aa9c-96ec49dc20a5",
   "metadata": {},
   "outputs": [
    {
     "name": "stdout",
     "output_type": "stream",
     "text": [
      "0.3651483716701107 0.4666666666666667\n"
     ]
    }
   ],
   "source": [
    "rmse = np.sqrt(mean_squared_error(y, pred))\n",
    "r2 = r2_score(y, pred)\n",
    "print(rmse,r2)"
   ]
  },
  {
   "cell_type": "code",
   "execution_count": null,
   "id": "3002e5a5-21f2-4b40-b898-641c9a1c4119",
   "metadata": {},
   "outputs": [],
   "source": []
  },
  {
   "cell_type": "markdown",
   "id": "f2c22c73-4a23-4e97-a2ef-26da421fd824",
   "metadata": {},
   "source": [
    "### iris 데이터셋을 이용한 로지스틱 회귀\n",
    "+ 4+1 변수, 150개 데이터로 구성\n",
    "+ 결과값은 3가지 : setosa, versicolor, verginica\n",
    "\n",
    "#### 꽃잎너비, 레이블이 verginica인 경우에 대한 경계값 알아보기"
   ]
  },
  {
   "cell_type": "code",
   "execution_count": 84,
   "id": "960d6ab1-1c95-499b-8f44-70f64b147706",
   "metadata": {},
   "outputs": [],
   "source": [
    "from sklearn.datasets import load_iris"
   ]
  },
  {
   "cell_type": "code",
   "execution_count": 85,
   "id": "39c80af9-fbe1-4fbc-af7e-9cbe8068e552",
   "metadata": {},
   "outputs": [],
   "source": [
    "iris = load_iris()"
   ]
  },
  {
   "cell_type": "code",
   "execution_count": 88,
   "id": "bc33aa60-ad7c-48eb-ac02-19d481798934",
   "metadata": {},
   "outputs": [],
   "source": [
    "Xtrain, Xtest, ytrain, ytest = train_test_split(iris.data, iris.target, train_size=0.3, stratify = iris.target, random_state=2111091510)"
   ]
  },
  {
   "cell_type": "code",
   "execution_count": 97,
   "id": "276938d3-bce8-4a06-9c1b-b68e3e0c0918",
   "metadata": {},
   "outputs": [],
   "source": [
    "lrclf = LogisticRegression(solver='sag', multi_class='multinomial', C=0.01)\n",
    "lrclf.fit(Xtrain,ytrain)\n",
    "pred = lrclf.predict(Xtest)"
   ]
  },
  {
   "cell_type": "code",
   "execution_count": 98,
   "id": "46d4d158-d192-4358-b0c7-7488999faeca",
   "metadata": {},
   "outputs": [
    {
     "data": {
      "text/plain": [
       "0.7904761904761904"
      ]
     },
     "execution_count": 98,
     "metadata": {},
     "output_type": "execute_result"
    }
   ],
   "source": [
    "accuracy_score(ytest, pred)"
   ]
  },
  {
   "cell_type": "markdown",
   "id": "f8c514d7-91b5-40eb-ab94-7426f144b7e4",
   "metadata": {},
   "source": []
  },
  {
   "cell_type": "code",
   "execution_count": 102,
   "id": "e698c67b-0850-453e-a91b-b63595f081b1",
   "metadata": {},
   "outputs": [],
   "source": [
    "X = iris.data[:, 3] # petal width\n",
    "y = (iris.target == 2).astype(int)"
   ]
  },
  {
   "cell_type": "code",
   "execution_count": 107,
   "id": "d515a32e-dad0-47f3-8c27-a3d2f14c4339",
   "metadata": {},
   "outputs": [
    {
     "data": {
      "text/plain": [
       "(0.1, 2.5)"
      ]
     },
     "execution_count": 107,
     "metadata": {},
     "output_type": "execute_result"
    }
   ],
   "source": [
    "np.min(X), np.max(X)"
   ]
  },
  {
   "cell_type": "code",
   "execution_count": 109,
   "id": "f75107fd-b152-4cac-8668-d669e9b70796",
   "metadata": {},
   "outputs": [
    {
     "data": {
      "text/plain": [
       "LogisticRegression(solver='liblinear')"
      ]
     },
     "execution_count": 109,
     "metadata": {},
     "output_type": "execute_result"
    }
   ],
   "source": [
    "lrclf =LogisticRegression(solver='liblinear')\n",
    "lrclf.fit(X.reshape(-1,1), y)"
   ]
  },
  {
   "cell_type": "code",
   "execution_count": 117,
   "id": "59d997cc-5648-4019-bf98-5da06562210e",
   "metadata": {},
   "outputs": [
    {
     "data": {
      "text/plain": [
       "[<matplotlib.lines.Line2D at 0x7f1ef9c30050>]"
      ]
     },
     "execution_count": 117,
     "metadata": {},
     "output_type": "execute_result"
    },
    {
     "data": {
      "image/png": "[encoded data removed]",
      "text/plain": [
       "<Figure size 432x288 with 1 Axes>"
      ]
     },
     "metadata": {
      "needs_background": "light"
     },
     "output_type": "display_data"
    }
   ],
   "source": [
    "plt.scatter(X, y, c=y)\n",
    "xx = np.linspace(0, 2.5, 100).reshape(-1,1)\n",
    "yy = lrclf.predict_proba(xx) \n",
    "plt.plot(xx, yy[:, 1], 'r')\n",
    "# 임계값(결정경계) 확인\n",
    "i = np.min(np.where(yy[:, 1] >= 0.5))\n",
    "xp = (xx[i])\n",
    "plt.plot([xp,xp],[-0.5,1.5], 'g--')"
   ]
  },
  {
   "cell_type": "code",
   "execution_count": 116,
   "id": "ac2b959f-57f5-47fd-9130-3abec58c6a14",
   "metadata": {},
   "outputs": [
    {
     "name": "stdout",
     "output_type": "stream",
     "text": [
      "임계값 : [1.61616162]\n"
     ]
    }
   ],
   "source": [
    "print(\"임계값 :\", xp)"
   ]
  },
  {
   "cell_type": "markdown",
   "id": "cd55a980-a599-40f1-baac-3f6eaf4e2f23",
   "metadata": {},
   "source": [
    "### 결정경계 시각화\n",
    "+ iris의 feature를 2개로 나눠 재학습\n",
    "+ 시각화를 위해 두 변수만 지정"
   ]
  },
  {
   "cell_type": "code",
   "execution_count": 139,
   "id": "30e45860-4f21-4008-853d-f813856cb3a4",
   "metadata": {},
   "outputs": [],
   "source": [
    "data = iris.data[:, :2] # Sepal 속성만\n",
    "# data = iris.data[:, 2:] # Petal 속성만\n",
    "target = iris.target"
   ]
  },
  {
   "cell_type": "code",
   "execution_count": 140,
   "id": "8ba1c33b-d327-48bc-b935-e760820a6b2a",
   "metadata": {},
   "outputs": [
    {
     "name": "stdout",
     "output_type": "stream",
     "text": [
      "0.82\n"
     ]
    }
   ],
   "source": [
    "lrclf =LogisticRegression(solver='lbfgs')\n",
    "lrclf.fit(data, target)\n",
    "print(lrclf.score(data,target))  # 훈련정확도"
   ]
  },
  {
   "cell_type": "markdown",
   "id": "310833b4-ae42-49f8-b8c2-c87d2b35f0db",
   "metadata": {},
   "source": [
    "#### pcolormesh 함수 사용시 필요"
   ]
  },
  {
   "cell_type": "code",
   "execution_count": 150,
   "id": "43ce24c5-e2cd-44b4-b5de-eb7f570fd630",
   "metadata": {},
   "outputs": [],
   "source": [
    "plt.rcParams['pcolor.shading'] = 'nearest'"
   ]
  },
  {
   "cell_type": "markdown",
   "id": "07860fb8-6111-49b9-980e-d4be28336037",
   "metadata": {},
   "source": [
    "#### 다항로지스틱 결정경계 시각화"
   ]
  },
  {
   "cell_type": "code",
   "execution_count": 151,
   "id": "62ca06d2-59ad-4813-baa4-74cf409c0633",
   "metadata": {},
   "outputs": [],
   "source": [
    "x_min = data[:,0].min() - 0.5 # x측 최대/최소\n",
    "x_max = data[:,0].max() + 0.5\n",
    "y_min = data[:,0].min() - 0.5 # y축 최대/최소\n",
    "y_max = data[:,0].max() + 0.5"
   ]
  },
  {
   "cell_type": "markdown",
   "id": "155b3b04-c754-4ec3-9cfb-4e1af565a243",
   "metadata": {},
   "source": [
    "#### x/y 축 범위의 값들 생성"
   ]
  },
  {
   "cell_type": "code",
   "execution_count": 152,
   "id": "b603ce7b-ad4f-4f09-a1db-547665dc3e31",
   "metadata": {},
   "outputs": [],
   "source": [
    "xm = np.arange(x_min, x_max, 0.02)\n",
    "ym = np.arange(y_min, y_max, 0.02)"
   ]
  },
  {
   "cell_type": "markdown",
   "id": "323c8381-2f6a-401b-8f9c-6fb4abc6e0f1",
   "metadata": {},
   "source": [
    "#### 생성한 값들을 x,y 쌍으로 좌표평면에 배치\n",
    "+ 즉, 예측값을 출력할 좌표평면을 정의함"
   ]
  },
  {
   "cell_type": "code",
   "execution_count": 153,
   "id": "b31f060f-9653-473e-bcc1-46c8fd6fe43f",
   "metadata": {},
   "outputs": [
    {
     "data": {
      "text/plain": [
       "array([[3.8 , 3.82, 3.84, 3.86, 3.88, 3.9 , 3.92, 3.94, 3.96, 3.98, 4.  ,\n",
       "        4.02, 4.04, 4.06, 4.08, 4.1 , 4.12, 4.14, 4.16, 4.18, 4.2 , 4.22,\n",
       "        4.24, 4.26, 4.28, 4.3 , 4.32, 4.34, 4.36, 4.38, 4.4 , 4.42, 4.44,\n",
       "        4.46, 4.48, 4.5 , 4.52, 4.54, 4.56, 4.58, 4.6 , 4.62, 4.64, 4.66,\n",
       "        4.68, 4.7 , 4.72, 4.74, 4.76, 4.78, 4.8 , 4.82, 4.84, 4.86, 4.88,\n",
       "        4.9 , 4.92, 4.94, 4.96, 4.98, 5.  , 5.02, 5.04, 5.06, 5.08, 5.1 ,\n",
       "        5.12, 5.14, 5.16, 5.18, 5.2 , 5.22, 5.24, 5.26, 5.28, 5.3 , 5.32,\n",
       "        5.34, 5.36, 5.38, 5.4 , 5.42, 5.44, 5.46, 5.48, 5.5 , 5.52, 5.54,\n",
       "        5.56, 5.58, 5.6 , 5.62, 5.64, 5.66, 5.68, 5.7 , 5.72, 5.74, 5.76,\n",
       "        5.78, 5.8 , 5.82, 5.84, 5.86, 5.88, 5.9 , 5.92, 5.94, 5.96, 5.98,\n",
       "        6.  , 6.02, 6.04, 6.06, 6.08, 6.1 , 6.12, 6.14, 6.16, 6.18, 6.2 ,\n",
       "        6.22, 6.24, 6.26, 6.28, 6.3 , 6.32, 6.34, 6.36, 6.38, 6.4 , 6.42,\n",
       "        6.44, 6.46, 6.48, 6.5 , 6.52, 6.54, 6.56, 6.58, 6.6 , 6.62, 6.64,\n",
       "        6.66, 6.68, 6.7 , 6.72, 6.74, 6.76, 6.78, 6.8 , 6.82, 6.84, 6.86,\n",
       "        6.88, 6.9 , 6.92, 6.94, 6.96, 6.98, 7.  , 7.02, 7.04, 7.06, 7.08,\n",
       "        7.1 , 7.12, 7.14, 7.16, 7.18, 7.2 , 7.22, 7.24, 7.26, 7.28, 7.3 ,\n",
       "        7.32, 7.34, 7.36, 7.38, 7.4 , 7.42, 7.44, 7.46, 7.48, 7.5 , 7.52,\n",
       "        7.54, 7.56, 7.58, 7.6 , 7.62, 7.64, 7.66, 7.68, 7.7 , 7.72, 7.74,\n",
       "        7.76, 7.78, 7.8 , 7.82, 7.84, 7.86, 7.88, 7.9 , 7.92, 7.94, 7.96,\n",
       "        7.98, 8.  , 8.02, 8.04, 8.06, 8.08, 8.1 , 8.12, 8.14, 8.16, 8.18,\n",
       "        8.2 , 8.22, 8.24, 8.26, 8.28, 8.3 , 8.32, 8.34, 8.36, 8.38, 8.4 ]])"
      ]
     },
     "execution_count": 153,
     "metadata": {},
     "output_type": "execute_result"
    }
   ],
   "source": [
    "xx, yy = np.meshgrid(xm, ym) \n",
    "xx[:1]"
   ]
  },
  {
   "cell_type": "code",
   "execution_count": 154,
   "id": "5ee86236-d36b-4572-9925-270aada2ce1a",
   "metadata": {},
   "outputs": [
    {
     "data": {
      "text/plain": [
       "array([[3.8, 3.8, 3.8, 3.8, 3.8, 3.8, 3.8, 3.8, 3.8, 3.8, 3.8, 3.8, 3.8,\n",
       "        3.8, 3.8, 3.8, 3.8, 3.8, 3.8, 3.8, 3.8, 3.8, 3.8, 3.8, 3.8, 3.8,\n",
       "        3.8, 3.8, 3.8, 3.8, 3.8, 3.8, 3.8, 3.8, 3.8, 3.8, 3.8, 3.8, 3.8,\n",
       "        3.8, 3.8, 3.8, 3.8, 3.8, 3.8, 3.8, 3.8, 3.8, 3.8, 3.8, 3.8, 3.8,\n",
       "        3.8, 3.8, 3.8, 3.8, 3.8, 3.8, 3.8, 3.8, 3.8, 3.8, 3.8, 3.8, 3.8,\n",
       "        3.8, 3.8, 3.8, 3.8, 3.8, 3.8, 3.8, 3.8, 3.8, 3.8, 3.8, 3.8, 3.8,\n",
       "        3.8, 3.8, 3.8, 3.8, 3.8, 3.8, 3.8, 3.8, 3.8, 3.8, 3.8, 3.8, 3.8,\n",
       "        3.8, 3.8, 3.8, 3.8, 3.8, 3.8, 3.8, 3.8, 3.8, 3.8, 3.8, 3.8, 3.8,\n",
       "        3.8, 3.8, 3.8, 3.8, 3.8, 3.8, 3.8, 3.8, 3.8, 3.8, 3.8, 3.8, 3.8,\n",
       "        3.8, 3.8, 3.8, 3.8, 3.8, 3.8, 3.8, 3.8, 3.8, 3.8, 3.8, 3.8, 3.8,\n",
       "        3.8, 3.8, 3.8, 3.8, 3.8, 3.8, 3.8, 3.8, 3.8, 3.8, 3.8, 3.8, 3.8,\n",
       "        3.8, 3.8, 3.8, 3.8, 3.8, 3.8, 3.8, 3.8, 3.8, 3.8, 3.8, 3.8, 3.8,\n",
       "        3.8, 3.8, 3.8, 3.8, 3.8, 3.8, 3.8, 3.8, 3.8, 3.8, 3.8, 3.8, 3.8,\n",
       "        3.8, 3.8, 3.8, 3.8, 3.8, 3.8, 3.8, 3.8, 3.8, 3.8, 3.8, 3.8, 3.8,\n",
       "        3.8, 3.8, 3.8, 3.8, 3.8, 3.8, 3.8, 3.8, 3.8, 3.8, 3.8, 3.8, 3.8,\n",
       "        3.8, 3.8, 3.8, 3.8, 3.8, 3.8, 3.8, 3.8, 3.8, 3.8, 3.8, 3.8, 3.8,\n",
       "        3.8, 3.8, 3.8, 3.8, 3.8, 3.8, 3.8, 3.8, 3.8, 3.8, 3.8, 3.8, 3.8,\n",
       "        3.8, 3.8, 3.8, 3.8, 3.8, 3.8, 3.8, 3.8, 3.8, 3.8]])"
      ]
     },
     "execution_count": 154,
     "metadata": {},
     "output_type": "execute_result"
    }
   ],
   "source": [
    "yy[:1]"
   ]
  },
  {
   "cell_type": "markdown",
   "id": "8a1b21c5-0847-4620-b827-99f94f34fecd",
   "metadata": {},
   "source": [
    "#### 작업 시각화"
   ]
  },
  {
   "cell_type": "code",
   "execution_count": 155,
   "id": "e17f6b7f-8454-4ab9-9dbb-c4a7e3f1fa72",
   "metadata": {},
   "outputs": [
    {
     "data": {
      "image/png": "[encoded data removed]",
      "text/plain": [
       "<Figure size 432x288 with 1 Axes>"
      ]
     },
     "metadata": {
      "needs_background": "light"
     },
     "output_type": "display_data"
    }
   ],
   "source": [
    "plt.plot(xx, yy)\n",
    "plt.show()"
   ]
  },
  {
   "cell_type": "markdown",
   "id": "678e963e-995d-4ac2-b128-98b3c6f31e36",
   "metadata": {},
   "source": [
    "#### 위에서 만든 x,y쌍을 모델을 통해 예측함\n",
    "+ pcolormesh : 내장된 칼라맵을 통해 지정한 위치에 히트맵을 그려주는 함수\n",
    "+ pcolormesh(x좌표, y좌표, 색상값, 칼라맵)"
   ]
  },
  {
   "cell_type": "code",
   "execution_count": 159,
   "id": "5fad1cc9-d0ba-4625-81b6-4949482b6bf9",
   "metadata": {},
   "outputs": [
    {
     "data": {
      "image/png": "[encoded data removed]",
      "text/plain": [
       "<Figure size 432x288 with 1 Axes>"
      ]
     },
     "metadata": {
      "needs_background": "light"
     },
     "output_type": "display_data"
    }
   ],
   "source": [
    "results = lrclf.predict(np.c_[xx.ravel(), yy.ravel()])\n",
    "results = results.reshape(xx.shape)\n",
    "plt.pcolormesh(xx,yy, results, cmap=plt.cm.tab20c)\n",
    "# 원본 데이터를 산점도에 표시\n",
    "plt.scatter(data[:,0], data[:,1], c=target, cmap=plt.cm.tab20c, edgecolors='k')\n",
    "plt.show()"
   ]
  },
  {
   "cell_type": "markdown",
   "id": "e80b378b-9fdb-4727-aef8-dfd61c55397a",
   "metadata": {},
   "source": []
  },
  {
   "cell_type": "code",
   "execution_count": 160,
   "id": "f84ba80c-607b-470b-b193-4b74355afffe",
   "metadata": {},
   "outputs": [],
   "source": [
    "data2 = iris.data[:, 2:] # Petal 속성만"
   ]
  },
  {
   "cell_type": "code",
   "execution_count": 161,
   "id": "045d301d-930a-4937-8a0d-ff9a0628e618",
   "metadata": {},
   "outputs": [
    {
     "name": "stdout",
     "output_type": "stream",
     "text": [
      "0.9666666666666667\n"
     ]
    }
   ],
   "source": [
    "lrclf =LogisticRegression(solver='lbfgs')\n",
    "lrclf.fit(data2, target)\n",
    "print(lrclf.score(data2,target)) "
   ]
  },
  {
   "cell_type": "code",
   "execution_count": 162,
   "id": "5f131521-98af-43db-b9de-f24262b82297",
   "metadata": {},
   "outputs": [],
   "source": [
    "plt.rcParams['pcolor.shading'] = 'nearest'"
   ]
  },
  {
   "cell_type": "code",
   "execution_count": 163,
   "id": "773de42f-ad25-4176-b2da-c806f3d502a2",
   "metadata": {},
   "outputs": [],
   "source": [
    "x_min = data2[:,0].min() - 0.5 # x측 최대/최소\n",
    "x_max = data2[:,0].max() + 0.5\n",
    "y_min = data2[:,0].min() - 0.5 # y축 최대/최소\n",
    "y_max = data2[:,0].max() + 0.5"
   ]
  },
  {
   "cell_type": "code",
   "execution_count": 164,
   "id": "f9fab197-4efb-41ca-aa10-ee64d47d2344",
   "metadata": {},
   "outputs": [],
   "source": [
    "xm = np.arange(x_min, x_max, 0.02)\n",
    "ym = np.arange(y_min, y_max, 0.02)"
   ]
  },
  {
   "cell_type": "code",
   "execution_count": 165,
   "id": "ac1c3c84-61c0-4a5d-a5cd-dd5f9891bb50",
   "metadata": {},
   "outputs": [
    {
     "data": {
      "text/plain": [
       "array([[0.5 , 0.52, 0.54, 0.56, 0.58, 0.6 , 0.62, 0.64, 0.66, 0.68, 0.7 ,\n",
       "        0.72, 0.74, 0.76, 0.78, 0.8 , 0.82, 0.84, 0.86, 0.88, 0.9 , 0.92,\n",
       "        0.94, 0.96, 0.98, 1.  , 1.02, 1.04, 1.06, 1.08, 1.1 , 1.12, 1.14,\n",
       "        1.16, 1.18, 1.2 , 1.22, 1.24, 1.26, 1.28, 1.3 , 1.32, 1.34, 1.36,\n",
       "        1.38, 1.4 , 1.42, 1.44, 1.46, 1.48, 1.5 , 1.52, 1.54, 1.56, 1.58,\n",
       "        1.6 , 1.62, 1.64, 1.66, 1.68, 1.7 , 1.72, 1.74, 1.76, 1.78, 1.8 ,\n",
       "        1.82, 1.84, 1.86, 1.88, 1.9 , 1.92, 1.94, 1.96, 1.98, 2.  , 2.02,\n",
       "        2.04, 2.06, 2.08, 2.1 , 2.12, 2.14, 2.16, 2.18, 2.2 , 2.22, 2.24,\n",
       "        2.26, 2.28, 2.3 , 2.32, 2.34, 2.36, 2.38, 2.4 , 2.42, 2.44, 2.46,\n",
       "        2.48, 2.5 , 2.52, 2.54, 2.56, 2.58, 2.6 , 2.62, 2.64, 2.66, 2.68,\n",
       "        2.7 , 2.72, 2.74, 2.76, 2.78, 2.8 , 2.82, 2.84, 2.86, 2.88, 2.9 ,\n",
       "        2.92, 2.94, 2.96, 2.98, 3.  , 3.02, 3.04, 3.06, 3.08, 3.1 , 3.12,\n",
       "        3.14, 3.16, 3.18, 3.2 , 3.22, 3.24, 3.26, 3.28, 3.3 , 3.32, 3.34,\n",
       "        3.36, 3.38, 3.4 , 3.42, 3.44, 3.46, 3.48, 3.5 , 3.52, 3.54, 3.56,\n",
       "        3.58, 3.6 , 3.62, 3.64, 3.66, 3.68, 3.7 , 3.72, 3.74, 3.76, 3.78,\n",
       "        3.8 , 3.82, 3.84, 3.86, 3.88, 3.9 , 3.92, 3.94, 3.96, 3.98, 4.  ,\n",
       "        4.02, 4.04, 4.06, 4.08, 4.1 , 4.12, 4.14, 4.16, 4.18, 4.2 , 4.22,\n",
       "        4.24, 4.26, 4.28, 4.3 , 4.32, 4.34, 4.36, 4.38, 4.4 , 4.42, 4.44,\n",
       "        4.46, 4.48, 4.5 , 4.52, 4.54, 4.56, 4.58, 4.6 , 4.62, 4.64, 4.66,\n",
       "        4.68, 4.7 , 4.72, 4.74, 4.76, 4.78, 4.8 , 4.82, 4.84, 4.86, 4.88,\n",
       "        4.9 , 4.92, 4.94, 4.96, 4.98, 5.  , 5.02, 5.04, 5.06, 5.08, 5.1 ,\n",
       "        5.12, 5.14, 5.16, 5.18, 5.2 , 5.22, 5.24, 5.26, 5.28, 5.3 , 5.32,\n",
       "        5.34, 5.36, 5.38, 5.4 , 5.42, 5.44, 5.46, 5.48, 5.5 , 5.52, 5.54,\n",
       "        5.56, 5.58, 5.6 , 5.62, 5.64, 5.66, 5.68, 5.7 , 5.72, 5.74, 5.76,\n",
       "        5.78, 5.8 , 5.82, 5.84, 5.86, 5.88, 5.9 , 5.92, 5.94, 5.96, 5.98,\n",
       "        6.  , 6.02, 6.04, 6.06, 6.08, 6.1 , 6.12, 6.14, 6.16, 6.18, 6.2 ,\n",
       "        6.22, 6.24, 6.26, 6.28, 6.3 , 6.32, 6.34, 6.36, 6.38, 6.4 , 6.42,\n",
       "        6.44, 6.46, 6.48, 6.5 , 6.52, 6.54, 6.56, 6.58, 6.6 , 6.62, 6.64,\n",
       "        6.66, 6.68, 6.7 , 6.72, 6.74, 6.76, 6.78, 6.8 , 6.82, 6.84, 6.86,\n",
       "        6.88, 6.9 , 6.92, 6.94, 6.96, 6.98, 7.  , 7.02, 7.04, 7.06, 7.08,\n",
       "        7.1 , 7.12, 7.14, 7.16, 7.18, 7.2 , 7.22, 7.24, 7.26, 7.28, 7.3 ,\n",
       "        7.32, 7.34, 7.36, 7.38]])"
      ]
     },
     "execution_count": 165,
     "metadata": {},
     "output_type": "execute_result"
    }
   ],
   "source": [
    "xx, yy = np.meshgrid(xm, ym) \n",
    "xx[:1]"
   ]
  },
  {
   "cell_type": "code",
   "execution_count": 166,
   "id": "961582c9-07c1-4de9-bba4-caa5339e0de4",
   "metadata": {},
   "outputs": [
    {
     "data": {
      "text/plain": [
       "array([[0.5, 0.5, 0.5, 0.5, 0.5, 0.5, 0.5, 0.5, 0.5, 0.5, 0.5, 0.5, 0.5,\n",
       "        0.5, 0.5, 0.5, 0.5, 0.5, 0.5, 0.5, 0.5, 0.5, 0.5, 0.5, 0.5, 0.5,\n",
       "        0.5, 0.5, 0.5, 0.5, 0.5, 0.5, 0.5, 0.5, 0.5, 0.5, 0.5, 0.5, 0.5,\n",
       "        0.5, 0.5, 0.5, 0.5, 0.5, 0.5, 0.5, 0.5, 0.5, 0.5, 0.5, 0.5, 0.5,\n",
       "        0.5, 0.5, 0.5, 0.5, 0.5, 0.5, 0.5, 0.5, 0.5, 0.5, 0.5, 0.5, 0.5,\n",
       "        0.5, 0.5, 0.5, 0.5, 0.5, 0.5, 0.5, 0.5, 0.5, 0.5, 0.5, 0.5, 0.5,\n",
       "        0.5, 0.5, 0.5, 0.5, 0.5, 0.5, 0.5, 0.5, 0.5, 0.5, 0.5, 0.5, 0.5,\n",
       "        0.5, 0.5, 0.5, 0.5, 0.5, 0.5, 0.5, 0.5, 0.5, 0.5, 0.5, 0.5, 0.5,\n",
       "        0.5, 0.5, 0.5, 0.5, 0.5, 0.5, 0.5, 0.5, 0.5, 0.5, 0.5, 0.5, 0.5,\n",
       "        0.5, 0.5, 0.5, 0.5, 0.5, 0.5, 0.5, 0.5, 0.5, 0.5, 0.5, 0.5, 0.5,\n",
       "        0.5, 0.5, 0.5, 0.5, 0.5, 0.5, 0.5, 0.5, 0.5, 0.5, 0.5, 0.5, 0.5,\n",
       "        0.5, 0.5, 0.5, 0.5, 0.5, 0.5, 0.5, 0.5, 0.5, 0.5, 0.5, 0.5, 0.5,\n",
       "        0.5, 0.5, 0.5, 0.5, 0.5, 0.5, 0.5, 0.5, 0.5, 0.5, 0.5, 0.5, 0.5,\n",
       "        0.5, 0.5, 0.5, 0.5, 0.5, 0.5, 0.5, 0.5, 0.5, 0.5, 0.5, 0.5, 0.5,\n",
       "        0.5, 0.5, 0.5, 0.5, 0.5, 0.5, 0.5, 0.5, 0.5, 0.5, 0.5, 0.5, 0.5,\n",
       "        0.5, 0.5, 0.5, 0.5, 0.5, 0.5, 0.5, 0.5, 0.5, 0.5, 0.5, 0.5, 0.5,\n",
       "        0.5, 0.5, 0.5, 0.5, 0.5, 0.5, 0.5, 0.5, 0.5, 0.5, 0.5, 0.5, 0.5,\n",
       "        0.5, 0.5, 0.5, 0.5, 0.5, 0.5, 0.5, 0.5, 0.5, 0.5, 0.5, 0.5, 0.5,\n",
       "        0.5, 0.5, 0.5, 0.5, 0.5, 0.5, 0.5, 0.5, 0.5, 0.5, 0.5, 0.5, 0.5,\n",
       "        0.5, 0.5, 0.5, 0.5, 0.5, 0.5, 0.5, 0.5, 0.5, 0.5, 0.5, 0.5, 0.5,\n",
       "        0.5, 0.5, 0.5, 0.5, 0.5, 0.5, 0.5, 0.5, 0.5, 0.5, 0.5, 0.5, 0.5,\n",
       "        0.5, 0.5, 0.5, 0.5, 0.5, 0.5, 0.5, 0.5, 0.5, 0.5, 0.5, 0.5, 0.5,\n",
       "        0.5, 0.5, 0.5, 0.5, 0.5, 0.5, 0.5, 0.5, 0.5, 0.5, 0.5, 0.5, 0.5,\n",
       "        0.5, 0.5, 0.5, 0.5, 0.5, 0.5, 0.5, 0.5, 0.5, 0.5, 0.5, 0.5, 0.5,\n",
       "        0.5, 0.5, 0.5, 0.5, 0.5, 0.5, 0.5, 0.5, 0.5, 0.5, 0.5, 0.5, 0.5,\n",
       "        0.5, 0.5, 0.5, 0.5, 0.5, 0.5, 0.5, 0.5, 0.5, 0.5, 0.5, 0.5, 0.5,\n",
       "        0.5, 0.5, 0.5, 0.5, 0.5, 0.5, 0.5]])"
      ]
     },
     "execution_count": 166,
     "metadata": {},
     "output_type": "execute_result"
    }
   ],
   "source": [
    "yy[:1]"
   ]
  },
  {
   "cell_type": "code",
   "execution_count": 167,
   "id": "81a69558-e78b-42a4-8969-ad7df8757930",
   "metadata": {},
   "outputs": [
    {
     "data": {
      "image/png": "[encoded data removed]",
      "text/plain": [
       "<Figure size 432x288 with 1 Axes>"
      ]
     },
     "metadata": {
      "needs_background": "light"
     },
     "output_type": "display_data"
    }
   ],
   "source": [
    "plt.plot(xx, yy)\n",
    "plt.show()"
   ]
  },
  {
   "cell_type": "code",
   "execution_count": 168,
   "id": "986d8231-4bb4-44bf-afbd-365c931eb80b",
   "metadata": {},
   "outputs": [
    {
     "data": {
      "image/png": "[encoded data removed]",
      "text/plain": [
       "<Figure size 432x288 with 1 Axes>"
      ]
     },
     "metadata": {
      "needs_background": "light"
     },
     "output_type": "display_data"
    }
   ],
   "source": [
    "results = lrclf.predict(np.c_[xx.ravel(), yy.ravel()])\n",
    "results = results.reshape(xx.shape)\n",
    "plt.pcolormesh(xx,yy, results, cmap=plt.cm.tab20c)\n",
    "# 원본 데이터를 산점도에 표시\n",
    "plt.scatter(data2[:,0], data2[:,1], c=target, cmap=plt.cm.tab20c, edgecolors='k')\n",
    "plt.show()"
   ]
  },
  {
   "cell_type": "code",
   "execution_count": null,
   "id": "7bd6ef7a-9a50-4b84-aa8c-660c8fa1bf84",
   "metadata": {},
   "outputs": [],
   "source": []
  },
  {
   "cell_type": "markdown",
   "id": "662b3933-c21d-4717-923b-40667953339e",
   "metadata": {},
   "source": [
    "#### 결정영역 시각화 관련 파일 mldlpy3.py"
   ]
  },
  {
   "cell_type": "code",
   "execution_count": 169,
   "id": "d43c2649-bc35-4852-bada-9b8c2f185ea3",
   "metadata": {},
   "outputs": [],
   "source": [
    "import mldlpy3"
   ]
  },
  {
   "cell_type": "code",
   "execution_count": 171,
   "id": "2befffef-fd2a-4c0f-80ef-23b1ae26e230",
   "metadata": {},
   "outputs": [
    {
     "name": "stderr",
     "output_type": "stream",
     "text": [
      "/home/hadoop/mldlpy3.py:29: UserWarning: You passed a edgecolor/edgecolors ('k') for an unfilled marker ('x').  Matplotlib is ignoring the edgecolor in favor of the facecolor.  This behavior may change in the future.\n",
      "  edgecolors='k')\n"
     ]
    },
    {
     "data": {
      "image/png": "[encoded data removed]",
      "text/plain": [
       "<Figure size 432x288 with 1 Axes>"
      ]
     },
     "metadata": {
      "needs_background": "light"
     },
     "output_type": "display_data"
    }
   ],
   "source": [
    "mldlpy3.plot_decision_regions(data2, target, lrclf)"
   ]
  },
  {
   "cell_type": "code",
   "execution_count": null,
   "id": "c109446a-91cb-47db-ab45-9179cf0ae3dd",
   "metadata": {},
   "outputs": [],
   "source": []
  },
  {
   "cell_type": "code",
   "execution_count": null,
   "id": "da1a791a-269c-4633-8cb4-7f9aee287871",
   "metadata": {},
   "outputs": [],
   "source": []
  },
  {
   "cell_type": "code",
   "execution_count": null,
   "id": "359ef8ea-d06d-46e3-880a-cdebcfcd32fb",
   "metadata": {},
   "outputs": [],
   "source": []
  }
 ],
 "metadata": {
  "kernelspec": {
   "display_name": "Python 3 (ipykernel)",
   "language": "python",
   "name": "python3"
  },
  "language_info": {
   "codemirror_mode": {
    "name": "ipython",
    "version": 3
   },
   "file_extension": ".py",
   "mimetype": "text/x-python",
   "name": "python",
   "nbconvert_exporter": "python",
   "pygments_lexer": "ipython3",
   "version": "3.7.10"
  }
 },
 "nbformat": 4,
 "nbformat_minor": 5
}
